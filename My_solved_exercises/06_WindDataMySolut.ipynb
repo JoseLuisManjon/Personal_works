{
 "cells": [
  {
   "cell_type": "markdown",
   "metadata": {},
   "source": [
    "# Wind Statistics"
   ]
  },
  {
   "cell_type": "markdown",
   "metadata": {},
   "source": [
    "### Introduction:\n",
    "\n",
    "The data have been modified to contain some missing values, identified by NaN.  \n",
    "Using pandas should make this exercise\n",
    "easier, in particular for the bonus question.\n",
    "\n",
    "You should be able to perform all of these operations without using\n",
    "a for loop or other looping construct.\n",
    "\n",
    "\n",
    "1. The data in 'wind.data' has the following format:"
   ]
  },
  {
   "cell_type": "code",
   "execution_count": 18,
   "metadata": {},
   "outputs": [
    {
     "output_type": "execute_result",
     "data": {
      "text/plain": "'\\nYr Mo Dy   RPT   VAL   ROS   KIL   SHA   BIR   DUB   CLA   MUL   CLO   BEL   MAL\\n61  1  1 15.04 14.96 13.17  9.29   NaN  9.87 13.67 10.25 10.83 12.58 18.50 15.04\\n61  1  2 14.71   NaN 10.83  6.50 12.62  7.67 11.50 10.04  9.79  9.67 17.54 13.83\\n61  1  3 18.50 16.88 12.33 10.13 11.17  6.17 11.25   NaN  8.50  7.67 12.75 12.71\\n'"
     },
     "metadata": {},
     "execution_count": 18
    }
   ],
   "source": [
    "\"\"\"\n",
    "Yr Mo Dy   RPT   VAL   ROS   KIL   SHA   BIR   DUB   CLA   MUL   CLO   BEL   MAL\n",
    "61  1  1 15.04 14.96 13.17  9.29   NaN  9.87 13.67 10.25 10.83 12.58 18.50 15.04\n",
    "61  1  2 14.71   NaN 10.83  6.50 12.62  7.67 11.50 10.04  9.79  9.67 17.54 13.83\n",
    "61  1  3 18.50 16.88 12.33 10.13 11.17  6.17 11.25   NaN  8.50  7.67 12.75 12.71\n",
    "\"\"\""
   ]
  },
  {
   "cell_type": "markdown",
   "metadata": {},
   "source": [
    "   The first three columns are year, month and day.  The\n",
    "   remaining 12 columns are average windspeeds in knots at 12\n",
    "   locations in Ireland on that day.   "
   ]
  },
  {
   "cell_type": "markdown",
   "metadata": {},
   "source": [
    "### Step 1. Import the necessary libraries"
   ]
  },
  {
   "cell_type": "code",
   "execution_count": 32,
   "metadata": {},
   "outputs": [],
   "source": [
    "import pandas as pd\n",
    "import datetime"
   ]
  },
  {
   "cell_type": "markdown",
   "metadata": {},
   "source": [
    "### Step 2. Import the dataset from this [address](https://github.com/guipsamora/pandas_exercises/blob/master/06_Stats/Wind_Stats/wind.data)"
   ]
  },
  {
   "cell_type": "code",
   "execution_count": 20,
   "metadata": {},
   "outputs": [],
   "source": [
    "address ='https://raw.githubusercontent.com/guipsamora/pandas_exercises/master/06_Stats/Wind_Stats/wind.data'"
   ]
  },
  {
   "cell_type": "markdown",
   "metadata": {},
   "source": [
    "### Step 3. Assign it to a variable called data and replace the first 3 columns by a proper datetime index."
   ]
  },
  {
   "cell_type": "code",
   "execution_count": 33,
   "metadata": {
    "tags": []
   },
   "outputs": [
    {
     "output_type": "stream",
     "name": "stdout",
     "text": "Date: 2018-06-29\nTime: 08:15:27.243860\nDate-time: 2018-06-29 08:15:27.243860\nDate-time: <class 'datetime.datetime'>\n"
    },
    {
     "output_type": "execute_result",
     "data": {
      "text/plain": "2018"
     },
     "metadata": {},
     "execution_count": 33
    }
   ],
   "source": [
    "# Explicacion sobre como tratar los datos que se refieren a fechas para pasarlos de string a tipo datetime\n",
    "from datetime import datetime\n",
    "\n",
    "date_time_str = '2018-06-29 08:15:27.243860' # Es como viene en la tabla de datos, es un string\n",
    "date_format = '%Y-%m-%d %H:%M:%S.%f' # Es el formato al que lo quiero pasar. Sera tipo datetime object. Tengo que escribir los mismos carateres que hay entre los elementos de fecha y hora en el string.\n",
    "date_time_obj = datetime.strptime(date_time_str, date_format)  # Función de datetime para pasar un string a tipo date time\n",
    "\n",
    "print('Date:', date_time_obj.date())\n",
    "print('Time:', date_time_obj.time())\n",
    "print('Date-time:', date_time_obj)\n",
    "print('Date-time:', type(date_time_obj))\n",
    "date_time_obj.year"
   ]
  },
  {
   "cell_type": "code",
   "execution_count": 12,
   "metadata": {},
   "outputs": [
    {
     "output_type": "execute_result",
     "data": {
      "text/plain": "'06/29/2018,------ 08:15:27'"
     },
     "metadata": {},
     "execution_count": 12
    }
   ],
   "source": [
    "x = date_time_obj.strftime(\"%m/%d/%Y,------ %H:%M:%S\") # Con esto lo paso de datetime a string\n",
    "type(x)\n",
    "x"
   ]
  },
  {
   "cell_type": "code",
   "execution_count": 34,
   "metadata": {},
   "outputs": [
    {
     "output_type": "execute_result",
     "data": {
      "text/plain": "       Yr_Mo_Dy    RPT    VAL    ROS    KIL    SHA    BIR    DUB    CLA  \\\n0    2061-01-01  15.04  14.96  13.17   9.29    NaN   9.87  13.67  10.25   \n1    2061-01-02  14.71    NaN  10.83   6.50  12.62   7.67  11.50  10.04   \n2    2061-01-03  18.50  16.88  12.33  10.13  11.17   6.17  11.25    NaN   \n3    2061-01-04  10.58   6.63  11.75   4.58   4.54   2.88   8.63   1.79   \n4    2061-01-05  13.33  13.25  11.42   6.17  10.71   8.21  11.92   6.54   \n...         ...    ...    ...    ...    ...    ...    ...    ...    ...   \n6569 1978-12-27  17.58  16.96  17.62   8.08  13.21  11.67  14.46  15.59   \n6570 1978-12-28  13.21   5.46  13.46   5.00   8.12   9.42  14.33  16.25   \n6571 1978-12-29  14.00  10.29  14.42   8.71   9.71  10.54  19.17  12.46   \n6572 1978-12-30  18.50  14.04  21.29   9.13  12.75   9.71  18.08  12.87   \n6573 1978-12-31  20.33  17.41  27.29   9.59  12.08  10.13  19.25  11.63   \n\n        MUL    CLO    BEL    MAL  \n0     10.83  12.58  18.50  15.04  \n1      9.79   9.67  17.54  13.83  \n2      8.50   7.67  12.75  12.71  \n3      5.83   5.88   5.46  10.88  \n4     10.92  10.34  12.92  11.83  \n...     ...    ...    ...    ...  \n6569  14.04  14.00  17.21  40.08  \n6570  15.25  18.05  21.79  41.46  \n6571  14.50  16.42  18.88  29.58  \n6572  12.46  12.12  14.67  28.79  \n6573  11.58  11.38  12.08  22.08  \n\n[6574 rows x 13 columns]",
      "text/html": "<div>\n<style scoped>\n    .dataframe tbody tr th:only-of-type {\n        vertical-align: middle;\n    }\n\n    .dataframe tbody tr th {\n        vertical-align: top;\n    }\n\n    .dataframe thead th {\n        text-align: right;\n    }\n</style>\n<table border=\"1\" class=\"dataframe\">\n  <thead>\n    <tr style=\"text-align: right;\">\n      <th></th>\n      <th>Yr_Mo_Dy</th>\n      <th>RPT</th>\n      <th>VAL</th>\n      <th>ROS</th>\n      <th>KIL</th>\n      <th>SHA</th>\n      <th>BIR</th>\n      <th>DUB</th>\n      <th>CLA</th>\n      <th>MUL</th>\n      <th>CLO</th>\n      <th>BEL</th>\n      <th>MAL</th>\n    </tr>\n  </thead>\n  <tbody>\n    <tr>\n      <th>0</th>\n      <td>2061-01-01</td>\n      <td>15.04</td>\n      <td>14.96</td>\n      <td>13.17</td>\n      <td>9.29</td>\n      <td>NaN</td>\n      <td>9.87</td>\n      <td>13.67</td>\n      <td>10.25</td>\n      <td>10.83</td>\n      <td>12.58</td>\n      <td>18.50</td>\n      <td>15.04</td>\n    </tr>\n    <tr>\n      <th>1</th>\n      <td>2061-01-02</td>\n      <td>14.71</td>\n      <td>NaN</td>\n      <td>10.83</td>\n      <td>6.50</td>\n      <td>12.62</td>\n      <td>7.67</td>\n      <td>11.50</td>\n      <td>10.04</td>\n      <td>9.79</td>\n      <td>9.67</td>\n      <td>17.54</td>\n      <td>13.83</td>\n    </tr>\n    <tr>\n      <th>2</th>\n      <td>2061-01-03</td>\n      <td>18.50</td>\n      <td>16.88</td>\n      <td>12.33</td>\n      <td>10.13</td>\n      <td>11.17</td>\n      <td>6.17</td>\n      <td>11.25</td>\n      <td>NaN</td>\n      <td>8.50</td>\n      <td>7.67</td>\n      <td>12.75</td>\n      <td>12.71</td>\n    </tr>\n    <tr>\n      <th>3</th>\n      <td>2061-01-04</td>\n      <td>10.58</td>\n      <td>6.63</td>\n      <td>11.75</td>\n      <td>4.58</td>\n      <td>4.54</td>\n      <td>2.88</td>\n      <td>8.63</td>\n      <td>1.79</td>\n      <td>5.83</td>\n      <td>5.88</td>\n      <td>5.46</td>\n      <td>10.88</td>\n    </tr>\n    <tr>\n      <th>4</th>\n      <td>2061-01-05</td>\n      <td>13.33</td>\n      <td>13.25</td>\n      <td>11.42</td>\n      <td>6.17</td>\n      <td>10.71</td>\n      <td>8.21</td>\n      <td>11.92</td>\n      <td>6.54</td>\n      <td>10.92</td>\n      <td>10.34</td>\n      <td>12.92</td>\n      <td>11.83</td>\n    </tr>\n    <tr>\n      <th>...</th>\n      <td>...</td>\n      <td>...</td>\n      <td>...</td>\n      <td>...</td>\n      <td>...</td>\n      <td>...</td>\n      <td>...</td>\n      <td>...</td>\n      <td>...</td>\n      <td>...</td>\n      <td>...</td>\n      <td>...</td>\n      <td>...</td>\n    </tr>\n    <tr>\n      <th>6569</th>\n      <td>1978-12-27</td>\n      <td>17.58</td>\n      <td>16.96</td>\n      <td>17.62</td>\n      <td>8.08</td>\n      <td>13.21</td>\n      <td>11.67</td>\n      <td>14.46</td>\n      <td>15.59</td>\n      <td>14.04</td>\n      <td>14.00</td>\n      <td>17.21</td>\n      <td>40.08</td>\n    </tr>\n    <tr>\n      <th>6570</th>\n      <td>1978-12-28</td>\n      <td>13.21</td>\n      <td>5.46</td>\n      <td>13.46</td>\n      <td>5.00</td>\n      <td>8.12</td>\n      <td>9.42</td>\n      <td>14.33</td>\n      <td>16.25</td>\n      <td>15.25</td>\n      <td>18.05</td>\n      <td>21.79</td>\n      <td>41.46</td>\n    </tr>\n    <tr>\n      <th>6571</th>\n      <td>1978-12-29</td>\n      <td>14.00</td>\n      <td>10.29</td>\n      <td>14.42</td>\n      <td>8.71</td>\n      <td>9.71</td>\n      <td>10.54</td>\n      <td>19.17</td>\n      <td>12.46</td>\n      <td>14.50</td>\n      <td>16.42</td>\n      <td>18.88</td>\n      <td>29.58</td>\n    </tr>\n    <tr>\n      <th>6572</th>\n      <td>1978-12-30</td>\n      <td>18.50</td>\n      <td>14.04</td>\n      <td>21.29</td>\n      <td>9.13</td>\n      <td>12.75</td>\n      <td>9.71</td>\n      <td>18.08</td>\n      <td>12.87</td>\n      <td>12.46</td>\n      <td>12.12</td>\n      <td>14.67</td>\n      <td>28.79</td>\n    </tr>\n    <tr>\n      <th>6573</th>\n      <td>1978-12-31</td>\n      <td>20.33</td>\n      <td>17.41</td>\n      <td>27.29</td>\n      <td>9.59</td>\n      <td>12.08</td>\n      <td>10.13</td>\n      <td>19.25</td>\n      <td>11.63</td>\n      <td>11.58</td>\n      <td>11.38</td>\n      <td>12.08</td>\n      <td>22.08</td>\n    </tr>\n  </tbody>\n</table>\n<p>6574 rows × 13 columns</p>\n</div>"
     },
     "metadata": {},
     "execution_count": 34
    }
   ],
   "source": [
    "# Con parse_dates al descargar el archivo desde la url, indicandole las columnas en las que se encuentran los datos de la fecha, los agrupo en una sola columna, (en la tabla original estan en tres columas)\n",
    "data = pd.read_csv(address, sep = \"\\s+\", parse_dates = [[0,1,2]])\n",
    "data\n",
    "# data = pd.read_csv(data_url, sep = \"\\s+\", parse_dates=[[\"Yr\", \"Mo\", \"Dy\"]]). Indicando el nombre de las columnas en lugar de sus posiciones"
   ]
  },
  {
   "cell_type": "code",
   "execution_count": 26,
   "metadata": {
    "tags": []
   },
   "outputs": [
    {
     "output_type": "stream",
     "name": "stdout",
     "text": "<class 'pandas.core.frame.DataFrame'>\nRangeIndex: 6574 entries, 0 to 6573\nData columns (total 13 columns):\n #   Column    Non-Null Count  Dtype         \n---  ------    --------------  -----         \n 0   Yr_Mo_Dy  6574 non-null   datetime64[ns]\n 1   RPT       6568 non-null   float64       \n 2   VAL       6571 non-null   float64       \n 3   ROS       6572 non-null   float64       \n 4   KIL       6569 non-null   float64       \n 5   SHA       6572 non-null   float64       \n 6   BIR       6574 non-null   float64       \n 7   DUB       6571 non-null   float64       \n 8   CLA       6572 non-null   float64       \n 9   MUL       6571 non-null   float64       \n 10  CLO       6573 non-null   float64       \n 11  BEL       6574 non-null   float64       \n 12  MAL       6570 non-null   float64       \ndtypes: datetime64[ns](1), float64(12)\nmemory usage: 667.7 KB\n"
    }
   ],
   "source": [
    "data.info()"
   ]
  },
  {
   "cell_type": "markdown",
   "metadata": {},
   "source": [
    "### Step 4. Year 2061? Do we really have data from this year? Create a function to fix it and apply it."
   ]
  },
  {
   "cell_type": "code",
   "execution_count": null,
   "metadata": {},
   "outputs": [],
   "source": [
    "#Explicacion del metodo replace con datetime\n",
    "# New year's eve of 2020\n",
    "\n",
    "newYearEve2020 = datetime.datetime(2019, 12, 31, 12, 59, 59, 99)\n",
    "\n",
    "# Make it the next day by calling replace function\n",
    "\n",
    "newYearDate2020 = newYearEve2020.replace(2020, 1, 1, 00, 00, 00, 00)\n",
    "\n",
    "newYearDate2020"
   ]
  },
  {
   "cell_type": "code",
   "execution_count": 17,
   "metadata": {},
   "outputs": [
    {
     "output_type": "execute_result",
     "data": {
      "text/plain": "Empty DataFrame\nColumns: [Yr_Mo_Dy, RPT, VAL, ROS, KIL, SHA, BIR, DUB, CLA, MUL, CLO, BEL, MAL]\nIndex: []",
      "text/html": "<div>\n<style scoped>\n    .dataframe tbody tr th:only-of-type {\n        vertical-align: middle;\n    }\n\n    .dataframe tbody tr th {\n        vertical-align: top;\n    }\n\n    .dataframe thead th {\n        text-align: right;\n    }\n</style>\n<table border=\"1\" class=\"dataframe\">\n  <thead>\n    <tr style=\"text-align: right;\">\n      <th></th>\n      <th>Yr_Mo_Dy</th>\n      <th>RPT</th>\n      <th>VAL</th>\n      <th>ROS</th>\n      <th>KIL</th>\n      <th>SHA</th>\n      <th>BIR</th>\n      <th>DUB</th>\n      <th>CLA</th>\n      <th>MUL</th>\n      <th>CLO</th>\n      <th>BEL</th>\n      <th>MAL</th>\n    </tr>\n  </thead>\n  <tbody>\n  </tbody>\n</table>\n</div>"
     },
     "metadata": {},
     "execution_count": 17
    }
   ],
   "source": [
    "#Con una mascara voy a comprobar si hay algún año entre 1989 y 2000 para poder aplicarle la funcion del siguiente cuadro de código que consiste en restarle 100 a algunos años que están pasados de fecha- Primero creo con datetime las dos fechas limite para la mascara\n",
    "date_2000 = datetime(2000, 1, 1)\n",
    "date_2060 = datetime(2060, 1, 1)\n",
    "data[(data[\"Yr_Mo_Dy\"] > date_2000) & (data[\"Yr_Mo_Dy\"] < date_2060)]"
   ]
  },
  {
   "cell_type": "code",
   "execution_count": null,
   "metadata": {},
   "outputs": [],
   "source": []
  },
  {
   "cell_type": "code",
   "execution_count": 38,
   "metadata": {},
   "outputs": [
    {
     "output_type": "execute_result",
     "data": {
      "text/plain": "     Yr_Mo_Dy    RPT    VAL    ROS    KIL    SHA   BIR    DUB    CLA    MUL  \\\n0  1961-01-01  15.04  14.96  13.17   9.29    NaN  9.87  13.67  10.25  10.83   \n1  1961-01-02  14.71    NaN  10.83   6.50  12.62  7.67  11.50  10.04   9.79   \n2  1961-01-03  18.50  16.88  12.33  10.13  11.17  6.17  11.25    NaN   8.50   \n3  1961-01-04  10.58   6.63  11.75   4.58   4.54  2.88   8.63   1.79   5.83   \n4  1961-01-05  13.33  13.25  11.42   6.17  10.71  8.21  11.92   6.54  10.92   \n\n     CLO    BEL    MAL  \n0  12.58  18.50  15.04  \n1   9.67  17.54  13.83  \n2   7.67  12.75  12.71  \n3   5.88   5.46  10.88  \n4  10.34  12.92  11.83  ",
      "text/html": "<div>\n<style scoped>\n    .dataframe tbody tr th:only-of-type {\n        vertical-align: middle;\n    }\n\n    .dataframe tbody tr th {\n        vertical-align: top;\n    }\n\n    .dataframe thead th {\n        text-align: right;\n    }\n</style>\n<table border=\"1\" class=\"dataframe\">\n  <thead>\n    <tr style=\"text-align: right;\">\n      <th></th>\n      <th>Yr_Mo_Dy</th>\n      <th>RPT</th>\n      <th>VAL</th>\n      <th>ROS</th>\n      <th>KIL</th>\n      <th>SHA</th>\n      <th>BIR</th>\n      <th>DUB</th>\n      <th>CLA</th>\n      <th>MUL</th>\n      <th>CLO</th>\n      <th>BEL</th>\n      <th>MAL</th>\n    </tr>\n  </thead>\n  <tbody>\n    <tr>\n      <th>0</th>\n      <td>1961-01-01</td>\n      <td>15.04</td>\n      <td>14.96</td>\n      <td>13.17</td>\n      <td>9.29</td>\n      <td>NaN</td>\n      <td>9.87</td>\n      <td>13.67</td>\n      <td>10.25</td>\n      <td>10.83</td>\n      <td>12.58</td>\n      <td>18.50</td>\n      <td>15.04</td>\n    </tr>\n    <tr>\n      <th>1</th>\n      <td>1961-01-02</td>\n      <td>14.71</td>\n      <td>NaN</td>\n      <td>10.83</td>\n      <td>6.50</td>\n      <td>12.62</td>\n      <td>7.67</td>\n      <td>11.50</td>\n      <td>10.04</td>\n      <td>9.79</td>\n      <td>9.67</td>\n      <td>17.54</td>\n      <td>13.83</td>\n    </tr>\n    <tr>\n      <th>2</th>\n      <td>1961-01-03</td>\n      <td>18.50</td>\n      <td>16.88</td>\n      <td>12.33</td>\n      <td>10.13</td>\n      <td>11.17</td>\n      <td>6.17</td>\n      <td>11.25</td>\n      <td>NaN</td>\n      <td>8.50</td>\n      <td>7.67</td>\n      <td>12.75</td>\n      <td>12.71</td>\n    </tr>\n    <tr>\n      <th>3</th>\n      <td>1961-01-04</td>\n      <td>10.58</td>\n      <td>6.63</td>\n      <td>11.75</td>\n      <td>4.58</td>\n      <td>4.54</td>\n      <td>2.88</td>\n      <td>8.63</td>\n      <td>1.79</td>\n      <td>5.83</td>\n      <td>5.88</td>\n      <td>5.46</td>\n      <td>10.88</td>\n    </tr>\n    <tr>\n      <th>4</th>\n      <td>1961-01-05</td>\n      <td>13.33</td>\n      <td>13.25</td>\n      <td>11.42</td>\n      <td>6.17</td>\n      <td>10.71</td>\n      <td>8.21</td>\n      <td>11.92</td>\n      <td>6.54</td>\n      <td>10.92</td>\n      <td>10.34</td>\n      <td>12.92</td>\n      <td>11.83</td>\n    </tr>\n  </tbody>\n</table>\n</div>"
     },
     "metadata": {},
     "execution_count": 38
    }
   ],
   "source": [
    "import datetime\n",
    "# function that uses datetime\n",
    "def fix_century(x):\n",
    "  year = x.year - 100 if x.year > 1999 else x.year\n",
    "  return datetime.date(year, x.month, x.day)\n",
    "\n",
    "# apply the function fix_century on the column and replace the values to the right ones\n",
    "data['Yr_Mo_Dy'] = data['Yr_Mo_Dy'].apply(fix_century)\n",
    "data.head(5)"
   ]
  },
  {
   "cell_type": "code",
   "execution_count": 37,
   "metadata": {},
   "outputs": [],
   "source": [
    "# function that uses datetime\n",
    "def fix_century_v2(x):\n",
    "  year = x.year - 100 if x.year > 1989 else x.year\n",
    "  new_date = x.replace(year, x.month, x.day, x.hour, x.minute, x.seconds)\n",
    "  return new_date\n",
    " "
   ]
  },
  {
   "cell_type": "code",
   "execution_count": null,
   "metadata": {},
   "outputs": [],
   "source": [
    "# Otra opcion con funciones que usan datetime\n",
    "# from datetime import datetime \n",
    "date_2000 = datetime.datetime(2000,1,1) # Creo las dos fechas y con una mascara veo si hay valores entre estas dos fechas.\n",
    "date_2060 = datetime.datetime(2060,1,1)\n",
    "#Mascara\n"
   ]
  },
  {
   "cell_type": "code",
   "execution_count": 5,
   "metadata": {},
   "outputs": [
    {
     "output_type": "execute_result",
     "data": {
      "text/plain": "     Yr_Mo_Dy    RPT    VAL    ROS    KIL    SHA   BIR    DUB    CLA    MUL  \\\n0  1961-01-01  15.04  14.96  13.17   9.29    NaN  9.87  13.67  10.25  10.83   \n1  1961-01-02  14.71    NaN  10.83   6.50  12.62  7.67  11.50  10.04   9.79   \n2  1961-01-03  18.50  16.88  12.33  10.13  11.17  6.17  11.25    NaN   8.50   \n3  1961-01-04  10.58   6.63  11.75   4.58   4.54  2.88   8.63   1.79   5.83   \n4  1961-01-05  13.33  13.25  11.42   6.17  10.71  8.21  11.92   6.54  10.92   \n\n     CLO    BEL    MAL  \n0  12.58  18.50  15.04  \n1   9.67  17.54  13.83  \n2   7.67  12.75  12.71  \n3   5.88   5.46  10.88  \n4  10.34  12.92  11.83  ",
      "text/html": "<div>\n<style scoped>\n    .dataframe tbody tr th:only-of-type {\n        vertical-align: middle;\n    }\n\n    .dataframe tbody tr th {\n        vertical-align: top;\n    }\n\n    .dataframe thead th {\n        text-align: right;\n    }\n</style>\n<table border=\"1\" class=\"dataframe\">\n  <thead>\n    <tr style=\"text-align: right;\">\n      <th></th>\n      <th>Yr_Mo_Dy</th>\n      <th>RPT</th>\n      <th>VAL</th>\n      <th>ROS</th>\n      <th>KIL</th>\n      <th>SHA</th>\n      <th>BIR</th>\n      <th>DUB</th>\n      <th>CLA</th>\n      <th>MUL</th>\n      <th>CLO</th>\n      <th>BEL</th>\n      <th>MAL</th>\n    </tr>\n  </thead>\n  <tbody>\n    <tr>\n      <th>0</th>\n      <td>1961-01-01</td>\n      <td>15.04</td>\n      <td>14.96</td>\n      <td>13.17</td>\n      <td>9.29</td>\n      <td>NaN</td>\n      <td>9.87</td>\n      <td>13.67</td>\n      <td>10.25</td>\n      <td>10.83</td>\n      <td>12.58</td>\n      <td>18.50</td>\n      <td>15.04</td>\n    </tr>\n    <tr>\n      <th>1</th>\n      <td>1961-01-02</td>\n      <td>14.71</td>\n      <td>NaN</td>\n      <td>10.83</td>\n      <td>6.50</td>\n      <td>12.62</td>\n      <td>7.67</td>\n      <td>11.50</td>\n      <td>10.04</td>\n      <td>9.79</td>\n      <td>9.67</td>\n      <td>17.54</td>\n      <td>13.83</td>\n    </tr>\n    <tr>\n      <th>2</th>\n      <td>1961-01-03</td>\n      <td>18.50</td>\n      <td>16.88</td>\n      <td>12.33</td>\n      <td>10.13</td>\n      <td>11.17</td>\n      <td>6.17</td>\n      <td>11.25</td>\n      <td>NaN</td>\n      <td>8.50</td>\n      <td>7.67</td>\n      <td>12.75</td>\n      <td>12.71</td>\n    </tr>\n    <tr>\n      <th>3</th>\n      <td>1961-01-04</td>\n      <td>10.58</td>\n      <td>6.63</td>\n      <td>11.75</td>\n      <td>4.58</td>\n      <td>4.54</td>\n      <td>2.88</td>\n      <td>8.63</td>\n      <td>1.79</td>\n      <td>5.83</td>\n      <td>5.88</td>\n      <td>5.46</td>\n      <td>10.88</td>\n    </tr>\n    <tr>\n      <th>4</th>\n      <td>1961-01-05</td>\n      <td>13.33</td>\n      <td>13.25</td>\n      <td>11.42</td>\n      <td>6.17</td>\n      <td>10.71</td>\n      <td>8.21</td>\n      <td>11.92</td>\n      <td>6.54</td>\n      <td>10.92</td>\n      <td>10.34</td>\n      <td>12.92</td>\n      <td>11.83</td>\n    </tr>\n  </tbody>\n</table>\n</div>"
     },
     "metadata": {},
     "execution_count": 5
    }
   ],
   "source": [
    "data.head()"
   ]
  },
  {
   "cell_type": "markdown",
   "metadata": {},
   "source": [
    "### Step 5. Set the right dates as the index. Pay attention at the data type, it should be datetime64[ns]."
   ]
  },
  {
   "cell_type": "code",
   "execution_count": 20,
   "metadata": {},
   "outputs": [
    {
     "output_type": "execute_result",
     "data": {
      "text/plain": "Yr_Mo_Dy     object\nRPT         float64\nVAL         float64\nROS         float64\nKIL         float64\nSHA         float64\nBIR         float64\nDUB         float64\nCLA         float64\nMUL         float64\nCLO         float64\nBEL         float64\nMAL         float64\ndtype: object"
     },
     "metadata": {},
     "execution_count": 20
    }
   ],
   "source": [
    "#Compruebo la clase de dato que es Yr_Mo_Dy \n",
    "data.dtypes"
   ]
  },
  {
   "cell_type": "code",
   "execution_count": 39,
   "metadata": {},
   "outputs": [
    {
     "output_type": "execute_result",
     "data": {
      "text/plain": "              RPT    VAL    ROS    KIL    SHA   BIR    DUB    CLA    MUL  \\\nYr_Mo_Dy                                                                   \n1961-01-01  15.04  14.96  13.17   9.29    NaN  9.87  13.67  10.25  10.83   \n1961-01-02  14.71    NaN  10.83   6.50  12.62  7.67  11.50  10.04   9.79   \n1961-01-03  18.50  16.88  12.33  10.13  11.17  6.17  11.25    NaN   8.50   \n1961-01-04  10.58   6.63  11.75   4.58   4.54  2.88   8.63   1.79   5.83   \n1961-01-05  13.33  13.25  11.42   6.17  10.71  8.21  11.92   6.54  10.92   \n\n              CLO    BEL    MAL  \nYr_Mo_Dy                         \n1961-01-01  12.58  18.50  15.04  \n1961-01-02   9.67  17.54  13.83  \n1961-01-03   7.67  12.75  12.71  \n1961-01-04   5.88   5.46  10.88  \n1961-01-05  10.34  12.92  11.83  ",
      "text/html": "<div>\n<style scoped>\n    .dataframe tbody tr th:only-of-type {\n        vertical-align: middle;\n    }\n\n    .dataframe tbody tr th {\n        vertical-align: top;\n    }\n\n    .dataframe thead th {\n        text-align: right;\n    }\n</style>\n<table border=\"1\" class=\"dataframe\">\n  <thead>\n    <tr style=\"text-align: right;\">\n      <th></th>\n      <th>RPT</th>\n      <th>VAL</th>\n      <th>ROS</th>\n      <th>KIL</th>\n      <th>SHA</th>\n      <th>BIR</th>\n      <th>DUB</th>\n      <th>CLA</th>\n      <th>MUL</th>\n      <th>CLO</th>\n      <th>BEL</th>\n      <th>MAL</th>\n    </tr>\n    <tr>\n      <th>Yr_Mo_Dy</th>\n      <th></th>\n      <th></th>\n      <th></th>\n      <th></th>\n      <th></th>\n      <th></th>\n      <th></th>\n      <th></th>\n      <th></th>\n      <th></th>\n      <th></th>\n      <th></th>\n    </tr>\n  </thead>\n  <tbody>\n    <tr>\n      <th>1961-01-01</th>\n      <td>15.04</td>\n      <td>14.96</td>\n      <td>13.17</td>\n      <td>9.29</td>\n      <td>NaN</td>\n      <td>9.87</td>\n      <td>13.67</td>\n      <td>10.25</td>\n      <td>10.83</td>\n      <td>12.58</td>\n      <td>18.50</td>\n      <td>15.04</td>\n    </tr>\n    <tr>\n      <th>1961-01-02</th>\n      <td>14.71</td>\n      <td>NaN</td>\n      <td>10.83</td>\n      <td>6.50</td>\n      <td>12.62</td>\n      <td>7.67</td>\n      <td>11.50</td>\n      <td>10.04</td>\n      <td>9.79</td>\n      <td>9.67</td>\n      <td>17.54</td>\n      <td>13.83</td>\n    </tr>\n    <tr>\n      <th>1961-01-03</th>\n      <td>18.50</td>\n      <td>16.88</td>\n      <td>12.33</td>\n      <td>10.13</td>\n      <td>11.17</td>\n      <td>6.17</td>\n      <td>11.25</td>\n      <td>NaN</td>\n      <td>8.50</td>\n      <td>7.67</td>\n      <td>12.75</td>\n      <td>12.71</td>\n    </tr>\n    <tr>\n      <th>1961-01-04</th>\n      <td>10.58</td>\n      <td>6.63</td>\n      <td>11.75</td>\n      <td>4.58</td>\n      <td>4.54</td>\n      <td>2.88</td>\n      <td>8.63</td>\n      <td>1.79</td>\n      <td>5.83</td>\n      <td>5.88</td>\n      <td>5.46</td>\n      <td>10.88</td>\n    </tr>\n    <tr>\n      <th>1961-01-05</th>\n      <td>13.33</td>\n      <td>13.25</td>\n      <td>11.42</td>\n      <td>6.17</td>\n      <td>10.71</td>\n      <td>8.21</td>\n      <td>11.92</td>\n      <td>6.54</td>\n      <td>10.92</td>\n      <td>10.34</td>\n      <td>12.92</td>\n      <td>11.83</td>\n    </tr>\n  </tbody>\n</table>\n</div>"
     },
     "metadata": {},
     "execution_count": 39
    }
   ],
   "source": [
    "# transformo Yr_Mo_Dy al tipo de dato datetime64\n",
    "data[\"Yr_Mo_Dy\"] = pd.to_datetime(data[\"Yr_Mo_Dy\"])\n",
    "# Ahora lo pongo como indice de la tabla\n",
    "data = data.set_index(\"Yr_Mo_Dy\")\n",
    "data.head()"
   ]
  },
  {
   "cell_type": "markdown",
   "metadata": {},
   "source": [
    "### Step 6. Compute how many values are missing for each location over the entire record.  \n",
    "#### They should be ignored in all calculations below. "
   ]
  },
  {
   "cell_type": "code",
   "execution_count": 63,
   "metadata": {},
   "outputs": [
    {
     "output_type": "execute_result",
     "data": {
      "text/plain": "RPT    6\nVAL    3\nROS    2\nKIL    5\nSHA    2\nBIR    0\nDUB    3\nCLA    2\nMUL    3\nCLO    1\nBEL    0\nMAL    4\ndtype: int64"
     },
     "metadata": {},
     "execution_count": 63
    }
   ],
   "source": [
    "data.isnull().sum()"
   ]
  },
  {
   "cell_type": "markdown",
   "metadata": {},
   "source": [
    "### Step 7. Compute how many non-missing values there are in total."
   ]
  },
  {
   "cell_type": "code",
   "execution_count": 64,
   "metadata": {},
   "outputs": [
    {
     "output_type": "execute_result",
     "data": {
      "text/plain": "RPT    6568\nVAL    6571\nROS    6572\nKIL    6569\nSHA    6572\nBIR    6574\nDUB    6571\nCLA    6572\nMUL    6571\nCLO    6573\nBEL    6574\nMAL    6570\ndtype: int64"
     },
     "metadata": {},
     "execution_count": 64
    }
   ],
   "source": [
    "data.shape[0] - data.isnull().sum()"
   ]
  },
  {
   "cell_type": "code",
   "execution_count": 65,
   "metadata": {},
   "outputs": [
    {
     "output_type": "execute_result",
     "data": {
      "text/plain": "RPT    6574\nVAL    6574\nROS    6574\nKIL    6574\nSHA    6574\nBIR    6574\nDUB    6574\nCLA    6574\nMUL    6574\nCLO    6574\nBEL    6574\nMAL    6574\ndtype: int64"
     },
     "metadata": {},
     "execution_count": 65
    }
   ],
   "source": [
    "data.notnull().count()"
   ]
  },
  {
   "cell_type": "code",
   "execution_count": 66,
   "metadata": {},
   "outputs": [
    {
     "output_type": "execute_result",
     "data": {
      "text/plain": "78857"
     },
     "metadata": {},
     "execution_count": 66
    }
   ],
   "source": [
    "data.notnull().sum().sum()"
   ]
  },
  {
   "cell_type": "markdown",
   "metadata": {},
   "source": [
    "### Step 8. Calculate the mean windspeeds of the windspeeds over all the locations and all the times.\n",
    "#### A single number for the entire dataset."
   ]
  },
  {
   "cell_type": "code",
   "execution_count": 67,
   "metadata": {},
   "outputs": [
    {
     "output_type": "execute_result",
     "data": {
      "text/plain": "10.227883764282167"
     },
     "metadata": {},
     "execution_count": 67
    }
   ],
   "source": [
    "data.sum().sum() / data.notnull().sum().sum()"
   ]
  },
  {
   "cell_type": "markdown",
   "metadata": {},
   "source": [
    "### Step 9. Create a DataFrame called loc_stats and calculate the min, max and mean windspeeds and standard deviations of the windspeeds at each location over all the days \n",
    "\n",
    "#### A different set of numbers for each location."
   ]
  },
  {
   "cell_type": "code",
   "execution_count": 69,
   "metadata": {},
   "outputs": [
    {
     "output_type": "execute_result",
     "data": {
      "text/plain": "               RPT          VAL          ROS          KIL          SHA  \\\ncount  6568.000000  6571.000000  6572.000000  6569.000000  6572.000000   \nmean     12.362987    10.644314    11.660526     6.306468    10.455834   \nstd       5.618413     5.267356     5.008450     3.605811     4.936125   \nmin       0.670000     0.210000     1.500000     0.000000     0.130000   \n50%      11.710000    10.170000    10.920000     5.750000     9.960000   \nmax      35.800000    33.370000    33.840000    28.460000    37.540000   \n\n               BIR          DUB          CLA          MUL          CLO  \\\ncount  6574.000000  6571.000000  6572.000000  6571.000000  6573.000000   \nmean      7.092254     9.797343     8.495053     8.493590     8.707332   \nstd       3.968683     4.977555     4.499449     4.166872     4.503954   \nmin       0.000000     0.000000     0.000000     0.000000     0.040000   \n50%       6.830000     9.210000     8.080000     8.170000     8.290000   \nmax      26.160000    30.370000    31.080000    25.880000    28.210000   \n\n               BEL          MAL  \ncount  6574.000000  6570.000000  \nmean     13.121007    15.599079  \nstd       5.835037     6.699794  \nmin       0.130000     0.670000  \n50%      12.500000    15.000000  \nmax      42.380000    42.540000  ",
      "text/html": "<div>\n<style scoped>\n    .dataframe tbody tr th:only-of-type {\n        vertical-align: middle;\n    }\n\n    .dataframe tbody tr th {\n        vertical-align: top;\n    }\n\n    .dataframe thead th {\n        text-align: right;\n    }\n</style>\n<table border=\"1\" class=\"dataframe\">\n  <thead>\n    <tr style=\"text-align: right;\">\n      <th></th>\n      <th>RPT</th>\n      <th>VAL</th>\n      <th>ROS</th>\n      <th>KIL</th>\n      <th>SHA</th>\n      <th>BIR</th>\n      <th>DUB</th>\n      <th>CLA</th>\n      <th>MUL</th>\n      <th>CLO</th>\n      <th>BEL</th>\n      <th>MAL</th>\n    </tr>\n  </thead>\n  <tbody>\n    <tr>\n      <th>count</th>\n      <td>6568.000000</td>\n      <td>6571.000000</td>\n      <td>6572.000000</td>\n      <td>6569.000000</td>\n      <td>6572.000000</td>\n      <td>6574.000000</td>\n      <td>6571.000000</td>\n      <td>6572.000000</td>\n      <td>6571.000000</td>\n      <td>6573.000000</td>\n      <td>6574.000000</td>\n      <td>6570.000000</td>\n    </tr>\n    <tr>\n      <th>mean</th>\n      <td>12.362987</td>\n      <td>10.644314</td>\n      <td>11.660526</td>\n      <td>6.306468</td>\n      <td>10.455834</td>\n      <td>7.092254</td>\n      <td>9.797343</td>\n      <td>8.495053</td>\n      <td>8.493590</td>\n      <td>8.707332</td>\n      <td>13.121007</td>\n      <td>15.599079</td>\n    </tr>\n    <tr>\n      <th>std</th>\n      <td>5.618413</td>\n      <td>5.267356</td>\n      <td>5.008450</td>\n      <td>3.605811</td>\n      <td>4.936125</td>\n      <td>3.968683</td>\n      <td>4.977555</td>\n      <td>4.499449</td>\n      <td>4.166872</td>\n      <td>4.503954</td>\n      <td>5.835037</td>\n      <td>6.699794</td>\n    </tr>\n    <tr>\n      <th>min</th>\n      <td>0.670000</td>\n      <td>0.210000</td>\n      <td>1.500000</td>\n      <td>0.000000</td>\n      <td>0.130000</td>\n      <td>0.000000</td>\n      <td>0.000000</td>\n      <td>0.000000</td>\n      <td>0.000000</td>\n      <td>0.040000</td>\n      <td>0.130000</td>\n      <td>0.670000</td>\n    </tr>\n    <tr>\n      <th>50%</th>\n      <td>11.710000</td>\n      <td>10.170000</td>\n      <td>10.920000</td>\n      <td>5.750000</td>\n      <td>9.960000</td>\n      <td>6.830000</td>\n      <td>9.210000</td>\n      <td>8.080000</td>\n      <td>8.170000</td>\n      <td>8.290000</td>\n      <td>12.500000</td>\n      <td>15.000000</td>\n    </tr>\n    <tr>\n      <th>max</th>\n      <td>35.800000</td>\n      <td>33.370000</td>\n      <td>33.840000</td>\n      <td>28.460000</td>\n      <td>37.540000</td>\n      <td>26.160000</td>\n      <td>30.370000</td>\n      <td>31.080000</td>\n      <td>25.880000</td>\n      <td>28.210000</td>\n      <td>42.380000</td>\n      <td>42.540000</td>\n    </tr>\n  </tbody>\n</table>\n</div>"
     },
     "metadata": {},
     "execution_count": 69
    }
   ],
   "source": [
    "loc_stats = data.describe(percentiles=[])\n",
    "loc_stats"
   ]
  },
  {
   "cell_type": "markdown",
   "metadata": {},
   "source": [
    "### Step 10. Create a DataFrame called day_stats and calculate the min, max and mean windspeed and standard deviations of the windspeeds across all the locations at each day.\n",
    "\n",
    "#### A different set of numbers for each day."
   ]
  },
  {
   "cell_type": "code",
   "execution_count": 12,
   "metadata": {},
   "outputs": [
    {
     "output_type": "execute_result",
     "data": {
      "text/plain": "Yr_Mo_Dy\n1961-01-01    9.29\n1961-01-02    6.50\n1961-01-03    6.17\n1961-01-04    1.79\n1961-01-05    6.17\n              ... \n1978-12-27    8.08\n1978-12-28    5.00\n1978-12-29    8.71\n1978-12-30    9.13\n1978-12-31    9.59\nLength: 6574, dtype: float64"
     },
     "metadata": {},
     "execution_count": 12
    }
   ],
   "source": [
    "data.min(axis=1)\n",
    "#€n este ejemplo obtengo el minimo de cada fila, he cambiado el eje en el que estoy aplicando el método"
   ]
  },
  {
   "cell_type": "code",
   "execution_count": 54,
   "metadata": {},
   "outputs": [
    {
     "output_type": "execute_result",
     "data": {
      "text/plain": "Yr_Mo_Dy    1961-01-01 00:00:00\nRPT                        0.67\nVAL                        0.21\nROS                         1.5\nKIL                           0\nSHA                        0.13\nBIR                           0\nDUB                           0\nCLA                           0\nMUL                           0\nCLO                        0.04\nBEL                        0.13\nMAL                        0.67\ndtype: object"
     },
     "metadata": {},
     "execution_count": 54
    }
   ],
   "source": []
  },
  {
   "cell_type": "code",
   "execution_count": 40,
   "metadata": {},
   "outputs": [
    {
     "output_type": "execute_result",
     "data": {
      "text/plain": "              RPT    VAL    ROS    KIL    SHA   BIR    DUB    CLA    MUL  \\\nYr_Mo_Dy                                                                   \n1961-01-01  15.04  14.96  13.17   9.29    NaN  9.87  13.67  10.25  10.83   \n1961-01-02  14.71    NaN  10.83   6.50  12.62  7.67  11.50  10.04   9.79   \n1961-01-03  18.50  16.88  12.33  10.13  11.17  6.17  11.25    NaN   8.50   \n1961-01-04  10.58   6.63  11.75   4.58   4.54  2.88   8.63   1.79   5.83   \n1961-01-05  13.33  13.25  11.42   6.17  10.71  8.21  11.92   6.54  10.92   \n\n              CLO    BEL    MAL   min    max       mean       std  \nYr_Mo_Dy                                                           \n1961-01-01  12.58  18.50  15.04  9.29  18.50  13.018182  2.808875  \n1961-01-02   9.67  17.54  13.83  6.50  17.54  11.336364  3.188994  \n1961-01-03   7.67  12.75  12.71  6.17  18.50  11.641818  3.681912  \n1961-01-04   5.88   5.46  10.88  1.79  11.75   6.619167  3.198126  \n1961-01-05  10.34  12.92  11.83  6.17  13.33  10.630000  2.445356  ",
      "text/html": "<div>\n<style scoped>\n    .dataframe tbody tr th:only-of-type {\n        vertical-align: middle;\n    }\n\n    .dataframe tbody tr th {\n        vertical-align: top;\n    }\n\n    .dataframe thead th {\n        text-align: right;\n    }\n</style>\n<table border=\"1\" class=\"dataframe\">\n  <thead>\n    <tr style=\"text-align: right;\">\n      <th></th>\n      <th>RPT</th>\n      <th>VAL</th>\n      <th>ROS</th>\n      <th>KIL</th>\n      <th>SHA</th>\n      <th>BIR</th>\n      <th>DUB</th>\n      <th>CLA</th>\n      <th>MUL</th>\n      <th>CLO</th>\n      <th>BEL</th>\n      <th>MAL</th>\n      <th>min</th>\n      <th>max</th>\n      <th>mean</th>\n      <th>std</th>\n    </tr>\n    <tr>\n      <th>Yr_Mo_Dy</th>\n      <th></th>\n      <th></th>\n      <th></th>\n      <th></th>\n      <th></th>\n      <th></th>\n      <th></th>\n      <th></th>\n      <th></th>\n      <th></th>\n      <th></th>\n      <th></th>\n      <th></th>\n      <th></th>\n      <th></th>\n      <th></th>\n    </tr>\n  </thead>\n  <tbody>\n    <tr>\n      <th>1961-01-01</th>\n      <td>15.04</td>\n      <td>14.96</td>\n      <td>13.17</td>\n      <td>9.29</td>\n      <td>NaN</td>\n      <td>9.87</td>\n      <td>13.67</td>\n      <td>10.25</td>\n      <td>10.83</td>\n      <td>12.58</td>\n      <td>18.50</td>\n      <td>15.04</td>\n      <td>9.29</td>\n      <td>18.50</td>\n      <td>13.018182</td>\n      <td>2.808875</td>\n    </tr>\n    <tr>\n      <th>1961-01-02</th>\n      <td>14.71</td>\n      <td>NaN</td>\n      <td>10.83</td>\n      <td>6.50</td>\n      <td>12.62</td>\n      <td>7.67</td>\n      <td>11.50</td>\n      <td>10.04</td>\n      <td>9.79</td>\n      <td>9.67</td>\n      <td>17.54</td>\n      <td>13.83</td>\n      <td>6.50</td>\n      <td>17.54</td>\n      <td>11.336364</td>\n      <td>3.188994</td>\n    </tr>\n    <tr>\n      <th>1961-01-03</th>\n      <td>18.50</td>\n      <td>16.88</td>\n      <td>12.33</td>\n      <td>10.13</td>\n      <td>11.17</td>\n      <td>6.17</td>\n      <td>11.25</td>\n      <td>NaN</td>\n      <td>8.50</td>\n      <td>7.67</td>\n      <td>12.75</td>\n      <td>12.71</td>\n      <td>6.17</td>\n      <td>18.50</td>\n      <td>11.641818</td>\n      <td>3.681912</td>\n    </tr>\n    <tr>\n      <th>1961-01-04</th>\n      <td>10.58</td>\n      <td>6.63</td>\n      <td>11.75</td>\n      <td>4.58</td>\n      <td>4.54</td>\n      <td>2.88</td>\n      <td>8.63</td>\n      <td>1.79</td>\n      <td>5.83</td>\n      <td>5.88</td>\n      <td>5.46</td>\n      <td>10.88</td>\n      <td>1.79</td>\n      <td>11.75</td>\n      <td>6.619167</td>\n      <td>3.198126</td>\n    </tr>\n    <tr>\n      <th>1961-01-05</th>\n      <td>13.33</td>\n      <td>13.25</td>\n      <td>11.42</td>\n      <td>6.17</td>\n      <td>10.71</td>\n      <td>8.21</td>\n      <td>11.92</td>\n      <td>6.54</td>\n      <td>10.92</td>\n      <td>10.34</td>\n      <td>12.92</td>\n      <td>11.83</td>\n      <td>6.17</td>\n      <td>13.33</td>\n      <td>10.630000</td>\n      <td>2.445356</td>\n    </tr>\n  </tbody>\n</table>\n</div>"
     },
     "metadata": {},
     "execution_count": 40
    }
   ],
   "source": [
    "# creo el dataframe\n",
    "day_stats = data.copy()\n",
    "# esta vez determinamos que el eje es igual a 1 para que obtenga cada fila.\n",
    "day_stats['min'] = data.min(axis = 1) # min\n",
    "day_stats['max'] = data.max(axis = 1) # max \n",
    "day_stats['mean'] = data.mean(axis = 1) # mean\n",
    "day_stats['std'] = data.std(axis = 1) # standard deviations\n",
    "day_stats.head()"
   ]
  },
  {
   "cell_type": "code",
   "execution_count": 72,
   "metadata": {},
   "outputs": [
    {
     "output_type": "execute_result",
     "data": {
      "text/plain": "             min    max       mean       std\nYr_Mo_Dy                                    \n1961-01-01  9.29  18.50  13.018182  2.808875\n1961-01-02  6.50  17.54  11.336364  3.188994\n1961-01-03  6.17  18.50  11.641818  3.681912\n1961-01-04  1.79  11.75   6.619167  3.198126\n1961-01-05  6.17  13.33  10.630000  2.445356\n...          ...    ...        ...       ...\n1978-12-27  8.08  40.08  16.708333  7.868076\n1978-12-28  5.00  41.46  15.150000  9.687857\n1978-12-29  8.71  29.58  14.890000  5.756836\n1978-12-30  9.13  28.79  15.367500  5.540437\n1978-12-31  9.59  27.29  15.402500  5.702483\n\n[6574 rows x 4 columns]",
      "text/html": "<div>\n<style scoped>\n    .dataframe tbody tr th:only-of-type {\n        vertical-align: middle;\n    }\n\n    .dataframe tbody tr th {\n        vertical-align: top;\n    }\n\n    .dataframe thead th {\n        text-align: right;\n    }\n</style>\n<table border=\"1\" class=\"dataframe\">\n  <thead>\n    <tr style=\"text-align: right;\">\n      <th></th>\n      <th>min</th>\n      <th>max</th>\n      <th>mean</th>\n      <th>std</th>\n    </tr>\n    <tr>\n      <th>Yr_Mo_Dy</th>\n      <th></th>\n      <th></th>\n      <th></th>\n      <th></th>\n    </tr>\n  </thead>\n  <tbody>\n    <tr>\n      <th>1961-01-01</th>\n      <td>9.29</td>\n      <td>18.50</td>\n      <td>13.018182</td>\n      <td>2.808875</td>\n    </tr>\n    <tr>\n      <th>1961-01-02</th>\n      <td>6.50</td>\n      <td>17.54</td>\n      <td>11.336364</td>\n      <td>3.188994</td>\n    </tr>\n    <tr>\n      <th>1961-01-03</th>\n      <td>6.17</td>\n      <td>18.50</td>\n      <td>11.641818</td>\n      <td>3.681912</td>\n    </tr>\n    <tr>\n      <th>1961-01-04</th>\n      <td>1.79</td>\n      <td>11.75</td>\n      <td>6.619167</td>\n      <td>3.198126</td>\n    </tr>\n    <tr>\n      <th>1961-01-05</th>\n      <td>6.17</td>\n      <td>13.33</td>\n      <td>10.630000</td>\n      <td>2.445356</td>\n    </tr>\n    <tr>\n      <th>...</th>\n      <td>...</td>\n      <td>...</td>\n      <td>...</td>\n      <td>...</td>\n    </tr>\n    <tr>\n      <th>1978-12-27</th>\n      <td>8.08</td>\n      <td>40.08</td>\n      <td>16.708333</td>\n      <td>7.868076</td>\n    </tr>\n    <tr>\n      <th>1978-12-28</th>\n      <td>5.00</td>\n      <td>41.46</td>\n      <td>15.150000</td>\n      <td>9.687857</td>\n    </tr>\n    <tr>\n      <th>1978-12-29</th>\n      <td>8.71</td>\n      <td>29.58</td>\n      <td>14.890000</td>\n      <td>5.756836</td>\n    </tr>\n    <tr>\n      <th>1978-12-30</th>\n      <td>9.13</td>\n      <td>28.79</td>\n      <td>15.367500</td>\n      <td>5.540437</td>\n    </tr>\n    <tr>\n      <th>1978-12-31</th>\n      <td>9.59</td>\n      <td>27.29</td>\n      <td>15.402500</td>\n      <td>5.702483</td>\n    </tr>\n  </tbody>\n</table>\n<p>6574 rows × 4 columns</p>\n</div>"
     },
     "metadata": {},
     "execution_count": 72
    }
   ],
   "source": [
    "#Me quedo solo con las columnas que me han pedido (min    max       mean       std )\n",
    "day_stats = day_stats.loc[:, 'min':'std']\n",
    "day_stats"
   ]
  },
  {
   "cell_type": "markdown",
   "metadata": {},
   "source": [
    "### Step 11. Find the average windspeed in January for each location.  \n",
    "#### Treat January 1961 and January 1962 both as January."
   ]
  },
  {
   "cell_type": "code",
   "execution_count": 41,
   "metadata": {},
   "outputs": [
    {
     "output_type": "execute_result",
     "data": {
      "text/plain": "RPT    14.847325\nVAL    12.914560\nROS    13.299624\nKIL     7.199498\nSHA    11.667734\nBIR     8.054839\nDUB    11.819355\nCLA     9.512047\nMUL     9.543208\nCLO    10.053566\nBEL    14.550520\nMAL    18.028763\ndtype: float64"
     },
     "metadata": {},
     "execution_count": 41
    }
   ],
   "source": [
    "data.loc[data.index.month == 1].mean()"
   ]
  },
  {
   "cell_type": "markdown",
   "metadata": {},
   "source": [
    "### Step 12. Downsample the record to a yearly frequency for each location."
   ]
  },
  {
   "cell_type": "code",
   "execution_count": 74,
   "metadata": {},
   "outputs": [
    {
     "output_type": "execute_result",
     "data": {
      "text/plain": "                RPT        VAL        ROS       KIL        SHA       BIR  \\\nYr_Mo_Dy                                                                   \n1961      12.299583  10.351796  11.362369  6.958227  10.881763  7.729726   \n1962      12.246923  10.110438  11.732712  6.960440  10.657918  7.393068   \n1963      12.813452  10.836986  12.541151  7.330055  11.724110  8.434712   \n1964      12.363661  10.920164  12.104372  6.787787  11.454481  7.570874   \n1965      12.451370  11.075534  11.848767  6.858466  11.024795  7.478110   \n1966      13.461973  11.557205  12.020630  7.345726  11.805041  7.793671   \n1967      12.737151  10.990986  11.739397  7.143425  11.630740  7.368164   \n1968      11.835628  10.468197  11.409754  6.477678  10.760765  6.067322   \n1969      11.166356   9.723699  10.902000  5.767973   9.873918  6.189973   \n1970      12.600329  10.726932  11.730247  6.217178  10.567370  7.609452   \n1971      11.273123   9.095178  11.088329  5.241507   9.440329  6.097151   \n1972      12.463962  10.561311  12.058333  5.929699   9.430410  6.358825   \n1973      11.828466  10.680493  10.680493  5.547863   9.640877  6.548740   \n1974      13.643096  11.811781  12.336356  6.427041  11.110986  6.809781   \n1975      12.008575  10.293836  11.564712  5.269096   9.190082  5.668521   \n1976      11.737842  10.203115  10.761230  5.109426   8.846339  6.311038   \n1977      13.099616  11.144493  12.627836  6.073945  10.003836  8.586438   \n1978      12.504356  11.044274  11.380000  6.082356  10.167233  7.650658   \n\n                DUB        CLA       MUL        CLO        BEL        MAL  \nYr_Mo_Dy                                                                   \n1961       9.733923   8.858788  8.647652   9.835577  13.502795  13.680773  \n1962      11.020712   8.793753  8.316822   9.676247  12.930685  14.323956  \n1963      11.075699  10.336548  8.903589  10.224438  13.638877  14.999014  \n1964      10.259153   9.467350  7.789016  10.207951  13.740546  14.910301  \n1965      10.618712   8.879918  7.907425   9.918082  12.964247  15.591644  \n1966      10.579808   8.835096  8.514438   9.768959  14.265836  16.307260  \n1967      10.652027   9.325616  8.645014   9.547425  14.774548  17.135945  \n1968       8.859180   8.255519  7.224945   7.832978  12.808634  15.017486  \n1969       8.564493   7.711397  7.924521   7.754384  12.621233  15.762904  \n1970       9.609890   8.334630  9.297616   8.289808  13.183644  16.456027  \n1971       8.385890   6.757315  7.915370   7.229753  12.208932  15.025233  \n1972       9.704508   7.680792  8.357295   7.515273  12.727377  15.028716  \n1973       8.482110   7.614274  8.245534   7.812411  12.169699  15.441096  \n1974      10.084603   9.896986  9.331753   8.736356  13.252959  16.947671  \n1975       8.562603   7.843836  8.797945   7.382822  12.631671  15.307863  \n1976       9.149126   7.146202  8.883716   7.883087  12.332377  15.471448  \n1977      11.523205   8.378384  9.098192   8.821616  13.459068  16.590849  \n1978       9.489342   8.800466  9.089753   8.301699  12.967397  16.771370  ",
      "text/html": "<div>\n<style scoped>\n    .dataframe tbody tr th:only-of-type {\n        vertical-align: middle;\n    }\n\n    .dataframe tbody tr th {\n        vertical-align: top;\n    }\n\n    .dataframe thead th {\n        text-align: right;\n    }\n</style>\n<table border=\"1\" class=\"dataframe\">\n  <thead>\n    <tr style=\"text-align: right;\">\n      <th></th>\n      <th>RPT</th>\n      <th>VAL</th>\n      <th>ROS</th>\n      <th>KIL</th>\n      <th>SHA</th>\n      <th>BIR</th>\n      <th>DUB</th>\n      <th>CLA</th>\n      <th>MUL</th>\n      <th>CLO</th>\n      <th>BEL</th>\n      <th>MAL</th>\n    </tr>\n    <tr>\n      <th>Yr_Mo_Dy</th>\n      <th></th>\n      <th></th>\n      <th></th>\n      <th></th>\n      <th></th>\n      <th></th>\n      <th></th>\n      <th></th>\n      <th></th>\n      <th></th>\n      <th></th>\n      <th></th>\n    </tr>\n  </thead>\n  <tbody>\n    <tr>\n      <th>1961</th>\n      <td>12.299583</td>\n      <td>10.351796</td>\n      <td>11.362369</td>\n      <td>6.958227</td>\n      <td>10.881763</td>\n      <td>7.729726</td>\n      <td>9.733923</td>\n      <td>8.858788</td>\n      <td>8.647652</td>\n      <td>9.835577</td>\n      <td>13.502795</td>\n      <td>13.680773</td>\n    </tr>\n    <tr>\n      <th>1962</th>\n      <td>12.246923</td>\n      <td>10.110438</td>\n      <td>11.732712</td>\n      <td>6.960440</td>\n      <td>10.657918</td>\n      <td>7.393068</td>\n      <td>11.020712</td>\n      <td>8.793753</td>\n      <td>8.316822</td>\n      <td>9.676247</td>\n      <td>12.930685</td>\n      <td>14.323956</td>\n    </tr>\n    <tr>\n      <th>1963</th>\n      <td>12.813452</td>\n      <td>10.836986</td>\n      <td>12.541151</td>\n      <td>7.330055</td>\n      <td>11.724110</td>\n      <td>8.434712</td>\n      <td>11.075699</td>\n      <td>10.336548</td>\n      <td>8.903589</td>\n      <td>10.224438</td>\n      <td>13.638877</td>\n      <td>14.999014</td>\n    </tr>\n    <tr>\n      <th>1964</th>\n      <td>12.363661</td>\n      <td>10.920164</td>\n      <td>12.104372</td>\n      <td>6.787787</td>\n      <td>11.454481</td>\n      <td>7.570874</td>\n      <td>10.259153</td>\n      <td>9.467350</td>\n      <td>7.789016</td>\n      <td>10.207951</td>\n      <td>13.740546</td>\n      <td>14.910301</td>\n    </tr>\n    <tr>\n      <th>1965</th>\n      <td>12.451370</td>\n      <td>11.075534</td>\n      <td>11.848767</td>\n      <td>6.858466</td>\n      <td>11.024795</td>\n      <td>7.478110</td>\n      <td>10.618712</td>\n      <td>8.879918</td>\n      <td>7.907425</td>\n      <td>9.918082</td>\n      <td>12.964247</td>\n      <td>15.591644</td>\n    </tr>\n    <tr>\n      <th>1966</th>\n      <td>13.461973</td>\n      <td>11.557205</td>\n      <td>12.020630</td>\n      <td>7.345726</td>\n      <td>11.805041</td>\n      <td>7.793671</td>\n      <td>10.579808</td>\n      <td>8.835096</td>\n      <td>8.514438</td>\n      <td>9.768959</td>\n      <td>14.265836</td>\n      <td>16.307260</td>\n    </tr>\n    <tr>\n      <th>1967</th>\n      <td>12.737151</td>\n      <td>10.990986</td>\n      <td>11.739397</td>\n      <td>7.143425</td>\n      <td>11.630740</td>\n      <td>7.368164</td>\n      <td>10.652027</td>\n      <td>9.325616</td>\n      <td>8.645014</td>\n      <td>9.547425</td>\n      <td>14.774548</td>\n      <td>17.135945</td>\n    </tr>\n    <tr>\n      <th>1968</th>\n      <td>11.835628</td>\n      <td>10.468197</td>\n      <td>11.409754</td>\n      <td>6.477678</td>\n      <td>10.760765</td>\n      <td>6.067322</td>\n      <td>8.859180</td>\n      <td>8.255519</td>\n      <td>7.224945</td>\n      <td>7.832978</td>\n      <td>12.808634</td>\n      <td>15.017486</td>\n    </tr>\n    <tr>\n      <th>1969</th>\n      <td>11.166356</td>\n      <td>9.723699</td>\n      <td>10.902000</td>\n      <td>5.767973</td>\n      <td>9.873918</td>\n      <td>6.189973</td>\n      <td>8.564493</td>\n      <td>7.711397</td>\n      <td>7.924521</td>\n      <td>7.754384</td>\n      <td>12.621233</td>\n      <td>15.762904</td>\n    </tr>\n    <tr>\n      <th>1970</th>\n      <td>12.600329</td>\n      <td>10.726932</td>\n      <td>11.730247</td>\n      <td>6.217178</td>\n      <td>10.567370</td>\n      <td>7.609452</td>\n      <td>9.609890</td>\n      <td>8.334630</td>\n      <td>9.297616</td>\n      <td>8.289808</td>\n      <td>13.183644</td>\n      <td>16.456027</td>\n    </tr>\n    <tr>\n      <th>1971</th>\n      <td>11.273123</td>\n      <td>9.095178</td>\n      <td>11.088329</td>\n      <td>5.241507</td>\n      <td>9.440329</td>\n      <td>6.097151</td>\n      <td>8.385890</td>\n      <td>6.757315</td>\n      <td>7.915370</td>\n      <td>7.229753</td>\n      <td>12.208932</td>\n      <td>15.025233</td>\n    </tr>\n    <tr>\n      <th>1972</th>\n      <td>12.463962</td>\n      <td>10.561311</td>\n      <td>12.058333</td>\n      <td>5.929699</td>\n      <td>9.430410</td>\n      <td>6.358825</td>\n      <td>9.704508</td>\n      <td>7.680792</td>\n      <td>8.357295</td>\n      <td>7.515273</td>\n      <td>12.727377</td>\n      <td>15.028716</td>\n    </tr>\n    <tr>\n      <th>1973</th>\n      <td>11.828466</td>\n      <td>10.680493</td>\n      <td>10.680493</td>\n      <td>5.547863</td>\n      <td>9.640877</td>\n      <td>6.548740</td>\n      <td>8.482110</td>\n      <td>7.614274</td>\n      <td>8.245534</td>\n      <td>7.812411</td>\n      <td>12.169699</td>\n      <td>15.441096</td>\n    </tr>\n    <tr>\n      <th>1974</th>\n      <td>13.643096</td>\n      <td>11.811781</td>\n      <td>12.336356</td>\n      <td>6.427041</td>\n      <td>11.110986</td>\n      <td>6.809781</td>\n      <td>10.084603</td>\n      <td>9.896986</td>\n      <td>9.331753</td>\n      <td>8.736356</td>\n      <td>13.252959</td>\n      <td>16.947671</td>\n    </tr>\n    <tr>\n      <th>1975</th>\n      <td>12.008575</td>\n      <td>10.293836</td>\n      <td>11.564712</td>\n      <td>5.269096</td>\n      <td>9.190082</td>\n      <td>5.668521</td>\n      <td>8.562603</td>\n      <td>7.843836</td>\n      <td>8.797945</td>\n      <td>7.382822</td>\n      <td>12.631671</td>\n      <td>15.307863</td>\n    </tr>\n    <tr>\n      <th>1976</th>\n      <td>11.737842</td>\n      <td>10.203115</td>\n      <td>10.761230</td>\n      <td>5.109426</td>\n      <td>8.846339</td>\n      <td>6.311038</td>\n      <td>9.149126</td>\n      <td>7.146202</td>\n      <td>8.883716</td>\n      <td>7.883087</td>\n      <td>12.332377</td>\n      <td>15.471448</td>\n    </tr>\n    <tr>\n      <th>1977</th>\n      <td>13.099616</td>\n      <td>11.144493</td>\n      <td>12.627836</td>\n      <td>6.073945</td>\n      <td>10.003836</td>\n      <td>8.586438</td>\n      <td>11.523205</td>\n      <td>8.378384</td>\n      <td>9.098192</td>\n      <td>8.821616</td>\n      <td>13.459068</td>\n      <td>16.590849</td>\n    </tr>\n    <tr>\n      <th>1978</th>\n      <td>12.504356</td>\n      <td>11.044274</td>\n      <td>11.380000</td>\n      <td>6.082356</td>\n      <td>10.167233</td>\n      <td>7.650658</td>\n      <td>9.489342</td>\n      <td>8.800466</td>\n      <td>9.089753</td>\n      <td>8.301699</td>\n      <td>12.967397</td>\n      <td>16.771370</td>\n    </tr>\n  </tbody>\n</table>\n</div>"
     },
     "metadata": {},
     "execution_count": 74
    }
   ],
   "source": [
    "data.groupby(data.index.to_period('A')).mean()"
   ]
  },
  {
   "cell_type": "markdown",
   "metadata": {},
   "source": [
    "### Step 13. Downsample the record to a monthly frequency for each location."
   ]
  },
  {
   "cell_type": "code",
   "execution_count": 75,
   "metadata": {},
   "outputs": [
    {
     "output_type": "execute_result",
     "data": {
      "text/plain": "                RPT        VAL        ROS       KIL        SHA        BIR  \\\nYr_Mo_Dy                                                                    \n1961-01   14.841333  11.988333  13.431613  7.736774  11.072759   8.588065   \n1961-02   16.269286  14.975357  14.441481  9.230741  13.852143  10.937500   \n1961-03   10.890000  11.296452  10.752903  7.284000  10.509355   8.866774   \n1961-04   10.722667   9.427667   9.998000  5.830667   8.435000   6.495000   \n1961-05    9.860968   8.850000  10.818065  5.905333   9.490323   6.574839   \n...             ...        ...        ...       ...        ...        ...   \n1978-08    9.645161   8.259355   9.032258  4.502903   7.368065   5.935161   \n1978-09   10.913667  10.895000  10.635000  5.725000  10.372000   9.278333   \n1978-10    9.897742   8.670968   9.295806  4.721290   8.525161   6.774194   \n1978-11   16.151667  14.802667  13.508000  7.317333  11.475000   8.743000   \n1978-12   16.175484  13.748065  15.635161  7.094839  11.398710   9.241613   \n\n                DUB        CLA        MUL        CLO        BEL        MAL  \nYr_Mo_Dy                                                                    \n1961-01   11.184839   9.245333   9.085806  10.107419  13.880968  14.703226  \n1961-02   11.890714  11.846071  11.821429  12.714286  18.583214  15.411786  \n1961-03    9.644194   9.829677  10.294138  11.251935  16.410968  15.720000  \n1961-04    6.925333   7.094667   7.342333   7.237000  11.147333  10.278333  \n1961-05    7.604000   8.177097   8.039355   8.499355  11.900323  12.011613  \n...             ...        ...        ...        ...        ...        ...  \n1978-08    5.650323   5.417742   7.241290   5.536774  10.466774  12.054194  \n1978-09   10.790333   9.583000  10.069333   8.939000  15.680333  19.391333  \n1978-10    8.115484   7.337742   8.297742   8.243871  13.776774  17.150000  \n1978-11   11.492333   9.657333  10.701333  10.676000  17.404667  20.723000  \n1978-12   12.077419  10.194839  10.616774  11.028710  13.859677  21.371613  \n\n[216 rows x 12 columns]",
      "text/html": "<div>\n<style scoped>\n    .dataframe tbody tr th:only-of-type {\n        vertical-align: middle;\n    }\n\n    .dataframe tbody tr th {\n        vertical-align: top;\n    }\n\n    .dataframe thead th {\n        text-align: right;\n    }\n</style>\n<table border=\"1\" class=\"dataframe\">\n  <thead>\n    <tr style=\"text-align: right;\">\n      <th></th>\n      <th>RPT</th>\n      <th>VAL</th>\n      <th>ROS</th>\n      <th>KIL</th>\n      <th>SHA</th>\n      <th>BIR</th>\n      <th>DUB</th>\n      <th>CLA</th>\n      <th>MUL</th>\n      <th>CLO</th>\n      <th>BEL</th>\n      <th>MAL</th>\n    </tr>\n    <tr>\n      <th>Yr_Mo_Dy</th>\n      <th></th>\n      <th></th>\n      <th></th>\n      <th></th>\n      <th></th>\n      <th></th>\n      <th></th>\n      <th></th>\n      <th></th>\n      <th></th>\n      <th></th>\n      <th></th>\n    </tr>\n  </thead>\n  <tbody>\n    <tr>\n      <th>1961-01</th>\n      <td>14.841333</td>\n      <td>11.988333</td>\n      <td>13.431613</td>\n      <td>7.736774</td>\n      <td>11.072759</td>\n      <td>8.588065</td>\n      <td>11.184839</td>\n      <td>9.245333</td>\n      <td>9.085806</td>\n      <td>10.107419</td>\n      <td>13.880968</td>\n      <td>14.703226</td>\n    </tr>\n    <tr>\n      <th>1961-02</th>\n      <td>16.269286</td>\n      <td>14.975357</td>\n      <td>14.441481</td>\n      <td>9.230741</td>\n      <td>13.852143</td>\n      <td>10.937500</td>\n      <td>11.890714</td>\n      <td>11.846071</td>\n      <td>11.821429</td>\n      <td>12.714286</td>\n      <td>18.583214</td>\n      <td>15.411786</td>\n    </tr>\n    <tr>\n      <th>1961-03</th>\n      <td>10.890000</td>\n      <td>11.296452</td>\n      <td>10.752903</td>\n      <td>7.284000</td>\n      <td>10.509355</td>\n      <td>8.866774</td>\n      <td>9.644194</td>\n      <td>9.829677</td>\n      <td>10.294138</td>\n      <td>11.251935</td>\n      <td>16.410968</td>\n      <td>15.720000</td>\n    </tr>\n    <tr>\n      <th>1961-04</th>\n      <td>10.722667</td>\n      <td>9.427667</td>\n      <td>9.998000</td>\n      <td>5.830667</td>\n      <td>8.435000</td>\n      <td>6.495000</td>\n      <td>6.925333</td>\n      <td>7.094667</td>\n      <td>7.342333</td>\n      <td>7.237000</td>\n      <td>11.147333</td>\n      <td>10.278333</td>\n    </tr>\n    <tr>\n      <th>1961-05</th>\n      <td>9.860968</td>\n      <td>8.850000</td>\n      <td>10.818065</td>\n      <td>5.905333</td>\n      <td>9.490323</td>\n      <td>6.574839</td>\n      <td>7.604000</td>\n      <td>8.177097</td>\n      <td>8.039355</td>\n      <td>8.499355</td>\n      <td>11.900323</td>\n      <td>12.011613</td>\n    </tr>\n    <tr>\n      <th>...</th>\n      <td>...</td>\n      <td>...</td>\n      <td>...</td>\n      <td>...</td>\n      <td>...</td>\n      <td>...</td>\n      <td>...</td>\n      <td>...</td>\n      <td>...</td>\n      <td>...</td>\n      <td>...</td>\n      <td>...</td>\n    </tr>\n    <tr>\n      <th>1978-08</th>\n      <td>9.645161</td>\n      <td>8.259355</td>\n      <td>9.032258</td>\n      <td>4.502903</td>\n      <td>7.368065</td>\n      <td>5.935161</td>\n      <td>5.650323</td>\n      <td>5.417742</td>\n      <td>7.241290</td>\n      <td>5.536774</td>\n      <td>10.466774</td>\n      <td>12.054194</td>\n    </tr>\n    <tr>\n      <th>1978-09</th>\n      <td>10.913667</td>\n      <td>10.895000</td>\n      <td>10.635000</td>\n      <td>5.725000</td>\n      <td>10.372000</td>\n      <td>9.278333</td>\n      <td>10.790333</td>\n      <td>9.583000</td>\n      <td>10.069333</td>\n      <td>8.939000</td>\n      <td>15.680333</td>\n      <td>19.391333</td>\n    </tr>\n    <tr>\n      <th>1978-10</th>\n      <td>9.897742</td>\n      <td>8.670968</td>\n      <td>9.295806</td>\n      <td>4.721290</td>\n      <td>8.525161</td>\n      <td>6.774194</td>\n      <td>8.115484</td>\n      <td>7.337742</td>\n      <td>8.297742</td>\n      <td>8.243871</td>\n      <td>13.776774</td>\n      <td>17.150000</td>\n    </tr>\n    <tr>\n      <th>1978-11</th>\n      <td>16.151667</td>\n      <td>14.802667</td>\n      <td>13.508000</td>\n      <td>7.317333</td>\n      <td>11.475000</td>\n      <td>8.743000</td>\n      <td>11.492333</td>\n      <td>9.657333</td>\n      <td>10.701333</td>\n      <td>10.676000</td>\n      <td>17.404667</td>\n      <td>20.723000</td>\n    </tr>\n    <tr>\n      <th>1978-12</th>\n      <td>16.175484</td>\n      <td>13.748065</td>\n      <td>15.635161</td>\n      <td>7.094839</td>\n      <td>11.398710</td>\n      <td>9.241613</td>\n      <td>12.077419</td>\n      <td>10.194839</td>\n      <td>10.616774</td>\n      <td>11.028710</td>\n      <td>13.859677</td>\n      <td>21.371613</td>\n    </tr>\n  </tbody>\n</table>\n<p>216 rows × 12 columns</p>\n</div>"
     },
     "metadata": {},
     "execution_count": 75
    }
   ],
   "source": [
    "data.groupby(data.index.to_period('M')).mean()"
   ]
  },
  {
   "cell_type": "markdown",
   "metadata": {},
   "source": [
    "### Step 14. Downsample the record to a weekly frequency for each location."
   ]
  },
  {
   "cell_type": "code",
   "execution_count": 42,
   "metadata": {},
   "outputs": [
    {
     "output_type": "execute_result",
     "data": {
      "text/plain": "                             RPT        VAL        ROS        KIL        SHA  \\\nYr_Mo_Dy                                                                       \n1960-12-26/1961-01-01  15.040000  14.960000  13.170000   9.290000        NaN   \n1961-01-02/1961-01-08  13.541429  11.486667  10.487143   6.417143   9.474286   \n1961-01-09/1961-01-15  12.468571   8.967143  11.958571   4.630000   7.351429   \n1961-01-16/1961-01-22  13.204286   9.862857  12.982857   6.328571   8.966667   \n1961-01-23/1961-01-29  19.880000  16.141429  18.225714  12.720000  17.432857   \n...                          ...        ...        ...        ...        ...   \n1978-11-27/1978-12-03  14.934286  11.232857  13.941429   5.565714  10.215714   \n1978-12-04/1978-12-10  20.740000  19.190000  17.034286   9.777143  15.287143   \n1978-12-11/1978-12-17  16.758571  14.692857  14.987143   6.917143  11.397143   \n1978-12-18/1978-12-24  11.155714   8.008571  13.172857   4.004286   7.825714   \n1978-12-25/1978-12-31  14.951429  11.801429  16.035714   6.507143   9.660000   \n\n                             BIR        DUB        CLA        MUL        CLO  \\\nYr_Mo_Dy                                                                       \n1960-12-26/1961-01-01   9.870000  13.670000  10.250000  10.830000  12.580000   \n1961-01-02/1961-01-08   6.435714  11.061429   6.616667   8.434286   8.497143   \n1961-01-09/1961-01-15   5.072857   7.535714   6.820000   5.712857   7.571429   \n1961-01-16/1961-01-22   7.417143   9.257143   7.875714   7.145714   8.124286   \n1961-01-23/1961-01-29  14.828571  15.528571  15.160000  14.480000  15.640000   \n...                          ...        ...        ...        ...        ...   \n1978-11-27/1978-12-03   8.618571   9.642857   7.685714   9.011429   9.547143   \n1978-12-04/1978-12-10  12.774286  14.437143  12.488571  13.870000  14.082857   \n1978-12-11/1978-12-17   7.272857  10.208571   7.967143   9.168571   8.565714   \n1978-12-18/1978-12-24   6.290000   7.798571   8.667143   7.151429   8.072857   \n1978-12-25/1978-12-31   8.620000  13.708571  10.477143  10.868571  11.471429   \n\n                             BEL        MAL  \nYr_Mo_Dy                                     \n1960-12-26/1961-01-01  18.500000  15.040000  \n1961-01-02/1961-01-08  12.481429  13.238571  \n1961-01-09/1961-01-15  11.125714  11.024286  \n1961-01-16/1961-01-22   9.821429  11.434286  \n1961-01-23/1961-01-29  20.930000  22.530000  \n...                          ...        ...  \n1978-11-27/1978-12-03  11.835714  18.728571  \n1978-12-04/1978-12-10  18.517143  23.061429  \n1978-12-11/1978-12-17  11.102857  15.562857  \n1978-12-18/1978-12-24  11.845714  18.977143  \n1978-12-25/1978-12-31  12.947143  26.844286  \n\n[940 rows x 12 columns]",
      "text/html": "<div>\n<style scoped>\n    .dataframe tbody tr th:only-of-type {\n        vertical-align: middle;\n    }\n\n    .dataframe tbody tr th {\n        vertical-align: top;\n    }\n\n    .dataframe thead th {\n        text-align: right;\n    }\n</style>\n<table border=\"1\" class=\"dataframe\">\n  <thead>\n    <tr style=\"text-align: right;\">\n      <th></th>\n      <th>RPT</th>\n      <th>VAL</th>\n      <th>ROS</th>\n      <th>KIL</th>\n      <th>SHA</th>\n      <th>BIR</th>\n      <th>DUB</th>\n      <th>CLA</th>\n      <th>MUL</th>\n      <th>CLO</th>\n      <th>BEL</th>\n      <th>MAL</th>\n    </tr>\n    <tr>\n      <th>Yr_Mo_Dy</th>\n      <th></th>\n      <th></th>\n      <th></th>\n      <th></th>\n      <th></th>\n      <th></th>\n      <th></th>\n      <th></th>\n      <th></th>\n      <th></th>\n      <th></th>\n      <th></th>\n    </tr>\n  </thead>\n  <tbody>\n    <tr>\n      <th>1960-12-26/1961-01-01</th>\n      <td>15.040000</td>\n      <td>14.960000</td>\n      <td>13.170000</td>\n      <td>9.290000</td>\n      <td>NaN</td>\n      <td>9.870000</td>\n      <td>13.670000</td>\n      <td>10.250000</td>\n      <td>10.830000</td>\n      <td>12.580000</td>\n      <td>18.500000</td>\n      <td>15.040000</td>\n    </tr>\n    <tr>\n      <th>1961-01-02/1961-01-08</th>\n      <td>13.541429</td>\n      <td>11.486667</td>\n      <td>10.487143</td>\n      <td>6.417143</td>\n      <td>9.474286</td>\n      <td>6.435714</td>\n      <td>11.061429</td>\n      <td>6.616667</td>\n      <td>8.434286</td>\n      <td>8.497143</td>\n      <td>12.481429</td>\n      <td>13.238571</td>\n    </tr>\n    <tr>\n      <th>1961-01-09/1961-01-15</th>\n      <td>12.468571</td>\n      <td>8.967143</td>\n      <td>11.958571</td>\n      <td>4.630000</td>\n      <td>7.351429</td>\n      <td>5.072857</td>\n      <td>7.535714</td>\n      <td>6.820000</td>\n      <td>5.712857</td>\n      <td>7.571429</td>\n      <td>11.125714</td>\n      <td>11.024286</td>\n    </tr>\n    <tr>\n      <th>1961-01-16/1961-01-22</th>\n      <td>13.204286</td>\n      <td>9.862857</td>\n      <td>12.982857</td>\n      <td>6.328571</td>\n      <td>8.966667</td>\n      <td>7.417143</td>\n      <td>9.257143</td>\n      <td>7.875714</td>\n      <td>7.145714</td>\n      <td>8.124286</td>\n      <td>9.821429</td>\n      <td>11.434286</td>\n    </tr>\n    <tr>\n      <th>1961-01-23/1961-01-29</th>\n      <td>19.880000</td>\n      <td>16.141429</td>\n      <td>18.225714</td>\n      <td>12.720000</td>\n      <td>17.432857</td>\n      <td>14.828571</td>\n      <td>15.528571</td>\n      <td>15.160000</td>\n      <td>14.480000</td>\n      <td>15.640000</td>\n      <td>20.930000</td>\n      <td>22.530000</td>\n    </tr>\n    <tr>\n      <th>...</th>\n      <td>...</td>\n      <td>...</td>\n      <td>...</td>\n      <td>...</td>\n      <td>...</td>\n      <td>...</td>\n      <td>...</td>\n      <td>...</td>\n      <td>...</td>\n      <td>...</td>\n      <td>...</td>\n      <td>...</td>\n    </tr>\n    <tr>\n      <th>1978-11-27/1978-12-03</th>\n      <td>14.934286</td>\n      <td>11.232857</td>\n      <td>13.941429</td>\n      <td>5.565714</td>\n      <td>10.215714</td>\n      <td>8.618571</td>\n      <td>9.642857</td>\n      <td>7.685714</td>\n      <td>9.011429</td>\n      <td>9.547143</td>\n      <td>11.835714</td>\n      <td>18.728571</td>\n    </tr>\n    <tr>\n      <th>1978-12-04/1978-12-10</th>\n      <td>20.740000</td>\n      <td>19.190000</td>\n      <td>17.034286</td>\n      <td>9.777143</td>\n      <td>15.287143</td>\n      <td>12.774286</td>\n      <td>14.437143</td>\n      <td>12.488571</td>\n      <td>13.870000</td>\n      <td>14.082857</td>\n      <td>18.517143</td>\n      <td>23.061429</td>\n    </tr>\n    <tr>\n      <th>1978-12-11/1978-12-17</th>\n      <td>16.758571</td>\n      <td>14.692857</td>\n      <td>14.987143</td>\n      <td>6.917143</td>\n      <td>11.397143</td>\n      <td>7.272857</td>\n      <td>10.208571</td>\n      <td>7.967143</td>\n      <td>9.168571</td>\n      <td>8.565714</td>\n      <td>11.102857</td>\n      <td>15.562857</td>\n    </tr>\n    <tr>\n      <th>1978-12-18/1978-12-24</th>\n      <td>11.155714</td>\n      <td>8.008571</td>\n      <td>13.172857</td>\n      <td>4.004286</td>\n      <td>7.825714</td>\n      <td>6.290000</td>\n      <td>7.798571</td>\n      <td>8.667143</td>\n      <td>7.151429</td>\n      <td>8.072857</td>\n      <td>11.845714</td>\n      <td>18.977143</td>\n    </tr>\n    <tr>\n      <th>1978-12-25/1978-12-31</th>\n      <td>14.951429</td>\n      <td>11.801429</td>\n      <td>16.035714</td>\n      <td>6.507143</td>\n      <td>9.660000</td>\n      <td>8.620000</td>\n      <td>13.708571</td>\n      <td>10.477143</td>\n      <td>10.868571</td>\n      <td>11.471429</td>\n      <td>12.947143</td>\n      <td>26.844286</td>\n    </tr>\n  </tbody>\n</table>\n<p>940 rows × 12 columns</p>\n</div>"
     },
     "metadata": {},
     "execution_count": 42
    }
   ],
   "source": [
    "data.groupby(data.index.to_period('W')).mean()"
   ]
  },
  {
   "cell_type": "markdown",
   "metadata": {},
   "source": [
    "### Step 15. Calculate the min, max and mean windspeeds and standard deviations of the windspeeds across all locations for each week (assume that the first week starts on January 2 1961) for the first 52 weeks."
   ]
  },
  {
   "cell_type": "code",
   "execution_count": 43,
   "metadata": {},
   "outputs": [
    {
     "output_type": "execute_result",
     "data": {
      "text/plain": "              RPT                                VAL                    \\\n              min    max       mean       std    min    max       mean   \nYr_Mo_Dy                                                                 \n1961-01-08  10.58  18.50  13.541429  2.631321   6.63  16.88  11.486667   \n1961-01-15   9.04  19.75  12.468571  3.555392   3.54  12.08   8.967143   \n1961-01-22   4.92  19.83  13.204286  5.337402   3.42  14.37   9.862857   \n1961-01-29  13.62  25.04  19.880000  4.619061   9.96  23.91  16.141429   \n1961-02-05  10.58  24.21  16.827143  5.251408   9.46  24.21  15.460000   \n1961-02-12  16.00  24.54  19.684286  3.587677  11.54  21.42  16.417143   \n1961-02-19   6.04  22.50  15.130000  5.064609  11.63  20.17  15.091429   \n1961-02-26   7.79  25.80  15.221429  7.020716   7.08  21.50  13.625714   \n1961-03-05  10.96  13.33  12.101429  0.997721   8.83  17.00  12.951429   \n1961-03-12   4.88  14.79   9.376667  3.732263   8.08  16.96  11.578571   \n\n                        ROS         ...        CLO              BEL         \\\n                 std    min    max  ...       mean       std    min    max   \nYr_Mo_Dy                            ...                                      \n1961-01-08  3.949525   7.62  12.33  ...   8.497143  1.704941   5.46  17.54   \n1961-01-15  3.148945   7.08  19.50  ...   7.571429  4.084293   5.25  20.71   \n1961-01-22  3.837785   7.29  20.79  ...   8.124286  4.783952   6.50  15.92   \n1961-01-29  5.170224  12.67  25.84  ...  15.640000  3.713368  14.04  27.71   \n1961-02-05  5.187395   9.04  19.70  ...   9.460000  2.839501   9.17  19.33   \n1961-02-12  3.608373  13.67  21.34  ...  14.440000  1.746749  15.21  26.38   \n1961-02-19  3.575012   6.13  19.41  ...  13.542857  2.531361  14.09  29.63   \n1961-02-26  5.147348   6.08  22.42  ...  12.730000  4.920064   9.59  23.21   \n1961-03-05  2.851955   8.17  13.67  ...  12.370000  1.593685  11.58  23.45   \n1961-03-12  3.230167   7.54  16.38  ...  10.458571  3.655113  10.21  22.71   \n\n                                   MAL                              \n                 mean       std    min    max       mean       std  \nYr_Mo_Dy                                                            \n1961-01-08  12.481429  4.349139  10.88  16.46  13.238571  1.773062  \n1961-01-15  11.125714  5.552215   5.17  16.92  11.024286  4.692355  \n1961-01-22   9.821429  3.626584   6.79  17.96  11.434286  4.237239  \n1961-01-29  20.930000  5.210726  17.50  27.63  22.530000  3.874721  \n1961-02-05  14.012857  4.210858   7.17  19.25  11.935714  4.336104  \n1961-02-12  21.832857  4.063753  17.04  21.84  19.155714  1.828705  \n1961-02-19  21.167143  5.910938  10.96  22.58  16.584286  4.685377  \n1961-02-26  16.304286  5.091162   6.67  23.87  14.322857  6.182283  \n1961-03-05  17.842857  4.332331   8.83  17.54  13.951667  3.021387  \n1961-03-12  16.701429  4.358759   5.54  22.54  14.420000  5.769890  \n\n[10 rows x 48 columns]",
      "text/html": "<div>\n<style scoped>\n    .dataframe tbody tr th:only-of-type {\n        vertical-align: middle;\n    }\n\n    .dataframe tbody tr th {\n        vertical-align: top;\n    }\n\n    .dataframe thead tr th {\n        text-align: left;\n    }\n\n    .dataframe thead tr:last-of-type th {\n        text-align: right;\n    }\n</style>\n<table border=\"1\" class=\"dataframe\">\n  <thead>\n    <tr>\n      <th></th>\n      <th colspan=\"4\" halign=\"left\">RPT</th>\n      <th colspan=\"4\" halign=\"left\">VAL</th>\n      <th colspan=\"2\" halign=\"left\">ROS</th>\n      <th>...</th>\n      <th colspan=\"2\" halign=\"left\">CLO</th>\n      <th colspan=\"4\" halign=\"left\">BEL</th>\n      <th colspan=\"4\" halign=\"left\">MAL</th>\n    </tr>\n    <tr>\n      <th></th>\n      <th>min</th>\n      <th>max</th>\n      <th>mean</th>\n      <th>std</th>\n      <th>min</th>\n      <th>max</th>\n      <th>mean</th>\n      <th>std</th>\n      <th>min</th>\n      <th>max</th>\n      <th>...</th>\n      <th>mean</th>\n      <th>std</th>\n      <th>min</th>\n      <th>max</th>\n      <th>mean</th>\n      <th>std</th>\n      <th>min</th>\n      <th>max</th>\n      <th>mean</th>\n      <th>std</th>\n    </tr>\n    <tr>\n      <th>Yr_Mo_Dy</th>\n      <th></th>\n      <th></th>\n      <th></th>\n      <th></th>\n      <th></th>\n      <th></th>\n      <th></th>\n      <th></th>\n      <th></th>\n      <th></th>\n      <th></th>\n      <th></th>\n      <th></th>\n      <th></th>\n      <th></th>\n      <th></th>\n      <th></th>\n      <th></th>\n      <th></th>\n      <th></th>\n      <th></th>\n    </tr>\n  </thead>\n  <tbody>\n    <tr>\n      <th>1961-01-08</th>\n      <td>10.58</td>\n      <td>18.50</td>\n      <td>13.541429</td>\n      <td>2.631321</td>\n      <td>6.63</td>\n      <td>16.88</td>\n      <td>11.486667</td>\n      <td>3.949525</td>\n      <td>7.62</td>\n      <td>12.33</td>\n      <td>...</td>\n      <td>8.497143</td>\n      <td>1.704941</td>\n      <td>5.46</td>\n      <td>17.54</td>\n      <td>12.481429</td>\n      <td>4.349139</td>\n      <td>10.88</td>\n      <td>16.46</td>\n      <td>13.238571</td>\n      <td>1.773062</td>\n    </tr>\n    <tr>\n      <th>1961-01-15</th>\n      <td>9.04</td>\n      <td>19.75</td>\n      <td>12.468571</td>\n      <td>3.555392</td>\n      <td>3.54</td>\n      <td>12.08</td>\n      <td>8.967143</td>\n      <td>3.148945</td>\n      <td>7.08</td>\n      <td>19.50</td>\n      <td>...</td>\n      <td>7.571429</td>\n      <td>4.084293</td>\n      <td>5.25</td>\n      <td>20.71</td>\n      <td>11.125714</td>\n      <td>5.552215</td>\n      <td>5.17</td>\n      <td>16.92</td>\n      <td>11.024286</td>\n      <td>4.692355</td>\n    </tr>\n    <tr>\n      <th>1961-01-22</th>\n      <td>4.92</td>\n      <td>19.83</td>\n      <td>13.204286</td>\n      <td>5.337402</td>\n      <td>3.42</td>\n      <td>14.37</td>\n      <td>9.862857</td>\n      <td>3.837785</td>\n      <td>7.29</td>\n      <td>20.79</td>\n      <td>...</td>\n      <td>8.124286</td>\n      <td>4.783952</td>\n      <td>6.50</td>\n      <td>15.92</td>\n      <td>9.821429</td>\n      <td>3.626584</td>\n      <td>6.79</td>\n      <td>17.96</td>\n      <td>11.434286</td>\n      <td>4.237239</td>\n    </tr>\n    <tr>\n      <th>1961-01-29</th>\n      <td>13.62</td>\n      <td>25.04</td>\n      <td>19.880000</td>\n      <td>4.619061</td>\n      <td>9.96</td>\n      <td>23.91</td>\n      <td>16.141429</td>\n      <td>5.170224</td>\n      <td>12.67</td>\n      <td>25.84</td>\n      <td>...</td>\n      <td>15.640000</td>\n      <td>3.713368</td>\n      <td>14.04</td>\n      <td>27.71</td>\n      <td>20.930000</td>\n      <td>5.210726</td>\n      <td>17.50</td>\n      <td>27.63</td>\n      <td>22.530000</td>\n      <td>3.874721</td>\n    </tr>\n    <tr>\n      <th>1961-02-05</th>\n      <td>10.58</td>\n      <td>24.21</td>\n      <td>16.827143</td>\n      <td>5.251408</td>\n      <td>9.46</td>\n      <td>24.21</td>\n      <td>15.460000</td>\n      <td>5.187395</td>\n      <td>9.04</td>\n      <td>19.70</td>\n      <td>...</td>\n      <td>9.460000</td>\n      <td>2.839501</td>\n      <td>9.17</td>\n      <td>19.33</td>\n      <td>14.012857</td>\n      <td>4.210858</td>\n      <td>7.17</td>\n      <td>19.25</td>\n      <td>11.935714</td>\n      <td>4.336104</td>\n    </tr>\n    <tr>\n      <th>1961-02-12</th>\n      <td>16.00</td>\n      <td>24.54</td>\n      <td>19.684286</td>\n      <td>3.587677</td>\n      <td>11.54</td>\n      <td>21.42</td>\n      <td>16.417143</td>\n      <td>3.608373</td>\n      <td>13.67</td>\n      <td>21.34</td>\n      <td>...</td>\n      <td>14.440000</td>\n      <td>1.746749</td>\n      <td>15.21</td>\n      <td>26.38</td>\n      <td>21.832857</td>\n      <td>4.063753</td>\n      <td>17.04</td>\n      <td>21.84</td>\n      <td>19.155714</td>\n      <td>1.828705</td>\n    </tr>\n    <tr>\n      <th>1961-02-19</th>\n      <td>6.04</td>\n      <td>22.50</td>\n      <td>15.130000</td>\n      <td>5.064609</td>\n      <td>11.63</td>\n      <td>20.17</td>\n      <td>15.091429</td>\n      <td>3.575012</td>\n      <td>6.13</td>\n      <td>19.41</td>\n      <td>...</td>\n      <td>13.542857</td>\n      <td>2.531361</td>\n      <td>14.09</td>\n      <td>29.63</td>\n      <td>21.167143</td>\n      <td>5.910938</td>\n      <td>10.96</td>\n      <td>22.58</td>\n      <td>16.584286</td>\n      <td>4.685377</td>\n    </tr>\n    <tr>\n      <th>1961-02-26</th>\n      <td>7.79</td>\n      <td>25.80</td>\n      <td>15.221429</td>\n      <td>7.020716</td>\n      <td>7.08</td>\n      <td>21.50</td>\n      <td>13.625714</td>\n      <td>5.147348</td>\n      <td>6.08</td>\n      <td>22.42</td>\n      <td>...</td>\n      <td>12.730000</td>\n      <td>4.920064</td>\n      <td>9.59</td>\n      <td>23.21</td>\n      <td>16.304286</td>\n      <td>5.091162</td>\n      <td>6.67</td>\n      <td>23.87</td>\n      <td>14.322857</td>\n      <td>6.182283</td>\n    </tr>\n    <tr>\n      <th>1961-03-05</th>\n      <td>10.96</td>\n      <td>13.33</td>\n      <td>12.101429</td>\n      <td>0.997721</td>\n      <td>8.83</td>\n      <td>17.00</td>\n      <td>12.951429</td>\n      <td>2.851955</td>\n      <td>8.17</td>\n      <td>13.67</td>\n      <td>...</td>\n      <td>12.370000</td>\n      <td>1.593685</td>\n      <td>11.58</td>\n      <td>23.45</td>\n      <td>17.842857</td>\n      <td>4.332331</td>\n      <td>8.83</td>\n      <td>17.54</td>\n      <td>13.951667</td>\n      <td>3.021387</td>\n    </tr>\n    <tr>\n      <th>1961-03-12</th>\n      <td>4.88</td>\n      <td>14.79</td>\n      <td>9.376667</td>\n      <td>3.732263</td>\n      <td>8.08</td>\n      <td>16.96</td>\n      <td>11.578571</td>\n      <td>3.230167</td>\n      <td>7.54</td>\n      <td>16.38</td>\n      <td>...</td>\n      <td>10.458571</td>\n      <td>3.655113</td>\n      <td>10.21</td>\n      <td>22.71</td>\n      <td>16.701429</td>\n      <td>4.358759</td>\n      <td>5.54</td>\n      <td>22.54</td>\n      <td>14.420000</td>\n      <td>5.769890</td>\n    </tr>\n  </tbody>\n</table>\n<p>10 rows × 48 columns</p>\n</div>"
     },
     "metadata": {},
     "execution_count": 43
    }
   ],
   "source": [
    "# resample data to 'W' week and use the functions\n",
    "weekly = data.resample('W').agg(['min','max','mean','std'])\n",
    "\n",
    "# slice it for the first 52 weeks and locations\n",
    "weekly.loc[weekly.index[1:53], \"RPT\":\"MAL\"] .head(10)"
   ]
  },
  {
   "cell_type": "code",
   "execution_count": 44,
   "metadata": {},
   "outputs": [
    {
     "output_type": "execute_result",
     "data": {
      "text/plain": "             RPT        VAL        ROS       KIL        SHA       BIR  \\\nMonth                                                                   \n1      14.847325  12.914560  13.299624  7.199498  11.667734  8.054839   \n2      13.710906  12.111122  12.879132  6.942411  11.551772  7.633858   \n3      13.158687  11.505842  12.648118  7.265907  11.554516  7.959409   \n4      12.555648  10.429759  12.204815  6.898037  10.677667  7.441389   \n5      11.724032  10.145619  11.550394  6.307487  10.224301  6.942061   \n6      10.451317   8.949704  10.361315  5.652278   9.529926  6.410093   \n7       9.992007   8.357778   9.349642  5.416935   9.302634  5.972348   \n8      10.213411   8.415143   9.993441  5.270681   8.901559  5.891057   \n9      11.458519   9.981002  10.756883  5.615176   9.766315  6.566222   \n10     12.660610  11.010681  11.453943  6.065215  10.550251  7.159910   \n11     13.200722  11.639500  12.293407  6.247611  10.501130  7.134333   \n12     14.446398  12.353602  13.212276  6.829910  11.301254  7.963710   \n\n             DUB       CLA       MUL        CLO        BEL        MAL  \nMonth                                                                  \n1      11.819355  9.512047  9.543208  10.053566  14.550520  18.028763  \n2      11.206024  9.341437  9.313169   9.518051  13.728898  17.156142  \n3      11.310179  9.635896  9.700324  10.096953  13.810609  16.909317  \n4      10.221315  8.909056  8.930870   9.158019  12.664759  14.937611  \n5       8.797738  8.452903  8.040806   8.524857  12.767258  13.736039  \n6       8.009556  7.920796  7.639796   7.729185  12.246407  12.861818  \n7       7.843501  7.262760  7.544480   7.321416  11.676505  12.800789  \n8       7.772312  6.842025  7.240573   7.002783  11.110090  12.565943  \n9       8.609722  7.745677  7.610556   7.689278  12.686389  14.761963  \n10      9.387778  8.726308  8.347181   8.850376  14.155323  16.697151  \n11     10.814861  8.427167  8.604000   8.943167  13.815741  18.114185  \n12     11.849050  9.209355  9.447258   9.627670  14.259516  18.697599  ",
      "text/html": "<div>\n<style scoped>\n    .dataframe tbody tr th:only-of-type {\n        vertical-align: middle;\n    }\n\n    .dataframe tbody tr th {\n        vertical-align: top;\n    }\n\n    .dataframe thead th {\n        text-align: right;\n    }\n</style>\n<table border=\"1\" class=\"dataframe\">\n  <thead>\n    <tr style=\"text-align: right;\">\n      <th></th>\n      <th>RPT</th>\n      <th>VAL</th>\n      <th>ROS</th>\n      <th>KIL</th>\n      <th>SHA</th>\n      <th>BIR</th>\n      <th>DUB</th>\n      <th>CLA</th>\n      <th>MUL</th>\n      <th>CLO</th>\n      <th>BEL</th>\n      <th>MAL</th>\n    </tr>\n    <tr>\n      <th>Month</th>\n      <th></th>\n      <th></th>\n      <th></th>\n      <th></th>\n      <th></th>\n      <th></th>\n      <th></th>\n      <th></th>\n      <th></th>\n      <th></th>\n      <th></th>\n      <th></th>\n    </tr>\n  </thead>\n  <tbody>\n    <tr>\n      <th>1</th>\n      <td>14.847325</td>\n      <td>12.914560</td>\n      <td>13.299624</td>\n      <td>7.199498</td>\n      <td>11.667734</td>\n      <td>8.054839</td>\n      <td>11.819355</td>\n      <td>9.512047</td>\n      <td>9.543208</td>\n      <td>10.053566</td>\n      <td>14.550520</td>\n      <td>18.028763</td>\n    </tr>\n    <tr>\n      <th>2</th>\n      <td>13.710906</td>\n      <td>12.111122</td>\n      <td>12.879132</td>\n      <td>6.942411</td>\n      <td>11.551772</td>\n      <td>7.633858</td>\n      <td>11.206024</td>\n      <td>9.341437</td>\n      <td>9.313169</td>\n      <td>9.518051</td>\n      <td>13.728898</td>\n      <td>17.156142</td>\n    </tr>\n    <tr>\n      <th>3</th>\n      <td>13.158687</td>\n      <td>11.505842</td>\n      <td>12.648118</td>\n      <td>7.265907</td>\n      <td>11.554516</td>\n      <td>7.959409</td>\n      <td>11.310179</td>\n      <td>9.635896</td>\n      <td>9.700324</td>\n      <td>10.096953</td>\n      <td>13.810609</td>\n      <td>16.909317</td>\n    </tr>\n    <tr>\n      <th>4</th>\n      <td>12.555648</td>\n      <td>10.429759</td>\n      <td>12.204815</td>\n      <td>6.898037</td>\n      <td>10.677667</td>\n      <td>7.441389</td>\n      <td>10.221315</td>\n      <td>8.909056</td>\n      <td>8.930870</td>\n      <td>9.158019</td>\n      <td>12.664759</td>\n      <td>14.937611</td>\n    </tr>\n    <tr>\n      <th>5</th>\n      <td>11.724032</td>\n      <td>10.145619</td>\n      <td>11.550394</td>\n      <td>6.307487</td>\n      <td>10.224301</td>\n      <td>6.942061</td>\n      <td>8.797738</td>\n      <td>8.452903</td>\n      <td>8.040806</td>\n      <td>8.524857</td>\n      <td>12.767258</td>\n      <td>13.736039</td>\n    </tr>\n    <tr>\n      <th>6</th>\n      <td>10.451317</td>\n      <td>8.949704</td>\n      <td>10.361315</td>\n      <td>5.652278</td>\n      <td>9.529926</td>\n      <td>6.410093</td>\n      <td>8.009556</td>\n      <td>7.920796</td>\n      <td>7.639796</td>\n      <td>7.729185</td>\n      <td>12.246407</td>\n      <td>12.861818</td>\n    </tr>\n    <tr>\n      <th>7</th>\n      <td>9.992007</td>\n      <td>8.357778</td>\n      <td>9.349642</td>\n      <td>5.416935</td>\n      <td>9.302634</td>\n      <td>5.972348</td>\n      <td>7.843501</td>\n      <td>7.262760</td>\n      <td>7.544480</td>\n      <td>7.321416</td>\n      <td>11.676505</td>\n      <td>12.800789</td>\n    </tr>\n    <tr>\n      <th>8</th>\n      <td>10.213411</td>\n      <td>8.415143</td>\n      <td>9.993441</td>\n      <td>5.270681</td>\n      <td>8.901559</td>\n      <td>5.891057</td>\n      <td>7.772312</td>\n      <td>6.842025</td>\n      <td>7.240573</td>\n      <td>7.002783</td>\n      <td>11.110090</td>\n      <td>12.565943</td>\n    </tr>\n    <tr>\n      <th>9</th>\n      <td>11.458519</td>\n      <td>9.981002</td>\n      <td>10.756883</td>\n      <td>5.615176</td>\n      <td>9.766315</td>\n      <td>6.566222</td>\n      <td>8.609722</td>\n      <td>7.745677</td>\n      <td>7.610556</td>\n      <td>7.689278</td>\n      <td>12.686389</td>\n      <td>14.761963</td>\n    </tr>\n    <tr>\n      <th>10</th>\n      <td>12.660610</td>\n      <td>11.010681</td>\n      <td>11.453943</td>\n      <td>6.065215</td>\n      <td>10.550251</td>\n      <td>7.159910</td>\n      <td>9.387778</td>\n      <td>8.726308</td>\n      <td>8.347181</td>\n      <td>8.850376</td>\n      <td>14.155323</td>\n      <td>16.697151</td>\n    </tr>\n    <tr>\n      <th>11</th>\n      <td>13.200722</td>\n      <td>11.639500</td>\n      <td>12.293407</td>\n      <td>6.247611</td>\n      <td>10.501130</td>\n      <td>7.134333</td>\n      <td>10.814861</td>\n      <td>8.427167</td>\n      <td>8.604000</td>\n      <td>8.943167</td>\n      <td>13.815741</td>\n      <td>18.114185</td>\n    </tr>\n    <tr>\n      <th>12</th>\n      <td>14.446398</td>\n      <td>12.353602</td>\n      <td>13.212276</td>\n      <td>6.829910</td>\n      <td>11.301254</td>\n      <td>7.963710</td>\n      <td>11.849050</td>\n      <td>9.209355</td>\n      <td>9.447258</td>\n      <td>9.627670</td>\n      <td>14.259516</td>\n      <td>18.697599</td>\n    </tr>\n  </tbody>\n</table>\n</div>"
     },
     "metadata": {},
     "execution_count": 44
    }
   ],
   "source": [
    "# En este caso he sacado los valores de la media de todos los meses de enero, febrero,... dicembre durante los años que recoge este database\n",
    "data2 = data.copy()\n",
    "data2[\"Month\"] = data.index.month\n",
    "data2.groupby(\"Month\").mean()"
   ]
  },
  {
   "cell_type": "code",
   "execution_count": null,
   "metadata": {},
   "outputs": [],
   "source": []
  }
 ],
 "metadata": {
  "anaconda-cloud": {},
  "kernelspec": {
   "display_name": "Python 3",
   "language": "python",
   "name": "python3"
  },
  "language_info": {
   "codemirror_mode": {
    "name": "ipython",
    "version": 3
   },
   "file_extension": ".py",
   "mimetype": "text/x-python",
   "name": "python",
   "nbconvert_exporter": "python",
   "pygments_lexer": "ipython3",
   "version": "3.8.3-final"
  }
 },
 "nbformat": 4,
 "nbformat_minor": 1
}