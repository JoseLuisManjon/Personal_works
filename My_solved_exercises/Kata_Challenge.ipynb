{
 "cells": [
  {
   "cell_type": "markdown",
   "metadata": {},
   "source": [
    "### Reto Kata de la website: Codewars\n",
    "\n",
    "Hay que hacer una kata por día entre el 3 de Agosto y el 31, debiendo realizar mas del 90% de las Katas\n",
    "\n",
    "\n",
    "---------\n",
    "\n",
    "day,url,id_kata,id_name\n",
    "\n",
    "3/8/2020,https://www.codewars.com/kata/50654ddff44f800200000004,50654ddff44f800200000004,Multiply\n",
    "4/8/2020,https://www.codewars.com/kata/582cb0224e56e068d800003c,582cb0224e56e068d800003c,Keep Hydrated!\n",
    "5/8/2020,https://www.codewars.com/kata/57eaeb9578748ff92a000009,57eaeb9578748ff92a000009,Sum Mixed Array\n",
    "6/8/2020,https://www.codewars.com/kata/54d1c59aba326343c80000e7,54d1c59aba326343c80000e7,Incorrect division method\n",
    "7/8/2020,https://www.codewars.com/kata/53da3dbb4a5168369a0000fe,53da3dbb4a5168369a0000fe,Even or Odd\n",
    "8/8/2020,https://www.codewars.com/kata/56bc28ad5bdaeb48760009b0,56bc28ad5bdaeb48760009b0,Remove First and Last Character\n",
    "9/8/2020,https://www.codewars.com/kata/55a2d7ebe362935a210000b2,55a2d7ebe362935a210000b2,Find the smallest integer in the array\n",
    "\n",
    "10/8/2020,https://www.codewars.com/kata/5506b230a11c0aeab3000c1f,5506b230a11c0aeab3000c1f,Deodorant Evaporator\n",
    "11/8/2020,https://www.codewars.com/kata/59377c53e66267c8f6000027,59377c53e66267c8f6000027,Alphabet war\n",
    "12/8/2020,https://www.codewars.com/kata/5ae7e3f068e6445bc8000046,5ae7e3f068e6445bc8000046,See You Next Happy Year \n",
    "13/8/2020,https://www.codewars.com/kata/5e2596a9ad937f002e510435,5e2596a9ad937f002e510435,Pandemia 🌡️\n",
    "14/8/2020,https://www.codewars.com/kata/55b95c76e08bd5eef100001e,55b95c76e08bd5eef100001e,Counting in the  Amazon\n",
    "15/8/2020,https://www.codewars.com/kata/5ab7a736edbcfc8e62000007,5ab7a736edbcfc8e62000007,SQL with Sailor Moon: Thinking about JOINs...\n",
    "\n",
    "16/8/2020,https://www.codewars.com/kata/5660aa3d5e011dfd6e000063,5660aa3d5e011dfd6e000063,80's Kids #2: Help ALF Find His Spaceship\n",
    "\n",
    "17/8/2020,https://www.codewars.com/kata/54ff3102c1bad923760001f3,54ff3102c1bad923760001f3,Vowel Count\n",
    "18/8/2020,https://www.codewars.com/kata/5667e8f4e3f572a8f2000039,5667e8f4e3f572a8f2000039,Mumbling\n",
    "19/8/2020,https://www.codewars.com/kata/56747fd5cb988479af000028,56747fd5cb988479af000028,Get the Middle Character\n",
    "20/8/2020,https://www.codewars.com/kata/554b4ac871d6813a03000035,554b4ac871d6813a03000035,Highest and Lowest\n",
    "21/8/2020,https://www.codewars.com/kata/5abcf0f930488ff1a6000b66,5abcf0f930488ff1a6000b66,SQL with Harry Potter: Sorting Hat Comparators\n",
    "\n",
    "22/8/2020,https://www.codewars.com/kata/5d4c6809089c6e5031f189ed,5d4c6809089c6e5031f189ed,Computer problem series #2: Torrent download\n",
    "\n",
    "23/8/2020,https://www.codewars.com/kata/54b724efac3d5402db00065e,54b724efac3d5402db00065e,Decode the Morse code \n",
    "24/8/2020,https://www.codewars.com/kata/57b06f90e298a7b53d000a86,57b06f90e298a7b53d000a86,The Supermarket Queue\n",
    "25/8/2020,https://www.codewars.com/kata/576757b1df89ecf5bd00073b,576757b1df89ecf5bd00073b,Build Tower\n",
    "26/8/2020,https://www.codewars.com/kata/583203e6eb35d7980400002a,583203e6eb35d7980400002a,Count the smiley faces!\n",
    "27/8/2020,https://www.codewars.com/kata/598106cb34e205e074000031,598106cb34e205e074000031,The Deaf Rats of Hamelin\n",
    "28/8/2020,https://www.codewars.com/kata/5503013e34137eeeaa001648,5503013e34137eeeaa001648,Give me a Diamond\n",
    "29/8/2020,https://www.codewars.com/kata/550f22f4d758534c1100025a,550f22f4d758534c1100025a,Directions Reduction\n",
    "30/8/2020,https://www.codewars.com/kata/525c65e51bf619685c000059,525c65e51bf619685c000059,\"Pete, the baker\"\n",
    "\n",
    "\n",
    "---------\n",
    "\n"
   ]
  },
  {
   "cell_type": "code",
   "execution_count": 31,
   "metadata": {},
   "outputs": [],
   "source": [
    "from operator import itemgetter"
   ]
  },
  {
   "cell_type": "markdown",
   "metadata": {},
   "source": [
    "----------\n",
    "Dia 05/08/2020\n"
   ]
  },
  {
   "cell_type": "code",
   "execution_count": null,
   "metadata": {},
   "outputs": [],
   "source": [
    "# DIA 5/08/2020\n",
    "def sum_mix(arr):\n",
    "    sum = 0  \n",
    "    for x in arr:\n",
    "        if type(x) == str:\n",
    "            x = int(x)\n",
    "            sum = sum + x\n",
    "        else:\n",
    "            sum = sum + x\n",
    "\n",
    "    return sum\n",
    "# Ahora compruebo que funcione\n",
    "texto = '23654'\n",
    "print(sum_mix(texto))"
   ]
  },
  {
   "cell_type": "code",
   "execution_count": 3,
   "metadata": {
    "tags": []
   },
   "outputs": [
    {
     "output_type": "stream",
     "name": "stdout",
     "text": "25\n"
    }
   ],
   "source": [
    "# Otras soluciones posibles.\n",
    "def sum_mix(arr):\n",
    "    return sum(map(int, arr))\n",
    "\n",
    "texto = '236545'\n",
    "print(sum_mix(texto))"
   ]
  },
  {
   "cell_type": "code",
   "execution_count": 4,
   "metadata": {
    "tags": []
   },
   "outputs": [
    {
     "output_type": "stream",
     "name": "stdout",
     "text": "25\n"
    }
   ],
   "source": [
    "def sum_mix(arr):\n",
    "    return sum([int(i) for i in arr])\n",
    "texto = '236545'\n",
    "print(sum_mix(texto))"
   ]
  },
  {
   "cell_type": "code",
   "execution_count": 5,
   "metadata": {},
   "outputs": [
    {
     "output_type": "execute_result",
     "data": {
      "text/plain": "4"
     },
     "metadata": {},
     "execution_count": 5
    }
   ],
   "source": [
    "24//5"
   ]
  },
  {
   "cell_type": "markdown",
   "metadata": {},
   "source": [
    "----------\n",
    "Dia 06/08/2020\n"
   ]
  },
  {
   "cell_type": "code",
   "execution_count": 8,
   "metadata": {
    "tags": []
   },
   "outputs": [
    {
     "output_type": "stream",
     "name": "stdout",
     "text": "4.666666666666667\n"
    }
   ],
   "source": [
    "def divide_numbers(x,y):\n",
    "    return x/y\n",
    "# Comprobación\n",
    "print(divide_numbers(14,3))"
   ]
  },
  {
   "cell_type": "markdown",
   "metadata": {},
   "source": [
    "----------\n",
    "Dia 07/08/2020\n"
   ]
  },
  {
   "cell_type": "code",
   "execution_count": 21,
   "metadata": {
    "tags": []
   },
   "outputs": [
    {
     "output_type": "stream",
     "name": "stdout",
     "text": "El numero es impar\nNone\n"
    }
   ],
   "source": [
    "def even_or_odd(number):\n",
    "    if int(number)%2 == 0:\n",
    "        return 'Even'\n",
    "    else: \n",
    "        return 'Odd'\n",
    "\n",
    "print(even_or_odd(7))"
   ]
  },
  {
   "cell_type": "code",
   "execution_count": 24,
   "metadata": {
    "tags": []
   },
   "outputs": [],
   "source": [
    "# Otra solución.\n",
    "def even_or_odd2(number):\n",
    "    return 'Even' if number % 2 == 0 else 'Odd'"
   ]
  },
  {
   "cell_type": "markdown",
   "metadata": {},
   "source": [
    "----------\n",
    "Dia 08/08/2020\n",
    "\n",
    "It's pretty straightforward. Your goal is to create a function that removes the first and last characters of a string. You're given one parameter, the original string. You don't have to worry with strings with less than two characters."
   ]
  },
  {
   "cell_type": "code",
   "execution_count": null,
   "metadata": {},
   "outputs": [],
   "source": []
  },
  {
   "cell_type": "markdown",
   "metadata": {},
   "source": [
    "----------\n",
    "Dia 10/08/2020"
   ]
  },
  {
   "cell_type": "code",
   "execution_count": 1,
   "metadata": {
    "tags": []
   },
   "outputs": [
    {
     "output_type": "stream",
     "name": "stdout",
     "text": "45\n"
    }
   ],
   "source": [
    "def evaporator(content, evap_per_day, threshold):\n",
    "    i = 0\n",
    "    curr = content \n",
    "    while curr >= content * threshold/100.0:\n",
    "        curr = curr * (1 - evap_per_day/100.0)\n",
    "        i += 1\n",
    "    return i\n",
    "\n",
    "print(evaporator(100, 7, 4))"
   ]
  },
  {
   "cell_type": "markdown",
   "metadata": {},
   "source": [
    "----------\n",
    "Dia 11/08/2020\n",
    "\n",
    "Write a function that accepts fight string consists of only small letters and return who wins the fight. When the left side wins return Left side wins!, when the right side wins return Right side wins!, in other case return Let's fight again!.\n",
    "\n",
    "The left side letters and their power:\n",
    " w - 4; p - 3; b - 2; s - 1;\n",
    "The right side letters and their power:\n",
    " m - 4; q - 3; d - 2;  z - 1\n",
    " \n",
    " \n",
    " \n",
    " \n",
    " \n",
    " "
   ]
  },
  {
   "cell_type": "code",
   "execution_count": null,
   "metadata": {},
   "outputs": [],
   "source": [
    "def alphabet_war1(fight)\n",
    "    left = {'w':4, 'p':3, 'b':2, 's':1}\n",
    "    right = {'m':4, 'q':3, 'd':2, 'z':1}\n",
    "    left_side = 0\n",
    "    right_side = 0\n",
    "    for elem in fight:\n",
    "        if elem in left.keys():\n",
    "            left_side = left_side + elem.values()\n",
    "        if elem in right.keys():\n",
    "            right_side = right_side + elem.values()\n",
    "    if left_side > right_side:\n",
    "        print('left side wins!')\n",
    "    elif left_side < right_side:\n",
    "        print('Right side wins!')\n",
    "    else:\n",
    "        print('Lets fight again')\n",
    "   \n",
    "    \n",
    "\n",
    "        \n"
   ]
  },
  {
   "cell_type": "code",
   "execution_count": 56,
   "metadata": {},
   "outputs": [],
   "source": [
    "def alphabet_war(fight):\n",
    "    left = {'w':4, 'p':3, 'b':2, 's':1}\n",
    "    right = {'m':4, 'q':3, 'd':2, 'z':1}\n",
    "    left_side = 0\n",
    "    right_side = 0\n",
    "    for elem in fight:\n",
    "        if elem in left.keys():\n",
    "            left_side = left_side + left[elem]\n",
    "        elif elem in right.keys():\n",
    "            right_side = right_side + right[elem]\n",
    "   \n",
    "    return 'left side wins!' if left_side >right_side  else ('right side wins!'  if left_side < right_side  else 'Lets fight again!')"
   ]
  },
  {
   "cell_type": "code",
   "execution_count": null,
   "metadata": {},
   "outputs": [],
   "source": [
    "# Otra solucion\n",
    "def alphabet_war1(fight):\n",
    "  left = {'w':4,'p':3,'b':2,'s':1}\n",
    "  rigth = {'m':4,'q':3,'d':2,'z':1}\n",
    "  leftp = 0\n",
    "  rigthp = 0\n",
    "  for e in fight:\n",
    "    leftp += left.get(e,0)\n",
    "    rigthp += rigth.get(e,0)\n",
    "  if leftp > rigthp:\n",
    "    return'Left side wins!'\n",
    "  elif rigthp > leftp:\n",
    "    return 'Right side wins!'\n",
    "  else:\n",
    "    return \"Let's fight again!\""
   ]
  },
  {
   "cell_type": "code",
   "execution_count": null,
   "metadata": {},
   "outputs": [],
   "source": [
    "# Otra soluciòn\n",
    "def alphabet_war2(fight):\n",
    "    d = {'w':4,'p':3,'b':2,'s':1,\n",
    "         'm':-4,'q':-3,'d':-2,'z':-1}\n",
    "    r = sum(d[c] for c in fight if c in d)\n",
    "    \n",
    "    return {r==0:\"Let's fight again!\",\n",
    "            r>0:\"Left side wins!\",\n",
    "            r<0:\"Right side wins!\"\n",
    "            }[True]"
   ]
  },
  {
   "cell_type": "markdown",
   "metadata": {},
   "source": [
    "----------\n",
    "Dia 12/08/2020"
   ]
  },
  {
   "cell_type": "code",
   "execution_count": 2,
   "metadata": {},
   "outputs": [],
   "source": [
    "def next_happy_year(year):\n",
    "    year += 1\n",
    "    while len(set(str(year))) != len(str(year)):\n",
    "        year += 1\n",
    "    return year"
   ]
  },
  {
   "cell_type": "code",
   "execution_count": 5,
   "metadata": {},
   "outputs": [
    {
     "output_type": "execute_result",
     "data": {
      "text/plain": "2013"
     },
     "metadata": {},
     "execution_count": 5
    }
   ],
   "source": [
    "next_happy_year(1987)"
   ]
  },
  {
   "cell_type": "code",
   "execution_count": null,
   "metadata": {},
   "outputs": [],
   "source": [
    "# Otra forma\n",
    "def next_happy_year1(year):\n",
    "    for n in range(year+1, 9999):\n",
    "        if len(set(str(n))) == 4:\n",
    "            return n"
   ]
  },
  {
   "cell_type": "code",
   "execution_count": null,
   "metadata": {},
   "outputs": [],
   "source": [
    "# Otra forma\n",
    "def next_happy_year2(year):\n",
    "    while True:\n",
    "        year+=1\n",
    "        if len(str(year)) == len(set(str(year))):\n",
    "            return year"
   ]
  },
  {
   "cell_type": "code",
   "execution_count": null,
   "metadata": {},
   "outputs": [],
   "source": [
    "#Otra manera de resolverlo\n",
    "def next_happy_year3(year):\n",
    "    return year + 1 if len(set(str(year + 1))) == 4 else next_happy_year(year + 1)"
   ]
  },
  {
   "cell_type": "code",
   "execution_count": 6,
   "metadata": {},
   "outputs": [
    {
     "output_type": "execute_result",
     "data": {
      "text/plain": "2013"
     },
     "metadata": {},
     "execution_count": 6
    }
   ],
   "source": [
    "next_happy_year(1987)"
   ]
  },
  {
   "cell_type": "markdown",
   "metadata": {},
   "source": [
    "----------\n",
    "Dia 13/08/2020\n",
    "\n",
    "Pandemia 🌡️ \n",
    "\n"
   ]
  },
  {
   "cell_type": "code",
   "execution_count": 44,
   "metadata": {},
   "outputs": [],
   "source": [
    "def infected(s):\n",
    "    continents = s.split('X')\n",
    "    infect = 0\n",
    "    uninfect = 0\n",
    "    for i, elem in enumerate (continents):\n",
    "        if '1' in elem:\n",
    "            infect = infect + len(elem)\n",
    "        elif '0' in elem:\n",
    "            uninfect = uninfect + len(elem)\n",
    "    if  infect + uninfect == 0:\n",
    "        return 0\n",
    "\n",
    "    return (100*infect / (infect + uninfect))"
   ]
  },
  {
   "cell_type": "code",
   "execution_count": 47,
   "metadata": {},
   "outputs": [],
   "source": [
    "# Otra forma\n",
    "def infected1(s):\n",
    "    infected = 0\n",
    "    total = 0 \n",
    "    for land in s.split('X'):\n",
    "        if '1' in land:\n",
    "            infected += len(land)\n",
    "        total += len(land)\n",
    "    return infected / total * 100 if total > 0 else 0"
   ]
  },
  {
   "cell_type": "code",
   "execution_count": null,
   "metadata": {},
   "outputs": [],
   "source": [
    "# Otra forma\n",
    "def infected2(s):\n",
    "    total = len(s)-s.count('X')\n",
    "    infected = sum([len(i) for i in s.split('X') if '1' in i])\n",
    "    return infected/total*100 if total > 0 else infected"
   ]
  },
  {
   "cell_type": "markdown",
   "metadata": {},
   "source": [
    "------\n",
    "Dia 14/08/2020\n",
    "\n",
    "The Arara are an isolated tribe found in the Amazon who count in pairs. For example one to eight is as follows:\n",
    "\n",
    "1 = anane;\n",
    "2 = adak;\n",
    "3 = adak anane;\n",
    "4 = adak adak:\n",
    "5 = adak adak anane;\n",
    "6 = adak adak adak;\n",
    "7 = adak adak adak anane;\n",
    "8 = adak adak adak adak;\n",
    "\n",
    "Take a given number and return the Arara's equivalent.\n"
   ]
  },
  {
   "cell_type": "code",
   "execution_count": 130,
   "metadata": {
    "tags": []
   },
   "outputs": [],
   "source": [
    "def count_arara(n):\n",
    "    a = 'adak '\n",
    "    b = 'anane'\n",
    "    if n % 2 == 0:\n",
    "        if int(n/2) == 1:\n",
    "            return a.rstrip()\n",
    "        else: \n",
    "            solution= (a + \"\")*(int(n/2))\n",
    "            return solution.rstrip()\n",
    "    else:\n",
    "        return a*int((n-1)/2) + b"
   ]
  },
  {
   "cell_type": "code",
   "execution_count": 144,
   "metadata": {
    "tags": []
   },
   "outputs": [],
   "source": [
    "#Otra solucion\n",
    "def count_arara1(n):\n",
    "    return str.rstrip(''.join([\"adak \" * int(n / 2), \"anane\" * (n % 2)]))"
   ]
  },
  {
   "cell_type": "code",
   "execution_count": 41,
   "metadata": {},
   "outputs": [],
   "source": [
    "#Otra solucion\n",
    "def count_arara2(n):\n",
    "    return ' '.join(['adak'] * int(n / 2) + ['anane'] * (n % 2))"
   ]
  },
  {
   "cell_type": "code",
   "execution_count": 42,
   "metadata": {},
   "outputs": [
    {
     "output_type": "execute_result",
     "data": {
      "text/plain": "'adak adak anane'"
     },
     "metadata": {},
     "execution_count": 42
    }
   ],
   "source": [
    "count_arara2(5)"
   ]
  },
  {
   "cell_type": "markdown",
   "metadata": {},
   "source": [
    "------\n",
    "Dia 15/08/2020\n",
    "Es  un ejercico sobre SQL"
   ]
  },
  {
   "cell_type": "code",
   "execution_count": null,
   "metadata": {},
   "outputs": [],
   "source": [
    "CREATE TABLE Sailor_Moon (\n",
    "\n",
    "id INT NOT NULL AUTO_INCREMENT PRIMARY KEY (id),\n",
    "\n",
    "sailor_senshi VARCHAR(20) NOT NULL,\n",
    "\n",
    "real_name VARCHAR(20) NOT NULL,\n",
    "\n",
    "cat VARCHAR(20) NULL,\n",
    "\n",
    "school  VARCHAR(20) NULL);\n",
    "\n",
    "INSERT INTO Sailorsenshi (sailor_senshi, real_name, cat, school)\n",
    "\n",
    "VALUES ('Sailor Moon','Usagi Tsukino' , 'Importante', 'Cualquiera');\n",
    "VALUES ('Sailor Mercuty','Ami Muzano' , Null, 'Cual');\n",
    "VALUES ('Sailor Mars','Rei Hino', 'Invs', 'Oyto');\n",
    "VALUES ('Sailor Jupiter','Makoto Kino' , Null, 'Rdyr');\n",
    "VALUES ('Sailor Venus','Minako Aino' , 'Importan', 'Oeste');\n",
    "VALUES ('Sailorchibu Moon','Chibi Usa' , 'Imtante', 'Este');\n",
    "VALUES ('Sailor Uranus','Haruka Tenō' , 'Impant', 'Meridional');\n",
    "VALUES ('Sailor Pluto','Setsuna Meiō' , 'Iornte', 'Anterior');\n",
    "VALUES ('Sailor Neptpune','Michiru Kaiō ' , 'Impon', 'Alto');\n",
    "VALUES ('Sailor Saturn','Hotaru Tomoe' , 'Inte', Null);\n",
    "\n",
    "# ESTA ES MI SOLUCIÓN Y NO FUNCIONA EN CODEWARS"
   ]
  },
  {
   "cell_type": "code",
   "execution_count": null,
   "metadata": {},
   "outputs": [],
   "source": [
    "#Solucion vista en internet\n",
    "select s.senshi_name as sailor_senshi,\n",
    "       s.real_name_jpn as real_name,\n",
    "       c.name as cat,\n",
    "       sc.school\n",
    "from sailorsenshi s left join cats c on s.cat_id = c.id\n",
    "left join schools sc on s.school_id = sc.id"
   ]
  },
  {
   "cell_type": "markdown",
   "metadata": {},
   "source": [
    "\n",
    "SELECT Results\n",
    "sailor_senshi\treal_name\tcat\tschool\n",
    "Sailor Moon\tUsagi Tsukino\tLuna\tJuuban Municipal Junior High School\n",
    "Sailor Mercury\tAmi Mizuno\tLuna\tJuuban Municipal Junior High School\n",
    "Sailor Mars\tRei Hino\tLuna\tTA Academy for Girls\n",
    "Sailor Jupiter\tMakoto Kino\tLuna\tJuuban Municipal Junior High School\n",
    "Sailor Venus\tMinako Aino\tArtemis\tJuuban Municipal Junior High School\n",
    "Tuxedo Mask\tMamoru Chiba\t\tMoto Azabu High School\n",
    "Sailor Uranus\tHaruka Tenou\t\tInfinity Academy\n",
    "Sailor Neptune\tMichiru Kaiou\t\tInfinity Academy\n",
    "Sailor Saturn\tHotaru Tomoe\t\tInfinity Academy\n",
    "Sailor Pluto\tSetsuna Meiou\t\t"
   ]
  },
  {
   "cell_type": "markdown",
   "metadata": {},
   "source": [
    "------\n",
    "Dia 16/08/2020"
   ]
  },
  {
   "cell_type": "code",
   "execution_count": 4,
   "metadata": {},
   "outputs": [
    {
     "output_type": "error",
     "ename": "SyntaxError",
     "evalue": "invalid syntax (<ipython-input-4-8f318daceadb>, line 1)",
     "traceback": [
      "\u001b[1;36m  File \u001b[1;32m\"<ipython-input-4-8f318daceadb>\"\u001b[1;36m, line \u001b[1;32m1\u001b[0m\n\u001b[1;33m    const findSpaceship = (map) => {\u001b[0m\n\u001b[1;37m          ^\u001b[0m\n\u001b[1;31mSyntaxError\u001b[0m\u001b[1;31m:\u001b[0m invalid syntax\n"
     ]
    }
   ],
   "source": [
    "const findSpaceship = (map) => {\n",
    "  \n",
    "  if(!map || map.indexOf('X') === -1) return 'Spaceship lost forever.';\n",
    "  \n",
    "  const mapAsArray = map.split('\\n');\n",
    "  \n",
    "  for( let i = mapAsArray.length-1, yLocation = 0; i >= 0; i--){\n",
    "    \n",
    "    const xLocation = mapAsArray[i].indexOf('X');\n",
    "    \n",
    "    if( xLocation !== -1 ) return [xLocation, yLocation];\n",
    "    yLocation++;\n",
    "  }  "
   ]
  },
  {
   "cell_type": "markdown",
   "metadata": {},
   "source": [
    "------\n",
    "Dia 17/08/2020\n",
    "\n",
    "Return the number (count) of vowels in the given string.\n",
    "\n",
    "We will consider a, e, i, o, u as vowels for this Kata (but not y).\n",
    "\n",
    "The input string will only consist of lower case letters and/or spaces."
   ]
  },
  {
   "cell_type": "code",
   "execution_count": 7,
   "metadata": {
    "tags": []
   },
   "outputs": [
    {
     "output_type": "stream",
     "name": "stdout",
     "text": "0\n"
    }
   ],
   "source": [
    "def is_A_student(score):\n",
    "    return score == 'a'\n",
    "\n",
    "over_75 = len(list(filter(is_A_student, scores)))\n",
    "\n",
    "print(over_75)"
   ]
  },
  {
   "cell_type": "code",
   "execution_count": null,
   "metadata": {},
   "outputs": [],
   "source": [
    "score = 'estamos todos muy murcielago'"
   ]
  },
  {
   "cell_type": "code",
   "execution_count": 8,
   "metadata": {},
   "outputs": [],
   "source": [
    "def get_count(input_str):\n",
    "    vowels = 'aeiou'\n",
    "    num_vowels = len([c for c in input_str if c in vowels])\n",
    "    return num_vowels"
   ]
  },
  {
   "cell_type": "code",
   "execution_count": 14,
   "metadata": {},
   "outputs": [],
   "source": [
    "# Otra forma\n",
    "def getCount(input_str):\n",
    "    return sum(c in 'aeiou' for c in input_str)"
   ]
  },
  {
   "cell_type": "code",
   "execution_count": null,
   "metadata": {},
   "outputs": [],
   "source": [
    "def getCount1(inputStr):\n",
    "    list_vowels = ['a', 'e', 'i', 'o', 'u']\n",
    "    return sum([inputStr.count(vowel) for vowel in list_vowels])"
   ]
  },
  {
   "cell_type": "code",
   "execution_count": 16,
   "metadata": {},
   "outputs": [
    {
     "output_type": "execute_result",
     "data": {
      "text/plain": "6"
     },
     "metadata": {},
     "execution_count": 16
    }
   ],
   "source": [
    "getCount('murcielagoo')"
   ]
  },
  {
   "cell_type": "markdown",
   "metadata": {},
   "source": [
    "------\n",
    "Dia 18/08/2020\n",
    "\n",
    "This time no story, no theory. The examples below show you how to write function accum:\n",
    "\n",
    "Examples:\n",
    "\n",
    "accum(\"abcd\") -> \"A-Bb-Ccc-Dddd\"\n",
    "accum(\"RqaEzty\") -> \"R-Qq-Aaa-Eeee-Zzzzz-Tttttt-Yyyyyyy\"\n",
    "accum(\"cwAt\") -> \"C-Ww-Aaa-Tttt\"\n",
    "The parameter of accum is a string which includes only letters from a..z and A..Z."
   ]
  },
  {
   "cell_type": "code",
   "execution_count": 51,
   "metadata": {},
   "outputs": [],
   "source": [
    "def accum(s):\n",
    "    solution = ''\n",
    "    for i, elem in enumerate (s):\n",
    "        solution = solution + elem.upper()+((i)*elem).lower()+'-'\n",
    "    return solution[0:-1]"
   ]
  },
  {
   "cell_type": "code",
   "execution_count": 52,
   "metadata": {},
   "outputs": [
    {
     "output_type": "execute_result",
     "data": {
      "text/plain": "'T-Oo-Mmm-Aaaa-Ttttt-Eeeeee'"
     },
     "metadata": {},
     "execution_count": 52
    }
   ],
   "source": [
    "accum('tomate')"
   ]
  },
  {
   "cell_type": "code",
   "execution_count": 53,
   "metadata": {
    "tags": []
   },
   "outputs": [],
   "source": [
    "# Otra solución\n",
    "def accum1(s):\n",
    "    return '-'.join(c.upper() + c.lower() * i for i, c in enumerate(s))"
   ]
  },
  {
   "cell_type": "code",
   "execution_count": 63,
   "metadata": {},
   "outputs": [],
   "source": [
    "# Otra solución\n",
    "def accum2(s):\n",
    "    return '-'.join((a * i).title() for i, a in enumerate(s,1)) #El 1 significa que la i del enumerate empieze por 1 en lugar del cero"
   ]
  },
  {
   "cell_type": "markdown",
   "metadata": {},
   "source": [
    "------\n",
    "Dia 19/08/2020\n",
    "\n",
    "You are going to be given a word. Your job is to return the middle character of the word. If the word's length is odd, return the middle character. If the word's length is even, return the middle 2 characters."
   ]
  },
  {
   "cell_type": "code",
   "execution_count": 78,
   "metadata": {
    "tags": []
   },
   "outputs": [
    {
     "output_type": "stream",
     "name": "stdout",
     "text": "['1', '2', '3', '4', '5', '6', '7']\n4\n"
    }
   ],
   "source": [
    "def get_middle(txt):\n",
    "   return txt[(len(txt)-1)//2:(len(txt)+2)//2]\n"
   ]
  },
  {
   "cell_type": "code",
   "execution_count": 100,
   "metadata": {
    "tags": []
   },
   "outputs": [],
   "source": [
    "#Otra solucion\n",
    "def get_middle1(s):\n",
    "    i = (len(s) - 1) // 2\n",
    "    return s[i:-i] or s # Al ser la posicion central sera el elemento i si empiezo por la izquierda pero tb el elemento -1 si empiezo por la derecha de la cadena. En el caso de cadena de longitud par me dará los dos elementos centrales"
   ]
  },
  {
   "cell_type": "code",
   "execution_count": 102,
   "metadata": {},
   "outputs": [
    {
     "output_type": "execute_result",
     "data": {
      "text/plain": "'45'"
     },
     "metadata": {},
     "execution_count": 102
    }
   ],
   "source": [
    "get_middle1('12345678')"
   ]
  },
  {
   "cell_type": "markdown",
   "metadata": {},
   "source": [
    "\n",
    "------\n",
    "Dia 20/08/2020\n",
    "\n",
    "In this little assignment you are given a string of space separated numbers, and have to return the highest and lowest number.\n",
    "\n",
    "Example:\n",
    "\n",
    "high_and_low(\"1 2 3 4 5\")  # return \"5 1\"\n",
    "high_and_low(\"1 2 -3 4 5\") # return \"5 -3\"\n",
    "high_and_low(\"1 9 3 4 -5\") # return \"9 -5\"\n",
    "\n",
    "All numbers are valid Int32, no need to validate them.\n",
    "There will always be at least one number in the input string.\n",
    "Output string must be two numbers separated by a single space, and highest number is first."
   ]
  },
  {
   "cell_type": "code",
   "execution_count": 165,
   "metadata": {
    "tags": []
   },
   "outputs": [],
   "source": [
    "def high_and_low(numbers):\n",
    "    # split string by space character\n",
    "    numbers = numbers.split(\" \")\n",
    "    # convert string array to int, also making list from them\n",
    "    numbers = list(map(int, numbers))\n",
    "    return str(max(numbers)) + \" \" + str(min(numbers))\n",
    "\n"
   ]
  },
  {
   "cell_type": "code",
   "execution_count": 168,
   "metadata": {
    "tags": []
   },
   "outputs": [
    {
     "output_type": "execute_result",
     "data": {
      "text/plain": "'28 -4'"
     },
     "metadata": {},
     "execution_count": 168
    }
   ],
   "source": [
    "high_and_low(\"1 2 10 -4 5 28\")"
   ]
  },
  {
   "cell_type": "code",
   "execution_count": null,
   "metadata": {},
   "outputs": [],
   "source": [
    "# Otra forma \n",
    "def high_and_low1(numbers):\n",
    "    numbers = [int(x) for x in numbers.split(\" \")]\n",
    "    return str(max(numbers)) + \" \" + str(min(numbers))"
   ]
  },
  {
   "cell_type": "markdown",
   "metadata": {},
   "source": [
    "------\n",
    "Dia 21/08/2020\n",
    "\n",
    "There is truly no magic in the world; the Hogwarts Sorting Hat is SQL-based, its decision-making powers are common operators and prospectIve students are merely data - names, and two columns of qualities.\n",
    "\n",
    "students\n",
    "\n",
    "id\n",
    "name\n",
    "quality1\n",
    "quality2\n",
    "Slytherin are being quite strict this year and will only take students who are evil AND cunning.\n",
    "Gryffindor will take students who are brave but only if their second quality is NOT evil.\n",
    "Ravenclaw accepts students who are studious OR intelligent.\n",
    "Hufflepuff will simply take those who have the quality hufflepuff.\n",
    "\n",
    "(don't worry, for simplicity's sake 'brave' and 'studious' will only appear in quality1, and 'cunning' and 'intelligent' will only appear in quality2.)\n",
    "\n",
    "Return the id, name, quality1 and quality2 of all the students who'll be accepted, ordered by ascending id."
   ]
  },
  {
   "cell_type": "code",
   "execution_count": null,
   "metadata": {},
   "outputs": [],
   "source": [
    "# Es en SQL\n",
    "select id, name, quality1, quality2\n",
    "from students\n",
    "where ((quality1='evil' and quality2='cunning') or (quality1='brave' and quality2<>'evil') \n",
    "or (quality1='studious' or quality2='intelligent') \n",
    "or (quality1='hufflepuff' or quality2='hufflepuff'))\n",
    "group by id, name, quality1, quality2\n",
    "order by id"
   ]
  },
  {
   "cell_type": "code",
   "execution_count": null,
   "metadata": {},
   "outputs": [],
   "source": [
    "# Otra forma de resolverlo\n",
    "/* SELECT * FROM students\n",
    "WHERE quality1 = 'hufflepuff' OR quality2 = 'hufflepuff' \n",
    "OR quality1 = 'studious' OR quality2 = 'intelligent'\n",
    "OR (quality1 = 'evil' AND quality2 = 'cunning')\n",
    "OR (quality1 = 'brave' AND quality2 != 'evil') */\n",
    "\n",
    "SELECT * FROM students\n",
    "WHERE quality1 IN ( 'hufflepuff', 'studious') \n",
    "OR quality2 IN ( 'hufflepuff', 'intelligent') \n",
    "OR (quality1 = 'evil' AND quality2 = 'cunning')\n",
    "OR (quality1 = 'brave' AND quality2 != 'evil')"
   ]
  },
  {
   "cell_type": "markdown",
   "metadata": {},
   "source": [
    "------\n",
    "Dia 22/08/2020\n",
    "\n",
    "Computer problem series #2: Torrent download"
   ]
  },
  {
   "cell_type": "code",
   "execution_count": null,
   "metadata": {},
   "outputs": [],
   "source": [
    "from operator import itemgetter"
   ]
  },
  {
   "cell_type": "code",
   "execution_count": null,
   "metadata": {},
   "outputs": [],
   "source": [
    "# Solucion propuesta para code war\n",
    "from operator import itemgetter\n",
    "def torrent(files): \n",
    "    for elem in files:\n",
    "        elem[\"time\"] = elem['size_GB']*8000 / elem[\"speed_Mbps\"]\n",
    "    files_time = sorted(files, key=itemgetter(\"time\"))   \n",
    "    order_name = []\n",
    "    for x in files_time:\n",
    "        order_name.append(x['name'])\n",
    "    return(order_name, files_time[-1][\"time\"])"
   ]
  },
  {
   "cell_type": "code",
   "execution_count": null,
   "metadata": {},
   "outputs": [],
   "source": [
    "from operator import itemgetter\n",
    "def torrent(files): \n",
    "    for elem in files:\n",
    "        elem[\"time\"] = elem['size_GB']*8000 / elem[\"speed_Mbps\"]\n",
    "    files_time = sorted(files, key=itemgetter(\"time\"))   \n",
    "    order_name = []\n",
    "    for x in files_time:\n",
    "        order_name.append(x['name'])\n",
    "    return(order_name, files_time[-1][\"time\"])"
   ]
  },
  {
   "cell_type": "code",
   "execution_count": 47,
   "metadata": {
    "tags": []
   },
   "outputs": [
    {
     "output_type": "stream",
     "name": "stdout",
     "text": "['terminator', 'alien', 'predator'] 152000.0\n"
    }
   ],
   "source": [
    "file_1 = {\"name\": \"alien\", \"size_GB\": 38, \"speed_Mbps\": 38}\n",
    "file_2 = {\"name\": \"predator\", \"size_GB\": 38, \"speed_Mbps\": 2}\n",
    "file_3 = {\"name\": \"terminator\", \"size_GB\": 5, \"speed_Mbps\": 25}\n",
    "files = [file_1, file_2, file_3]\n",
    "for elem in files:\n",
    "    elem[\"time\"] = elem['size_GB']*8000 / elem[\"speed_Mbps\"]\n",
    "files_time = sorted(files, key=itemgetter(\"time\"))   \n",
    "order_name = []\n",
    "for x in files_time:\n",
    "    order_name.append(x['name'])\n",
    "print(order_name, files_time[-1][\"time\"])\n",
    "# Todavia no es correcto porque en caso de empate deberia ordenar por orden alfabetico el nombre de las peliculas"
   ]
  },
  {
   "cell_type": "markdown",
   "metadata": {},
   "source": [
    "------\n",
    "Dia 23/08/2020\n",
    "\n",
    "Decode the Morse code "
   ]
  },
  {
   "cell_type": "code",
   "execution_count": null,
   "metadata": {},
   "outputs": [],
   "source": []
  },
  {
   "cell_type": "code",
   "execution_count": 47,
   "metadata": {},
   "outputs": [],
   "source": [
    "\n",
    "MORSE = {'.-':    'a', '-...':  'b', '-.-.':  'c',\n",
    "         '-..':   'd', '.':     'e', '..-.':  'f',\n",
    "         '--.':   'g', '....':  'h', '..':    'i',\n",
    "         '.---':  'j', '-.-':   'k', '.-..':  'l',\n",
    "         '--':    'm', '-.':    'n', '---':   'o',\n",
    "         '.--.':  'p', '--.-':  'q', '.-.':   'r',\n",
    "         '...':   's', '-':     't', '..-':   'u',\n",
    "         '...-':  'v', '.--':   'w', '-..-':  'x',\n",
    "         '-.--':  'y', '--..':  'z', '-----': '0',\n",
    "         '.----': '1', '..---': '2', '...--': '3',\n",
    "         '....-': '4', '.....': '5', '-....': '6',\n",
    "         '--...': '7', '---..': '8', '----.': '9'\n",
    "        }\n",
    "\n",
    "def decodeMorse(code):\n",
    "    code = code.split('   ')\n",
    "    newCode = []\n",
    "    out_put = []\n",
    "    \n",
    "    for elem in code:\n",
    "        newCode.append(elem.split(' '))\n",
    "    \n",
    "    for word in newCode:\n",
    "        out = ''\n",
    "        for i in word:\n",
    "            if i in MORSE:\n",
    "                out += MORSE[i]\n",
    "\n",
    "        out_put.append(out)\n",
    "    return ' '.join(out_put).upper()\n",
    "\n",
    "# NO PASA EL CODEWAR PORQUE AL PRESIONAR ATEMP DA DOS ERRORES PORQUE APARECEN ESPACIOS AL INICIO DEL STRING QUE DEVUEKVE"
   ]
  },
  {
   "cell_type": "code",
   "execution_count": 48,
   "metadata": {},
   "outputs": [
    {
     "output_type": "execute_result",
     "data": {
      "text/plain": "'PYTHONPROGRAM'"
     },
     "metadata": {},
     "execution_count": 48
    }
   ],
   "source": [
    "decodeMorse('.--. -.-- - .... --- -.  -....- .--. .-. --- --. .-. .- --')"
   ]
  },
  {
   "cell_type": "code",
   "execution_count": 49,
   "metadata": {
    "tags": []
   },
   "outputs": [
    {
     "output_type": "execute_result",
     "data": {
      "text/plain": "'HEY JUDE'"
     },
     "metadata": {},
     "execution_count": 49
    }
   ],
   "source": [
    "decodeMorse('.... . -.--   .--- ..- -.. .')"
   ]
  },
  {
   "cell_type": "code",
   "execution_count": 50,
   "metadata": {},
   "outputs": [],
   "source": [
    "MORSE_CODE = {'.-':    'a', '-...':  'b', '-.-.':  'c',\n",
    "         '-..':   'd', '.':     'e', '..-.':  'f',\n",
    "         '--.':   'g', '....':  'h', '..':    'i',\n",
    "         '.---':  'j', '-.-':   'k', '.-..':  'l',\n",
    "         '--':    'm', '-.':    'n', '---':   'o',\n",
    "         '.--.':  'p', '--.-':  'q', '.-.':   'r',\n",
    "         '...':   's', '-':     't', '..-':   'u',\n",
    "         '...-':  'v', '.--':   'w', '-..-':  'x',\n",
    "         '-.--':  'y', '--..':  'z', '-----': '0',\n",
    "         '.----': '1', '..---': '2', '...--': '3',\n",
    "         '....-': '4', '.....': '5', '-....': '6',\n",
    "         '--...': '7', '---..': '8', '----.': '9'\n",
    "        }\n",
    "def decodeMorse2(morse_code):\n",
    "    clear_text = ''\n",
    "    char = ''\n",
    "\n",
    "    for index, di_dah in enumerate(morse_code.strip() + ' '):\n",
    "        if di_dah != ' ':\n",
    "            char += di_dah\n",
    "        elif char:\n",
    "            clear_text += MORSE_CODE[char]\n",
    "            char = ''\n",
    "            if index < len(morse_code) - 2:\n",
    "                if morse_code[index: index + 3] == '   ':\n",
    "                    clear_text += \" \"\n",
    "\n",
    "    return clear_text.lstrip().upper()\n",
    "# # NO PASA EL CODEWAR PORQUE AL PRESIONAR ATEMP DA DOS ERRORES PORQUE APARECEN ESPACIOS AL INICIO DEL STRING QUE DEVUELVE"
   ]
  },
  {
   "cell_type": "code",
   "execution_count": 51,
   "metadata": {},
   "outputs": [
    {
     "output_type": "execute_result",
     "data": {
      "text/plain": "'HEY JUDE'"
     },
     "metadata": {},
     "execution_count": 51
    }
   ],
   "source": [
    "decodeMorse2('.... . -.--   .--- ..- -.. .')"
   ]
  },
  {
   "cell_type": "code",
   "execution_count": null,
   "metadata": {},
   "outputs": [],
   "source": [
    "# otra solución\n",
    "def decodeMorse(morseCode):\n",
    "    english = \"\"\n",
    "    morselist = morseCode.split(\"   \")\n",
    "    for word in morselist:\n",
    "        letters = word.split(\" \")\n",
    "        for letter in letters:\n",
    "            if letter != '':\n",
    "                english = english + MORSE_CODE[letter]\n",
    "        \n",
    "        english = english + \" \"\n",
    "    english = english.lstrip()\n",
    "    english = english.rstrip()\n",
    "    return(english)"
   ]
  },
  {
   "cell_type": "code",
   "execution_count": null,
   "metadata": {},
   "outputs": [],
   "source": [
    "# ESTA SOLUCION FUNCIONA PERO NO LA ENTIENDO, LA HE SACADO DE INTERNET DE UN MASTER-PYTHON"
   ]
  },
  {
   "cell_type": "markdown",
   "metadata": {},
   "source": [
    "------\n",
    "Dia 24/08/2020\n",
    "\n",
    "The Supermarket Queue "
   ]
  },
  {
   "cell_type": "code",
   "execution_count": null,
   "metadata": {},
   "outputs": [],
   "source": [
    "[10,2,3,3],2"
   ]
  },
  {
   "cell_type": "code",
   "execution_count": 51,
   "metadata": {},
   "outputs": [],
   "source": [
    "def queue_time(customers, n):\n",
    "    time = [0]*n\n",
    "    for i in customers:\n",
    "      time[0] += i\n",
    "      time.sort()\n",
    "    return max(time)"
   ]
  },
  {
   "cell_type": "code",
   "execution_count": 52,
   "metadata": {},
   "outputs": [
    {
     "output_type": "execute_result",
     "data": {
      "text/plain": "10"
     },
     "metadata": {},
     "execution_count": 52
    }
   ],
   "source": [
    "queue_time([10,2,3,3],2)"
   ]
  },
  {
   "cell_type": "markdown",
   "metadata": {},
   "source": [
    "------\n",
    "Dia 25/08/2020\n",
    "\n",
    "Build Tower "
   ]
  },
  {
   "cell_type": "code",
   "execution_count": 41,
   "metadata": {},
   "outputs": [],
   "source": [
    "def towerBuilder(n_floors):\n",
    "  spaces = 0\n",
    "  result = []\n",
    "  while n_floors > 0:\n",
    "    spacing = \" \" * (int(spaces / 2))\n",
    "    stars = \"*\" * ((n_floors * 2) - 1)\n",
    "    result.insert( 0,spacing + stars + spacing) \n",
    "    n_floors -= 1\n",
    "    spaces += 2\n",
    "  \n",
    "  return result\n"
   ]
  },
  {
   "cell_type": "code",
   "execution_count": 42,
   "metadata": {},
   "outputs": [
    {
     "output_type": "execute_result",
     "data": {
      "text/plain": "['     *     ',\n '    ***    ',\n '   *****   ',\n '  *******  ',\n ' ********* ',\n '***********']"
     },
     "metadata": {},
     "execution_count": 42
    }
   ],
   "source": [
    "towerBuilder(6)"
   ]
  },
  {
   "cell_type": "code",
   "execution_count": null,
   "metadata": {},
   "outputs": [],
   "source": [
    "# Otra solución\n",
    "def tower_builder1(n_floors):\n",
    "    if n_floors == 0:\n",
    "        return []\n",
    "        \n",
    "    count = 1\n",
    "    result = []\n",
    "\n",
    "    for i in range(1, n_floors + 1):\n",
    "        stars = '*' * (2 * i - 1)\n",
    "        space = ' ' * (n_floors - i)\n",
    "        result.append(space + stars + space)\n",
    "    \n",
    "    return result"
   ]
  },
  {
   "cell_type": "code",
   "execution_count": null,
   "metadata": {},
   "outputs": [],
   "source": [
    "# Otra solución\n",
    "def tower_builder(n):\n",
    "    return [\" \" * (n - i - 1) + \"*\" * (2*i + 1) + \" \" * (n - i - 1) for i in range(n)]"
   ]
  },
  {
   "cell_type": "code",
   "execution_count": 44,
   "metadata": {},
   "outputs": [
    {
     "output_type": "execute_result",
     "data": {
      "text/plain": "['     *     ',\n '    ***    ',\n '   *****   ',\n '  *******  ',\n ' ********* ',\n '***********']"
     },
     "metadata": {},
     "execution_count": 44
    }
   ],
   "source": [
    "tower_builder(6)"
   ]
  },
  {
   "cell_type": "markdown",
   "metadata": {},
   "source": [
    "------\n",
    "Dia 26/08/2020\n",
    "\n",
    "Count the smiley faces!"
   ]
  },
  {
   "cell_type": "code",
   "execution_count": null,
   "metadata": {},
   "outputs": [],
   "source": [
    "def count_smileys(arr):\n",
    "    res = 0\n",
    "    for i in arr:\n",
    "      if check(i):\n",
    "        res += 1\n",
    "    return res #the number of valid smiley faces in array/list\n",
    "def check(i):\n",
    "    if i[0] != ':' and i[0] != ';':\n",
    "      return False\n",
    "    if len(i) == 3 and i[1] != '-' and i[1] != '~':\n",
    "      return False\n",
    "    if len(i) == 3 and i[2] != ')' and i[2] != 'D':\n",
    "      return False\n",
    "    if len(i) == 2 and i[1] != ')' and i[1] != 'D':\n",
    "      return False\n",
    "    return True"
   ]
  },
  {
   "cell_type": "code",
   "execution_count": 71,
   "metadata": {},
   "outputs": [
    {
     "output_type": "execute_result",
     "data": {
      "text/plain": "4"
     },
     "metadata": {},
     "execution_count": 71
    }
   ],
   "source": [
    "count_smileys([':D',':~)',';~D',':)'])"
   ]
  },
  {
   "cell_type": "code",
   "execution_count": 72,
   "metadata": {},
   "outputs": [],
   "source": [
    "#Otra solución\n",
    "def count_smileys1(arr):\n",
    "    eyes = [\":\", \";\"]\n",
    "    noses = [\"\", \"-\", \"~\"]\n",
    "    mouths = [\")\", \"D\"]\n",
    "    count = 0\n",
    "    for eye in eyes:\n",
    "        for nose in noses:\n",
    "            for mouth in mouths:\n",
    "                face = eye + nose + mouth\n",
    "                count += arr.count(face)\n",
    "    return count"
   ]
  },
  {
   "cell_type": "code",
   "execution_count": 73,
   "metadata": {},
   "outputs": [
    {
     "output_type": "execute_result",
     "data": {
      "text/plain": "4"
     },
     "metadata": {},
     "execution_count": 73
    }
   ],
   "source": [
    "count_smileys1([':D',':~)',';~D',':)'])"
   ]
  },
  {
   "cell_type": "code",
   "execution_count": 75,
   "metadata": {},
   "outputs": [],
   "source": [
    "# Otra solución\n",
    "def count_smileys2(arr):\n",
    "    smiles = set([a+b+c for a in \":;\" for b in ['','-', '~'] for c in \")D\"])\n",
    "    return len([1 for s in arr if s in smiles])"
   ]
  },
  {
   "cell_type": "code",
   "execution_count": 76,
   "metadata": {},
   "outputs": [
    {
     "output_type": "execute_result",
     "data": {
      "text/plain": "4"
     },
     "metadata": {},
     "execution_count": 76
    }
   ],
   "source": [
    "count_smileys2([':D',':~)',';~D',':)'])"
   ]
  },
  {
   "cell_type": "markdown",
   "metadata": {},
   "source": [
    "------\n",
    "Dia 27/08/2020\n",
    "\n",
    "El flautista de Hamelin"
   ]
  },
  {
   "cell_type": "markdown",
   "metadata": {},
   "source": [
    "------\n",
    "Dia 2/08/2020\n",
    "\n",
    "Give me a diamond!"
   ]
  },
  {
   "cell_type": "code",
   "execution_count": 79,
   "metadata": {
    "tags": []
   },
   "outputs": [
    {
     "output_type": "stream",
     "name": "stdout",
     "text": "*\n\n***\n\n*****\n\n"
    }
   ],
   "source": [
    "cadena =[]\n",
    "for i in range(1,7,2):\n",
    "    t = i* \"*\" +\"\\n\"\n",
    "    #string.append()\n",
    "    print(t)"
   ]
  },
  {
   "cell_type": "code",
   "execution_count": 141,
   "metadata": {
    "tags": []
   },
   "outputs": [],
   "source": [
    "def diamond(n):\n",
    "    if n <= 0 or n%2 == 0:\n",
    "        return None \n",
    "\n",
    "    termino = \"\"\n",
    "    for i in range(1,n+2,2):\n",
    "        tup = str(i* \"*\") + \"\\n\"\n",
    "        termino += tup\n",
    "    for i in range(n-2,0,-2):\n",
    "        tdown = str(i* \"*\") + \"\\n\"\n",
    "        termino += tdown \n",
    "    return \" \" + termino\n",
    "    \n",
    "# No funciona por los espacions que debe haber en la cadena de string entre los distintos renglones   "
   ]
  },
  {
   "cell_type": "code",
   "execution_count": 142,
   "metadata": {},
   "outputs": [
    {
     "output_type": "execute_result",
     "data": {
      "text/plain": "' *\\n***\\n*\\n'"
     },
     "metadata": {},
     "execution_count": 142
    }
   ],
   "source": [
    "diamond(3)"
   ]
  },
  {
   "cell_type": "code",
   "execution_count": 131,
   "metadata": {
    "tags": []
   },
   "outputs": [
    {
     "output_type": "stream",
     "name": "stdout",
     "text": "*\n***\n *\n\n"
    }
   ],
   "source": [
    "print('  *\\n***\\n *\\n')"
   ]
  },
  {
   "cell_type": "code",
   "execution_count": 120,
   "metadata": {},
   "outputs": [],
   "source": [
    "def diamond1(n):\n",
    "    \"\"\"Create a diamond-shaped string using asterisks.\n",
    "    Keyword arguments:\n",
    "    n -- the size of the Diamond\n",
    "    Return resulted diamon-shaped string.\n",
    "    \"\"\"\n",
    "    if n < 1 or not n % 2:\n",
    "        # n is negative or even\n",
    "        return None\n",
    "    s = ''\n",
    "    for i in range(n):\n",
    "        # Build asterisks for the line\n",
    "        ast = '*'*(i*2 + 1) if i <= n/2 else '*'*((n-i)*2 - 1)\n",
    "        #print(ast)\n",
    "        # Add a line\n",
    "        s += ' '*int((n-len(ast)) / 2) + ast + '\\n'\n",
    "    return s\n"
   ]
  },
  {
   "cell_type": "code",
   "execution_count": 132,
   "metadata": {
    "tags": []
   },
   "outputs": [
    {
     "output_type": "stream",
     "name": "stdout",
     "text": "*\n***\n*****\n*******\n*****\n***\n*\n"
    },
    {
     "output_type": "execute_result",
     "data": {
      "text/plain": "'   *\\n  ***\\n *****\\n*******\\n *****\\n  ***\\n   *\\n'"
     },
     "metadata": {},
     "execution_count": 132
    }
   ],
   "source": [
    "diamond1(5) "
   ]
  },
  {
   "cell_type": "code",
   "execution_count": null,
   "metadata": {},
   "outputs": [],
   "source": [
    "# Es la solucion que he puesto en code war, pero no es propia\n",
    "def diamond(n):\n",
    "\n",
    "    if n < 1 or not n % 2:\n",
    "        # n is negative or even\n",
    "        return None\n",
    "    s = ''\n",
    "    for i in range(n):\n",
    "        ast = '*'*(i*2 + 1) if i <= n/2 else '*'*((n-i)*2 - 1)\n",
    "        s += ' '*int((n-len(ast)) / 2) + ast + '\\n'\n",
    "    return s"
   ]
  },
  {
   "cell_type": "markdown",
   "metadata": {},
   "source": [
    "------\n",
    "Dia 16/08/2020\n",
    "\n",
    "80's Kids #2: Help ALF Find His Spaceship\n",
    "\n"
   ]
  },
  {
   "cell_type": "code",
   "execution_count": 41,
   "metadata": {
    "tags": []
   },
   "outputs": [
    {
     "output_type": "execute_result",
     "data": {
      "text/plain": "['..........', '..........', '..........', '..........', '..X.......']"
     },
     "metadata": {},
     "execution_count": 41
    }
   ],
   "source": [
    "mapa = (\"..X.......\\n..........\\n..........\\n..........\\n..........\")\n",
    "mapa = (mapa.split(\"\\n\"))\n",
    "mapa.reverse()\n",
    "\n",
    "mapa"
   ]
  },
  {
   "cell_type": "code",
   "execution_count": 126,
   "metadata": {
    "tags": []
   },
   "outputs": [
    {
     "output_type": "stream",
     "name": "stdout",
     "text": "['..........', '..........', '..........', '..........', '..X.......']\n"
    }
   ],
   "source": [
    "park = (\"..X.......\\n..........\\n..........\\n..........\\n..........\")\n",
    "t = (park.split(\"\\n\"))\n",
    "t.reverse()\n",
    "print(t)"
   ]
  },
  {
   "cell_type": "code",
   "execution_count": null,
   "metadata": {},
   "outputs": [],
   "source": [
    "def find_spaceship(astromap):\n",
    "    global pos_x, pos_y\n",
    "    astromap = astromap.split('\\n')\n",
    "    astromap.reverse()\n",
    "    print(astromap)\n",
    "    for n, linea in enumerate(astromap):\n",
    "        if 'X' in linea:\n",
    "            pos_y = n\n",
    "        for i, elem in enumerate(linea):\n",
    "            if elem == 'X':\n",
    "                pos_x = i\n",
    "    return [pos_x, pos_y]"
   ]
  },
  {
   "cell_type": "code",
   "execution_count": 193,
   "metadata": {
    "tags": []
   },
   "outputs": [],
   "source": [
    "def find_spaceship(astromap):\n",
    "    astromap = astromap.split('\\n')\n",
    "    astromap.reverse()\n",
    "    \n",
    "    for n, linea in enumerate(astromap):\n",
    "        if 'X' in linea:\n",
    "            pos_y = n\n",
    "\n",
    "        for i, elem in enumerate(linea):\n",
    "            if elem == 'X':\n",
    "                pos_x = i\n",
    "\n",
    "    return [pos_x, pos_y]\n",
    "\n",
    "    "
   ]
  },
  {
   "cell_type": "code",
   "execution_count": 195,
   "metadata": {
    "tags": []
   },
   "outputs": [
    {
     "output_type": "execute_result",
     "data": {
      "text/plain": "'No hay estrellas'"
     },
     "metadata": {},
     "execution_count": 195
    }
   ],
   "source": [
    "find_spaceship(\".......\\nX.......\")"
   ]
  },
  {
   "cell_type": "code",
   "execution_count": null,
   "metadata": {},
   "outputs": [],
   "source": [
    "if pos_x and pos_y else 'Spaceship lost forever.'"
   ]
  },
  {
   "cell_type": "code",
   "execution_count": null,
   "metadata": {},
   "outputs": [],
   "source": [
    "ejemplo = ['.X', '..']\n",
    "for i, elem in enumerate(ejemplo):\n",
    "        if elem == 'X':\n",
    "            pos_x = i"
   ]
  },
  {
   "cell_type": "code",
   "execution_count": 108,
   "metadata": {
    "tags": []
   },
   "outputs": [
    {
     "output_type": "stream",
     "name": "stdout",
     "text": "2\n"
    }
   ],
   "source": [
    "x = ''\n",
    "y = '2'\n",
    "if x or y:\n",
    "    print(x+y)"
   ]
  },
  {
   "cell_type": "code",
   "execution_count": 94,
   "metadata": {},
   "outputs": [],
   "source": [
    "def find_spaceship3(astromap):\n",
    "    t = astromap.split('\\n')\n",
    "    t.reverse()\n",
    "    for n, linea in enumerate(t):\n",
    "        if 'X' in linea:\n",
    "            n\n",
    "    for i, elem in enumerate(linea):\n",
    "        if elem == 'X':\n",
    "            i\n",
    "    return [i, n]"
   ]
  },
  {
   "cell_type": "code",
   "execution_count": 95,
   "metadata": {},
   "outputs": [
    {
     "output_type": "execute_result",
     "data": {
      "text/plain": "[6, 1]"
     },
     "metadata": {},
     "execution_count": 95
    }
   ],
   "source": [
    "find_spaceship3(\".......\\nX.......\")"
   ]
  },
  {
   "cell_type": "markdown",
   "metadata": {},
   "source": [
    "------\n",
    "Dia 29/08/2020\n",
    "\n",
    "Directions reductions"
   ]
  },
  {
   "cell_type": "code",
   "execution_count": 176,
   "metadata": {},
   "outputs": [],
   "source": [
    "def dirReduc(arr):\n",
    "    dict = {\"NORTH\":\"SOUTH\",\"SOUTH\":\"NORTH\",\"EAST\":\"WEST\",\"WEST\":\"EAST\"}\n",
    "    res = []\n",
    "    for i in arr:\n",
    "        if res and dict[i] == res[-1]:\n",
    "            res.pop()\n",
    "        else:\n",
    "            res.append(i)\n",
    "    return res"
   ]
  },
  {
   "cell_type": "code",
   "execution_count": null,
   "metadata": {},
   "outputs": [],
   "source": [
    "# Otra forma\n",
    "def dirReduc(arr):\n",
    "    opp = {\"NORTH\" : \"SOUTH\",\n",
    "           \"SOUTH\" : \"NORTH\",\n",
    "           \"WEST\" : \"EAST\",\n",
    "           \"EAST\" : \"WEST\"}\n",
    "    stack = []\n",
    "    for a in arr:\n",
    "        if len(stack) == 0 or stack[-1] != opp[a]:\n",
    "            stack.append(a)\n",
    "        else:\n",
    "            stack.pop()\n",
    "    return stack"
   ]
  },
  {
   "cell_type": "code",
   "execution_count": null,
   "metadata": {},
   "outputs": [],
   "source": [
    "# Otra forma\n",
    "def dirReduc(arr):\n",
    "    pointless=[{\"NORTH\",\"SOUTH\"},{\"EAST\",\"WEST\"}]\n",
    "    for i in range(0,len(arr)-1):\n",
    "        if {arr[i],arr[i+1]} in pointless:\n",
    "            del arr[i:i+2]\n",
    "            return dirReduc(arr)\n",
    "    return arr"
   ]
  },
  {
   "cell_type": "markdown",
   "metadata": {},
   "source": [
    "------\n",
    "Dia 30/08/2020\n",
    "\n",
    "Pete, the baker"
   ]
  },
  {
   "cell_type": "code",
   "execution_count": 187,
   "metadata": {},
   "outputs": [],
   "source": [
    "def cakes(recipe, available):\n",
    "    result=9999\n",
    "    for i in recipe:\n",
    "        if i in available:\n",
    "            if result > available[i] // recipe[i]:\n",
    "                result=available[i] // recipe[i]\n",
    "        else:\n",
    "            return 0\n",
    "    return result"
   ]
  },
  {
   "cell_type": "code",
   "execution_count": 188,
   "metadata": {
    "tags": []
   },
   "outputs": [
    {
     "output_type": "stream",
     "name": "stdout",
     "text": "flour\nsugar\neggs\n"
    },
    {
     "output_type": "execute_result",
     "data": {
      "text/plain": "2"
     },
     "metadata": {},
     "execution_count": 188
    }
   ],
   "source": [
    "recipe = {\"flour\": 500, \"sugar\": 200, \"eggs\": 1}\n",
    "available = {\"flour\": 1200, \"sugar\": 1200, \"eggs\": 5, \"milk\": 200}\n",
    "cakes(recipe, available)"
   ]
  },
  {
   "cell_type": "code",
   "execution_count": null,
   "metadata": {},
   "outputs": [],
   "source": [
    "# Otra solución\n",
    "def cakes(recipe, available):\n",
    "    ''' Take each ingredient from the recipe, see if it is in the available ones\n",
    "        and calculate how many full cakes you can make with it.\n",
    "        If an ingredient is missing, we can't bake a cake. Otherwise we have to\n",
    "        find the lowest possible amount of cakes.'''\n",
    "    return min([available[i]//recipe[i] if i in available else 0 for i in recipe])"
   ]
  },
  {
   "cell_type": "code",
   "execution_count": null,
   "metadata": {},
   "outputs": [],
   "source": []
  }
 ],
 "metadata": {
  "language_info": {
   "name": "python",
   "codemirror_mode": {
    "name": "ipython",
    "version": 3
   },
   "version": "3.8.3-final"
  },
  "orig_nbformat": 2,
  "file_extension": ".py",
  "mimetype": "text/x-python",
  "name": "python",
  "npconvert_exporter": "python",
  "pygments_lexer": "ipython3",
  "version": 3,
  "kernelspec": {
   "name": "python3",
   "display_name": "Python 3"
  }
 },
 "nbformat": 4,
 "nbformat_minor": 2
}