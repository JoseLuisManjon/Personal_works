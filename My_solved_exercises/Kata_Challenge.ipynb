{
 "cells": [
  {
   "cell_type": "markdown",
   "metadata": {},
   "source": [
    "### Reto Kata de la website: Codewars\n",
    "\n",
    "Hay que hacer una kata por día entre el 3 de Agosto y el 31, debiendo realizar mas del 90% de las Katas\n",
    "\n",
    "\n",
    "---------\n",
    "\n",
    "day,url,id_kata,id_name\n",
    "\n",
    "3/8/2020,https://www.codewars.com/kata/50654ddff44f800200000004,50654ddff44f800200000004,Multiply\n",
    "4/8/2020,https://www.codewars.com/kata/582cb0224e56e068d800003c,582cb0224e56e068d800003c,Keep Hydrated!\n",
    "5/8/2020,https://www.codewars.com/kata/57eaeb9578748ff92a000009,57eaeb9578748ff92a000009,Sum Mixed Array\n",
    "6/8/2020,https://www.codewars.com/kata/54d1c59aba326343c80000e7,54d1c59aba326343c80000e7,Incorrect division method\n",
    "7/8/2020,https://www.codewars.com/kata/53da3dbb4a5168369a0000fe,53da3dbb4a5168369a0000fe,Even or Odd\n",
    "8/8/2020,https://www.codewars.com/kata/56bc28ad5bdaeb48760009b0,56bc28ad5bdaeb48760009b0,Remove First and Last Character\n",
    "9/8/2020,https://www.codewars.com/kata/55a2d7ebe362935a210000b2,55a2d7ebe362935a210000b2,Find the smallest integer in the array\n",
    "\n",
    "10/8/2020,https://www.codewars.com/kata/5506b230a11c0aeab3000c1f,5506b230a11c0aeab3000c1f,Deodorant Evaporator\n",
    "11/8/2020,https://www.codewars.com/kata/59377c53e66267c8f6000027,59377c53e66267c8f6000027,Alphabet war\n",
    "12/8/2020,https://www.codewars.com/kata/5ae7e3f068e6445bc8000046,5ae7e3f068e6445bc8000046,See You Next Happy Year \n",
    "13/8/2020,https://www.codewars.com/kata/5e2596a9ad937f002e510435,5e2596a9ad937f002e510435,Pandemia 🌡️\n",
    "14/8/2020,https://www.codewars.com/kata/55b95c76e08bd5eef100001e,55b95c76e08bd5eef100001e,Counting in the  Amazon\n",
    "15/8/2020,https://www.codewars.com/kata/5ab7a736edbcfc8e62000007,5ab7a736edbcfc8e62000007,SQL with Sailor Moon: Thinking about JOINs...\n",
    "\n",
    "16/8/2020,https://www.codewars.com/kata/5660aa3d5e011dfd6e000063,5660aa3d5e011dfd6e000063,80's Kids #2: Help ALF Find His Spaceship\n",
    "\n",
    "17/8/2020,https://www.codewars.com/kata/54ff3102c1bad923760001f3,54ff3102c1bad923760001f3,Vowel Count\n",
    "18/8/2020,https://www.codewars.com/kata/5667e8f4e3f572a8f2000039,5667e8f4e3f572a8f2000039,Mumbling\n",
    "19/8/2020,https://www.codewars.com/kata/56747fd5cb988479af000028,56747fd5cb988479af000028,Get the Middle Character\n",
    "20/8/2020,https://www.codewars.com/kata/554b4ac871d6813a03000035,554b4ac871d6813a03000035,Highest and Lowest\n",
    "21/8/2020,https://www.codewars.com/kata/5abcf0f930488ff1a6000b66,5abcf0f930488ff1a6000b66,SQL with Harry Potter: Sorting Hat Comparators\n",
    "\n",
    "22/8/2020,https://www.codewars.com/kata/5d4c6809089c6e5031f189ed,5d4c6809089c6e5031f189ed,Computer problem series #2: Torrent download\n",
    "\n",
    "23/8/2020,https://www.codewars.com/kata/54b724efac3d5402db00065e,54b724efac3d5402db00065e,Decode the Morse code \n",
    "24/8/2020,https://www.codewars.com/kata/57b06f90e298a7b53d000a86,57b06f90e298a7b53d000a86,The Supermarket Queue\n",
    "25/8/2020,https://www.codewars.com/kata/576757b1df89ecf5bd00073b,576757b1df89ecf5bd00073b,Build Tower\n",
    "26/8/2020,https://www.codewars.com/kata/583203e6eb35d7980400002a,583203e6eb35d7980400002a,Count the smiley faces!\n",
    "27/8/2020,https://www.codewars.com/kata/598106cb34e205e074000031,598106cb34e205e074000031,The Deaf Rats of Hamelin\n",
    "28/8/2020,https://www.codewars.com/kata/5503013e34137eeeaa001648,5503013e34137eeeaa001648,Give me a Diamond\n",
    "29/8/2020,https://www.codewars.com/kata/550f22f4d758534c1100025a,550f22f4d758534c1100025a,Directions Reduction\n",
    "30/8/2020,https://www.codewars.com/kata/525c65e51bf619685c000059,525c65e51bf619685c000059,\"Pete, the baker\"\n",
    "\n",
    "\n",
    "---------\n",
    "\n"
   ]
  },
  {
   "cell_type": "markdown",
   "metadata": {},
   "source": [
    "----------\n",
    "Dia 05/08/2020\n"
   ]
  },
  {
   "cell_type": "code",
   "execution_count": null,
   "metadata": {},
   "outputs": [],
   "source": [
    "# DIA 5/08/2020\n",
    "def sum_mix(arr):\n",
    "    sum = 0  \n",
    "    for x in arr:\n",
    "        if type(x) == str:\n",
    "            x = int(x)\n",
    "            sum = sum + x\n",
    "        else:\n",
    "            sum = sum + x\n",
    "\n",
    "    return sum\n",
    "# Ahora compruebo que funcione\n",
    "texto = '23654'\n",
    "print(sum_mix(texto))"
   ]
  },
  {
   "cell_type": "code",
   "execution_count": 3,
   "metadata": {
    "tags": []
   },
   "outputs": [
    {
     "output_type": "stream",
     "name": "stdout",
     "text": "25\n"
    }
   ],
   "source": [
    "# Otras soluciones posibles.\n",
    "def sum_mix(arr):\n",
    "    return sum(map(int, arr))\n",
    "\n",
    "texto = '236545'\n",
    "print(sum_mix(texto))"
   ]
  },
  {
   "cell_type": "code",
   "execution_count": 4,
   "metadata": {
    "tags": []
   },
   "outputs": [
    {
     "output_type": "stream",
     "name": "stdout",
     "text": "25\n"
    }
   ],
   "source": [
    "def sum_mix(arr):\n",
    "    return sum([int(i) for i in arr])\n",
    "texto = '236545'\n",
    "print(sum_mix(texto))"
   ]
  },
  {
   "cell_type": "code",
   "execution_count": 5,
   "metadata": {},
   "outputs": [
    {
     "output_type": "execute_result",
     "data": {
      "text/plain": "4"
     },
     "metadata": {},
     "execution_count": 5
    }
   ],
   "source": [
    "24//5"
   ]
  },
  {
   "cell_type": "markdown",
   "metadata": {},
   "source": [
    "----------\n",
    "Dia 06/08/2020\n"
   ]
  },
  {
   "cell_type": "code",
   "execution_count": 8,
   "metadata": {
    "tags": []
   },
   "outputs": [
    {
     "output_type": "stream",
     "name": "stdout",
     "text": "4.666666666666667\n"
    }
   ],
   "source": [
    "def divide_numbers(x,y):\n",
    "    return x/y\n",
    "# Comprobación\n",
    "print(divide_numbers(14,3))"
   ]
  },
  {
   "cell_type": "markdown",
   "metadata": {},
   "source": [
    "----------\n",
    "Dia 07/08/2020\n"
   ]
  },
  {
   "cell_type": "code",
   "execution_count": 21,
   "metadata": {
    "tags": []
   },
   "outputs": [
    {
     "output_type": "stream",
     "name": "stdout",
     "text": "El numero es impar\nNone\n"
    }
   ],
   "source": [
    "def even_or_odd(number):\n",
    "    if int(number)%2 == 0:\n",
    "        return 'Even'\n",
    "    else: \n",
    "        return 'Odd'\n",
    "\n",
    "print(even_or_odd(7))"
   ]
  },
  {
   "cell_type": "code",
   "execution_count": 24,
   "metadata": {
    "tags": []
   },
   "outputs": [],
   "source": [
    "# Otra solución.\n",
    "def even_or_odd2(number):\n",
    "    return 'Even' if number % 2 == 0 else 'Odd'"
   ]
  },
  {
   "cell_type": "markdown",
   "metadata": {},
   "source": [
    "----------\n",
    "Dia 08/08/2020\n",
    "\n",
    "It's pretty straightforward. Your goal is to create a function that removes the first and last characters of a string. You're given one parameter, the original string. You don't have to worry with strings with less than two characters."
   ]
  },
  {
   "cell_type": "code",
   "execution_count": null,
   "metadata": {},
   "outputs": [],
   "source": []
  },
  {
   "cell_type": "markdown",
   "metadata": {},
   "source": [
    "----------\n",
    "Dia 10/08/2020"
   ]
  },
  {
   "cell_type": "code",
   "execution_count": 1,
   "metadata": {
    "tags": []
   },
   "outputs": [
    {
     "output_type": "stream",
     "name": "stdout",
     "text": "45\n"
    }
   ],
   "source": [
    "def evaporator(content, evap_per_day, threshold):\n",
    "    i = 0\n",
    "    curr = content \n",
    "    while curr >= content * threshold/100.0:\n",
    "        curr = curr * (1 - evap_per_day/100.0)\n",
    "        i += 1\n",
    "    return i\n",
    "\n",
    "print(evaporator(100, 7, 4))"
   ]
  },
  {
   "cell_type": "markdown",
   "metadata": {},
   "source": [
    "----------\n",
    "Dia 11/08/2020\n",
    "\n",
    "Write a function that accepts fight string consists of only small letters and return who wins the fight. When the left side wins return Left side wins!, when the right side wins return Right side wins!, in other case return Let's fight again!.\n",
    "\n",
    "The left side letters and their power:\n",
    " w - 4; p - 3; b - 2; s - 1;\n",
    "The right side letters and their power:\n",
    " m - 4; q - 3; d - 2;  z - 1\n",
    " \n",
    " \n",
    " \n",
    " \n",
    " \n",
    " "
   ]
  },
  {
   "cell_type": "code",
   "execution_count": null,
   "metadata": {},
   "outputs": [],
   "source": [
    "def alphabet_war1(fight)\n",
    "    left = {'w':4, 'p':3, 'b':2, 's':1}\n",
    "    right = {'m':4, 'q':3, 'd':2, 'z':1}\n",
    "    left_side = 0\n",
    "    right_side = 0\n",
    "    for elem in fight:\n",
    "        if elem in left.keys():\n",
    "            left_side = left_side + elem.values()\n",
    "        if elem in right.keys():\n",
    "            right_side = right_side + elem.values()\n",
    "    if left_side > right_side:\n",
    "        print('left side wins!')\n",
    "    elif left_side < right_side:\n",
    "        print('Right side wins!')\n",
    "    else:\n",
    "        print('Lets fight again')\n",
    "   \n",
    "    \n",
    "\n",
    "        \n"
   ]
  },
  {
   "cell_type": "code",
   "execution_count": 56,
   "metadata": {},
   "outputs": [],
   "source": [
    "def alphabet_war(fight):\n",
    "    left = {'w':4, 'p':3, 'b':2, 's':1}\n",
    "    right = {'m':4, 'q':3, 'd':2, 'z':1}\n",
    "    left_side = 0\n",
    "    right_side = 0\n",
    "    for elem in fight:\n",
    "        if elem in left.keys():\n",
    "            left_side = left_side + left[elem]\n",
    "        elif elem in right.keys():\n",
    "            right_side = right_side + right[elem]\n",
    "   \n",
    "    return 'left side wins!' if left_side >right_side  else ('right side wins!'  if left_side < right_side  else 'Lets fight again!')"
   ]
  },
  {
   "cell_type": "code",
   "execution_count": null,
   "metadata": {},
   "outputs": [],
   "source": [
    "# Otra solucion\n",
    "def alphabet_war1(fight):\n",
    "  left = {'w':4,'p':3,'b':2,'s':1}\n",
    "  rigth = {'m':4,'q':3,'d':2,'z':1}\n",
    "  leftp = 0\n",
    "  rigthp = 0\n",
    "  for e in fight:\n",
    "    leftp += left.get(e,0)\n",
    "    rigthp += rigth.get(e,0)\n",
    "  if leftp > rigthp:\n",
    "    return'Left side wins!'\n",
    "  elif rigthp > leftp:\n",
    "    return 'Right side wins!'\n",
    "  else:\n",
    "    return \"Let's fight again!\""
   ]
  },
  {
   "cell_type": "code",
   "execution_count": null,
   "metadata": {},
   "outputs": [],
   "source": [
    "# Otra soluciòn\n",
    "def alphabet_war2(fight):\n",
    "    d = {'w':4,'p':3,'b':2,'s':1,\n",
    "         'm':-4,'q':-3,'d':-2,'z':-1}\n",
    "    r = sum(d[c] for c in fight if c in d)\n",
    "    \n",
    "    return {r==0:\"Let's fight again!\",\n",
    "            r>0:\"Left side wins!\",\n",
    "            r<0:\"Right side wins!\"\n",
    "            }[True]"
   ]
  },
  {
   "cell_type": "markdown",
   "metadata": {},
   "source": [
    "----------\n",
    "Dia 12/08/2020"
   ]
  },
  {
   "cell_type": "code",
   "execution_count": 2,
   "metadata": {},
   "outputs": [],
   "source": [
    "def next_happy_year(year):\n",
    "    year += 1\n",
    "    while len(set(str(year))) != len(str(year)):\n",
    "        year += 1\n",
    "    return year"
   ]
  },
  {
   "cell_type": "code",
   "execution_count": 5,
   "metadata": {},
   "outputs": [
    {
     "output_type": "execute_result",
     "data": {
      "text/plain": "2013"
     },
     "metadata": {},
     "execution_count": 5
    }
   ],
   "source": [
    "next_happy_year(1987)"
   ]
  },
  {
   "cell_type": "code",
   "execution_count": null,
   "metadata": {},
   "outputs": [],
   "source": [
    "# Otra forma\n",
    "def next_happy_year1(year):\n",
    "    for n in range(year+1, 9999):\n",
    "        if len(set(str(n))) == 4:\n",
    "            return n"
   ]
  },
  {
   "cell_type": "code",
   "execution_count": null,
   "metadata": {},
   "outputs": [],
   "source": [
    "# Otra forma\n",
    "def next_happy_year2(year):\n",
    "    while True:\n",
    "        year+=1\n",
    "        if len(str(year)) == len(set(str(year))):\n",
    "            return year"
   ]
  },
  {
   "cell_type": "code",
   "execution_count": null,
   "metadata": {},
   "outputs": [],
   "source": [
    "#Otra manera de resolverlo\n",
    "def next_happy_year3(year):\n",
    "    return year + 1 if len(set(str(year + 1))) == 4 else next_happy_year(year + 1)"
   ]
  },
  {
   "cell_type": "code",
   "execution_count": 6,
   "metadata": {},
   "outputs": [
    {
     "output_type": "execute_result",
     "data": {
      "text/plain": "2013"
     },
     "metadata": {},
     "execution_count": 6
    }
   ],
   "source": [
    "next_happy_year(1987)"
   ]
  },
  {
   "cell_type": "markdown",
   "metadata": {},
   "source": [
    "----------\n",
    "Dia 13/08/2020\n",
    "\n",
    "Pandemia 🌡️ \n",
    "\n"
   ]
  },
  {
   "cell_type": "code",
   "execution_count": 44,
   "metadata": {},
   "outputs": [],
   "source": [
    "def infected(s):\n",
    "    continents = s.split('X')\n",
    "    infect = 0\n",
    "    uninfect = 0\n",
    "    for i, elem in enumerate (continents):\n",
    "        if '1' in elem:\n",
    "            infect = infect + len(elem)\n",
    "        elif '0' in elem:\n",
    "            uninfect = uninfect + len(elem)\n",
    "    if  infect + uninfect == 0:\n",
    "        return 0\n",
    "\n",
    "    return (100*infect / (infect + uninfect))"
   ]
  },
  {
   "cell_type": "code",
   "execution_count": 47,
   "metadata": {},
   "outputs": [],
   "source": [
    "# Otra forma\n",
    "def infected1(s):\n",
    "    infected = 0\n",
    "    total = 0 \n",
    "    for land in s.split('X'):\n",
    "        if '1' in land:\n",
    "            infected += len(land)\n",
    "        total += len(land)\n",
    "    return infected / total * 100 if total > 0 else 0"
   ]
  },
  {
   "cell_type": "code",
   "execution_count": null,
   "metadata": {},
   "outputs": [],
   "source": [
    "# Otra forma\n",
    "def infected2(s):\n",
    "    total = len(s)-s.count('X')\n",
    "    infected = sum([len(i) for i in s.split('X') if '1' in i])\n",
    "    return infected/total*100 if total > 0 else infected"
   ]
  },
  {
   "cell_type": "markdown",
   "metadata": {},
   "source": [
    "------\n",
    "Dia 14/08/2020\n",
    "\n",
    "The Arara are an isolated tribe found in the Amazon who count in pairs. For example one to eight is as follows:\n",
    "\n",
    "1 = anane;\n",
    "2 = adak;\n",
    "3 = adak anane;\n",
    "4 = adak adak:\n",
    "5 = adak adak anane;\n",
    "6 = adak adak adak;\n",
    "7 = adak adak adak anane;\n",
    "8 = adak adak adak adak;\n",
    "\n",
    "Take a given number and return the Arara's equivalent.\n"
   ]
  },
  {
   "cell_type": "code",
   "execution_count": 130,
   "metadata": {
    "tags": []
   },
   "outputs": [],
   "source": [
    "def count_arara(n):\n",
    "    a = 'adak '\n",
    "    b = 'anane'\n",
    "    if n % 2 == 0:\n",
    "        if int(n/2) == 1:\n",
    "            return a.rstrip()\n",
    "        else: \n",
    "            solution= (a + \"\")*(int(n/2))\n",
    "            return solution.rstrip()\n",
    "    else:\n",
    "        return a*int((n-1)/2) + b"
   ]
  },
  {
   "cell_type": "code",
   "execution_count": 144,
   "metadata": {
    "tags": []
   },
   "outputs": [],
   "source": [
    "#Otra solucion\n",
    "def count_arara1(n):\n",
    "    return str.rstrip(''.join([\"adak \" * int(n / 2), \"anane\" * (n % 2)]))"
   ]
  },
  {
   "cell_type": "code",
   "execution_count": 41,
   "metadata": {},
   "outputs": [],
   "source": [
    "#Otra solucion\n",
    "def count_arara2(n):\n",
    "    return ' '.join(['adak'] * int(n / 2) + ['anane'] * (n % 2))"
   ]
  },
  {
   "cell_type": "code",
   "execution_count": 42,
   "metadata": {},
   "outputs": [
    {
     "output_type": "execute_result",
     "data": {
      "text/plain": "'adak adak anane'"
     },
     "metadata": {},
     "execution_count": 42
    }
   ],
   "source": [
    "count_arara2(5)"
   ]
  },
  {
   "cell_type": "markdown",
   "metadata": {},
   "source": [
    "------\n",
    "Dia 15/08/2020\n",
    "Es  un ejercico sobre SQL"
   ]
  },
  {
   "cell_type": "code",
   "execution_count": null,
   "metadata": {},
   "outputs": [],
   "source": [
    "CREATE TABLE Sailor_Moon (\n",
    "\n",
    "id INT NOT NULL AUTO_INCREMENT PRIMARY KEY (id),\n",
    "\n",
    "sailor_senshi VARCHAR(20) NOT NULL,\n",
    "\n",
    "real_name VARCHAR(20) NOT NULL,\n",
    "\n",
    "cat VARCHAR(20) NULL,\n",
    "\n",
    "school  VARCHAR(20) NULL);\n",
    "\n",
    "INSERT INTO Sailorsenshi (sailor_senshi, real_name, cat, school)\n",
    "\n",
    "VALUES ('Sailor Moon','Usagi Tsukino' , 'Importante', 'Cualquiera');\n",
    "VALUES ('Sailor Mercuty','Ami Muzano' , Null, 'Cual');\n",
    "VALUES ('Sailor Mars','Rei Hino', 'Invs', 'Oyto');\n",
    "VALUES ('Sailor Jupiter','Makoto Kino' , Null, 'Rdyr');\n",
    "VALUES ('Sailor Venus','Minako Aino' , 'Importan', 'Oeste');\n",
    "VALUES ('Sailorchibu Moon','Chibi Usa' , 'Imtante', 'Este');\n",
    "VALUES ('Sailor Uranus','Haruka Tenō' , 'Impant', 'Meridional');\n",
    "VALUES ('Sailor Pluto','Setsuna Meiō' , 'Iornte', 'Anterior');\n",
    "VALUES ('Sailor Neptpune','Michiru Kaiō ' , 'Impon', 'Alto');\n",
    "VALUES ('Sailor Saturn','Hotaru Tomoe' , 'Inte', Null);\n",
    "\n",
    "# ESTA ES MI SOLUCIÓN Y NO FUNCIONA EN CODEWARS"
   ]
  },
  {
   "cell_type": "code",
   "execution_count": null,
   "metadata": {},
   "outputs": [],
   "source": [
    "#Solucion vista en internet\n",
    "select s.senshi_name as sailor_senshi,\n",
    "       s.real_name_jpn as real_name,\n",
    "       c.name as cat,\n",
    "       sc.school\n",
    "from sailorsenshi s left join cats c on s.cat_id = c.id\n",
    "left join schools sc on s.school_id = sc.id"
   ]
  },
  {
   "cell_type": "markdown",
   "metadata": {},
   "source": [
    "\n",
    "SELECT Results\n",
    "sailor_senshi\treal_name\tcat\tschool\n",
    "Sailor Moon\tUsagi Tsukino\tLuna\tJuuban Municipal Junior High School\n",
    "Sailor Mercury\tAmi Mizuno\tLuna\tJuuban Municipal Junior High School\n",
    "Sailor Mars\tRei Hino\tLuna\tTA Academy for Girls\n",
    "Sailor Jupiter\tMakoto Kino\tLuna\tJuuban Municipal Junior High School\n",
    "Sailor Venus\tMinako Aino\tArtemis\tJuuban Municipal Junior High School\n",
    "Tuxedo Mask\tMamoru Chiba\t\tMoto Azabu High School\n",
    "Sailor Uranus\tHaruka Tenou\t\tInfinity Academy\n",
    "Sailor Neptune\tMichiru Kaiou\t\tInfinity Academy\n",
    "Sailor Saturn\tHotaru Tomoe\t\tInfinity Academy\n",
    "Sailor Pluto\tSetsuna Meiou\t\t"
   ]
  },
  {
   "cell_type": "markdown",
   "metadata": {},
   "source": [
    "------\n",
    "Dia 16/08/2020"
   ]
  },
  {
   "cell_type": "code",
   "execution_count": 4,
   "metadata": {},
   "outputs": [
    {
     "output_type": "error",
     "ename": "SyntaxError",
     "evalue": "invalid syntax (<ipython-input-4-8f318daceadb>, line 1)",
     "traceback": [
      "\u001b[1;36m  File \u001b[1;32m\"<ipython-input-4-8f318daceadb>\"\u001b[1;36m, line \u001b[1;32m1\u001b[0m\n\u001b[1;33m    const findSpaceship = (map) => {\u001b[0m\n\u001b[1;37m          ^\u001b[0m\n\u001b[1;31mSyntaxError\u001b[0m\u001b[1;31m:\u001b[0m invalid syntax\n"
     ]
    }
   ],
   "source": [
    "const findSpaceship = (map) => {\n",
    "  \n",
    "  if(!map || map.indexOf('X') === -1) return 'Spaceship lost forever.';\n",
    "  \n",
    "  const mapAsArray = map.split('\\n');\n",
    "  \n",
    "  for( let i = mapAsArray.length-1, yLocation = 0; i >= 0; i--){\n",
    "    \n",
    "    const xLocation = mapAsArray[i].indexOf('X');\n",
    "    \n",
    "    if( xLocation !== -1 ) return [xLocation, yLocation];\n",
    "    yLocation++;\n",
    "  }  "
   ]
  },
  {
   "cell_type": "markdown",
   "metadata": {},
   "source": [
    "------\n",
    "Dia 17/08/2020\n",
    "\n",
    "Return the number (count) of vowels in the given string.\n",
    "\n",
    "We will consider a, e, i, o, u as vowels for this Kata (but not y).\n",
    "\n",
    "The input string will only consist of lower case letters and/or spaces."
   ]
  },
  {
   "cell_type": "code",
   "execution_count": 7,
   "metadata": {
    "tags": []
   },
   "outputs": [
    {
     "output_type": "stream",
     "name": "stdout",
     "text": "0\n"
    }
   ],
   "source": [
    "def is_A_student(score):\n",
    "    return score == 'a'\n",
    "\n",
    "over_75 = len(list(filter(is_A_student, scores)))\n",
    "\n",
    "print(over_75)"
   ]
  },
  {
   "cell_type": "code",
   "execution_count": null,
   "metadata": {},
   "outputs": [],
   "source": [
    "score = 'estamos todos muy murcielago'"
   ]
  },
  {
   "cell_type": "code",
   "execution_count": 8,
   "metadata": {},
   "outputs": [],
   "source": [
    "def get_count(input_str):\n",
    "    vowels = 'aeiou'\n",
    "    num_vowels = len([c for c in input_str if c in vowels])\n",
    "    return num_vowels"
   ]
  },
  {
   "cell_type": "code",
   "execution_count": 14,
   "metadata": {},
   "outputs": [],
   "source": [
    "# Otra forma\n",
    "def getCount(input_str):\n",
    "    return sum(c in 'aeiou' for c in input_str)"
   ]
  },
  {
   "cell_type": "code",
   "execution_count": null,
   "metadata": {},
   "outputs": [],
   "source": [
    "def getCount1(inputStr):\n",
    "    list_vowels = ['a', 'e', 'i', 'o', 'u']\n",
    "    return sum([inputStr.count(vowel) for vowel in list_vowels])"
   ]
  },
  {
   "cell_type": "code",
   "execution_count": 16,
   "metadata": {},
   "outputs": [
    {
     "output_type": "execute_result",
     "data": {
      "text/plain": "6"
     },
     "metadata": {},
     "execution_count": 16
    }
   ],
   "source": [
    "getCount('murcielagoo')"
   ]
  },
  {
   "cell_type": "markdown",
   "metadata": {},
   "source": [
    "------\n",
    "Dia 18/08/2020\n",
    "\n",
    "This time no story, no theory. The examples below show you how to write function accum:\n",
    "\n",
    "Examples:\n",
    "\n",
    "accum(\"abcd\") -> \"A-Bb-Ccc-Dddd\"\n",
    "accum(\"RqaEzty\") -> \"R-Qq-Aaa-Eeee-Zzzzz-Tttttt-Yyyyyyy\"\n",
    "accum(\"cwAt\") -> \"C-Ww-Aaa-Tttt\"\n",
    "The parameter of accum is a string which includes only letters from a..z and A..Z."
   ]
  },
  {
   "cell_type": "code",
   "execution_count": 51,
   "metadata": {},
   "outputs": [],
   "source": [
    "def accum(s):\n",
    "    solution = ''\n",
    "    for i, elem in enumerate (s):\n",
    "        solution = solution + elem.upper()+((i)*elem).lower()+'-'\n",
    "    return solution[0:-1]"
   ]
  },
  {
   "cell_type": "code",
   "execution_count": 52,
   "metadata": {},
   "outputs": [
    {
     "output_type": "execute_result",
     "data": {
      "text/plain": "'T-Oo-Mmm-Aaaa-Ttttt-Eeeeee'"
     },
     "metadata": {},
     "execution_count": 52
    }
   ],
   "source": [
    "accum('tomate')"
   ]
  },
  {
   "cell_type": "code",
   "execution_count": 53,
   "metadata": {
    "tags": []
   },
   "outputs": [],
   "source": [
    "# Otra solución\n",
    "def accum1(s):\n",
    "    return '-'.join(c.upper() + c.lower() * i for i, c in enumerate(s))"
   ]
  },
  {
   "cell_type": "code",
   "execution_count": 63,
   "metadata": {},
   "outputs": [],
   "source": [
    "# Otra solución\n",
    "def accum2(s):\n",
    "    return '-'.join((a * i).title() for i, a in enumerate(s,1)) #El 1 significa que la i del enumerate empieze por 1 en lugar del cero"
   ]
  },
  {
   "cell_type": "markdown",
   "metadata": {},
   "source": [
    "------\n",
    "Dia 19/08/2020\n",
    "\n",
    "You are going to be given a word. Your job is to return the middle character of the word. If the word's length is odd, return the middle character. If the word's length is even, return the middle 2 characters."
   ]
  },
  {
   "cell_type": "code",
   "execution_count": 78,
   "metadata": {
    "tags": []
   },
   "outputs": [
    {
     "output_type": "stream",
     "name": "stdout",
     "text": "['1', '2', '3', '4', '5', '6', '7']\n4\n"
    }
   ],
   "source": [
    "def get_middle(txt):\n",
    "   return txt[(len(txt)-1)//2:(len(txt)+2)//2]\n"
   ]
  },
  {
   "cell_type": "code",
   "execution_count": 100,
   "metadata": {
    "tags": []
   },
   "outputs": [],
   "source": [
    "#Otra solucion\n",
    "def get_middle1(s):\n",
    "    i = (len(s) - 1) // 2\n",
    "    return s[i:-i] or s # Al ser la posicion central sera el elemento i si empiezo por la izquierda pero tb el elemento -1 si empiezo por la derecha de la cadena. En el caso de cadena de longitud par me dará los dos elementos centrales"
   ]
  },
  {
   "cell_type": "code",
   "execution_count": 102,
   "metadata": {},
   "outputs": [
    {
     "output_type": "execute_result",
     "data": {
      "text/plain": "'45'"
     },
     "metadata": {},
     "execution_count": 102
    }
   ],
   "source": [
    "get_middle1('12345678')"
   ]
  },
  {
   "cell_type": "markdown",
   "metadata": {},
   "source": [
    "\n",
    "------\n",
    "Dia 20/08/2020\n",
    "\n",
    "In this little assignment you are given a string of space separated numbers, and have to return the highest and lowest number.\n",
    "\n",
    "Example:\n",
    "\n",
    "high_and_low(\"1 2 3 4 5\")  # return \"5 1\"\n",
    "high_and_low(\"1 2 -3 4 5\") # return \"5 -3\"\n",
    "high_and_low(\"1 9 3 4 -5\") # return \"9 -5\"\n",
    "\n",
    "All numbers are valid Int32, no need to validate them.\n",
    "There will always be at least one number in the input string.\n",
    "Output string must be two numbers separated by a single space, and highest number is first."
   ]
  },
  {
   "cell_type": "code",
   "execution_count": 165,
   "metadata": {
    "tags": []
   },
   "outputs": [],
   "source": [
    "def high_and_low(numbers):\n",
    "    # split string by space character\n",
    "    numbers = numbers.split(\" \")\n",
    "    # convert string array to int, also making list from them\n",
    "    numbers = list(map(int, numbers))\n",
    "    return str(max(numbers)) + \" \" + str(min(numbers))\n",
    "\n"
   ]
  },
  {
   "cell_type": "code",
   "execution_count": 168,
   "metadata": {
    "tags": []
   },
   "outputs": [
    {
     "output_type": "execute_result",
     "data": {
      "text/plain": "'28 -4'"
     },
     "metadata": {},
     "execution_count": 168
    }
   ],
   "source": [
    "high_and_low(\"1 2 10 -4 5 28\")"
   ]
  },
  {
   "cell_type": "code",
   "execution_count": null,
   "metadata": {},
   "outputs": [],
   "source": [
    "# Otra forma \n",
    "def high_and_low1(numbers):\n",
    "    numbers = [int(x) for x in numbers.split(\" \")]\n",
    "    return str(max(numbers)) + \" \" + str(min(numbers))"
   ]
  },
  {
   "cell_type": "markdown",
   "metadata": {},
   "source": [
    "------\n",
    "Dia 21/08/2020\n",
    "\n",
    "There is truly no magic in the world; the Hogwarts Sorting Hat is SQL-based, its decision-making powers are common operators and prospectIve students are merely data - names, and two columns of qualities.\n",
    "\n",
    "students\n",
    "\n",
    "id\n",
    "name\n",
    "quality1\n",
    "quality2\n",
    "Slytherin are being quite strict this year and will only take students who are evil AND cunning.\n",
    "Gryffindor will take students who are brave but only if their second quality is NOT evil.\n",
    "Ravenclaw accepts students who are studious OR intelligent.\n",
    "Hufflepuff will simply take those who have the quality hufflepuff.\n",
    "\n",
    "(don't worry, for simplicity's sake 'brave' and 'studious' will only appear in quality1, and 'cunning' and 'intelligent' will only appear in quality2.)\n",
    "\n",
    "Return the id, name, quality1 and quality2 of all the students who'll be accepted, ordered by ascending id."
   ]
  },
  {
   "cell_type": "code",
   "execution_count": null,
   "metadata": {},
   "outputs": [],
   "source": [
    "# Es en SQL\n",
    "select id, name, quality1, quality2\n",
    "from students\n",
    "where ((quality1='evil' and quality2='cunning') or (quality1='brave' and quality2<>'evil') \n",
    "or (quality1='studious' or quality2='intelligent') \n",
    "or (quality1='hufflepuff' or quality2='hufflepuff'))\n",
    "group by id, name, quality1, quality2\n",
    "order by id"
   ]
  },
  {
   "cell_type": "code",
   "execution_count": null,
   "metadata": {},
   "outputs": [],
   "source": [
    "# Otra forma de resolverlo\n",
    "/* SELECT * FROM students\n",
    "WHERE quality1 = 'hufflepuff' OR quality2 = 'hufflepuff' \n",
    "OR quality1 = 'studious' OR quality2 = 'intelligent'\n",
    "OR (quality1 = 'evil' AND quality2 = 'cunning')\n",
    "OR (quality1 = 'brave' AND quality2 != 'evil') */\n",
    "\n",
    "SELECT * FROM students\n",
    "WHERE quality1 IN ( 'hufflepuff', 'studious') \n",
    "OR quality2 IN ( 'hufflepuff', 'intelligent') \n",
    "OR (quality1 = 'evil' AND quality2 = 'cunning')\n",
    "OR (quality1 = 'brave' AND quality2 != 'evil')"
   ]
  },
  {
   "cell_type": "markdown",
   "metadata": {},
   "source": [
    "------\n",
    "Dia 22/08/2020"
   ]
  },
  {
   "cell_type": "code",
   "execution_count": null,
   "metadata": {},
   "outputs": [],
   "source": []
  }
 ],
 "metadata": {
  "language_info": {
   "name": "python",
   "codemirror_mode": {
    "name": "ipython",
    "version": 3
   },
   "version": "3.8.3-final"
  },
  "orig_nbformat": 2,
  "file_extension": ".py",
  "mimetype": "text/x-python",
  "name": "python",
  "npconvert_exporter": "python",
  "pygments_lexer": "ipython3",
  "version": 3,
  "kernelspec": {
   "name": "python3",
   "display_name": "Python 3"
  }
 },
 "nbformat": 4,
 "nbformat_minor": 2
}