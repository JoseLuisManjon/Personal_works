{
 "cells": [
  {
   "cell_type": "markdown",
   "metadata": {},
   "source": [
    "### Reto Kata de la website: Codewars\n",
    "\n",
    "Hay que hacer una kata por día entre el 3 de Agosto y el 31, debiendo realizar mas del 90% de las Katas\n",
    "\n",
    "\n",
    "---------\n",
    "\n",
    "day,url,id_kata,id_name\n",
    "\n",
    "3/8/2020,https://www.codewars.com/kata/50654ddff44f800200000004,50654ddff44f800200000004,Multiply\n",
    "4/8/2020,https://www.codewars.com/kata/582cb0224e56e068d800003c,582cb0224e56e068d800003c,Keep Hydrated!\n",
    "5/8/2020,https://www.codewars.com/kata/57eaeb9578748ff92a000009,57eaeb9578748ff92a000009,Sum Mixed Array\n",
    "6/8/2020,https://www.codewars.com/kata/54d1c59aba326343c80000e7,54d1c59aba326343c80000e7,Incorrect division method\n",
    "7/8/2020,https://www.codewars.com/kata/53da3dbb4a5168369a0000fe,53da3dbb4a5168369a0000fe,Even or Odd\n",
    "8/8/2020,https://www.codewars.com/kata/56bc28ad5bdaeb48760009b0,56bc28ad5bdaeb48760009b0,Remove First and Last Character\n",
    "9/8/2020,https://www.codewars.com/kata/55a2d7ebe362935a210000b2,55a2d7ebe362935a210000b2,Find the smallest integer in the array\n",
    "\n",
    "10/8/2020,https://www.codewars.com/kata/5506b230a11c0aeab3000c1f,5506b230a11c0aeab3000c1f,Deodorant Evaporator\n",
    "11/8/2020,https://www.codewars.com/kata/59377c53e66267c8f6000027,59377c53e66267c8f6000027,Alphabet war\n",
    "12/8/2020,https://www.codewars.com/kata/5ae7e3f068e6445bc8000046,5ae7e3f068e6445bc8000046,See You Next Happy Year \n",
    "13/8/2020,https://www.codewars.com/kata/5e2596a9ad937f002e510435,5e2596a9ad937f002e510435,Pandemia 🌡️\n",
    "14/8/2020,https://www.codewars.com/kata/55b95c76e08bd5eef100001e,55b95c76e08bd5eef100001e,Counting in the  Amazon\n",
    "15/8/2020,https://www.codewars.com/kata/5ab7a736edbcfc8e62000007,5ab7a736edbcfc8e62000007,SQL with Sailor Moon: Thinking about JOINs...\n",
    "\n",
    "16/8/2020,https://www.codewars.com/kata/5660aa3d5e011dfd6e000063,5660aa3d5e011dfd6e000063,80's Kids #2: Help ALF Find His Spaceship\n",
    "\n",
    "17/8/2020,https://www.codewars.com/kata/54ff3102c1bad923760001f3,54ff3102c1bad923760001f3,Vowel Count\n",
    "18/8/2020,https://www.codewars.com/kata/5667e8f4e3f572a8f2000039,5667e8f4e3f572a8f2000039,Mumbling\n",
    "19/8/2020,https://www.codewars.com/kata/56747fd5cb988479af000028,56747fd5cb988479af000028,Get the Middle Character\n",
    "20/8/2020,https://www.codewars.com/kata/554b4ac871d6813a03000035,554b4ac871d6813a03000035,Highest and Lowest\n",
    "21/8/2020,https://www.codewars.com/kata/5abcf0f930488ff1a6000b66,5abcf0f930488ff1a6000b66,SQL with Harry Potter: Sorting Hat Comparators\n",
    "\n",
    "22/8/2020,https://www.codewars.com/kata/5d4c6809089c6e5031f189ed,5d4c6809089c6e5031f189ed,Computer problem series #2: Torrent download\n",
    "\n",
    "23/8/2020,https://www.codewars.com/kata/54b724efac3d5402db00065e,54b724efac3d5402db00065e,Decode the Morse code \n",
    "24/8/2020,https://www.codewars.com/kata/57b06f90e298a7b53d000a86,57b06f90e298a7b53d000a86,The Supermarket Queue\n",
    "25/8/2020,https://www.codewars.com/kata/576757b1df89ecf5bd00073b,576757b1df89ecf5bd00073b,Build Tower\n",
    "26/8/2020,https://www.codewars.com/kata/583203e6eb35d7980400002a,583203e6eb35d7980400002a,Count the smiley faces!\n",
    "27/8/2020,https://www.codewars.com/kata/598106cb34e205e074000031,598106cb34e205e074000031,The Deaf Rats of Hamelin\n",
    "28/8/2020,https://www.codewars.com/kata/5503013e34137eeeaa001648,5503013e34137eeeaa001648,Give me a Diamond\n",
    "29/8/2020,https://www.codewars.com/kata/550f22f4d758534c1100025a,550f22f4d758534c1100025a,Directions Reduction\n",
    "30/8/2020,https://www.codewars.com/kata/525c65e51bf619685c000059,525c65e51bf619685c000059,\"Pete, the baker\"\n",
    "\n",
    "\n",
    "---------\n",
    "\n"
   ]
  },
  {
   "cell_type": "markdown",
   "metadata": {},
   "source": [
    "----------\n",
    "Dia 05/08/2020\n"
   ]
  },
  {
   "cell_type": "code",
   "execution_count": null,
   "metadata": {},
   "outputs": [],
   "source": [
    "# DIA 5/08/2020\n",
    "def sum_mix(arr):\n",
    "    sum = 0\n",
    "    for x in arr:\n",
    "        if type(x) == str:\n",
    "            x = int(x)\n",
    "            sum = sum + x\n",
    "        else:\n",
    "            sum = sum + x\n",
    "\n",
    "    return sum\n",
    "# Ahora compruebo que funcione\n",
    "texto = '23654'\n",
    "print(sum_mix(texto))"
   ]
  },
  {
   "cell_type": "code",
   "execution_count": 3,
   "metadata": {
    "tags": []
   },
   "outputs": [
    {
     "output_type": "stream",
     "name": "stdout",
     "text": "25\n"
    }
   ],
   "source": [
    "# Otras soluciones posibles.\n",
    "def sum_mix(arr):\n",
    "    return sum(map(int, arr))\n",
    "\n",
    "texto = '236545'\n",
    "print(sum_mix(texto))"
   ]
  },
  {
   "cell_type": "code",
   "execution_count": 4,
   "metadata": {
    "tags": []
   },
   "outputs": [
    {
     "output_type": "stream",
     "name": "stdout",
     "text": "25\n"
    }
   ],
   "source": [
    "def sum_mix(arr):\n",
    "    return sum([int(i) for i in arr])\n",
    "texto = '236545'\n",
    "print(sum_mix(texto))"
   ]
  },
  {
   "cell_type": "markdown",
   "metadata": {},
   "source": [
    "----------\n",
    "Dia 06/08/2020"
   ]
  },
  {
   "cell_type": "markdown",
   "metadata": {},
   "source": [
    "----------\n",
    "Crear una función 'funcion_comparativa' que reciba un parámetro de entrada 'param1' y que muestre por pantalla 'Menor a 0' si 'param1' es menor a 0. En el caso en el que sea igual a 0, debe mostrar 'Igual a 0'. En el caso en el que sea mayor a 20 y menor que 70, debe mostrar 'Mayor a 20 y menor que 70' . Para cualquier otro caso, mostrar 'Demasiado grande'"
   ]
  },
  {
   "cell_type": "markdown",
   "metadata": {},
   "source": [
    "----------\n",
    "A partir de la lista de alumnos, mostrar las columnas de alumnos cuando haya más de 3 alumnos. "
   ]
  },
  {
   "cell_type": "markdown",
   "metadata": {},
   "source": [
    "----------\n",
    "### If, else, Bucle for, append, input, sort listas.\n",
    "\n",
    "#### Nueva celda por punto.\n",
    "----------\n",
    "- Crear una lista de listas con la altura de los alumnos (más o menos). Debe tener el mismo orden que la lista de listas de los alumnos. \n",
    "\n",
    "----------\n",
    "Crear una función 'funcion_altura_v1' que reciba un parámetro (que será la lista de alturas). La función debe:\n",
    "\n",
    "- Recorrer la lista de alturas y mostrar por pantalla solo las alturas que sean mayores o iguales que 175cms.\n",
    "\n",
    "----------\n",
    "Crear una función 'funcion_altura_v2' que reciba un parámetro (que será la lista de alturas). La función debe:\n",
    "\n",
    "\n",
    "- Recorrer la lista de alturas y mostrar sólo el índice en la lista del valor de la altura que está recorriendo.\n",
    "\n",
    "----------\n",
    "Crear una función 'funcion_altura_v3' que reciba dos parámetros (que serán la lista de alturas y la lista de alumnos). La función debe:\n",
    "\n",
    "- Recorrer ambas listas para mostrar por pantalla las alturas que sean menores que 175 ACOMPAÑADO del nombre de la persona que tenga esa altura. Se recuerda que las dos listas han de estar ordenadas Alumno - Altura en la misma posición."
   ]
  },
  {
   "cell_type": "code",
   "execution_count": null,
   "metadata": {},
   "outputs": [],
   "source": []
  }
 ],
 "metadata": {
  "language_info": {
   "name": "python",
   "codemirror_mode": {
    "name": "ipython",
    "version": 3
   },
   "version": "3.8.3-final"
  },
  "orig_nbformat": 2,
  "file_extension": ".py",
  "mimetype": "text/x-python",
  "name": "python",
  "npconvert_exporter": "python",
  "pygments_lexer": "ipython3",
  "version": 3,
  "kernelspec": {
   "name": "python3",
   "display_name": "Python 3"
  }
 },
 "nbformat": 4,
 "nbformat_minor": 2
}