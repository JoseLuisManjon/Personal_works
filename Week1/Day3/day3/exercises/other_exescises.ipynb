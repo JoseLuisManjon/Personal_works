{
 "cells": [
  {
   "cell_type": "code",
   "execution_count": null,
   "metadata": {},
   "outputs": [],
   "source": [
    "Ejercicio 1\n",
    "Escribir un programa que muestre por pantalla la cadena ¡Hola Mundo!."
   ]
  },
  {
   "cell_type": "code",
   "execution_count": null,
   "metadata": {},
   "outputs": [],
   "source": [
    "print(\"¡Hola Mundo!\")"
   ]
  },
  {
   "cell_type": "markdown",
   "metadata": {},
   "source": [
    "Ejercicio 2\n",
    "\n",
    "Escribir un programa que almacene la cadena ¡Hola Mundo! en una variable y luego muestre por pantalla el contenido de la variable."
   ]
  },
  {
   "cell_type": "code",
   "execution_count": null,
   "metadata": {},
   "outputs": [],
   "source": [
    "saludo = \"¡Hola Mundo!\"\n",
    "print(saludo)"
   ]
  },
  {
   "cell_type": "markdown",
   "metadata": {},
   "source": [
    "Ejercicio 3.\n",
    "\n",
    "Escribir un programa que pregunte el nombre del usuario en la consola y después de que el usuario lo introduzca muestre por pantalla la cadena ¡Hola <nombre>!, donde <nombre> es el nombre que el usuario haya introducido."
   ]
  },
  {
   "cell_type": "code",
   "execution_count": 9,
   "metadata": {},
   "outputs": [
    {
     "output_type": "stream",
     "name": "stdout",
     "text": "¡Hola Tomas !\n"
    }
   ],
   "source": [
    "name = input(\"Introduce tu nombre: \")\n",
    "print(\"¡Hola\", name, \"!\")\n"
   ]
  },
  {
   "cell_type": "markdown",
   "metadata": {},
   "source": [
    "Ejercicio 4\n",
    "\n",
    "Escribir un programa que pregunte el nombre del usuario en la consola y un número entero e imprima por pantalla en líneas distintas el nombre del usuario tantas veces como el número introducido."
   ]
  },
  {
   "cell_type": "code",
   "execution_count": 1,
   "metadata": {
    "tags": []
   },
   "outputs": [
    {
     "output_type": "stream",
     "name": "stdout",
     "text": "Pepe\nPepe\nPepe\n\n"
    }
   ],
   "source": [
    "name2 = input(\"Introduce tu nombre\")\n",
    "numero_lineas = input(\"Introduce un numero\")\n",
    "print((name2 + \"\\n\") * int(numero_lineas))"
   ]
  },
  {
   "cell_type": "markdown",
   "metadata": {},
   "source": [
    "Ejercicio 5\n",
    "\n",
    "Escribir un programa que pregunte el nombre del usuario en la consola y después de que el usuario lo introduzca muestre por pantalla NOMBRE tiene N letras, donde NOMBRE es el nombre de usuario en mayúsculas y N es el número de letras que tienen el nombre."
   ]
  },
  {
   "cell_type": "code",
   "execution_count": 23,
   "metadata": {
    "tags": []
   },
   "outputs": [
    {
     "output_type": "stream",
     "name": "stdout",
     "text": "PEPE tiene 4 letras\n"
    }
   ],
   "source": [
    "nombre = input(\"What\\´s your name?\")\n",
    "print(nombre.upper(), \"tiene\", len(nombre), \"letras\")"
   ]
  },
  {
   "cell_type": "markdown",
   "metadata": {},
   "source": [
    "Ejercicio 6\n",
    "\n",
    "Escribir un programa que realice la siguiente operación aritmética ((3+2):2⋅5)2"
   ]
  },
  {
   "cell_type": "code",
   "execution_count": 36,
   "metadata": {
    "tags": []
   },
   "outputs": [
    {
     "output_type": "stream",
     "name": "stdout",
     "text": "0.25\n"
    }
   ],
   "source": [
    "print(((3 + 2)/(2*5))**2)"
   ]
  },
  {
   "cell_type": "markdown",
   "metadata": {},
   "source": [
    "Ejercicio 7\n",
    "\n",
    "Escribir un programa que pregunte al usuario por el número de horas trabajadas y el coste por hora. Después debe mostrar por pantalla la paga que le corresponde."
   ]
  },
  {
   "cell_type": "code",
   "execution_count": 40,
   "metadata": {
    "tags": []
   },
   "outputs": [
    {
     "output_type": "stream",
     "name": "stdout",
     "text": "Tu paga es de:  105.0 €\n"
    }
   ],
   "source": [
    "horas = float(input(\"Introduce el numero de horas trabajadas\"))\n",
    "coste = float(input(\"Introduce el coste por hora\"))\n",
    "paga = horas * coste\n",
    "print(\"Tu paga es de: \", paga, \"€\")"
   ]
  },
  {
   "cell_type": "markdown",
   "metadata": {},
   "source": [
    "Ejercicio 8\n",
    "\n",
    "Escribir un programa que lea un entero positivo, 𝑛\n",
    ", introducido por el usuario y después muestre en pantalla la suma de todos los enteros desde 1 hasta 𝑛. La suma de los 𝑛 primeros enteros positivos puede ser calculada de la siguiente forma: suma = n*(n+1)/2"
   ]
  },
  {
   "cell_type": "code",
   "execution_count": 43,
   "metadata": {
    "tags": []
   },
   "outputs": [
    {
     "output_type": "stream",
     "name": "stdout",
     "text": "10\n"
    }
   ],
   "source": [
    "n8 = int(input (\"Introduce un numero entero positivo\"))\n",
    "print( int(n8*(n8+1)/2))"
   ]
  },
  {
   "cell_type": "markdown",
   "metadata": {},
   "source": [
    "Ejercicio 9\n",
    "\n",
    "Escribir un programa que pida al usuario su peso (en kg) y estatura (en metros), calcule el índice de masa corporal y lo almacene en una variable, y muestre por pantalla la frase Tu índice de masa corporal es IMC donde IMC es el índice de masa corporal calculado redondeado con dos decimales."
   ]
  },
  {
   "cell_type": "code",
   "execution_count": 47,
   "metadata": {
    "tags": []
   },
   "outputs": [
    {
     "output_type": "stream",
     "name": "stdout",
     "text": "Tu indice de masa corporal es 25.56\n"
    }
   ],
   "source": [
    "peso = float(input(\"Introduzca su peso en kg\"))\n",
    "estatura = float(input(\"Introduzca su estatura en metros\"))\n",
    "imc = round(peso/(estatura)**2, 2)\n",
    "print(\"Tu indice de masa corporal es\", imc)"
   ]
  },
  {
   "cell_type": "markdown",
   "metadata": {},
   "source": [
    "Ejercicio 10\n",
    "\n",
    "Escribir un programa que pida al usuario dos números enteros y muestre por pantalla la N entre M da un cociente C y un resto R donde N y M son los números introducidos por el usuario, y C y R son el cociente y el resto de la división entera respectivamente."
   ]
  },
  {
   "cell_type": "code",
   "execution_count": 59,
   "metadata": {
    "tags": []
   },
   "outputs": [
    {
     "output_type": "stream",
     "name": "stdout",
     "text": "N entre M da un cociente 5 y un resto 2\n"
    }
   ],
   "source": [
    "n10 = int(input (\"Tntroduzca el numero entero N\"))\n",
    "m10 = int(input(\"Introduzca el numero entero M\"))\n",
    "c = n10 // m10\n",
    "r = n10 % m10\n",
    "print(\"N entre M da un cociente\", c, \"y un resto\", r)\n",
    "\n",
    "\n"
   ]
  },
  {
   "cell_type": "markdown",
   "metadata": {},
   "source": [
    "Ejercicio 11\n",
    "\n",
    "Escribir un programa que pregunte al usuario una cantidad a invertir, el interés anual y el número de años, y muestre por pantalla el capital obtenido en la inversión."
   ]
  },
  {
   "cell_type": "code",
   "execution_count": 82,
   "metadata": {
    "tags": []
   },
   "outputs": [
    {
     "output_type": "stream",
     "name": "stdout",
     "text": "El capital obtenido con la inversion es  5335.44 €\n"
    }
   ],
   "source": [
    "amount = float(input(\"Introduzca el capital a invertir\"))\n",
    "interest = float(input(\"Introduzca el interes aplicado\"))\n",
    "years = int(input(\"Introduzca los años de la inversion\"))\n",
    "capital_obtenido = round(amount * (interest / 100 + 1)**years, 2)\n",
    "print(\"El capital obtenido con la inversion es \", capital_obtenido, \"€\")"
   ]
  },
  {
   "cell_type": "markdown",
   "metadata": {},
   "source": [
    "\n",
    "\n",
    "        EJERCICIOS CONDICIONALES"
   ]
  },
  {
   "cell_type": "markdown",
   "metadata": {},
   "source": [
    "Ejercicio 1\n",
    "\n",
    "Escribir un programa que pregunte al usuario su edad y muestre por pantalla si es mayor de edad o no."
   ]
  },
  {
   "cell_type": "code",
   "execution_count": 87,
   "metadata": {
    "tags": []
   },
   "outputs": [
    {
     "output_type": "stream",
     "name": "stdout",
     "text": "Menor de edad\n"
    }
   ],
   "source": [
    "edad1 = int(input(\"introduzca su edad\"))\n",
    "if edad1 >= 18:\n",
    "    print(\"Mayor de edad\")\n",
    "else:\n",
    "    print(\"Menor de edad\")"
   ]
  },
  {
   "cell_type": "markdown",
   "metadata": {},
   "source": [
    "Ejercicio 2\n",
    "\n",
    "Escribir un programa que almacene la cadena de caracteres *contraseña* en una variable, pregunte al usuario por la contraseña e imprima por pantalla si la contraseña introducida por el usuario coincide con la guardada en la variable sin tener en cuenta mayúsculas y minúsculas."
   ]
  },
  {
   "cell_type": "code",
   "execution_count": 7,
   "metadata": {
    "tags": []
   },
   "outputs": [
    {
     "output_type": "stream",
     "name": "stdout",
     "text": "La contraseña no es correcta\n"
    }
   ],
   "source": [
    "key = \"contraseña\"\n",
    "pasword = input(\"Write your pasword\")\n",
    "if key.lower() == pasword:\n",
    "    print(\"La contraseña es correcta\")\n",
    "else:\n",
    "    print(\"La contraseña no es correcta\")"
   ]
  },
  {
   "cell_type": "markdown",
   "metadata": {},
   "source": [
    "Ejercicio 3\n",
    "\n",
    "Escribir un programa que pida al usuario dos números y muestre por pantalla su división. Si el divisor es cero el programa debe mostrar un error."
   ]
  },
  {
   "cell_type": "code",
   "execution_count": 11,
   "metadata": {
    "tags": []
   },
   "outputs": [
    {
     "output_type": "stream",
     "name": "stdout",
     "text": "5.6667\n"
    }
   ],
   "source": [
    "n1 = float(input(\"Write a number\"))\n",
    "n2 = float(input(\"Write other number\"))\n",
    "if n2 != 0:\n",
    "    print(round(n1 / n2, 4))\n",
    "else:\n",
    "    print(\"ERROR, DIVIDIR POR CERO\")"
   ]
  },
  {
   "cell_type": "markdown",
   "metadata": {},
   "source": [
    "Ejercicio 4\n",
    "\n",
    "Escribir un programa que pida al usuario un número entero y muestre por pantalla si es par o impar."
   ]
  },
  {
   "cell_type": "code",
   "execution_count": 14,
   "metadata": {
    "tags": []
   },
   "outputs": [
    {
     "output_type": "stream",
     "name": "stdout",
     "text": "El numero es impar\n"
    }
   ],
   "source": [
    "number = int(input(\"Introduce un numero\"))\n",
    "if number % 2 == 0:\n",
    "    print(\"El numero es par\")\n",
    "else:\n",
    "    print(\"El numero es impar\")"
   ]
  },
  {
   "cell_type": "markdown",
   "metadata": {},
   "source": [
    "Ejercicio 5\n",
    "\n",
    "Para tributar un determinado impuesto se debe ser mayor de 16 años y tener unos ingresos iguales o superiores a 1000 € mensuales. Escribir un programa que pregunte al usuario su edad y sus ingresos mensuales y muestre por pantalla si el usuario tiene que tributar o no."
   ]
  },
  {
   "cell_type": "code",
   "execution_count": 3,
   "metadata": {
    "tags": []
   },
   "outputs": [
    {
     "output_type": "stream",
     "name": "stdout",
     "text": "Tiene obligación de tributar\n"
    }
   ],
   "source": [
    "edad = int(input('Introduzca su edad'))\n",
    "ingresos = float(input('Introduzca sus ingresos mensuales'))\n",
    "if edad > 16 and ingresos >= 1000:\n",
    "    print('Tiene obligación de tributar')\n",
    "else:\n",
    "    print('Noa tiene obligación de tributar')"
   ]
  },
  {
   "cell_type": "markdown",
   "metadata": {},
   "source": [
    "Ejercicio 6\n",
    "\n",
    "Los alumnos de un curso se han dividido en dos grupos A y B de acuerdo al sexo y el nombre. El grupo A esta formado por las mujeres con un nombre anterior a la M y los hombres con un nombre posterior a la N y el grupo B por el resto. Escribir un programa que pregunte al usuario su nombre y sexo, y muestre por pantalla el grupo que le corresponde."
   ]
  },
  {
   "cell_type": "code",
   "execution_count": 5,
   "metadata": {
    "tags": []
   },
   "outputs": [
    {
     "output_type": "stream",
     "name": "stdout",
     "text": "Te corresponde el grupo_A\n"
    }
   ],
   "source": [
    "name = input('Write yoour name')\n",
    "gender = input('Write your gender, Male or Female')\n",
    "if (name[0] < \"M\" and gender == \"Female\") or (name[0] >= \"N\" and gender == \"Male\"):\n",
    "    print(\"Te corresponde el grupo_A\")\n",
    "else:\n",
    "    print(\"Te corresponde el grupo_B\")\n",
    "\n",
    "\n"
   ]
  },
  {
   "cell_type": "markdown",
   "metadata": {},
   "source": [
    "Ejercicio 7\n",
    "\n",
    "Los tramos impositivos para la declaración de la renta en un determinado país son los siguientes:\n",
    "Renta \tTipo impositivo\n",
    "Menos de 10000€ \t5%\n",
    "Entre 10000€ y 20000€ \t15%\n",
    "Entre 20000€ y 35000€ \t20%\n",
    "Entre 35000€ y 60000€ \t30%\n",
    "Más de 60000€ \t45%\n",
    "\n",
    "Escribir un programa que pregunte al usuario su renta anual y muestre por pantalla el tipo impositivo que le corresponde."
   ]
  },
  {
   "cell_type": "code",
   "execution_count": 12,
   "metadata": {
    "tags": []
   },
   "outputs": [
    {
     "output_type": "stream",
     "name": "stdout",
     "text": "Su tipo impositivo es del 20%\n"
    }
   ],
   "source": [
    "renta_anual = float(input(\"Introduzca su renta anual\"))\n",
    "if renta_anual < 10000:\n",
    "    print(\"Su tipo impositivo es del 5%\")\n",
    "elif renta_anual < 20000:\n",
    "    print(\"Su tipo impositivo es del 15%\")\n",
    "elif renta_anual < 35000:\n",
    "    print(\"Su tipo impositivo es del 20%\")\n",
    "elif renta_anual < 60000:\n",
    "    print(\"Su tipo impositivo es del 30%\")\n",
    "else:\n",
    "    print(\"Su tipo impositivo es del 45%\")\n",
    "\n"
   ]
  },
  {
   "cell_type": "code",
   "execution_count": 16,
   "metadata": {
    "tags": []
   },
   "outputs": [
    {
     "output_type": "stream",
     "name": "stdout",
     "text": "Su tasa impositiva es del 20% %\n"
    }
   ],
   "source": [
    "#Otra forma de hacerlo escribiendo menos código\n",
    "renta_anual1 = float(input(\"Introduzca su renta anual\"))\n",
    "if renta_anual < 10000:\n",
    "    tasa = \"5%\"\n",
    "elif renta_anual1 < 20000:\n",
    "    tasa = \"15%\"\n",
    "elif renta_anual1 < 35000:\n",
    "    tasa = \"20%\"\n",
    "elif renta_anual1 < 60000:\n",
    "    tasa = \"30%\"\n",
    "else:\n",
    "    tasa = \"45%\"\n",
    "print(\"Su tasa impositiva es del\", tasa, \"%\")"
   ]
  },
  {
   "cell_type": "markdown",
   "metadata": {},
   "source": [
    "Ejercicio 8\n",
    "\n",
    "En una determinada empresa, sus empleados son evaluados al final de cada año. Los puntos que pueden obtener en la evaluación comienzan en 0.0 y pueden ir aumentando, traduciéndose en mejores beneficios. Los puntos que pueden conseguir los empleados pueden ser 0.0, 0.4, 0.6 o más, pero no valores intermedios entre las cifras mencionadas. A continuación se muestra una tabla con los niveles correspondientes a cada puntuación. La cantidad de dinero conseguida en cada nivel es de 2.400€ multiplicada por la puntuación del nivel.\n",
    "Nivel \tPuntuación\n",
    "Inaceptable \t0.0\n",
    "Aceptable \t0.4\n",
    "Meritorio \t0.6 o más\n",
    "\n",
    "Escribir un programa que lea la puntuación del usuario e indique su nivel de rendimiento, así como la cantidad de dinero que recibirá el usuario."
   ]
  },
  {
   "cell_type": "code",
   "execution_count": 21,
   "metadata": {
    "tags": []
   },
   "outputs": [],
   "source": [
    "pre = 2400\n",
    "puntos =float(input(\"Introduzca los puntos obtenidos\"))\n",
    "if puntos == 0:\n",
    "    print(\"Su rendimiento ha sido inaceptable y recibira\", pre * puntos, \"€·\")\n",
    "elif puntos == 0.4: \n",
    "    print(\"Su rendimiento ha sido Aceptable y recibira\", pre * puntos, \"€·\")\n",
    "elif puntos >= 0.6:\n",
    "    print(\"Su rendimiento ha sido Meritorio y recibira\", pre * puntos, \"€·\")"
   ]
  },
  {
   "cell_type": "markdown",
   "metadata": {},
   "source": [
    "Ejercicio 9\n",
    "\n",
    "Escribir un programa para una empresa que tiene salas de juegos para todas las edades y quiere calcular de forma automática el precio que debe cobrar a sus clientes por entrar. El programa debe preguntar al usuario la edad del cliente y mostrar el precio de la entrada. Si el cliente es menor de 4 años puede entrar gratis, si tiene entre 4 y 18 años debe pagar 5€ y si es mayor de 18 años, 10€."
   ]
  },
  {
   "cell_type": "code",
   "execution_count": 26,
   "metadata": {
    "tags": []
   },
   "outputs": [
    {
     "output_type": "stream",
     "name": "stdout",
     "text": "El precio de la entrada es de 5 €\n"
    }
   ],
   "source": [
    "edad = int(input(\"¿Cuál es tu edad?\"))\n",
    "if edad < 4:\n",
    "    precio = 0\n",
    "elif edad <= 18:\n",
    "    precio = 5\n",
    "else:\n",
    "    precio = 10\n",
    "print(\"El precio de la entrada es de\", precio, \"€\")"
   ]
  },
  {
   "cell_type": "markdown",
   "metadata": {},
   "source": [
    "Ejercicio 10\n",
    "\n",
    "La pizzería Bella Napoli ofrece pizzas vegetarianas y no vegetarianas a sus clientes. Los ingredientes para cada tipo de pizza aparecen a continuación.\n",
    "\n",
    "    Ingredientes vegetarianos: Pimiento y tofu.\n",
    "    Ingredientes no vegetarianos: Peperoni, Jamón y Salmón.\n",
    "\n",
    "Escribir un programa que pregunte al usuario si quiere una pizza vegetariana o no, y en función de su respuesta le muestre un menú con los ingredientes disponibles para que elija. Solo se puede eligir un ingrediente además de la mozzarella y el tomate que están en todas la pizzas. Al final se debe mostrar por pantalla si la pizza elegida es vegetariana o no y todos los ingredientes que lleva."
   ]
  },
  {
   "cell_type": "code",
   "execution_count": 29,
   "metadata": {
    "tags": []
   },
   "outputs": [],
   "source": [
    "tipo_pizza = input(\"Eliga pizza vegetariana o no vegetariana [v / nv]\")\n",
    "ingredientes_base = \"mozarella, tomate y\"\n",
    "if tipo_pizza == \"v\":\n",
    "    ingredientev = input (\"Elija pimiento ó tofu\")\n",
    "    print(\"La pizza elegida es vegetariana con\", ingredientes_base, ingredientev)\n",
    "elif tipo_pizza == \"nv\":\n",
    "    ingrediente_nv = input (\"Elija peperoni, jamón o salmón\")    \n",
    "    print(\"La pizza elegida es no vegetariana con\", ingredientes_base, ingrediente_nv)\n"
   ]
  },
  {
   "cell_type": "code",
   "execution_count": 31,
   "metadata": {
    "tags": []
   },
   "outputs": [
    {
     "output_type": "stream",
     "name": "stdout",
     "text": "Bienvenido a la pizzeria Bella Napoli.\nTipos de pizza\n\t1- Vegetariana\n\t2- No vegetariana\n\nIngredientes de pizzas no vegetarianas\n\t1- Peperoni\n\t2- Jamón\n\t3- Salmón\n\nPizza no vegetarina con mozarrella, tomate y jamón\n"
    }
   ],
   "source": [
    "print(\"Bienvenido a la pizzeria Bella Napoli.\\nTipos de pizza\\n\\t1- Vegetariana\\n\\t2- No vegetariana\\n\")\n",
    "tipo = input(\"Introduce el número correspondiente al tipo de pizza que quieres:\")\n",
    "# Decisión sobre el tipo de pizza\n",
    "if tipo == \"1\":\n",
    "    print(\"Ingredientes de pizzas vegetarianas\\n\\t 1- Pimiento\\n\\t2- Tofu\\n\")\n",
    "    ingrediente = input(\"Introduce el ingrediente que deseas: \")\n",
    "    print(\"Pizza vegetariana con mozzarella, tomate y \", end=\"\")\n",
    "    if ingrediente == \"1\":\n",
    "        print(\"pimiento\")\n",
    "    else: \n",
    "        print(\"tofu\")\n",
    "else:\n",
    "    print(\"Ingredientes de pizzas no vegetarianas\\n\\t1- Peperoni\\n\\t2- Jamón\\n\\t3- Salmón\\n\")\n",
    "    ingrediente = input(\"Introduce el ingrediente que deseas: \")\n",
    "    print(\"Pizza no vegetarina con mozarrella, tomate y \", end=\"\")\n",
    "    if ingrediente == \"1\":\n",
    "        print(\"peperoni\")\n",
    "    elif ingrediente == \"2\":\n",
    "        print(\"jamón\")\n",
    "    else:\n",
    "        print(\"salmón\")"
   ]
  },
  {
   "cell_type": "markdown",
   "metadata": {},
   "source": [
    "\n",
    "\n",
    "EJERCICIOS LISTAS Y TUPLAS"
   ]
  },
  {
   "cell_type": "code",
   "execution_count": 2,
   "metadata": {},
   "outputs": [
    {
     "output_type": "error",
     "ename": "SyntaxError",
     "evalue": "invalid syntax (<ipython-input-2-36f41532e051>, line 1)",
     "traceback": [
      "\u001b[1;36m  File \u001b[1;32m\"<ipython-input-2-36f41532e051>\"\u001b[1;36m, line \u001b[1;32m1\u001b[0m\n\u001b[1;33m    Ejercicio 1\u001b[0m\n\u001b[1;37m              ^\u001b[0m\n\u001b[1;31mSyntaxError\u001b[0m\u001b[1;31m:\u001b[0m invalid syntax\n"
     ]
    }
   ],
   "source": [
    "Ejercicio 1\n",
    "\n",
    "Escribir un programa que almacene las asignaturas de un curso (por ejemplo Matemáticas, Física, Química, Historia y Lengua) en una lista y la muestre por pantalla."
   ]
  },
  {
   "cell_type": "code",
   "execution_count": 3,
   "metadata": {
    "tags": []
   },
   "outputs": [
    {
     "output_type": "stream",
     "name": "stdout",
     "text": "['Matemáticas', 'Física', 'Química', 'Historia', 'Lengua']\n"
    }
   ],
   "source": [
    "subjects = ['Matemáticas', 'Física', 'Química', 'Historia', 'Lengua']\n",
    "print(subjects)"
   ]
  },
  {
   "cell_type": "code",
   "execution_count": null,
   "metadata": {},
   "outputs": [],
   "source": [
    "Ejercicio 2\n",
    "\n",
    "Escribir un programa que almacene las asignaturas de un curso (por ejemplo Matemáticas, Física, Química, Historia y Lengua) en una lista y la muestre por pantalla el mensaje Yo estudio <asignatura>, donde <asignatura> es cada una de las asignaturas de la lista"
   ]
  },
  {
   "cell_type": "code",
   "execution_count": 3,
   "metadata": {
    "tags": []
   },
   "outputs": [
    {
     "output_type": "stream",
     "name": "stdout",
     "text": "Yo estudio  Matemáticas\nYo estudio  Física\nYo estudio  Química\nYo estudio  Historia\nYo estudio  Lengua\n"
    }
   ],
   "source": [
    "subjects = ['Matemáticas', 'Física', 'Química', 'Historia', 'Lengua']\n",
    "for elem in subjects:\n",
    "    print(\"Yo estudio \", elem)"
   ]
  },
  {
   "cell_type": "markdown",
   "metadata": {},
   "source": [
    "Ejercicio 3\n",
    "\n",
    "Escribir un programa que almacene las asignaturas de un curso (por ejemplo Matemáticas, Física, Química, Historia y Lengua) en una lista, pregunte al usuario la nota que ha sacado en cada asignatura, y después las muestre por pantalla con el mensaje En ASIGNATURA has sacado NOTA donde ASIGNATURA es cada una des las asignaturas de la lista y NOTA cada una de las correspondientes notas introducidas por el usuario."
   ]
  },
  {
   "cell_type": "code",
   "execution_count": 2,
   "metadata": {
    "tags": []
   },
   "outputs": [
    {
     "output_type": "stream",
     "name": "stdout",
     "text": "En Matemáticas has sacado 5\nEn Física has sacado 6\nEn Química has sacado 7\nEn Historia has sacado 8\nEn Lengua has sacado 9\n"
    }
   ],
   "source": [
    "subjects = ['Matemáticas', 'Física', 'Química', 'Historia', 'Lengua']\n",
    "scores = []\n",
    "for elem in subjects:\n",
    "    score = input(\"Introduce la nota de \" + elem)\n",
    "    scores.append(score)\n",
    "for i in range(len(subjects)):\n",
    "    print(\"En \" + subjects[i] + \" has sacado \" + scores[i])"
   ]
  },
  {
   "cell_type": "markdown",
   "metadata": {},
   "source": [
    "Ejercicio 4\n",
    "\n",
    "Escribir un programa que pregunte al usuario los números ganadores de la lotería primitiva, los almacene en una lista y los muestre por pantalla ordenados de menor a mayor."
   ]
  },
  {
   "cell_type": "code",
   "execution_count": 1,
   "metadata": {
    "tags": []
   },
   "outputs": [
    {
     "output_type": "stream",
     "name": "stdout",
     "text": "Los numeros ganadores son:  [2, 21, 36, 52, 56, 100]\n"
    }
   ],
   "source": [
    "primitiva = []\n",
    "for i in range(6):\n",
    "    numero = int(input(\"Escribe número premiado \"))\n",
    "    primitiva.append(numero)\n",
    "    \n",
    "primitiva.sort()\n",
    "print(\"Los numeros ganadores son: \", primitiva)"
   ]
  },
  {
   "cell_type": "markdown",
   "metadata": {},
   "source": [
    "Ejercicio 5\n",
    "\n",
    "Escribir un programa que almacene en una lista los números del 1 al 10 y los muestre por pantalla en orden inverso separados por comas."
   ]
  },
  {
   "cell_type": "code",
   "execution_count": 9,
   "metadata": {
    "tags": []
   },
   "outputs": [
    {
     "output_type": "stream",
     "name": "stdout",
     "text": "[10, 9, 8, 7, 6, 5, 4, 3, 2, 1]\n"
    }
   ],
   "source": [
    "lista_1_10 = []\n",
    "for i in range(1, 11):\n",
    "    lista_1_10.append(i)\n",
    "lista_1_10.sort(reverse=True)\n",
    "print(lista_1_10)\n"
   ]
  },
  {
   "cell_type": "code",
   "execution_count": 10,
   "metadata": {
    "tags": []
   },
   "outputs": [
    {
     "output_type": "stream",
     "name": "stdout",
     "text": "[10, 9, 8, 7, 6, 5, 4, 3, 2, 1]\n"
    }
   ],
   "source": [
    "#Otra manera de hacerlo utilizando reverse\n",
    "lista_1_10_1 = []\n",
    "for i in range(1, 11):\n",
    "    lista_1_10_1.append(i)\n",
    "lista_1_10_1.reverse()\n",
    "print(lista_1_10_1)\n"
   ]
  },
  {
   "cell_type": "markdown",
   "metadata": {},
   "source": [
    "Ejercicio 6\n",
    "\n",
    "Escribir un programa que almacene las asignaturas de un curso (por ejemplo Matemáticas, Física, Química, Historia y Lengua) en una lista, pregunte al usuario la nota que ha sacado en cada asignatura y elimine de la lista las asignaturas aprobadas. Al final el programa debe mostrar por pantalla las asignaturas que el usuario tiene que repetir."
   ]
  },
  {
   "cell_type": "code",
   "execution_count": 17,
   "metadata": {
    "tags": []
   },
   "outputs": [
    {
     "output_type": "stream",
     "name": "stdout",
     "text": "Las asignaturas que tienes que repetir son ['Física', 'Historia']\n"
    }
   ],
   "source": [
    "subjects = ['Matemáticas', 'Física', 'Química', 'Historia', 'Lengua']\n",
    "passed =[]\n",
    "for elem in subjects:\n",
    "    nota = float(input(\"Introduzca la nota de la asignatura \" + elem))\n",
    "    if nota >= 5:\n",
    "        passed.append(elem)\n",
    "for elem in passed:\n",
    "    subjects.remove(elem)\n",
    "print(\"Las asignaturas que tienes que repetir son\", subjects)"
   ]
  },
  {
   "cell_type": "markdown",
   "metadata": {},
   "source": [
    "Ejercicio 7\n",
    "\n",
    "Escribir un programa que almacene el abecedario en una lista, elimine de la lista las letras que ocupen posiciones múltiplos de 3, y muestre por pantalla la lista resultante."
   ]
  },
  {
   "cell_type": "code",
   "execution_count": 72,
   "metadata": {
    "tags": []
   },
   "outputs": [
    {
     "output_type": "stream",
     "name": "stdout",
     "text": "['a', 'b', 'd', 'e', 'g', 'h', 'j', 'k', 'm', 'n', 'o', 'p', 'r', 's', 'u', 'v', 'x', 'y']\n"
    }
   ],
   "source": [
    "alphabet = ['a', 'b', 'c', 'd', 'e', 'f', 'g', 'h', 'i', 'j', 'k', 'l', 'm', 'n', 'ñ', 'o', 'p', 'q', 'r', 's', 't', 'u', 'v', 'w', 'x', 'y', 'z']\n",
    "lista_aux = []\n",
    "for i, elem in enumerate(alphabet):\n",
    "8    if (i+1) % 3 == 0: # Los que son multiplos de 3 y hay que eliminar\n",
    "        lista_aux. append(elem)\n",
    "for elem, in lista_aux:\n",
    "    alphabet.remove(elem)\n",
    "print(alphabet)\n"
   ]
  },
  {
   "cell_type": "code",
   "execution_count": 73,
   "metadata": {
    "tags": []
   },
   "outputs": [
    {
     "output_type": "stream",
     "name": "stdout",
     "text": "['a', 'b', 'd', 'e', 'g', 'h', 'j', 'k', 'm', 'n', 'o', 'p', 'r', 's', 'u', 'v', 'x', 'y']\n"
    }
   ],
   "source": [
    "#otra solución\n",
    "alphabet1 = ['a', 'b', 'c', 'd', 'e', 'f', 'g', 'h', 'i', 'j', 'k', 'l', 'm', 'n', 'ñ', 'o', 'p', 'q', 'r', 's', 't', 'u', 'v', 'w', 'x', 'y', 'z']\n",
    "\n",
    "for i in range(len(alphabet1), 0, -1):\n",
    "    if i % 3 == 0:\n",
    "        alphabet1.pop(i-1)\n",
    "print(alphabet1)"
   ]
  },
  {
   "cell_type": "code",
   "execution_count": null,
   "metadata": {},
   "outputs": [],
   "source": []
  },
  {
   "cell_type": "code",
   "execution_count": 53,
   "metadata": {
    "tags": []
   },
   "outputs": [
    {
     "output_type": "stream",
     "name": "stdout",
     "text": "ann5nna  es un palíndromo\n"
    }
   ],
   "source": [
    "word = input(\"Introduce una palabra\")\n",
    "word1 = list (word)\n",
    "word_changed = word\n",
    "word_changed = list(word_changed)\n",
    "word_changed.reverse()\n",
    "if word1 == word_changed:\n",
    "    print(word, \" es un palíndromo\")\n",
    "else:\n",
    "    print(word, \"No es un palíndromo\")\n",
    "\n"
   ]
  },
  {
   "cell_type": "markdown",
   "metadata": {},
   "source": [
    "Ejercicio 9\n",
    "\n",
    "Escribir un programa que pida al usuario una palabra y muestre por pantalla el número de veces que contiene cada vocal."
   ]
  },
  {
   "cell_type": "code",
   "execution_count": 2,
   "metadata": {
    "tags": []
   },
   "outputs": [
    {
     "output_type": "stream",
     "name": "stdout",
     "text": "La vocal a aparece 2 veces\nLa vocal e aparece 0 veces\nLa vocal i aparece 1 veces\nLa vocal o aparece 1 veces\nLa vocal u aparece 0 veces\n"
    }
   ],
   "source": [
    "vocales = [\"a\", \"e\", \"i\", \"o\", \"u\"]\n",
    "palabra = input(\"Introduce una palabra\")\n",
    "for elem in vocales:\n",
    "    count = 0\n",
    "    for letter in palabra:\n",
    "        if letter == elem:    \n",
    "            count = count +1\n",
    "    print(\"La vocal\", elem, \"aparece\", count, \"veces\")\n"
   ]
  },
  {
   "cell_type": "code",
   "execution_count": null,
   "metadata": {},
   "outputs": [],
   "source": [
    "Ejercicio 10\n",
    "\n",
    "Escribir un programa que almacene en una lista los siguientes precios, 50, 75, 46, 22, 80, 65, 8, y muestre por pantalla el menor y el mayor de los precios."
   ]
  },
  {
   "cell_type": "code",
   "execution_count": 62,
   "metadata": {
    "tags": []
   },
   "outputs": [
    {
     "output_type": "stream",
     "name": "stdout",
     "text": "8\n80\n"
    }
   ],
   "source": [
    "\n",
    "\n",
    "lista_precios = [50, 75, 46, 22, 80, 65, 8]\n",
    "print(min(lista_precios))\n",
    "print(max(lista_precios))\n"
   ]
  }
 ],
 "metadata": {
  "language_info": {
   "codemirror_mode": {
    "name": "ipython",
    "version": 3
   },
   "file_extension": ".py",
   "mimetype": "text/x-python",
   "name": "python",
   "nbconvert_exporter": "python",
   "pygments_lexer": "ipython3",
   "version": "3.7.6-final"
  },
  "orig_nbformat": 2,
  "kernelspec": {
   "name": "python3",
   "display_name": "Python 3"
  }
 },
 "nbformat": 4,
 "nbformat_minor": 2
}