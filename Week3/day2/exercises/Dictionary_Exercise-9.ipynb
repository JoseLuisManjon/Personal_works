{
 "cells": [
  {
   "cell_type": "markdown",
   "metadata": {},
   "source": [
    "### 9. Ejercicios: \n",
    "\n",
    "- Crea dos listas: una que tenga 4 nombres de ciudades y otra que tenga 4 lugares emblemáticos de la ciudad. "
   ]
  },
  {
   "cell_type": "code",
   "execution_count": 5,
   "metadata": {},
   "outputs": [],
   "source": [
    "# Code\n",
    "ciudad = [\"Madrid\", \"París\", \"Londrés\", \"Atenas\"]\n",
    "lugar = [\"Museo del Prado\", \"Torre Eiffel\", \"Big ben\", \"Paternon\"]"
   ]
  },
  {
   "cell_type": "markdown",
   "metadata": {},
   "source": [
    "### A partir de funciones con diccionarios:\n",
    "\n",
    "- Crea un diccionario con un entero 5 como key y \"val\" como su value. "
   ]
  },
  {
   "cell_type": "code",
   "execution_count": 2,
   "metadata": {},
   "outputs": [],
   "source": [
    "# Code{\n",
    "diccionario = {5:\"val\"}"
   ]
  },
  {
   "cell_type": "markdown",
   "metadata": {},
   "source": [
    "- Crea una función que a reciba dos listas 'lista1' y 'lista2' por parámetro y retorne un diccionario teniendo como keys cada elemento de 'lista1' y como values los elementos de 'lista2'. Llama a la función con las listas que has creado antes para que devuelva un diccionario con cada ciudad como key asociado a un lugar emblemático como value. \n"
   ]
  },
  {
   "cell_type": "code",
   "execution_count": 9,
   "metadata": {
    "tags": []
   },
   "outputs": [
    {
     "output_type": "stream",
     "name": "stdout",
     "text": "{'Madrid': 'Museo del Prado', 'París': 'Torre Eiffel', 'Londrés': 'Big ben', 'Atenas': 'Paternon'}\n"
    }
   ],
   "source": [
    "# Code\n",
    "def f_9_1(lista1, lista2):\n",
    "    ciudad_monumento = dict(zip(lista1, lista2))\n",
    "    return ciudad_monumento\n",
    "\n",
    "z = f_9_1(lista1=ciudad, lista2=lugar)\n",
    "print(z)"
   ]
  },
  {
   "cell_type": "markdown",
   "metadata": {},
   "source": [
    "*Hay que utilizar la lista de alumn@s con sus nombres y alturas*\n",
    "\n",
    "- Crea una función que, a partir de dos listas, retorne un diccionario en el que cada key sea el nombre de un alumno y su value debe ser la altura."
   ]
  },
  {
   "cell_type": "code",
   "execution_count": 1,
   "metadata": {},
   "outputs": [],
   "source": [
    "lista_alumnos = [[\"Jalex\", 6, 47, 1.80], [\"Tomas\", 5, 31, 1.80], [\"David\", 6, 39, 1.81], [\"Natalio\", 2, 29, 1.73], [\"Monica\", 3, 47, 1.73], [\"Roxanna\", 4,24,1.75], [\"Filipa\", 5,34,1.64], [\"Elsa\", 4, 36, 1.89], [\"Cristina\", 3, 46, 1.70], [\"Clara\", 6, 29, 1.67], [\"Alba\", 3, 29, 1.68], [\"Valeria\",1, 40, 1.60], [\"Jose Luis\", 4, 47, 1.69], [\"Gabriel\", 1, 28, 1.76], [\"Rochi\", 2, 38, 1.60], [\"Jose Maria\", 5, 51, 1.75]]\n"
   ]
  },
  {
   "cell_type": "code",
   "execution_count": 3,
   "metadata": {
    "tags": []
   },
   "outputs": [
    {
     "output_type": "stream",
     "name": "stdout",
     "text": "{'Jalex': 1.8, 'Tomas': 1.8, 'David': 1.81, 'Natalio': 1.73, 'Monica': 1.73, 'Roxanna': 1.75, 'Filipa': 1.64, 'Elsa': 1.89, 'Cristina': 1.7, 'Clara': 1.67, 'Alba': 1.68, 'Valeria': 1.6, 'Jose Luis': 1.69, 'Gabriel': 1.76, 'Rochi': 1.6, 'Jose Maria': 1.75}\n\nJalex : 1.8\nTomas : 1.8\nDavid : 1.81\nNatalio : 1.73\nMonica : 1.73\nRoxanna : 1.75\nFilipa : 1.64\nElsa : 1.89\nCristina : 1.7\nClara : 1.67\nAlba : 1.68\nValeria : 1.6\nJose Luis : 1.69\nGabriel : 1.76\nRochi : 1.6\nJose Maria : 1.75\n"
    }
   ],
   "source": [
    "# Code\n",
    "def f_9_2(lista):\n",
    "\n",
    "    new_lista = tuple(zip(*lista)) # con esto creo una tupla de 4 elementos y en el primer elemento estaran todos los nombres, en el 2º las mesas, en el 3º la edad y en el 4º todas las alturas\n",
    "    lista_nombre = list(new_lista[0])# con esto paso de tupla a lista y dos listas, una con todos los nombres y otra con todas las alturas\n",
    "    lista_altura = list(new_lista[3])\n",
    "\n",
    "    alumno_altura = dict(zip(lista_nombre, lista_altura))# Con las dos listas anteriores creo el diccionario donde key será el nombre y value su altura\n",
    "    print(alumno_altura)\n",
    "    print()\n",
    "    for x, y in alumno_altura.items():\n",
    "        print(x, \":\", y)\n",
    "f_9_2(lista=lista_alumnos)"
   ]
  },
  {
   "cell_type": "code",
   "execution_count": null,
   "metadata": {},
   "outputs": [],
   "source": []
  }
 ],
 "metadata": {
  "language_info": {
   "codemirror_mode": {
    "name": "ipython",
    "version": 3
   },
   "file_extension": ".py",
   "mimetype": "text/x-python",
   "name": "python",
   "nbconvert_exporter": "python",
   "pygments_lexer": "ipython3",
   "version": "3.7.6-final"
  },
  "orig_nbformat": 2,
  "kernelspec": {
   "name": "python3",
   "display_name": "Python 3"
  }
 },
 "nbformat": 4,
 "nbformat_minor": 2
}