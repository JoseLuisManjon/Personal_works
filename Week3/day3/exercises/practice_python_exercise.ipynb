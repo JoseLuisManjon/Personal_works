{
 "cells": [
  {
   "cell_type": "markdown",
   "metadata": {},
   "source": [
    "EJERCICIOS PROCEDENTES DE PRACTICEPHYTON.ORG"
   ]
  },
  {
   "cell_type": "markdown",
   "metadata": {},
   "source": [
    "Ejercicio 1"
   ]
  },
  {
   "cell_type": "code",
   "execution_count": null,
   "metadata": {},
   "outputs": [],
   "source": [
    "Create a program that asks the user to enter their name and their age. Print out a message addressed to them that tells them the year that they will turn 100 years old."
   ]
  },
  {
   "cell_type": "code",
   "execution_count": 28,
   "metadata": {
    "tags": []
   },
   "outputs": [
    {
     "output_type": "stream",
     "name": "stdout",
     "text": "Pepe El año en el que alcanzará los 100 años será: 2117\nPepe El año en el que alcanzará los 100 años será: 2117\n\n"
    }
   ],
   "source": [
    "s =int(input(\"eliga un número\"))\n",
    " \n",
    "name = input(\"Introduzca su nombre:\")\n",
    "age = int(input(\"Introduzca su edad actual:\"))\n",
    "x = str(2020 +(100 - age))\n",
    "print((name + \" El año en el que alcanzará los 100 años será: \" + x + \"\\n\")*s)"
   ]
  },
  {
   "cell_type": "markdown",
   "metadata": {},
   "source": [
    "Exercise 2 \n",
    "\n",
    "Ask the user for a number. Depending on whether the number is even or odd, print out an appropriate message to the user. Hint: how does an even / odd number react differently when divided by 2?\n",
    "\n",
    "Extras:\n",
    "\n",
    "If the number is a multiple of 4, print out a different message.\n",
    "\n",
    "Ask the user for two numbers: one number to check (call it num) and one number to divide by (check). If check divides evenly into num, tell that to the user. If not, print a different appropriate message.\n"
   ]
  },
  {
   "cell_type": "code",
   "execution_count": 37,
   "metadata": {
    "tags": []
   },
   "outputs": [
    {
     "output_type": "stream",
     "name": "stdout",
     "text": "12 is a even number and multiple of 4\nNumber 5  no divides evenly into 12\n"
    }
   ],
   "source": [
    "n_e_2 = int(input(\"Choose a number\"))\n",
    "check = int(input(\"Choose a number\"))\n",
    "if n_e_2 % 4 == 0:\n",
    "    print(n_e_2, \"is a even number and multiple of 4\")\n",
    "\n",
    "elif n_e_2 % 2 == 0:\n",
    "    print(n_e_2, \"is a even number\")\n",
    "\n",
    "else:\n",
    "    print(n_e_2, \"is a odd number\")\n",
    "\n",
    "if n_e_2 % check == 0:\n",
    "    print(\"Number\", check, \"divides evenly into\", n_e_2)\n",
    "else:\n",
    "    print(\"Number\", check, \"no divides evenly into\", n_e_2)\n",
    "    "
   ]
  },
  {
   "cell_type": "markdown",
   "metadata": {},
   "source": [
    "Exercise 3 (and Solution)\n",
    "\n",
    "Take a list, say for example this one:\n",
    "\n",
    "  a = [1, 1, 2, 3, 5, 8, 13, 21, 34, 55, 89]\n",
    "\n",
    "and write a program that prints out all the elements of the list that are less than 5.\n",
    "\n",
    "Extras:\n",
    "\n",
    "Instead of printing the elements one by one, make a new list that has all the elements less than 5 from this list in it and print out this new list.\n",
    "\n",
    "Write this in one line of Python.\n",
    "Ask the user for a number and return a list that contains only elements from the original list a that are smaller than that number given by the user.\n"
   ]
  },
  {
   "cell_type": "code",
   "execution_count": 38,
   "metadata": {},
   "outputs": [],
   "source": [
    " a = [1, 1, 2, 3, 5, 8, 13, 21, 34, 55, 89]"
   ]
  },
  {
   "cell_type": "code",
   "execution_count": 40,
   "metadata": {
    "tags": []
   },
   "outputs": [
    {
     "output_type": "stream",
     "name": "stdout",
     "text": "1\n1\n2\n3\n"
    }
   ],
   "source": [
    "for elem in a:\n",
    "    if elem < 5:\n",
    "        print(elem) "
   ]
  },
  {
   "cell_type": "code",
   "execution_count": 41,
   "metadata": {
    "tags": []
   },
   "outputs": [
    {
     "output_type": "stream",
     "name": "stdout",
     "text": "[1, 1, 2, 3]\n"
    }
   ],
   "source": [
    "a_less_5 = []\n",
    "for elem in a:\n",
    "    if elem < 5:\n",
    "        a_less_5.append(elem)\n",
    "print(a_less_5)"
   ]
  },
  {
   "cell_type": "code",
   "execution_count": 43,
   "metadata": {
    "tags": []
   },
   "outputs": [
    {
     "output_type": "stream",
     "name": "stdout",
     "text": "[1, 1, 2, 3, 5, 8]\n"
    }
   ],
   "source": [
    "x_3 =int(input(\"choose a number\"))\n",
    "list2_3 = [elem for elem in a if elem < x_3]\n",
    "print(list2_3)"
   ]
  },
  {
   "cell_type": "markdown",
   "metadata": {},
   "source": [
    "EXERCISE 4"
   ]
  },
  {
   "cell_type": "markdown",
   "metadata": {},
   "source": [
    "Create a program that asks the user for a number and then prints out a list of all the divisors of that number."
   ]
  },
  {
   "cell_type": "code",
   "execution_count": 102,
   "metadata": {
    "tags": []
   },
   "outputs": [
    {
     "output_type": "stream",
     "name": "stdout",
     "text": "Los divisores de 18 son: [1, 2, 3, 6, 9, 18]\n"
    }
   ],
   "source": [
    "def divisores():\n",
    "    number_4 = int(input(\"Introduce un número\"))\n",
    "    divisors = []\n",
    "    for x in range(1, (number_4 + 1)):\n",
    "        if number_4 % x == 0:\n",
    "            divisors.append(x)\n",
    "    print(\"Los divisores de\", number_4, \"son:\", divisors)\n",
    "divisores()"
   ]
  },
  {
   "cell_type": "markdown",
   "metadata": {},
   "source": [
    "Exercise 5 \n",
    "\n",
    "Take two lists, say for example these two:\n",
    "\n",
    "  a = [1, 1, 2, 3, 5, 8, 13, 21, 34, 55, 89]\n",
    "  b = [1, 2, 3, 4, 5, 6, 7, 8, 9, 10, 11, 12, 13]\n",
    "\n",
    "and write a program that returns a list that contains only the elements that are common between the lists (without duplicates). Make sure your program works on two lists of different sizes.\n",
    "\n",
    "Extras:\n",
    "\n",
    "    Randomly generate two lists to test this\n",
    "    Write this in one line of Python (don’t worry if you can’t figure this out at this point - we’ll get to it soon)\n",
    "\n",
    "List properties"
   ]
  },
  {
   "cell_type": "code",
   "execution_count": 68,
   "metadata": {},
   "outputs": [],
   "source": [
    "a = [1, 1, 2, 3, 5, 8, 13, 21, 34, 55, 89]\n",
    "b = [1, 2, 3, 4, 5, 6, 7, 8, 9, 10, 11, 12, 13]"
   ]
  },
  {
   "cell_type": "code",
   "execution_count": 84,
   "metadata": {
    "tags": []
   },
   "outputs": [
    {
     "output_type": "stream",
     "name": "stdout",
     "text": "[1, 2, 3, 5, 8, 13]\n"
    }
   ],
   "source": [
    "list_common =[]\n",
    "for elem in a:\n",
    "    if elem in b and elem not in list_common:\n",
    "        list_common.append(elem)\n",
    "for x in b:\n",
    "    if x in a and x not in list_common:\n",
    "        list_common.append(x)\n",
    "print(list_common)"
   ]
  },
  {
   "cell_type": "code",
   "execution_count": 89,
   "metadata": {
    "tags": []
   },
   "outputs": [
    {
     "output_type": "stream",
     "name": "stdout",
     "text": "{1, 2, 3, 34, 5, 8, 13, 21, 55, 89}\n{1, 2, 3, 4, 5, 6, 7, 8, 9, 10, 11, 12, 13}\n[1, 2, 3, 5, 8, 13]\n"
    }
   ],
   "source": [
    "#Resuelto utlizando conjuntos\n",
    "set_a = set(a)\n",
    "set_b = set(b)\n",
    "list_common2 =[]\n",
    "for elem in set_a:\n",
    "    if elem in set_b and elem not in list_common:\n",
    "        list_common2.append(elem)\n",
    "for x in b:\n",
    "    if x in set_a and x not in list_common2:\n",
    "        list_common2.append(x)\n",
    "print(set_a)\n",
    "print(set_b)\n",
    "print(list_common2)\n"
   ]
  },
  {
   "cell_type": "markdown",
   "metadata": {},
   "source": [
    "Exercise 7\n",
    "\n",
    "Let’s say I give you a list saved in a variable: a = [1, 4, 9, 16, 25, 36, 49, 64, 81, 100]. Write one line of Python that takes this list a and makes a new list that has only the even elements of this list in it."
   ]
  },
  {
   "cell_type": "code",
   "execution_count": 45,
   "metadata": {
    "tags": []
   },
   "outputs": [
    {
     "output_type": "stream",
     "name": "stdout",
     "text": "[4, 16, 36, 64, 100]\n"
    }
   ],
   "source": [
    "a = [1, 4, 9, 16, 25, 36, 49, 64, 81, 100]\n",
    "b = [elem for elem in a if elem % 2 == 0]\n",
    "print(b)"
   ]
  },
  {
   "cell_type": "markdown",
   "metadata": {},
   "source": [
    "Exercise 11 (and Solution)\n",
    "\n",
    "Ask the user for a number and determine whether the number is prime or not. (For those who have forgotten, a prime number is a number that has no divisors.)."
   ]
  },
  {
   "cell_type": "code",
   "execution_count": 10,
   "metadata": {
    "tags": []
   },
   "outputs": [
    {
     "output_type": "stream",
     "name": "stdout",
     "text": "23 es un número primo y sus únicos divisores son 1 y  23\n"
    }
   ],
   "source": [
    "number_11 = int(input(\"Introduce un número\"))\n",
    "def prime_number(numero):\n",
    "    divisors = [] \n",
    "    for x in range(1, (number_11 + 1)):\n",
    "        if number_11 % x == 0:\n",
    "            divisors.append(x)\n",
    "    if len(divisors) == 2:\n",
    "        print(number_11, \"es un número primo y sus únicos divisores son 1 y\", number_11)\n",
    "    else:\n",
    "        print(\"Los divisores de\", number_11, \"son:\", divisors)\n",
    "\n",
    "prime_number(number_11)"
   ]
  },
  {
   "cell_type": "code",
   "execution_count": null,
   "metadata": {},
   "outputs": [],
   "source": [
    "number_11 = int(input(\"Introduce un número\"))\n",
    "def prime_number(numero):\n",
    "    divisors = []\n",
    "    for x in range(1, (number_11 + 1)):\n",
    "        if number_11 % x == 0:\n",
    "            divisors.append(x)\n",
    "    \n",
    "    print(\"Los divisores de\", number_11, \"son:\", divisors)\n",
    "prime_number(number_11)"
   ]
  },
  {
   "cell_type": "code",
   "execution_count": 2,
   "metadata": {
    "tags": []
   },
   "outputs": [
    {
     "output_type": "stream",
     "name": "stdout",
     "text": "NOT prime\n"
    }
   ],
   "source": [
    "num = int(input('Insert a number: '))\n",
    "a = [x for x in range(2, num) if num % x == 0]\n",
    "\n",
    "def is_prime(n):\n",
    "\tif num > 1:\n",
    "\t\tif len(a) == 0:\n",
    "\t\t\tprint('prime')\n",
    "\t\telse:\n",
    "\t\t\tprint ('NOT prime')\n",
    "\telse:\n",
    "\t\tprint ('You should insert a number >1')\n",
    "\t\n",
    "is_prime(num)\n",
    "\n"
   ]
  },
  {
   "cell_type": "markdown",
   "metadata": {},
   "source": [
    "Exercise 14\n",
    "\n",
    "Write a program (function!) that takes a list and returns a new list that contains all the elements of the first list minus all the duplicates.\n",
    "\n",
    "Extras:\n",
    "\n",
    "Write two different functions to do this - one using a loop and constructing a list, and another using sets."
   ]
  },
  {
   "cell_type": "code",
   "execution_count": 56,
   "metadata": {},
   "outputs": [],
   "source": [
    "lista_ejer14 = [1, 3, 3, 6, 8 ,9 ,10, 9, 18, 18, 35, 3, 1]"
   ]
  },
  {
   "cell_type": "code",
   "execution_count": 60,
   "metadata": {
    "tags": []
   },
   "outputs": [
    {
     "output_type": "stream",
     "name": "stdout",
     "text": "[1, 3, 6, 8, 9, 10, 18, 35]\nnada\n"
    }
   ],
   "source": [
    "\n",
    "def eliminate_duplicates(lista):\n",
    "\n",
    "    lista_no_duplicates = []\n",
    "    for elem in lista:\n",
    "        if elem not in lista_no_duplicates:\n",
    "            lista_no_duplicates.append(elem)\n",
    "    print(lista_no_duplicates)\n",
    "\n",
    "eliminate_duplicates(lista=lista_ejer14)"
   ]
  },
  {
   "cell_type": "code",
   "execution_count": 62,
   "metadata": {
    "tags": []
   },
   "outputs": [
    {
     "output_type": "stream",
     "name": "stdout",
     "text": "[1, 3, 35, 6, 8, 9, 10, 18]\n"
    }
   ],
   "source": [
    "def eliminate_duplicates(lista):\n",
    "\n",
    "    set_no_duplicates = set(lista)\n",
    "    lista_no_duplicates = list(set_no_duplicates)\n",
    "    return lista_no_duplicates\n",
    "\n",
    "z = eliminate_duplicates(lista=lista_ejer14)\n",
    "print(z)"
   ]
  },
  {
   "cell_type": "code",
   "execution_count": null,
   "metadata": {},
   "outputs": [],
   "source": []
  },
  {
   "cell_type": "code",
   "execution_count": null,
   "metadata": {},
   "outputs": [],
   "source": []
  }
 ],
 "metadata": {
  "language_info": {
   "codemirror_mode": {
    "name": "ipython",
    "version": 3
   },
   "file_extension": ".py",
   "mimetype": "text/x-python",
   "name": "python",
   "nbconvert_exporter": "python",
   "pygments_lexer": "ipython3",
   "version": "3.8.3-final"
  },
  "orig_nbformat": 2,
  "kernelspec": {
   "name": "python3",
   "display_name": "Python 3"
  }
 },
 "nbformat": 4,
 "nbformat_minor": 2
}