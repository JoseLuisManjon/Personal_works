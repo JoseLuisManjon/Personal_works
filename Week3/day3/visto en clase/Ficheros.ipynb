{
 "cells": [
  {
   "cell_type": "code",
   "execution_count": 1,
   "metadata": {},
   "outputs": [],
   "source": [
    "with open('file_to_save.txt', 'a') as open_file: # esto creando un archivo de texto llamado file_to_save-txt\n",
    "    open_file.write('A string to write\\n') #orden para escribir en el archivo \"A string to write\" y \\n significa que despues ejecute un salto de línea."
   ]
  },
  {
   "cell_type": "code",
   "execution_count": 2,
   "metadata": {},
   "outputs": [],
   "source": [
    "with open('file_to_save.txt', 'a') as open_file: # con esto abro el archivo con permiso de escritura(la 'a')\n",
    "    for i in range(3):\n",
    "        open_file.write('A string to write ' + str(i) + '\\n') # el write significa que voy a escribir en el archivo open_file que cree en la ventana anterior y se escribira lo que esta entre parentesis"
   ]
  },
  {
   "cell_type": "code",
   "execution_count": 3,
   "metadata": {
    "tags": []
   },
   "outputs": [
    {
     "output_type": "stream",
     "name": "stdout",
     "text": "A string to write\nA string to write 0\nA string to write 1\nA string to write 2\n\n"
    }
   ],
   "source": [
    "with open('file_to_save.txt', 'r') as open_file: # la 'r' significa que lo abro solo con permiso de lectura\n",
    "    all_text = open_file.read() # aqui ordeno que lea todo el texto que haya en el archivo\n",
    "    print(all_text)"
   ]
  },
  {
   "cell_type": "code",
   "execution_count": 4,
   "metadata": {
    "tags": []
   },
   "outputs": [
    {
     "output_type": "stream",
     "name": "stdout",
     "text": "A string to write\n\nUltima linea: A string to write 1\n\n"
    }
   ],
   "source": [
    "with open('file_to_save.txt', 'r') as open_file:\n",
    "    line = open_file.readline() #¿QUE SIGNICA LA SENTENCIA READLINE\n",
    "    count = 1\n",
    "    while line:\n",
    "        if count == 2:\n",
    "            break\n",
    "        print(line)\n",
    "        line = open_file.readline()\n",
    "        count += 1\n",
    "    line = open_file.readline()\n",
    "    print(\"Ultima linea:\", line)"
   ]
  },
  {
   "cell_type": "code",
   "execution_count": 5,
   "metadata": {
    "tags": []
   },
   "outputs": [
    {
     "output_type": "stream",
     "name": "stdout",
     "text": "A string to write\n\n"
    }
   ],
   "source": [
    "# La buena practica es utilizarlo de esta manera\n",
    "with open('file_to_save.txt', 'r') as open_file:\n",
    "    line = open_file.readline()\n",
    "    count = 0\n",
    "    while line:\n",
    "        print(line)\n",
    "        break\n",
    "        line = open_file.readline()"
   ]
  },
  {
   "cell_type": "code",
   "execution_count": null,
   "metadata": {},
   "outputs": [],
   "source": [
    "with open('file_to_save.txt', 'r') as open_file:\n",
    "    line = open_file.readline()\n",
    "    count = 0\n",
    "    while line:\n",
    "        print(line)\n",
    "        break\n",
    "        line = open_file.readline()"
   ]
  },
  {
   "cell_type": "code",
   "execution_count": null,
   "metadata": {},
   "outputs": [],
   "source": [
    "# La buena practica es utilizarlo de esta manera para que me muestre todo lo que está escrito en el fichero\n",
    "with open('file_to_save.txt', 'r') as open_file:\n",
    "    line = open_file.readline()\n",
    "    while line:\n",
    "        print(line)\n",
    "        line = open_file.readline()"
   ]
  },
  {
   "cell_type": "code",
   "execution_count": null,
   "metadata": {},
   "outputs": [],
   "source": [
    "# Si lo que quiero es que me diga si en el fichero hay un 1, me va a imprimir la linea y se va a parar\n",
    "with open('file_to_save.txt', 'r') as open_file:\n",
    "    line = open_file.readline()\n",
    "    while line:\n",
    "        if \"1\" in line:\n",
    "            print´(line)\n",
    "                break\n",
    "        print(line)\n",
    "        line = open_file.readline()"
   ]
  },
  {
   "cell_type": "code",
   "execution_count": null,
   "metadata": {},
   "outputs": [],
   "source": [
    "# imaginemos un archivo con datos que tiene nombres y dinero separados por una coma\n",
    "with open('file_to_save.txt', 'r') as open_file:\n",
    "    line = open_file.readline()\n",
    "    while line:\n",
    "        if \",\" in line:\n",
    "            lista:strings = line.split(\",\")\n",
    "            nombre = lista_strings[0]\n",
    "            nombre = lista_strings[1]\n",
    "            print(\"Nombre\", )\n",
    "            print(\"Dinero\",)\n",
    "                break\n",
    "        print(line)\n",
    "        line = open_file.readline()"
   ]
  }
 ],
 "metadata": {
  "language_info": {
   "name": "python",
   "codemirror_mode": {
    "name": "ipython",
    "version": 3
   },
   "version": "3.7.6-final"
  },
  "orig_nbformat": 2,
  "file_extension": ".py",
  "mimetype": "text/x-python",
  "name": "python",
  "npconvert_exporter": "python",
  "pygments_lexer": "ipython3",
  "version": 3,
  "kernelspec": {
   "name": "python3",
   "display_name": "Python 3"
  }
 },
 "nbformat": 4,
 "nbformat_minor": 2
}