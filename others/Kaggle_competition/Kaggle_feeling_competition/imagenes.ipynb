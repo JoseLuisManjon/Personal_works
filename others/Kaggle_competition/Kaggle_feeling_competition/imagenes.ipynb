{
 "cells": [
  {
   "cell_type": "markdown",
   "metadata": {},
   "source": [
    "Es un ejemplo de como pasar unas imagenes (en array) que están en un csv (al final de una ruta) a una columna de un daframe"
   ]
  },
  {
   "cell_type": "code",
   "execution_count": 2,
   "metadata": {},
   "outputs": [],
   "source": [
    "import cv2\n",
    "import pandas as pd"
   ]
  },
  {
   "cell_type": "code",
   "execution_count": null,
   "metadata": {},
   "outputs": [],
   "source": [
    "# Paso el csv a un dataframe\n",
    "train_set = pd.read_csv(\"train_set.csv\")"
   ]
  },
  {
   "cell_type": "code",
   "execution_count": 4,
   "metadata": {},
   "outputs": [
    {
     "data": {
      "text/html": [
       "<div>\n",
       "<style scoped>\n",
       "    .dataframe tbody tr th:only-of-type {\n",
       "        vertical-align: middle;\n",
       "    }\n",
       "\n",
       "    .dataframe tbody tr th {\n",
       "        vertical-align: top;\n",
       "    }\n",
       "\n",
       "    .dataframe thead th {\n",
       "        text-align: right;\n",
       "    }\n",
       "</style>\n",
       "<table border=\"1\" class=\"dataframe\">\n",
       "  <thead>\n",
       "    <tr style=\"text-align: right;\">\n",
       "      <th></th>\n",
       "      <th>label</th>\n",
       "      <th>id_img</th>\n",
       "      <th>path</th>\n",
       "    </tr>\n",
       "  </thead>\n",
       "  <tbody>\n",
       "    <tr>\n",
       "      <th>0</th>\n",
       "      <td>happy</td>\n",
       "      <td>22373</td>\n",
       "      <td>happy/22373.jpg</td>\n",
       "    </tr>\n",
       "    <tr>\n",
       "      <th>1</th>\n",
       "      <td>happy</td>\n",
       "      <td>21433</td>\n",
       "      <td>happy/21433.jpg</td>\n",
       "    </tr>\n",
       "    <tr>\n",
       "      <th>2</th>\n",
       "      <td>happy</td>\n",
       "      <td>12418</td>\n",
       "      <td>happy/12418.jpg</td>\n",
       "    </tr>\n",
       "    <tr>\n",
       "      <th>3</th>\n",
       "      <td>happy</td>\n",
       "      <td>21278</td>\n",
       "      <td>happy/21278.jpg</td>\n",
       "    </tr>\n",
       "    <tr>\n",
       "      <th>4</th>\n",
       "      <td>happy</td>\n",
       "      <td>8081</td>\n",
       "      <td>happy/08081.jpg</td>\n",
       "    </tr>\n",
       "  </tbody>\n",
       "</table>\n",
       "</div>"
      ],
      "text/plain": [
       "   label  id_img             path\n",
       "0  happy   22373  happy/22373.jpg\n",
       "1  happy   21433  happy/21433.jpg\n",
       "2  happy   12418  happy/12418.jpg\n",
       "3  happy   21278  happy/21278.jpg\n",
       "4  happy    8081  happy/08081.jpg"
      ]
     },
     "execution_count": 4,
     "metadata": {},
     "output_type": "execute_result"
    }
   ],
   "source": [
    "# Veo donde estan las fotos, al final de una ruta de carpetas.\n",
    "train_set.head()"
   ]
  },
  {
   "cell_type": "code",
   "execution_count": 6,
   "metadata": {},
   "outputs": [],
   "source": [
    "#Con esta función lambda y cv2.cvtColor convierto  estas \n",
    "train_set['array'] = train_set['path'].apply(lambda x: cv2.cvtColor(cv2.imread(\"totrain/totrain/\"+x), cv2.COLOR_BGR2GRAY))"
   ]
  },
  {
   "cell_type": "code",
   "execution_count": 7,
   "metadata": {},
   "outputs": [
    {
     "data": {
      "text/html": [
       "<div>\n",
       "<style scoped>\n",
       "    .dataframe tbody tr th:only-of-type {\n",
       "        vertical-align: middle;\n",
       "    }\n",
       "\n",
       "    .dataframe tbody tr th {\n",
       "        vertical-align: top;\n",
       "    }\n",
       "\n",
       "    .dataframe thead th {\n",
       "        text-align: right;\n",
       "    }\n",
       "</style>\n",
       "<table border=\"1\" class=\"dataframe\">\n",
       "  <thead>\n",
       "    <tr style=\"text-align: right;\">\n",
       "      <th></th>\n",
       "      <th>label</th>\n",
       "      <th>id_img</th>\n",
       "      <th>path</th>\n",
       "      <th>array</th>\n",
       "    </tr>\n",
       "  </thead>\n",
       "  <tbody>\n",
       "    <tr>\n",
       "      <th>0</th>\n",
       "      <td>happy</td>\n",
       "      <td>22373</td>\n",
       "      <td>happy/22373.jpg</td>\n",
       "      <td>[[25, 44, 56, 68, 88, 98, 93, 92, 105, 120, 13...</td>\n",
       "    </tr>\n",
       "    <tr>\n",
       "      <th>1</th>\n",
       "      <td>happy</td>\n",
       "      <td>21433</td>\n",
       "      <td>happy/21433.jpg</td>\n",
       "      <td>[[33, 29, 22, 18, 19, 23, 22, 19, 20, 23, 14, ...</td>\n",
       "    </tr>\n",
       "    <tr>\n",
       "      <th>2</th>\n",
       "      <td>happy</td>\n",
       "      <td>12418</td>\n",
       "      <td>happy/12418.jpg</td>\n",
       "      <td>[[35, 43, 66, 84, 71, 41, 36, 53, 97, 56, 100,...</td>\n",
       "    </tr>\n",
       "    <tr>\n",
       "      <th>3</th>\n",
       "      <td>happy</td>\n",
       "      <td>21278</td>\n",
       "      <td>happy/21278.jpg</td>\n",
       "      <td>[[118, 124, 132, 126, 127, 139, 67, 38, 33, 29...</td>\n",
       "    </tr>\n",
       "    <tr>\n",
       "      <th>4</th>\n",
       "      <td>happy</td>\n",
       "      <td>8081</td>\n",
       "      <td>happy/08081.jpg</td>\n",
       "      <td>[[201, 209, 193, 107, 106, 107, 98, 114, 144, ...</td>\n",
       "    </tr>\n",
       "    <tr>\n",
       "      <th>...</th>\n",
       "      <td>...</td>\n",
       "      <td>...</td>\n",
       "      <td>...</td>\n",
       "      <td>...</td>\n",
       "    </tr>\n",
       "    <tr>\n",
       "      <th>6171</th>\n",
       "      <td>sadness</td>\n",
       "      <td>11346</td>\n",
       "      <td>sadness/11346.jpg</td>\n",
       "      <td>[[167, 180, 196, 171, 101, 50, 52, 70, 55, 49,...</td>\n",
       "    </tr>\n",
       "    <tr>\n",
       "      <th>6172</th>\n",
       "      <td>sadness</td>\n",
       "      <td>4441</td>\n",
       "      <td>sadness/04441.jpg</td>\n",
       "      <td>[[163, 154, 128, 116, 121, 106, 90, 99, 115, 1...</td>\n",
       "    </tr>\n",
       "    <tr>\n",
       "      <th>6173</th>\n",
       "      <td>sadness</td>\n",
       "      <td>15236</td>\n",
       "      <td>sadness/15236.jpg</td>\n",
       "      <td>[[109, 25, 29, 33, 55, 65, 82, 87, 147, 179, 1...</td>\n",
       "    </tr>\n",
       "    <tr>\n",
       "      <th>6174</th>\n",
       "      <td>sadness</td>\n",
       "      <td>27361</td>\n",
       "      <td>sadness/27361.jpg</td>\n",
       "      <td>[[62, 64, 67, 52, 57, 65, 50, 55, 117, 179, 15...</td>\n",
       "    </tr>\n",
       "    <tr>\n",
       "      <th>6175</th>\n",
       "      <td>sadness</td>\n",
       "      <td>25239</td>\n",
       "      <td>sadness/25239.jpg</td>\n",
       "      <td>[[163, 167, 123, 78, 50, 30, 26, 14, 7, 12, 50...</td>\n",
       "    </tr>\n",
       "  </tbody>\n",
       "</table>\n",
       "<p>6176 rows × 4 columns</p>\n",
       "</div>"
      ],
      "text/plain": [
       "        label  id_img               path  \\\n",
       "0       happy   22373    happy/22373.jpg   \n",
       "1       happy   21433    happy/21433.jpg   \n",
       "2       happy   12418    happy/12418.jpg   \n",
       "3       happy   21278    happy/21278.jpg   \n",
       "4       happy    8081    happy/08081.jpg   \n",
       "...       ...     ...                ...   \n",
       "6171  sadness   11346  sadness/11346.jpg   \n",
       "6172  sadness    4441  sadness/04441.jpg   \n",
       "6173  sadness   15236  sadness/15236.jpg   \n",
       "6174  sadness   27361  sadness/27361.jpg   \n",
       "6175  sadness   25239  sadness/25239.jpg   \n",
       "\n",
       "                                                  array  \n",
       "0     [[25, 44, 56, 68, 88, 98, 93, 92, 105, 120, 13...  \n",
       "1     [[33, 29, 22, 18, 19, 23, 22, 19, 20, 23, 14, ...  \n",
       "2     [[35, 43, 66, 84, 71, 41, 36, 53, 97, 56, 100,...  \n",
       "3     [[118, 124, 132, 126, 127, 139, 67, 38, 33, 29...  \n",
       "4     [[201, 209, 193, 107, 106, 107, 98, 114, 144, ...  \n",
       "...                                                 ...  \n",
       "6171  [[167, 180, 196, 171, 101, 50, 52, 70, 55, 49,...  \n",
       "6172  [[163, 154, 128, 116, 121, 106, 90, 99, 115, 1...  \n",
       "6173  [[109, 25, 29, 33, 55, 65, 82, 87, 147, 179, 1...  \n",
       "6174  [[62, 64, 67, 52, 57, 65, 50, 55, 117, 179, 15...  \n",
       "6175  [[163, 167, 123, 78, 50, 30, 26, 14, 7, 12, 50...  \n",
       "\n",
       "[6176 rows x 4 columns]"
      ]
     },
     "execution_count": 7,
     "metadata": {},
     "output_type": "execute_result"
    }
   ],
   "source": [
    "train_set"
   ]
  },
  {
   "cell_type": "markdown",
   "metadata": {},
   "source": [
    "Ahora mi target será la columna label (que tendre que categorizrla) y la variable que va a clasificarel modelo que construiré (la X) será la columna array"
   ]
  }
 ],
 "metadata": {
  "kernelspec": {
   "name": "Python 3.8.3 64-bit",
   "display_name": "Python 3.8.3 64-bit",
   "metadata": {
    "interpreter": {
     "hash": "1baa965d5efe3ac65b79dfc60c0d706280b1da80fedb7760faf2759126c4f253"
    }
   }
  },
  "language_info": {
   "codemirror_mode": {
    "name": "ipython",
    "version": 3
   },
   "file_extension": ".py",
   "mimetype": "text/x-python",
   "name": "python",
   "nbconvert_exporter": "python",
   "pygments_lexer": "ipython3",
   "version": "3.8.3-final"
  }
 },
 "nbformat": 4,
 "nbformat_minor": 4
}