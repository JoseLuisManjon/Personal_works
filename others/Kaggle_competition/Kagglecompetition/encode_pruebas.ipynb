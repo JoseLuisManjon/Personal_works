{
 "metadata": {
  "language_info": {
   "codemirror_mode": {
    "name": "ipython",
    "version": 3
   },
   "file_extension": ".py",
   "mimetype": "text/x-python",
   "name": "python",
   "nbconvert_exporter": "python",
   "pygments_lexer": "ipython3",
   "version": "3.8.3-final"
  },
  "orig_nbformat": 2,
  "kernelspec": {
   "name": "python38364bit18bed457b1c14dc58302f83e4c9dad67",
   "display_name": "Python 3.8.3 64-bit"
  }
 },
 "nbformat": 4,
 "nbformat_minor": 2,
 "cells": [
  {
   "cell_type": "code",
   "execution_count": 1,
   "metadata": {
    "tags": []
   },
   "outputs": [
    {
     "output_type": "stream",
     "name": "stdout",
     "text": "[0 0 1 0 0 2 0 2 2 0 2 0 0 2 1 1 1 0 0 2 2 0 2 1 1 0 0 2 2 2]\n"
    }
   ],
   "source": [
    "import pandas as pd\n",
    "from sklearn import preprocessing\n",
    "from sklearn.model_selection import train_test_split\n",
    "from sklearn.neural_network import MLPClassifier\n",
    "from sklearn.metrics import classification_report, confusion_matrix \n",
    "\n",
    "\n",
    "# Location of dataset\n",
    "url = \"https://archive.ics.uci.edu/ml/machine-learning-databases/iris/iris.data\"\n",
    "\n",
    "# Assign colum names to the dataset\n",
    "names = ['sepal-length', 'sepal-width', 'petal-length', 'petal-width', 'Class']\n",
    "\n",
    "# Read dataset to pandas dataframe\n",
    "irisdata = pd.read_csv(url, names=names)  \n",
    "\n",
    "irisdata.head()\n",
    "#head_tableau=irisdata.head()\n",
    "#print(head_tableau)\n",
    "\n",
    "# Assign data from first four columns to X variable\n",
    "X = irisdata.iloc[:, 0:4]\n",
    "\n",
    "# Assign data from first fifth columns to y variable\n",
    "y = irisdata.select_dtypes(include=[object])  \n",
    "\n",
    "y.head()\n",
    "#afficher_y=y.head()\n",
    "#print(afficher_y)\n",
    "\n",
    "y.Class.unique()\n",
    "#affiche=y.Class.unique()\n",
    "#print(affiche)\n",
    "\n",
    "le = preprocessing.LabelEncoder()\n",
    "\n",
    "y = y.apply(le.fit_transform)  \n",
    "\n",
    "X_train, X_test, y_train, y_test = train_test_split(X, y, test_size = 0.20)\n",
    "\n",
    "mlp = MLPClassifier(hidden_layer_sizes=(10, 10, 10), max_iter=1000)  \n",
    "mlp.fit(X_train, y_train.values.ravel())\n",
    "\n",
    "predictions = mlp.predict(X_test)\n",
    "predictions)"
   ]
  },
  {
   "cell_type": "code",
   "execution_count": 2,
   "metadata": {},
   "outputs": [
    {
     "output_type": "execute_result",
     "data": {
      "text/plain": "array([0, 0, 1, 0, 0, 2, 0, 2, 2, 0, 2, 0, 0, 2, 1, 1, 1, 0, 0, 2, 2, 0,\n       2, 1, 1, 0, 0, 2, 2, 2])"
     },
     "metadata": {},
     "execution_count": 2
    }
   ],
   "source": [
    "predictions"
   ]
  },
  {
   "cell_type": "code",
   "execution_count": 3,
   "metadata": {},
   "outputs": [
    {
     "output_type": "execute_result",
     "data": {
      "text/plain": "array(['Iris-setosa', 'Iris-setosa', 'Iris-versicolor', 'Iris-setosa',\n       'Iris-setosa', 'Iris-virginica', 'Iris-setosa', 'Iris-virginica',\n       'Iris-virginica', 'Iris-setosa', 'Iris-virginica', 'Iris-setosa',\n       'Iris-setosa', 'Iris-virginica', 'Iris-versicolor',\n       'Iris-versicolor', 'Iris-versicolor', 'Iris-setosa', 'Iris-setosa',\n       'Iris-virginica', 'Iris-virginica', 'Iris-setosa',\n       'Iris-virginica', 'Iris-versicolor', 'Iris-versicolor',\n       'Iris-setosa', 'Iris-setosa', 'Iris-virginica', 'Iris-virginica',\n       'Iris-virginica'], dtype=object)"
     },
     "metadata": {},
     "execution_count": 3
    }
   ],
   "source": [
    "le.inverse_transform(predictions)"
   ]
  },
  {
   "cell_type": "code",
   "execution_count": null,
   "metadata": {},
   "outputs": [],
   "source": []
  }
 ]
}