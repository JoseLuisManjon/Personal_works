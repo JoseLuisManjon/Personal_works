{
 "metadata": {
  "language_info": {
   "codemirror_mode": {
    "name": "ipython",
    "version": 3
   },
   "file_extension": ".py",
   "mimetype": "text/x-python",
   "name": "python",
   "nbconvert_exporter": "python",
   "pygments_lexer": "ipython3",
   "version": "3.8.3-final"
  },
  "orig_nbformat": 2,
  "kernelspec": {
   "name": "Python 3.8.3 64-bit",
   "display_name": "Python 3.8.3 64-bit",
   "metadata": {
    "interpreter": {
     "hash": "1baa965d5efe3ac65b79dfc60c0d706280b1da80fedb7760faf2759126c4f253"
    }
   }
  }
 },
 "nbformat": 4,
 "nbformat_minor": 2,
 "cells": [
  {
   "cell_type": "code",
   "execution_count": 6,
   "metadata": {},
   "outputs": [],
   "source": [
    "import pandas as pd"
   ]
  },
  {
   "cell_type": "code",
   "execution_count": 4,
   "metadata": {},
   "outputs": [],
   "source": [
    "future_days = list(range(14897, 14917))"
   ]
  },
  {
   "cell_type": "code",
   "execution_count": 5,
   "metadata": {},
   "outputs": [
    {
     "output_type": "execute_result",
     "data": {
      "text/plain": [
       "20"
      ]
     },
     "metadata": {},
     "execution_count": 5
    }
   ],
   "source": [
    "len(future_days)"
   ]
  },
  {
   "cell_type": "code",
   "execution_count": null,
   "metadata": {},
   "outputs": [],
   "source": [
    "days_to_predeict = pd.DataFrame({'fecha': [1, 2, 3], 'number of day': ['red', 'white', 'blue']}, \n",
    "                  columns=['numbers', 'colors'])"
   ]
  },
  {
   "cell_type": "code",
   "execution_count": 8,
   "metadata": {},
   "outputs": [
    {
     "output_type": "stream",
     "name": "stdout",
     "text": [
      "Day: DatetimeIndex(['2020-10-14', '2020-10-15', '2020-10-16', '2020-10-17',\n               '2020-10-18', '2020-10-19', '2020-10-20', '2020-10-21',\n               '2020-10-22', '2020-10-23', '2020-10-24', '2020-10-25',\n               '2020-10-26', '2020-10-27', '2020-10-28', '2020-10-29',\n               '2020-10-30', '2020-10-31', '2020-11-01', '2020-11-02'],\n              dtype='datetime64[ns]', freq='D')\n"
     ]
    }
   ],
   "source": [
    "dates_d = pd.date_range('20201014', periods=20, freq='D')\n",
    "print('Day:', dates_d)"
   ]
  },
  {
   "cell_type": "code",
   "execution_count": 15,
   "metadata": {},
   "outputs": [
    {
     "output_type": "execute_result",
     "data": {
      "text/plain": [
       "       fecha  day number\n",
       "0 2020-10-14       14897\n",
       "1 2020-10-15       14898\n",
       "2 2020-10-16       14899\n",
       "3 2020-10-17       14900\n",
       "4 2020-10-18       14901"
      ],
      "text/html": "<div>\n<style scoped>\n    .dataframe tbody tr th:only-of-type {\n        vertical-align: middle;\n    }\n\n    .dataframe tbody tr th {\n        vertical-align: top;\n    }\n\n    .dataframe thead th {\n        text-align: right;\n    }\n</style>\n<table border=\"1\" class=\"dataframe\">\n  <thead>\n    <tr style=\"text-align: right;\">\n      <th></th>\n      <th>fecha</th>\n      <th>day number</th>\n    </tr>\n  </thead>\n  <tbody>\n    <tr>\n      <th>0</th>\n      <td>2020-10-14</td>\n      <td>14897</td>\n    </tr>\n    <tr>\n      <th>1</th>\n      <td>2020-10-15</td>\n      <td>14898</td>\n    </tr>\n    <tr>\n      <th>2</th>\n      <td>2020-10-16</td>\n      <td>14899</td>\n    </tr>\n    <tr>\n      <th>3</th>\n      <td>2020-10-17</td>\n      <td>14900</td>\n    </tr>\n    <tr>\n      <th>4</th>\n      <td>2020-10-18</td>\n      <td>14901</td>\n    </tr>\n  </tbody>\n</table>\n</div>"
     },
     "metadata": {},
     "execution_count": 15
    }
   ],
   "source": [
    "days_to_predict = pd.DataFrame({'fecha': dates_d, 'day number': future_days}, \n",
    "                  columns=['fecha','day number' ])\n",
    "days_to_predict.head()"
   ]
  },
  {
   "cell_type": "code",
   "execution_count": 16,
   "metadata": {},
   "outputs": [],
   "source": [
    "days_to_predict.set_index('day number',inplace=True)"
   ]
  },
  {
   "cell_type": "code",
   "execution_count": 18,
   "metadata": {},
   "outputs": [
    {
     "output_type": "execute_result",
     "data": {
      "text/plain": [
       "                fecha\n",
       "day number           \n",
       "14897      2020-10-14\n",
       "14898      2020-10-15\n",
       "14899      2020-10-16\n",
       "14900      2020-10-17\n",
       "14901      2020-10-18"
      ],
      "text/html": "<div>\n<style scoped>\n    .dataframe tbody tr th:only-of-type {\n        vertical-align: middle;\n    }\n\n    .dataframe tbody tr th {\n        vertical-align: top;\n    }\n\n    .dataframe thead th {\n        text-align: right;\n    }\n</style>\n<table border=\"1\" class=\"dataframe\">\n  <thead>\n    <tr style=\"text-align: right;\">\n      <th></th>\n      <th>fecha</th>\n    </tr>\n    <tr>\n      <th>day number</th>\n      <th></th>\n    </tr>\n  </thead>\n  <tbody>\n    <tr>\n      <th>14897</th>\n      <td>2020-10-14</td>\n    </tr>\n    <tr>\n      <th>14898</th>\n      <td>2020-10-15</td>\n    </tr>\n    <tr>\n      <th>14899</th>\n      <td>2020-10-16</td>\n    </tr>\n    <tr>\n      <th>14900</th>\n      <td>2020-10-17</td>\n    </tr>\n    <tr>\n      <th>14901</th>\n      <td>2020-10-18</td>\n    </tr>\n  </tbody>\n</table>\n</div>"
     },
     "metadata": {},
     "execution_count": 18
    }
   ],
   "source": [
    "days_to_predict.head()"
   ]
  },
  {
   "cell_type": "code",
   "execution_count": null,
   "metadata": {},
   "outputs": [],
   "source": [
    "tmax_future = np.array(days_to_predict)"
   ]
  }
 ]
}