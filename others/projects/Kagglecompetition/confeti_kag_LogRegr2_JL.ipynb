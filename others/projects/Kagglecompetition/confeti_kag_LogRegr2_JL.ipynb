{
 "cells": [
  {
   "cell_type": "markdown",
   "metadata": {},
   "source": [
    "![image](how.png)"
   ]
  },
  {
   "cell_type": "markdown",
   "metadata": {},
   "source": [
    "**\"Should I Stay or Should i Go (from the Hospital)\"**"
   ]
  },
  {
   "cell_type": "code",
   "execution_count": 71,
   "metadata": {},
   "outputs": [],
   "source": [
    "import pandas as pd\n",
    "import numpy as np\n",
    "from numpy import mean\n",
    "from numpy import std\n",
    "from sklearn import linear_model\n",
    "# la otra forma, pero lo mismo: from sklearn.linear_model import LogisticRegression\n",
    "from sklearn.model_selection import train_test_split\n",
    "from sklearn.metrics import accuracy_score \n",
    "from sklearn.preprocessing import LabelEncoder\n",
    "\n",
    "import warnings\n",
    "warnings.filterwarnings('ignore')"
   ]
  },
  {
   "cell_type": "code",
   "execution_count": 72,
   "metadata": {},
   "outputs": [],
   "source": [
    "df = pd.read_csv(\"train_set.csv\")"
   ]
  },
  {
   "cell_type": "code",
   "execution_count": 73,
   "metadata": {
    "tags": []
   },
   "outputs": [
    {
     "output_type": "stream",
     "name": "stdout",
     "text": "<class 'pandas.core.frame.DataFrame'>\nRangeIndex: 100000 entries, 0 to 99999\nData columns (total 18 columns):\n #   Column  Non-Null Count   Dtype  \n---  ------  --------------   -----  \n 0   0       100000 non-null  int64  \n 1   1       100000 non-null  int64  \n 2   2       100000 non-null  object \n 3   3       100000 non-null  int64  \n 4   4       100000 non-null  object \n 5   5       100000 non-null  int64  \n 6   6       100000 non-null  object \n 7   7       100000 non-null  object \n 8   8       100000 non-null  object \n 9   9       99967 non-null   float64\n 10  10      100000 non-null  int64  \n 11  11      98517 non-null   float64\n 12  12      100000 non-null  object \n 13  13      100000 non-null  object \n 14  14      100000 non-null  int64  \n 15  15      100000 non-null  object \n 16  16      100000 non-null  float64\n 17  17      100000 non-null  object \ndtypes: float64(3), int64(6), object(9)\nmemory usage: 13.7+ MB\n"
    }
   ],
   "source": [
    "df.info()"
   ]
  },
  {
   "cell_type": "code",
   "execution_count": 74,
   "metadata": {},
   "outputs": [
    {
     "output_type": "execute_result",
     "data": {
      "text/plain": "        0   1  2  3  4  5           6  7  8    9      10    11         12  \\\n0  161528   6  a  6  X  2  gynecology  R  F  4.0   45810   2.0     Urgent   \n1  159472  23  a  6  X  4  gynecology  Q  F  2.0  128565  15.0     Trauma   \n2  309765   2  c  5  Z  2  anesthesia  S  F  3.0   46565   5.0     Urgent   \n3  279614  32  f  9  Y  3  gynecology  S  B  4.0  124546   6.0  Emergency   \n4  147791  14  a  1  X  3  gynecology  S  E  2.0   22729   8.0     Urgent   \n\n         13  14     15      16     17  \n0  Moderate   2  21-30  2817.0   0-10  \n1  Moderate   4  51-60  4498.0  21-30  \n2  Moderate   2  71-80  4573.0  11-20  \n3  Moderate   4  11-20  7202.0  51-60  \n4  Moderate   2  51-60  3398.0  51-60  ",
      "text/html": "<div>\n<style scoped>\n    .dataframe tbody tr th:only-of-type {\n        vertical-align: middle;\n    }\n\n    .dataframe tbody tr th {\n        vertical-align: top;\n    }\n\n    .dataframe thead th {\n        text-align: right;\n    }\n</style>\n<table border=\"1\" class=\"dataframe\">\n  <thead>\n    <tr style=\"text-align: right;\">\n      <th></th>\n      <th>0</th>\n      <th>1</th>\n      <th>2</th>\n      <th>3</th>\n      <th>4</th>\n      <th>5</th>\n      <th>6</th>\n      <th>7</th>\n      <th>8</th>\n      <th>9</th>\n      <th>10</th>\n      <th>11</th>\n      <th>12</th>\n      <th>13</th>\n      <th>14</th>\n      <th>15</th>\n      <th>16</th>\n      <th>17</th>\n    </tr>\n  </thead>\n  <tbody>\n    <tr>\n      <th>0</th>\n      <td>161528</td>\n      <td>6</td>\n      <td>a</td>\n      <td>6</td>\n      <td>X</td>\n      <td>2</td>\n      <td>gynecology</td>\n      <td>R</td>\n      <td>F</td>\n      <td>4.0</td>\n      <td>45810</td>\n      <td>2.0</td>\n      <td>Urgent</td>\n      <td>Moderate</td>\n      <td>2</td>\n      <td>21-30</td>\n      <td>2817.0</td>\n      <td>0-10</td>\n    </tr>\n    <tr>\n      <th>1</th>\n      <td>159472</td>\n      <td>23</td>\n      <td>a</td>\n      <td>6</td>\n      <td>X</td>\n      <td>4</td>\n      <td>gynecology</td>\n      <td>Q</td>\n      <td>F</td>\n      <td>2.0</td>\n      <td>128565</td>\n      <td>15.0</td>\n      <td>Trauma</td>\n      <td>Moderate</td>\n      <td>4</td>\n      <td>51-60</td>\n      <td>4498.0</td>\n      <td>21-30</td>\n    </tr>\n    <tr>\n      <th>2</th>\n      <td>309765</td>\n      <td>2</td>\n      <td>c</td>\n      <td>5</td>\n      <td>Z</td>\n      <td>2</td>\n      <td>anesthesia</td>\n      <td>S</td>\n      <td>F</td>\n      <td>3.0</td>\n      <td>46565</td>\n      <td>5.0</td>\n      <td>Urgent</td>\n      <td>Moderate</td>\n      <td>2</td>\n      <td>71-80</td>\n      <td>4573.0</td>\n      <td>11-20</td>\n    </tr>\n    <tr>\n      <th>3</th>\n      <td>279614</td>\n      <td>32</td>\n      <td>f</td>\n      <td>9</td>\n      <td>Y</td>\n      <td>3</td>\n      <td>gynecology</td>\n      <td>S</td>\n      <td>B</td>\n      <td>4.0</td>\n      <td>124546</td>\n      <td>6.0</td>\n      <td>Emergency</td>\n      <td>Moderate</td>\n      <td>4</td>\n      <td>11-20</td>\n      <td>7202.0</td>\n      <td>51-60</td>\n    </tr>\n    <tr>\n      <th>4</th>\n      <td>147791</td>\n      <td>14</td>\n      <td>a</td>\n      <td>1</td>\n      <td>X</td>\n      <td>3</td>\n      <td>gynecology</td>\n      <td>S</td>\n      <td>E</td>\n      <td>2.0</td>\n      <td>22729</td>\n      <td>8.0</td>\n      <td>Urgent</td>\n      <td>Moderate</td>\n      <td>2</td>\n      <td>51-60</td>\n      <td>3398.0</td>\n      <td>51-60</td>\n    </tr>\n  </tbody>\n</table>\n</div>"
     },
     "metadata": {},
     "execution_count": 74
    }
   ],
   "source": [
    "df.head()"
   ]
  },
  {
   "cell_type": "code",
   "execution_count": 75,
   "metadata": {},
   "outputs": [],
   "source": [
    "# Obtengo un daframe que contiene solamente la columna 0 que luego necesitare que el modelo aprenda\n",
    "df_0 = df['0']"
   ]
  },
  {
   "cell_type": "code",
   "execution_count": 76,
   "metadata": {},
   "outputs": [
    {
     "output_type": "execute_result",
     "data": {
      "text/plain": "2.0    38947\n3.0    34560\n4.0    18100\n1.0     8393\nName: 9, dtype: int64"
     },
     "metadata": {},
     "execution_count": 76
    }
   ],
   "source": [
    "df_p = df.copy()\n",
    "df_p['9'] = df_p['9'].interpolate(method='nearest')\n",
    "df_p['9'].value_counts()"
   ]
  },
  {
   "cell_type": "code",
   "execution_count": 77,
   "metadata": {
    "tags": []
   },
   "outputs": [
    {
     "output_type": "stream",
     "name": "stdout",
     "text": "<class 'pandas.core.frame.DataFrame'>\nRangeIndex: 100000 entries, 0 to 99999\nData columns (total 18 columns):\n #   Column  Non-Null Count   Dtype  \n---  ------  --------------   -----  \n 0   0       100000 non-null  int64  \n 1   1       100000 non-null  int64  \n 2   2       100000 non-null  object \n 3   3       100000 non-null  int64  \n 4   4       100000 non-null  object \n 5   5       100000 non-null  int64  \n 6   6       100000 non-null  object \n 7   7       100000 non-null  object \n 8   8       100000 non-null  object \n 9   9       100000 non-null  float64\n 10  10      100000 non-null  int64  \n 11  11      98517 non-null   float64\n 12  12      100000 non-null  object \n 13  13      100000 non-null  object \n 14  14      100000 non-null  int64  \n 15  15      100000 non-null  object \n 16  16      100000 non-null  float64\n 17  17      100000 non-null  object \ndtypes: float64(3), int64(6), object(9)\nmemory usage: 13.7+ MB\n"
    }
   ],
   "source": [
    "df_p.info()"
   ]
  },
  {
   "cell_type": "code",
   "execution_count": 8,
   "metadata": {},
   "outputs": [],
   "source": [
    "# Los Nan en la columna 11 son casi 1500 y como la columna es el código de la ciudad de origen del paciente, decido no usarla al igual que la 4, 10, 12, 16\n"
   ]
  },
  {
   "cell_type": "code",
   "execution_count": 36,
   "metadata": {},
   "outputs": [],
   "source": [
    "# Convierto todos los datos que son float a integer en columnas que me interesan\n",
    "#df_p[['9', '16']] = df_p[['9','16']].astype(int)"
   ]
  },
  {
   "cell_type": "code",
   "execution_count": 78,
   "metadata": {},
   "outputs": [
    {
     "output_type": "execute_result",
     "data": {
      "text/plain": "        0   1  2  3  4  5           6  7  8    9      10    11         12  \\\n0  161528   6  a  6  X  2  gynecology  R  F  4.0   45810   2.0     Urgent   \n1  159472  23  a  6  X  4  gynecology  Q  F  2.0  128565  15.0     Trauma   \n2  309765   2  c  5  Z  2  anesthesia  S  F  3.0   46565   5.0     Urgent   \n3  279614  32  f  9  Y  3  gynecology  S  B  4.0  124546   6.0  Emergency   \n4  147791  14  a  1  X  3  gynecology  S  E  2.0   22729   8.0     Urgent   \n\n         13  14     15      16     17  \n0  Moderate   2  21-30  2817.0   0-10  \n1  Moderate   4  51-60  4498.0  21-30  \n2  Moderate   2  71-80  4573.0  11-20  \n3  Moderate   4  11-20  7202.0  51-60  \n4  Moderate   2  51-60  3398.0  51-60  ",
      "text/html": "<div>\n<style scoped>\n    .dataframe tbody tr th:only-of-type {\n        vertical-align: middle;\n    }\n\n    .dataframe tbody tr th {\n        vertical-align: top;\n    }\n\n    .dataframe thead th {\n        text-align: right;\n    }\n</style>\n<table border=\"1\" class=\"dataframe\">\n  <thead>\n    <tr style=\"text-align: right;\">\n      <th></th>\n      <th>0</th>\n      <th>1</th>\n      <th>2</th>\n      <th>3</th>\n      <th>4</th>\n      <th>5</th>\n      <th>6</th>\n      <th>7</th>\n      <th>8</th>\n      <th>9</th>\n      <th>10</th>\n      <th>11</th>\n      <th>12</th>\n      <th>13</th>\n      <th>14</th>\n      <th>15</th>\n      <th>16</th>\n      <th>17</th>\n    </tr>\n  </thead>\n  <tbody>\n    <tr>\n      <th>0</th>\n      <td>161528</td>\n      <td>6</td>\n      <td>a</td>\n      <td>6</td>\n      <td>X</td>\n      <td>2</td>\n      <td>gynecology</td>\n      <td>R</td>\n      <td>F</td>\n      <td>4.0</td>\n      <td>45810</td>\n      <td>2.0</td>\n      <td>Urgent</td>\n      <td>Moderate</td>\n      <td>2</td>\n      <td>21-30</td>\n      <td>2817.0</td>\n      <td>0-10</td>\n    </tr>\n    <tr>\n      <th>1</th>\n      <td>159472</td>\n      <td>23</td>\n      <td>a</td>\n      <td>6</td>\n      <td>X</td>\n      <td>4</td>\n      <td>gynecology</td>\n      <td>Q</td>\n      <td>F</td>\n      <td>2.0</td>\n      <td>128565</td>\n      <td>15.0</td>\n      <td>Trauma</td>\n      <td>Moderate</td>\n      <td>4</td>\n      <td>51-60</td>\n      <td>4498.0</td>\n      <td>21-30</td>\n    </tr>\n    <tr>\n      <th>2</th>\n      <td>309765</td>\n      <td>2</td>\n      <td>c</td>\n      <td>5</td>\n      <td>Z</td>\n      <td>2</td>\n      <td>anesthesia</td>\n      <td>S</td>\n      <td>F</td>\n      <td>3.0</td>\n      <td>46565</td>\n      <td>5.0</td>\n      <td>Urgent</td>\n      <td>Moderate</td>\n      <td>2</td>\n      <td>71-80</td>\n      <td>4573.0</td>\n      <td>11-20</td>\n    </tr>\n    <tr>\n      <th>3</th>\n      <td>279614</td>\n      <td>32</td>\n      <td>f</td>\n      <td>9</td>\n      <td>Y</td>\n      <td>3</td>\n      <td>gynecology</td>\n      <td>S</td>\n      <td>B</td>\n      <td>4.0</td>\n      <td>124546</td>\n      <td>6.0</td>\n      <td>Emergency</td>\n      <td>Moderate</td>\n      <td>4</td>\n      <td>11-20</td>\n      <td>7202.0</td>\n      <td>51-60</td>\n    </tr>\n    <tr>\n      <th>4</th>\n      <td>147791</td>\n      <td>14</td>\n      <td>a</td>\n      <td>1</td>\n      <td>X</td>\n      <td>3</td>\n      <td>gynecology</td>\n      <td>S</td>\n      <td>E</td>\n      <td>2.0</td>\n      <td>22729</td>\n      <td>8.0</td>\n      <td>Urgent</td>\n      <td>Moderate</td>\n      <td>2</td>\n      <td>51-60</td>\n      <td>3398.0</td>\n      <td>51-60</td>\n    </tr>\n  </tbody>\n</table>\n</div>"
     },
     "metadata": {},
     "execution_count": 78
    }
   ],
   "source": [
    "df_p.head()"
   ]
  },
  {
   "cell_type": "code",
   "execution_count": 79,
   "metadata": {},
   "outputs": [],
   "source": [
    "#Creo un nuevo df que contendrá unicamente las columnas que me son utilies para el estudio.\n",
    "df_util = df_p[['1','2', '3','5', '6', '7','8','9','13','14','15','17']]"
   ]
  },
  {
   "cell_type": "code",
   "execution_count": 80,
   "metadata": {},
   "outputs": [
    {
     "output_type": "execute_result",
     "data": {
      "text/plain": "    1  2  3  5           6  7  8    9        13  14     15     17\n0   6  a  6  2  gynecology  R  F  4.0  Moderate   2  21-30   0-10\n1  23  a  6  4  gynecology  Q  F  2.0  Moderate   4  51-60  21-30\n2   2  c  5  2  anesthesia  S  F  3.0  Moderate   2  71-80  11-20\n3  32  f  9  3  gynecology  S  B  4.0  Moderate   4  11-20  51-60\n4  14  a  1  3  gynecology  S  E  2.0  Moderate   2  51-60  51-60",
      "text/html": "<div>\n<style scoped>\n    .dataframe tbody tr th:only-of-type {\n        vertical-align: middle;\n    }\n\n    .dataframe tbody tr th {\n        vertical-align: top;\n    }\n\n    .dataframe thead th {\n        text-align: right;\n    }\n</style>\n<table border=\"1\" class=\"dataframe\">\n  <thead>\n    <tr style=\"text-align: right;\">\n      <th></th>\n      <th>1</th>\n      <th>2</th>\n      <th>3</th>\n      <th>5</th>\n      <th>6</th>\n      <th>7</th>\n      <th>8</th>\n      <th>9</th>\n      <th>13</th>\n      <th>14</th>\n      <th>15</th>\n      <th>17</th>\n    </tr>\n  </thead>\n  <tbody>\n    <tr>\n      <th>0</th>\n      <td>6</td>\n      <td>a</td>\n      <td>6</td>\n      <td>2</td>\n      <td>gynecology</td>\n      <td>R</td>\n      <td>F</td>\n      <td>4.0</td>\n      <td>Moderate</td>\n      <td>2</td>\n      <td>21-30</td>\n      <td>0-10</td>\n    </tr>\n    <tr>\n      <th>1</th>\n      <td>23</td>\n      <td>a</td>\n      <td>6</td>\n      <td>4</td>\n      <td>gynecology</td>\n      <td>Q</td>\n      <td>F</td>\n      <td>2.0</td>\n      <td>Moderate</td>\n      <td>4</td>\n      <td>51-60</td>\n      <td>21-30</td>\n    </tr>\n    <tr>\n      <th>2</th>\n      <td>2</td>\n      <td>c</td>\n      <td>5</td>\n      <td>2</td>\n      <td>anesthesia</td>\n      <td>S</td>\n      <td>F</td>\n      <td>3.0</td>\n      <td>Moderate</td>\n      <td>2</td>\n      <td>71-80</td>\n      <td>11-20</td>\n    </tr>\n    <tr>\n      <th>3</th>\n      <td>32</td>\n      <td>f</td>\n      <td>9</td>\n      <td>3</td>\n      <td>gynecology</td>\n      <td>S</td>\n      <td>B</td>\n      <td>4.0</td>\n      <td>Moderate</td>\n      <td>4</td>\n      <td>11-20</td>\n      <td>51-60</td>\n    </tr>\n    <tr>\n      <th>4</th>\n      <td>14</td>\n      <td>a</td>\n      <td>1</td>\n      <td>3</td>\n      <td>gynecology</td>\n      <td>S</td>\n      <td>E</td>\n      <td>2.0</td>\n      <td>Moderate</td>\n      <td>2</td>\n      <td>51-60</td>\n      <td>51-60</td>\n    </tr>\n  </tbody>\n</table>\n</div>"
     },
     "metadata": {},
     "execution_count": 80
    }
   ],
   "source": [
    "df_util.head()"
   ]
  },
  {
   "cell_type": "code",
   "execution_count": 84,
   "metadata": {},
   "outputs": [
    {
     "output_type": "execute_result",
     "data": {
      "text/plain": "   2           6  7  8        13     15     17\n0  a  gynecology  R  F  Moderate  21-30   0-10\n1  a  gynecology  Q  F  Moderate  51-60  21-30\n2  c  anesthesia  S  F  Moderate  71-80  11-20\n3  f  gynecology  S  B  Moderate  11-20  51-60\n4  a  gynecology  S  E  Moderate  51-60  51-60",
      "text/html": "<div>\n<style scoped>\n    .dataframe tbody tr th:only-of-type {\n        vertical-align: middle;\n    }\n\n    .dataframe tbody tr th {\n        vertical-align: top;\n    }\n\n    .dataframe thead th {\n        text-align: right;\n    }\n</style>\n<table border=\"1\" class=\"dataframe\">\n  <thead>\n    <tr style=\"text-align: right;\">\n      <th></th>\n      <th>2</th>\n      <th>6</th>\n      <th>7</th>\n      <th>8</th>\n      <th>13</th>\n      <th>15</th>\n      <th>17</th>\n    </tr>\n  </thead>\n  <tbody>\n    <tr>\n      <th>0</th>\n      <td>a</td>\n      <td>gynecology</td>\n      <td>R</td>\n      <td>F</td>\n      <td>Moderate</td>\n      <td>21-30</td>\n      <td>0-10</td>\n    </tr>\n    <tr>\n      <th>1</th>\n      <td>a</td>\n      <td>gynecology</td>\n      <td>Q</td>\n      <td>F</td>\n      <td>Moderate</td>\n      <td>51-60</td>\n      <td>21-30</td>\n    </tr>\n    <tr>\n      <th>2</th>\n      <td>c</td>\n      <td>anesthesia</td>\n      <td>S</td>\n      <td>F</td>\n      <td>Moderate</td>\n      <td>71-80</td>\n      <td>11-20</td>\n    </tr>\n    <tr>\n      <th>3</th>\n      <td>f</td>\n      <td>gynecology</td>\n      <td>S</td>\n      <td>B</td>\n      <td>Moderate</td>\n      <td>11-20</td>\n      <td>51-60</td>\n    </tr>\n    <tr>\n      <th>4</th>\n      <td>a</td>\n      <td>gynecology</td>\n      <td>S</td>\n      <td>E</td>\n      <td>Moderate</td>\n      <td>51-60</td>\n      <td>51-60</td>\n    </tr>\n  </tbody>\n</table>\n</div>"
     },
     "metadata": {},
     "execution_count": 84
    }
   ],
   "source": [
    "# Selecciono las columnas con valores categóricos.\n",
    "df_categorical_no_numbers = df_util[df_util.select_dtypes('object').columns]\n",
    "df_categorical_no_numbers.head()"
   ]
  },
  {
   "cell_type": "code",
   "execution_count": 81,
   "metadata": {},
   "outputs": [
    {
     "output_type": "execute_result",
     "data": {
      "text/plain": "    1  3  5    9  14\n0   6  6  2  4.0   2\n1  23  6  4  2.0   4\n2   2  5  2  3.0   2\n3  32  9  3  4.0   4\n4  14  1  3  2.0   2",
      "text/html": "<div>\n<style scoped>\n    .dataframe tbody tr th:only-of-type {\n        vertical-align: middle;\n    }\n\n    .dataframe tbody tr th {\n        vertical-align: top;\n    }\n\n    .dataframe thead th {\n        text-align: right;\n    }\n</style>\n<table border=\"1\" class=\"dataframe\">\n  <thead>\n    <tr style=\"text-align: right;\">\n      <th></th>\n      <th>1</th>\n      <th>3</th>\n      <th>5</th>\n      <th>9</th>\n      <th>14</th>\n    </tr>\n  </thead>\n  <tbody>\n    <tr>\n      <th>0</th>\n      <td>6</td>\n      <td>6</td>\n      <td>2</td>\n      <td>4.0</td>\n      <td>2</td>\n    </tr>\n    <tr>\n      <th>1</th>\n      <td>23</td>\n      <td>6</td>\n      <td>4</td>\n      <td>2.0</td>\n      <td>4</td>\n    </tr>\n    <tr>\n      <th>2</th>\n      <td>2</td>\n      <td>5</td>\n      <td>2</td>\n      <td>3.0</td>\n      <td>2</td>\n    </tr>\n    <tr>\n      <th>3</th>\n      <td>32</td>\n      <td>9</td>\n      <td>3</td>\n      <td>4.0</td>\n      <td>4</td>\n    </tr>\n    <tr>\n      <th>4</th>\n      <td>14</td>\n      <td>1</td>\n      <td>3</td>\n      <td>2.0</td>\n      <td>2</td>\n    </tr>\n  </tbody>\n</table>\n</div>"
     },
     "metadata": {},
     "execution_count": 81
    }
   ],
   "source": [
    "df_others = df_util.select_dtypes(exclude=['object'])\n",
    "df_others.head()"
   ]
  },
  {
   "cell_type": "code",
   "execution_count": 85,
   "metadata": {},
   "outputs": [],
   "source": [
    "# Aplico normalización a las columnas numericas que están en el df_others\n",
    "from sklearn.preprocessing import MinMaxScaler\n",
    "\n",
    "scaler = MinMaxScaler()\n",
    "df_others_normalized = pd.DataFrame(\n",
    "    data=scaler.fit_transform(df_others.values), \n",
    "    columns=df_others.columns, \n",
    "    index=df_others.index)"
   ]
  },
  {
   "cell_type": "code",
   "execution_count": 86,
   "metadata": {},
   "outputs": [
    {
     "output_type": "execute_result",
     "data": {
      "text/plain": "          1         3         5         9      14\n0  0.161290  0.416667  0.083333  1.000000  0.0625\n1  0.709677  0.416667  0.166667  0.333333  0.1250\n2  0.032258  0.333333  0.083333  0.666667  0.0625\n3  1.000000  0.666667  0.125000  1.000000  0.1250\n4  0.419355  0.000000  0.125000  0.333333  0.0625",
      "text/html": "<div>\n<style scoped>\n    .dataframe tbody tr th:only-of-type {\n        vertical-align: middle;\n    }\n\n    .dataframe tbody tr th {\n        vertical-align: top;\n    }\n\n    .dataframe thead th {\n        text-align: right;\n    }\n</style>\n<table border=\"1\" class=\"dataframe\">\n  <thead>\n    <tr style=\"text-align: right;\">\n      <th></th>\n      <th>1</th>\n      <th>3</th>\n      <th>5</th>\n      <th>9</th>\n      <th>14</th>\n    </tr>\n  </thead>\n  <tbody>\n    <tr>\n      <th>0</th>\n      <td>0.161290</td>\n      <td>0.416667</td>\n      <td>0.083333</td>\n      <td>1.000000</td>\n      <td>0.0625</td>\n    </tr>\n    <tr>\n      <th>1</th>\n      <td>0.709677</td>\n      <td>0.416667</td>\n      <td>0.166667</td>\n      <td>0.333333</td>\n      <td>0.1250</td>\n    </tr>\n    <tr>\n      <th>2</th>\n      <td>0.032258</td>\n      <td>0.333333</td>\n      <td>0.083333</td>\n      <td>0.666667</td>\n      <td>0.0625</td>\n    </tr>\n    <tr>\n      <th>3</th>\n      <td>1.000000</td>\n      <td>0.666667</td>\n      <td>0.125000</td>\n      <td>1.000000</td>\n      <td>0.1250</td>\n    </tr>\n    <tr>\n      <th>4</th>\n      <td>0.419355</td>\n      <td>0.000000</td>\n      <td>0.125000</td>\n      <td>0.333333</td>\n      <td>0.0625</td>\n    </tr>\n  </tbody>\n</table>\n</div>"
     },
     "metadata": {},
     "execution_count": 86
    }
   ],
   "source": [
    "df_others_normalized.head() "
   ]
  },
  {
   "cell_type": "code",
   "execution_count": 87,
   "metadata": {},
   "outputs": [
    {
     "output_type": "execute_result",
     "data": {
      "text/plain": "          1  2         3         5           6  7  8         9        13  \\\n0  0.161290  a  0.416667  0.083333  gynecology  R  F  1.000000  Moderate   \n1  0.709677  a  0.416667  0.166667  gynecology  Q  F  0.333333  Moderate   \n2  0.032258  c  0.333333  0.083333  anesthesia  S  F  0.666667  Moderate   \n3  1.000000  f  0.666667  0.125000  gynecology  S  B  1.000000  Moderate   \n4  0.419355  a  0.000000  0.125000  gynecology  S  E  0.333333  Moderate   \n\n       14     15     17  \n0  0.0625  21-30   0-10  \n1  0.1250  51-60  21-30  \n2  0.0625  71-80  11-20  \n3  0.1250  11-20  51-60  \n4  0.0625  51-60  51-60  ",
      "text/html": "<div>\n<style scoped>\n    .dataframe tbody tr th:only-of-type {\n        vertical-align: middle;\n    }\n\n    .dataframe tbody tr th {\n        vertical-align: top;\n    }\n\n    .dataframe thead th {\n        text-align: right;\n    }\n</style>\n<table border=\"1\" class=\"dataframe\">\n  <thead>\n    <tr style=\"text-align: right;\">\n      <th></th>\n      <th>1</th>\n      <th>2</th>\n      <th>3</th>\n      <th>5</th>\n      <th>6</th>\n      <th>7</th>\n      <th>8</th>\n      <th>9</th>\n      <th>13</th>\n      <th>14</th>\n      <th>15</th>\n      <th>17</th>\n    </tr>\n  </thead>\n  <tbody>\n    <tr>\n      <th>0</th>\n      <td>0.161290</td>\n      <td>a</td>\n      <td>0.416667</td>\n      <td>0.083333</td>\n      <td>gynecology</td>\n      <td>R</td>\n      <td>F</td>\n      <td>1.000000</td>\n      <td>Moderate</td>\n      <td>0.0625</td>\n      <td>21-30</td>\n      <td>0-10</td>\n    </tr>\n    <tr>\n      <th>1</th>\n      <td>0.709677</td>\n      <td>a</td>\n      <td>0.416667</td>\n      <td>0.166667</td>\n      <td>gynecology</td>\n      <td>Q</td>\n      <td>F</td>\n      <td>0.333333</td>\n      <td>Moderate</td>\n      <td>0.1250</td>\n      <td>51-60</td>\n      <td>21-30</td>\n    </tr>\n    <tr>\n      <th>2</th>\n      <td>0.032258</td>\n      <td>c</td>\n      <td>0.333333</td>\n      <td>0.083333</td>\n      <td>anesthesia</td>\n      <td>S</td>\n      <td>F</td>\n      <td>0.666667</td>\n      <td>Moderate</td>\n      <td>0.0625</td>\n      <td>71-80</td>\n      <td>11-20</td>\n    </tr>\n    <tr>\n      <th>3</th>\n      <td>1.000000</td>\n      <td>f</td>\n      <td>0.666667</td>\n      <td>0.125000</td>\n      <td>gynecology</td>\n      <td>S</td>\n      <td>B</td>\n      <td>1.000000</td>\n      <td>Moderate</td>\n      <td>0.1250</td>\n      <td>11-20</td>\n      <td>51-60</td>\n    </tr>\n    <tr>\n      <th>4</th>\n      <td>0.419355</td>\n      <td>a</td>\n      <td>0.000000</td>\n      <td>0.125000</td>\n      <td>gynecology</td>\n      <td>S</td>\n      <td>E</td>\n      <td>0.333333</td>\n      <td>Moderate</td>\n      <td>0.0625</td>\n      <td>51-60</td>\n      <td>51-60</td>\n    </tr>\n  </tbody>\n</table>\n</div>"
     },
     "metadata": {},
     "execution_count": 87
    }
   ],
   "source": [
    "# Dataframe con valores categoricos encode, valores numéricos normalizados y columnas ordenadas.\n",
    "df_estudio = pd.concat([df_categorical_no_numbers,df_others_normalized], axis=1)\n",
    "df_estudio = df_estudio[['1','2', '3','5', '6', '7','8','9','13','14','15','17']]\n",
    "df_estudio.head()"
   ]
  },
  {
   "cell_type": "code",
   "execution_count": 100,
   "metadata": {},
   "outputs": [],
   "source": [
    "# esto es necesario para evitar futuros errores pero si quitaráis las columnas con Nan no haría falta\n",
    "# Nan no vale pero 0 sí\n",
    "df_estudio = df_estudio.dropna()\n",
    "# esto quita filas y por tanto no se lo podremos aplicar al dataset de predicción"
   ]
  },
  {
   "cell_type": "code",
   "execution_count": null,
   "metadata": {},
   "outputs": [],
   "source": []
  },
  {
   "cell_type": "markdown",
   "metadata": {},
   "source": [
    "#### 1. Definir X e y"
   ]
  },
  {
   "cell_type": "code",
   "execution_count": 101,
   "metadata": {},
   "outputs": [
    {
     "output_type": "execute_result",
     "data": {
      "text/plain": "array([[0.16129032258064516, 'a', 0.4166666666666667, ..., 'Moderate',\n        0.0625, '21-30'],\n       [0.7096774193548387, 'a', 0.4166666666666667, ..., 'Moderate',\n        0.125, '51-60'],\n       [0.03225806451612903, 'c', 0.3333333333333333, ..., 'Moderate',\n        0.0625, '71-80'],\n       ...,\n       [0.16129032258064516, 'a', 0.4166666666666667, ..., 'Minor',\n        0.0625, '31-40'],\n       [1.0, 'f', 0.6666666666666666, ..., 'Moderate', 0.09375, '41-50'],\n       [0.7741935483870968, 'e', 0.0, ..., 'Moderate', 0.0625, '41-50']],\n      dtype=object)"
     },
     "metadata": {},
     "execution_count": 101
    }
   ],
   "source": [
    "X = df_estudio[['1','2', '3','5', '6', '7','8','9','13','14','15']].values\n",
    "X"
   ]
  },
  {
   "cell_type": "code",
   "execution_count": 102,
   "metadata": {},
   "outputs": [
    {
     "output_type": "execute_result",
     "data": {
      "text/plain": "(100000, 11)"
     },
     "metadata": {},
     "execution_count": 102
    }
   ],
   "source": [
    "X.shape"
   ]
  },
  {
   "cell_type": "code",
   "execution_count": 109,
   "metadata": {},
   "outputs": [
    {
     "output_type": "execute_result",
     "data": {
      "text/plain": "array(['0-10', '21-30', '11-20', ..., '31-40', '11-20', '41-50'],\n      dtype=object)"
     },
     "metadata": {},
     "execution_count": 109
    }
   ],
   "source": [
    "y = np.array(df_estudio['17'])\n",
    "y"
   ]
  },
  {
   "cell_type": "markdown",
   "metadata": {},
   "source": [
    "#### 2. Dividir X_train, X_test, y_train, y_test"
   ]
  },
  {
   "cell_type": "code",
   "execution_count": 110,
   "metadata": {},
   "outputs": [],
   "source": [
    "X_train, X_test, y_train, y_test = train_test_split(X, y, test_size=0.20)"
   ]
  },
  {
   "cell_type": "code",
   "execution_count": 111,
   "metadata": {},
   "outputs": [
    {
     "output_type": "execute_result",
     "data": {
      "text/plain": "array([[0.16129032258064516, 'a', 0.4166666666666667, ..., 'Extreme',\n        0.125, '31-40'],\n       [0.8709677419354839, 'b', 0.8333333333333333, ..., 'Extreme',\n        0.0625, '71-80'],\n       [0.32258064516129037, 'b', 0.08333333333333333, ..., 'Moderate',\n        0.125, '51-60'],\n       ...,\n       [0.25806451612903225, 'd', 0.3333333333333333, ..., 'Moderate',\n        0.125, '41-50'],\n       [0.3548387096774194, 'a', 0.6666666666666666, ..., 'Moderate',\n        0.0625, '21-30'],\n       [0.22580645161290322, 'c', 0.16666666666666669, ..., 'Moderate',\n        0.0625, '71-80']], dtype=object)"
     },
     "metadata": {},
     "execution_count": 111
    }
   ],
   "source": [
    "X_train"
   ]
  },
  {
   "cell_type": "markdown",
   "metadata": {},
   "source": [
    "#### 3. Asignar el modelo (vacío) a una variable\n",
    "Aquí meteríais los parámetros"
   ]
  },
  {
   "cell_type": "code",
   "execution_count": 112,
   "metadata": {},
   "outputs": [],
   "source": [
    "model= linear_model.LogisticRegression"
   ]
  },
  {
   "cell_type": "markdown",
   "metadata": {},
   "source": [
    "#### 4. Entrenar el modelo con X_train, y_train"
   ]
  },
  {
   "cell_type": "code",
   "execution_count": 113,
   "metadata": {},
   "outputs": [
    {
     "output_type": "error",
     "ename": "TypeError",
     "evalue": "fit() missing 1 required positional argument: 'y'",
     "traceback": [
      "\u001b[1;31m---------------------------------------------------------------------------\u001b[0m",
      "\u001b[1;31mTypeError\u001b[0m                                 Traceback (most recent call last)",
      "\u001b[1;32m<ipython-input-113-d768f88d541e>\u001b[0m in \u001b[0;36m<module>\u001b[1;34m\u001b[0m\n\u001b[1;32m----> 1\u001b[1;33m \u001b[0mmodel\u001b[0m\u001b[1;33m.\u001b[0m\u001b[0mfit\u001b[0m\u001b[1;33m(\u001b[0m\u001b[0mX_train\u001b[0m\u001b[1;33m,\u001b[0m \u001b[0my_train\u001b[0m\u001b[1;33m)\u001b[0m\u001b[1;33m\u001b[0m\u001b[1;33m\u001b[0m\u001b[0m\n\u001b[0m",
      "\u001b[1;31mTypeError\u001b[0m: fit() missing 1 required positional argument: 'y'"
     ]
    }
   ],
   "source": [
    "model.fit(X_train, y_train)"
   ]
  },
  {
   "cell_type": "markdown",
   "metadata": {},
   "source": [
    "#### 5. Predecir con el modelo ya entrenado con X_test/to_pred"
   ]
  },
  {
   "cell_type": "code",
   "execution_count": 33,
   "metadata": {
    "tags": []
   },
   "outputs": [
    {
     "output_type": "stream",
     "name": "stdout",
     "text": "[2 5 1 ... 2 2 1]\n"
    }
   ],
   "source": [
    "predictions = model.predict(X_test)\n",
    "print(predictions)"
   ]
  },
  {
   "cell_type": "markdown",
   "metadata": {},
   "source": [
    "#### 6. Sacar métricas, valorar el modelo "
   ]
  },
  {
   "cell_type": "code",
   "execution_count": 34,
   "metadata": {},
   "outputs": [
    {
     "output_type": "execute_result",
     "data": {
      "text/plain": "0.3417"
     },
     "metadata": {},
     "execution_count": 34
    }
   ],
   "source": [
    "model.score(X_test,y_test)"
   ]
  },
  {
   "cell_type": "code",
   "execution_count": null,
   "metadata": {},
   "outputs": [],
   "source": []
  },
  {
   "cell_type": "markdown",
   "metadata": {},
   "source": [
    "## Una vez listo el modelo, toca predecir con el dataset de predicción "
   ]
  },
  {
   "cell_type": "code",
   "execution_count": 35,
   "metadata": {},
   "outputs": [],
   "source": [
    "to_pred = pd.read_csv(\"test_set.csv\")"
   ]
  },
  {
   "cell_type": "code",
   "execution_count": 53,
   "metadata": {},
   "outputs": [
    {
     "output_type": "execute_result",
     "data": {
      "text/plain": "        0   1  2  3  4  5                   6  7  8    9      10    11  \\\n0  314114  19  a  7  Y  4          gynecology  S  C  2.0   59278   8.0   \n1  208989  15  c  5  Z  3          gynecology  S  F  2.0  102253  15.0   \n2  305872  17  e  1  X  4          gynecology  R  E  4.0    5828   4.0   \n3  266099   3  c  3  Z  4  TB & Chest disease  R  A  2.0   56642   9.0   \n4   13228   6  a  6  X  4          gynecology  R  F  1.0  116266   8.0   \n\n          12        13  14     15      16  \n0  Emergency     Minor   2  41-50  4778.0  \n1     Trauma  Moderate   3  31-40  5734.0  \n2  Emergency     Minor   3  71-80  5064.0  \n3     Urgent   Extreme   4  31-40  3254.0  \n4  Emergency     Minor   3  21-30  4639.0  ",
      "text/html": "<div>\n<style scoped>\n    .dataframe tbody tr th:only-of-type {\n        vertical-align: middle;\n    }\n\n    .dataframe tbody tr th {\n        vertical-align: top;\n    }\n\n    .dataframe thead th {\n        text-align: right;\n    }\n</style>\n<table border=\"1\" class=\"dataframe\">\n  <thead>\n    <tr style=\"text-align: right;\">\n      <th></th>\n      <th>0</th>\n      <th>1</th>\n      <th>2</th>\n      <th>3</th>\n      <th>4</th>\n      <th>5</th>\n      <th>6</th>\n      <th>7</th>\n      <th>8</th>\n      <th>9</th>\n      <th>10</th>\n      <th>11</th>\n      <th>12</th>\n      <th>13</th>\n      <th>14</th>\n      <th>15</th>\n      <th>16</th>\n    </tr>\n  </thead>\n  <tbody>\n    <tr>\n      <th>0</th>\n      <td>314114</td>\n      <td>19</td>\n      <td>a</td>\n      <td>7</td>\n      <td>Y</td>\n      <td>4</td>\n      <td>gynecology</td>\n      <td>S</td>\n      <td>C</td>\n      <td>2.0</td>\n      <td>59278</td>\n      <td>8.0</td>\n      <td>Emergency</td>\n      <td>Minor</td>\n      <td>2</td>\n      <td>41-50</td>\n      <td>4778.0</td>\n    </tr>\n    <tr>\n      <th>1</th>\n      <td>208989</td>\n      <td>15</td>\n      <td>c</td>\n      <td>5</td>\n      <td>Z</td>\n      <td>3</td>\n      <td>gynecology</td>\n      <td>S</td>\n      <td>F</td>\n      <td>2.0</td>\n      <td>102253</td>\n      <td>15.0</td>\n      <td>Trauma</td>\n      <td>Moderate</td>\n      <td>3</td>\n      <td>31-40</td>\n      <td>5734.0</td>\n    </tr>\n    <tr>\n      <th>2</th>\n      <td>305872</td>\n      <td>17</td>\n      <td>e</td>\n      <td>1</td>\n      <td>X</td>\n      <td>4</td>\n      <td>gynecology</td>\n      <td>R</td>\n      <td>E</td>\n      <td>4.0</td>\n      <td>5828</td>\n      <td>4.0</td>\n      <td>Emergency</td>\n      <td>Minor</td>\n      <td>3</td>\n      <td>71-80</td>\n      <td>5064.0</td>\n    </tr>\n    <tr>\n      <th>3</th>\n      <td>266099</td>\n      <td>3</td>\n      <td>c</td>\n      <td>3</td>\n      <td>Z</td>\n      <td>4</td>\n      <td>TB &amp; Chest disease</td>\n      <td>R</td>\n      <td>A</td>\n      <td>2.0</td>\n      <td>56642</td>\n      <td>9.0</td>\n      <td>Urgent</td>\n      <td>Extreme</td>\n      <td>4</td>\n      <td>31-40</td>\n      <td>3254.0</td>\n    </tr>\n    <tr>\n      <th>4</th>\n      <td>13228</td>\n      <td>6</td>\n      <td>a</td>\n      <td>6</td>\n      <td>X</td>\n      <td>4</td>\n      <td>gynecology</td>\n      <td>R</td>\n      <td>F</td>\n      <td>1.0</td>\n      <td>116266</td>\n      <td>8.0</td>\n      <td>Emergency</td>\n      <td>Minor</td>\n      <td>3</td>\n      <td>21-30</td>\n      <td>4639.0</td>\n    </tr>\n  </tbody>\n</table>\n</div>"
     },
     "metadata": {},
     "execution_count": 53
    }
   ],
   "source": [
    "# la primera columna es id_case, deberéis quitarla para hacer la predicción si la habéis quitado para entrenar\n",
    "# pero guardarla para incluirla en la submission\n",
    "\n",
    "# IMPORTANTE: APLICAR LO MISMO A ESTOS DATOS QUE HAYÁIS APLICADO A LOS DATOS DE ENTRENAMIENTO\n",
    "# SI EL ARRAY CON EL QUE HICISTEIS .fit() ERA DE 4 COLUMNAS, PARA .predict() DEBEN SER LAS MISMAS\n",
    "# SI AL ARRAY CON EL QUE HICISTEIS .fit() LO NORMALIZASTEIS, PARA .predict() DEBÉIS NORMALIZARLO\n",
    "# TODO IGUAL SALVO BORRAR FILAS, EL NÚMERO DE ROWS SE DEBE MANTENER EN ESTE SET, PUES LA PREDICCIÓN DEBE TENER 133744 FILAS\n",
    "# SI O SI\n",
    "\n",
    "to_pred.head()"
   ]
  },
  {
   "cell_type": "code",
   "execution_count": 54,
   "metadata": {},
   "outputs": [],
   "source": [
    "# Reservo columna cero de to_pred\n",
    "to_pred_0 = to_pred['0']"
   ]
  },
  {
   "cell_type": "code",
   "execution_count": 55,
   "metadata": {},
   "outputs": [],
   "source": [
    "# Relleno Nan columna 9\n",
    "to_pred['9'] = to_pred['9'].interpolate(method='nearest')"
   ]
  },
  {
   "cell_type": "code",
   "execution_count": 56,
   "metadata": {},
   "outputs": [],
   "source": [
    "# para evitar este error ValueError: Input contains NaN, infinity or a value too large for dtype('float64').\n",
    "to_pred = to_pred.fillna(0)"
   ]
  },
  {
   "cell_type": "code",
   "execution_count": 57,
   "metadata": {},
   "outputs": [],
   "source": [
    "to_pred_estudio = to_pred[['1','2', '3','5', '6', '7','8','9','13','14','15']]"
   ]
  },
  {
   "cell_type": "code",
   "execution_count": 58,
   "metadata": {},
   "outputs": [
    {
     "output_type": "execute_result",
     "data": {
      "text/plain": "   2  6  7  8  13  15\n0  0  2  3  2   1   4\n1  2  2  3  5   2   3\n2  4  2  2  4   1   7\n3  2  0  2  0   0   3\n4  0  2  2  5   1   2",
      "text/html": "<div>\n<style scoped>\n    .dataframe tbody tr th:only-of-type {\n        vertical-align: middle;\n    }\n\n    .dataframe tbody tr th {\n        vertical-align: top;\n    }\n\n    .dataframe thead th {\n        text-align: right;\n    }\n</style>\n<table border=\"1\" class=\"dataframe\">\n  <thead>\n    <tr style=\"text-align: right;\">\n      <th></th>\n      <th>2</th>\n      <th>6</th>\n      <th>7</th>\n      <th>8</th>\n      <th>13</th>\n      <th>15</th>\n    </tr>\n  </thead>\n  <tbody>\n    <tr>\n      <th>0</th>\n      <td>0</td>\n      <td>2</td>\n      <td>3</td>\n      <td>2</td>\n      <td>1</td>\n      <td>4</td>\n    </tr>\n    <tr>\n      <th>1</th>\n      <td>2</td>\n      <td>2</td>\n      <td>3</td>\n      <td>5</td>\n      <td>2</td>\n      <td>3</td>\n    </tr>\n    <tr>\n      <th>2</th>\n      <td>4</td>\n      <td>2</td>\n      <td>2</td>\n      <td>4</td>\n      <td>1</td>\n      <td>7</td>\n    </tr>\n    <tr>\n      <th>3</th>\n      <td>2</td>\n      <td>0</td>\n      <td>2</td>\n      <td>0</td>\n      <td>0</td>\n      <td>3</td>\n    </tr>\n    <tr>\n      <th>4</th>\n      <td>0</td>\n      <td>2</td>\n      <td>2</td>\n      <td>5</td>\n      <td>1</td>\n      <td>2</td>\n    </tr>\n  </tbody>\n</table>\n</div>"
     },
     "metadata": {},
     "execution_count": 58
    }
   ],
   "source": [
    "# Encode all columns, pero solo lo aplico a las categóricas.\n",
    "to_pred_estudio_categorical_no_numbers = to_pred_estudio[to_pred_estudio.select_dtypes('object').columns].apply(LabelEncoder().fit_transform)\n",
    "to_pred_estudio_categorical_no_numbers.head()"
   ]
  },
  {
   "cell_type": "code",
   "execution_count": null,
   "metadata": {},
   "outputs": [],
   "source": [
    "# Aplico normalización solo a las columnas con valores numérios"
   ]
  },
  {
   "cell_type": "code",
   "execution_count": 59,
   "metadata": {},
   "outputs": [],
   "source": [
    "#Creo df con las columnas sobre la que normalizare\n",
    "to_pred_estudio_others = to_pred_estudio.select_dtypes(exclude=['object'])\n",
    "# Normalizo\n",
    "from sklearn.preprocessing import MinMaxScaler\n",
    "\n",
    "scaler = MinMaxScaler()\n",
    "to_pred_estudio_others_normalized = pd.DataFrame(\n",
    "    data=scaler.fit_transform(to_pred_estudio_others.values), \n",
    "    columns=to_pred_estudio_others.columns, \n",
    "    index=to_pred_estudio_others.index)\n"
   ]
  },
  {
   "cell_type": "code",
   "execution_count": 60,
   "metadata": {},
   "outputs": [
    {
     "output_type": "execute_result",
     "data": {
      "text/plain": "    1  2  3  5  6  7  8    9  13  14  15\n0  19  0  7  4  2  3  2  2.0   1   2   4\n1  15  2  5  3  2  3  5  2.0   2   3   3\n2  17  4  1  4  2  2  4  4.0   1   3   7\n3   3  2  3  4  0  2  0  2.0   0   4   3\n4   6  0  6  4  2  2  5  1.0   1   3   2",
      "text/html": "<div>\n<style scoped>\n    .dataframe tbody tr th:only-of-type {\n        vertical-align: middle;\n    }\n\n    .dataframe tbody tr th {\n        vertical-align: top;\n    }\n\n    .dataframe thead th {\n        text-align: right;\n    }\n</style>\n<table border=\"1\" class=\"dataframe\">\n  <thead>\n    <tr style=\"text-align: right;\">\n      <th></th>\n      <th>1</th>\n      <th>2</th>\n      <th>3</th>\n      <th>5</th>\n      <th>6</th>\n      <th>7</th>\n      <th>8</th>\n      <th>9</th>\n      <th>13</th>\n      <th>14</th>\n      <th>15</th>\n    </tr>\n  </thead>\n  <tbody>\n    <tr>\n      <th>0</th>\n      <td>19</td>\n      <td>0</td>\n      <td>7</td>\n      <td>4</td>\n      <td>2</td>\n      <td>3</td>\n      <td>2</td>\n      <td>2.0</td>\n      <td>1</td>\n      <td>2</td>\n      <td>4</td>\n    </tr>\n    <tr>\n      <th>1</th>\n      <td>15</td>\n      <td>2</td>\n      <td>5</td>\n      <td>3</td>\n      <td>2</td>\n      <td>3</td>\n      <td>5</td>\n      <td>2.0</td>\n      <td>2</td>\n      <td>3</td>\n      <td>3</td>\n    </tr>\n    <tr>\n      <th>2</th>\n      <td>17</td>\n      <td>4</td>\n      <td>1</td>\n      <td>4</td>\n      <td>2</td>\n      <td>2</td>\n      <td>4</td>\n      <td>4.0</td>\n      <td>1</td>\n      <td>3</td>\n      <td>7</td>\n    </tr>\n    <tr>\n      <th>3</th>\n      <td>3</td>\n      <td>2</td>\n      <td>3</td>\n      <td>4</td>\n      <td>0</td>\n      <td>2</td>\n      <td>0</td>\n      <td>2.0</td>\n      <td>0</td>\n      <td>4</td>\n      <td>3</td>\n    </tr>\n    <tr>\n      <th>4</th>\n      <td>6</td>\n      <td>0</td>\n      <td>6</td>\n      <td>4</td>\n      <td>2</td>\n      <td>2</td>\n      <td>5</td>\n      <td>1.0</td>\n      <td>1</td>\n      <td>3</td>\n      <td>2</td>\n    </tr>\n  </tbody>\n</table>\n</div>"
     },
     "metadata": {},
     "execution_count": 60
    }
   ],
   "source": [
    "# Dataframe con valores categoricos encode, valores numéricos normalizados y columnas ordenadas.\n",
    "to_pred_final = pd.concat([to_pred_estudio_categorical_no_numbers, to_pred_estudio_others], axis=1)\n",
    "to_pred_final = to_pred_final[['1','2', '3','5', '6', '7','8','9','13','14','15']]\n",
    "to_pred_final.head()"
   ]
  },
  {
   "cell_type": "code",
   "execution_count": 61,
   "metadata": {},
   "outputs": [
    {
     "output_type": "execute_result",
     "data": {
      "text/plain": "array([4, 5, 4, ..., 5, 4, 5], dtype=int64)"
     },
     "metadata": {},
     "execution_count": 61
    }
   ],
   "source": [
    "predictions_submit = model. predict(to_pred_final[['1','2', '3','5', '6', '7','8','9','13','14','15']])\n",
    "predictions_submit"
   ]
  },
  {
   "cell_type": "code",
   "execution_count": 65,
   "metadata": {},
   "outputs": [],
   "source": [
    "from sklearn.preprocessing import LabelEncoder"
   ]
  },
  {
   "cell_type": "code",
   "execution_count": 66,
   "metadata": {},
   "outputs": [],
   "source": [
    "pred_submit_code= le_17.inverse_transform(predictions_submit)"
   ]
  },
  {
   "cell_type": "code",
   "execution_count": 67,
   "metadata": {},
   "outputs": [
    {
     "output_type": "execute_result",
     "data": {
      "text/plain": "array([4, 5, 4, ..., 5, 4, 5], dtype=int64)"
     },
     "metadata": {},
     "execution_count": 67
    }
   ],
   "source": [
    "pred_submit_code"
   ]
  },
  {
   "cell_type": "code",
   "execution_count": 36,
   "metadata": {},
   "outputs": [
    {
     "output_type": "execute_result",
     "data": {
      "text/plain": "            id  days\n0       314114     4\n1       208989     5\n2       305872     4\n3       266099     5\n4        13228     5\n...        ...   ...\n133739  318155     5\n133740  144850     4\n133741  180676     5\n133742   39933     4\n133743  116673     5\n\n[133744 rows x 2 columns]",
      "text/html": "<div>\n<style scoped>\n    .dataframe tbody tr th:only-of-type {\n        vertical-align: middle;\n    }\n\n    .dataframe tbody tr th {\n        vertical-align: top;\n    }\n\n    .dataframe thead th {\n        text-align: right;\n    }\n</style>\n<table border=\"1\" class=\"dataframe\">\n  <thead>\n    <tr style=\"text-align: right;\">\n      <th></th>\n      <th>id</th>\n      <th>days</th>\n    </tr>\n  </thead>\n  <tbody>\n    <tr>\n      <th>0</th>\n      <td>314114</td>\n      <td>4</td>\n    </tr>\n    <tr>\n      <th>1</th>\n      <td>208989</td>\n      <td>5</td>\n    </tr>\n    <tr>\n      <th>2</th>\n      <td>305872</td>\n      <td>4</td>\n    </tr>\n    <tr>\n      <th>3</th>\n      <td>266099</td>\n      <td>5</td>\n    </tr>\n    <tr>\n      <th>4</th>\n      <td>13228</td>\n      <td>5</td>\n    </tr>\n    <tr>\n      <th>...</th>\n      <td>...</td>\n      <td>...</td>\n    </tr>\n    <tr>\n      <th>133739</th>\n      <td>318155</td>\n      <td>5</td>\n    </tr>\n    <tr>\n      <th>133740</th>\n      <td>144850</td>\n      <td>4</td>\n    </tr>\n    <tr>\n      <th>133741</th>\n      <td>180676</td>\n      <td>5</td>\n    </tr>\n    <tr>\n      <th>133742</th>\n      <td>39933</td>\n      <td>4</td>\n    </tr>\n    <tr>\n      <th>133743</th>\n      <td>116673</td>\n      <td>5</td>\n    </tr>\n  </tbody>\n</table>\n<p>133744 rows × 2 columns</p>\n</div>"
     },
     "metadata": {},
     "execution_count": 36
    }
   ],
   "source": [
    "submission_RL = pd.DataFrame({'id': to_pred['0'], 'days': predictions_submit})\n",
    "submission_RL"
   ]
  },
  {
   "cell_type": "code",
   "execution_count": 37,
   "metadata": {},
   "outputs": [],
   "source": [
    "sample = pd.read_csv(\"sample_submission.csv\")"
   ]
  },
  {
   "cell_type": "code",
   "execution_count": 37,
   "metadata": {},
   "outputs": [
    {
     "output_type": "execute_result",
     "data": {
      "text/plain": "(133744, 2)"
     },
     "metadata": {},
     "execution_count": 37
    }
   ],
   "source": [
    "sample.shape"
   ]
  },
  {
   "cell_type": "code",
   "execution_count": 38,
   "metadata": {
    "tags": []
   },
   "outputs": [
    {
     "output_type": "stream",
     "name": "stdout",
     "text": "you're ready to submit!\n"
    }
   ],
   "source": [
    "if submission_RL.shape == sample.shape:\n",
    "    if submission_RL.columns.all() == sample.columns.all():\n",
    "        if submission_RL.id.all() == sample.id.all():\n",
    "            print(\"you're ready to submit!\")\n",
    "            submission_RL.to_csv(\"to_submit_RL.csv\", index = False)\n",
    "            # ¡¡¡¡¡¡¡ADD INDEX = FALSE!!!!!!!!!"
   ]
  },
  {
   "cell_type": "code",
   "execution_count": null,
   "metadata": {},
   "outputs": [],
   "source": []
  }
 ],
 "metadata": {
  "kernelspec": {
   "display_name": "Python 3.8.3 64-bit",
   "language": "python",
   "name": "python38364bit18bed457b1c14dc58302f83e4c9dad67"
  },
  "language_info": {
   "codemirror_mode": {
    "name": "ipython",
    "version": 3
   },
   "file_extension": ".py",
   "mimetype": "text/x-python",
   "name": "python",
   "nbconvert_exporter": "python",
   "pygments_lexer": "ipython3",
   "version": "3.8.3-final"
  }
 },
 "nbformat": 4,
 "nbformat_minor": 4
}