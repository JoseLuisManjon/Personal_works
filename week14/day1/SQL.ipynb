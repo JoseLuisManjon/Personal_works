{
 "metadata": {
  "language_info": {
   "codemirror_mode": {
    "name": "ipython",
    "version": 3
   },
   "file_extension": ".py",
   "mimetype": "text/x-python",
   "name": "python",
   "nbconvert_exporter": "python",
   "pygments_lexer": "ipython3",
   "version": "3.8.3-final"
  },
  "orig_nbformat": 2,
  "kernelspec": {
   "name": "Python 3.8.3 64-bit",
   "display_name": "Python 3.8.3 64-bit",
   "metadata": {
    "interpreter": {
     "hash": "1baa965d5efe3ac65b79dfc60c0d706280b1da80fedb7760faf2759126c4f253"
    }
   }
  }
 },
 "nbformat": 4,
 "nbformat_minor": 2,
 "cells": [
  {
   "cell_type": "code",
   "execution_count": 2,
   "metadata": {},
   "outputs": [],
   "source": [
    "import sqlite3\n",
    "import pandas as pd "
   ]
  },
  {
   "cell_type": "code",
   "execution_count": 3,
   "metadata": {},
   "outputs": [],
   "source": [
    "# PAra conectarme a la base de datos\n",
    "conn = sqlite3.connect('chinook.db')"
   ]
  },
  {
   "cell_type": "code",
   "execution_count": 6,
   "metadata": {},
   "outputs": [],
   "source": [
    "query = \"\"\"\n",
    "SELECT *\n",
    "FROM albums\n",
    "\"\"\""
   ]
  },
  {
   "cell_type": "code",
   "execution_count": 7,
   "metadata": {},
   "outputs": [
    {
     "output_type": "execute_result",
     "data": {
      "text/plain": [
       "     AlbumId                                              Title  ArtistId\n",
       "0          1              For Those About To Rock We Salute You         1\n",
       "1          2                                  Balls to the Wall         2\n",
       "2          3                                  Restless and Wild         2\n",
       "3          4                                  Let There Be Rock         1\n",
       "4          5                                           Big Ones         3\n",
       "..       ...                                                ...       ...\n",
       "342      343                             Respighi:Pines of Rome       226\n",
       "343      344  Schubert: The Late String Quartets & String Qu...       272\n",
       "344      345                                Monteverdi: L'Orfeo       273\n",
       "345      346                              Mozart: Chamber Music       274\n",
       "346      347  Koyaanisqatsi (Soundtrack from the Motion Pict...       275\n",
       "\n",
       "[347 rows x 3 columns]"
      ],
      "text/html": "<div>\n<style scoped>\n    .dataframe tbody tr th:only-of-type {\n        vertical-align: middle;\n    }\n\n    .dataframe tbody tr th {\n        vertical-align: top;\n    }\n\n    .dataframe thead th {\n        text-align: right;\n    }\n</style>\n<table border=\"1\" class=\"dataframe\">\n  <thead>\n    <tr style=\"text-align: right;\">\n      <th></th>\n      <th>AlbumId</th>\n      <th>Title</th>\n      <th>ArtistId</th>\n    </tr>\n  </thead>\n  <tbody>\n    <tr>\n      <th>0</th>\n      <td>1</td>\n      <td>For Those About To Rock We Salute You</td>\n      <td>1</td>\n    </tr>\n    <tr>\n      <th>1</th>\n      <td>2</td>\n      <td>Balls to the Wall</td>\n      <td>2</td>\n    </tr>\n    <tr>\n      <th>2</th>\n      <td>3</td>\n      <td>Restless and Wild</td>\n      <td>2</td>\n    </tr>\n    <tr>\n      <th>3</th>\n      <td>4</td>\n      <td>Let There Be Rock</td>\n      <td>1</td>\n    </tr>\n    <tr>\n      <th>4</th>\n      <td>5</td>\n      <td>Big Ones</td>\n      <td>3</td>\n    </tr>\n    <tr>\n      <th>...</th>\n      <td>...</td>\n      <td>...</td>\n      <td>...</td>\n    </tr>\n    <tr>\n      <th>342</th>\n      <td>343</td>\n      <td>Respighi:Pines of Rome</td>\n      <td>226</td>\n    </tr>\n    <tr>\n      <th>343</th>\n      <td>344</td>\n      <td>Schubert: The Late String Quartets &amp; String Qu...</td>\n      <td>272</td>\n    </tr>\n    <tr>\n      <th>344</th>\n      <td>345</td>\n      <td>Monteverdi: L'Orfeo</td>\n      <td>273</td>\n    </tr>\n    <tr>\n      <th>345</th>\n      <td>346</td>\n      <td>Mozart: Chamber Music</td>\n      <td>274</td>\n    </tr>\n    <tr>\n      <th>346</th>\n      <td>347</td>\n      <td>Koyaanisqatsi (Soundtrack from the Motion Pict...</td>\n      <td>275</td>\n    </tr>\n  </tbody>\n</table>\n<p>347 rows × 3 columns</p>\n</div>"
     },
     "metadata": {},
     "execution_count": 7
    }
   ],
   "source": [
    "# Ya tengo la base de datos como si fuera un df\n",
    "pd.read_sql_query(query, conn)"
   ]
  },
  {
   "cell_type": "code",
   "execution_count": 8,
   "metadata": {},
   "outputs": [],
   "source": [
    "df= pd.DataFrame({'A':[1,2,3],'B':['a', 'b', 'c']})"
   ]
  },
  {
   "cell_type": "code",
   "execution_count": null,
   "metadata": {},
   "outputs": [],
   "source": [
    "df.to_sql('nueva_tabla', con =conn)"
   ]
  },
  {
   "cell_type": "code",
   "execution_count": 12,
   "metadata": {},
   "outputs": [
    {
     "output_type": "execute_result",
     "data": {
      "text/plain": [
       "     type             name         tbl_name  rootpage  \\\n",
       "0   table           albums           albums         2   \n",
       "1   table  sqlite_sequence  sqlite_sequence         3   \n",
       "2   table          artists          artists         4   \n",
       "3   table        customers        customers         5   \n",
       "4   table        employees        employees         8   \n",
       "5   table           genres           genres        10   \n",
       "6   table         invoices         invoices        11   \n",
       "7   table    invoice_items    invoice_items        13   \n",
       "8   table      media_types      media_types        15   \n",
       "9   table        playlists        playlists        16   \n",
       "10  table   playlist_track   playlist_track        17   \n",
       "11  table           tracks           tracks        20   \n",
       "12  table     sqlite_stat1     sqlite_stat1       864   \n",
       "13  table            films            films       865   \n",
       "14  table      nueva_tabla      nueva_tabla       867   \n",
       "\n",
       "                                                  sql  \n",
       "0   CREATE TABLE \"albums\"\\r\\n(\\r\\n    [AlbumId] IN...  \n",
       "1              CREATE TABLE sqlite_sequence(name,seq)  \n",
       "2   CREATE TABLE \"artists\"\\r\\n(\\r\\n    [ArtistId] ...  \n",
       "3   CREATE TABLE \"customers\"\\r\\n(\\r\\n    [Customer...  \n",
       "4   CREATE TABLE \"employees\"\\r\\n(\\r\\n    [Employee...  \n",
       "5   CREATE TABLE \"genres\"\\r\\n(\\r\\n    [GenreId] IN...  \n",
       "6   CREATE TABLE \"invoices\"\\r\\n(\\r\\n    [InvoiceId...  \n",
       "7   CREATE TABLE \"invoice_items\"\\r\\n(\\r\\n    [Invo...  \n",
       "8   CREATE TABLE \"media_types\"\\r\\n(\\r\\n    [MediaT...  \n",
       "9   CREATE TABLE \"playlists\"\\r\\n(\\r\\n    [Playlist...  \n",
       "10  CREATE TABLE \"playlist_track\"\\r\\n(\\r\\n    [Pla...  \n",
       "11  CREATE TABLE \"tracks\"\\r\\n(\\r\\n    [TrackId] IN...  \n",
       "12            CREATE TABLE sqlite_stat1(tbl,idx,stat)  \n",
       "13  CREATE TABLE films (\\n  id                    ...  \n",
       "14  CREATE TABLE \"nueva_tabla\" (\\n\"index\" INTEGER,...  "
      ],
      "text/html": "<div>\n<style scoped>\n    .dataframe tbody tr th:only-of-type {\n        vertical-align: middle;\n    }\n\n    .dataframe tbody tr th {\n        vertical-align: top;\n    }\n\n    .dataframe thead th {\n        text-align: right;\n    }\n</style>\n<table border=\"1\" class=\"dataframe\">\n  <thead>\n    <tr style=\"text-align: right;\">\n      <th></th>\n      <th>type</th>\n      <th>name</th>\n      <th>tbl_name</th>\n      <th>rootpage</th>\n      <th>sql</th>\n    </tr>\n  </thead>\n  <tbody>\n    <tr>\n      <th>0</th>\n      <td>table</td>\n      <td>albums</td>\n      <td>albums</td>\n      <td>2</td>\n      <td>CREATE TABLE \"albums\"\\r\\n(\\r\\n    [AlbumId] IN...</td>\n    </tr>\n    <tr>\n      <th>1</th>\n      <td>table</td>\n      <td>sqlite_sequence</td>\n      <td>sqlite_sequence</td>\n      <td>3</td>\n      <td>CREATE TABLE sqlite_sequence(name,seq)</td>\n    </tr>\n    <tr>\n      <th>2</th>\n      <td>table</td>\n      <td>artists</td>\n      <td>artists</td>\n      <td>4</td>\n      <td>CREATE TABLE \"artists\"\\r\\n(\\r\\n    [ArtistId] ...</td>\n    </tr>\n    <tr>\n      <th>3</th>\n      <td>table</td>\n      <td>customers</td>\n      <td>customers</td>\n      <td>5</td>\n      <td>CREATE TABLE \"customers\"\\r\\n(\\r\\n    [Customer...</td>\n    </tr>\n    <tr>\n      <th>4</th>\n      <td>table</td>\n      <td>employees</td>\n      <td>employees</td>\n      <td>8</td>\n      <td>CREATE TABLE \"employees\"\\r\\n(\\r\\n    [Employee...</td>\n    </tr>\n    <tr>\n      <th>5</th>\n      <td>table</td>\n      <td>genres</td>\n      <td>genres</td>\n      <td>10</td>\n      <td>CREATE TABLE \"genres\"\\r\\n(\\r\\n    [GenreId] IN...</td>\n    </tr>\n    <tr>\n      <th>6</th>\n      <td>table</td>\n      <td>invoices</td>\n      <td>invoices</td>\n      <td>11</td>\n      <td>CREATE TABLE \"invoices\"\\r\\n(\\r\\n    [InvoiceId...</td>\n    </tr>\n    <tr>\n      <th>7</th>\n      <td>table</td>\n      <td>invoice_items</td>\n      <td>invoice_items</td>\n      <td>13</td>\n      <td>CREATE TABLE \"invoice_items\"\\r\\n(\\r\\n    [Invo...</td>\n    </tr>\n    <tr>\n      <th>8</th>\n      <td>table</td>\n      <td>media_types</td>\n      <td>media_types</td>\n      <td>15</td>\n      <td>CREATE TABLE \"media_types\"\\r\\n(\\r\\n    [MediaT...</td>\n    </tr>\n    <tr>\n      <th>9</th>\n      <td>table</td>\n      <td>playlists</td>\n      <td>playlists</td>\n      <td>16</td>\n      <td>CREATE TABLE \"playlists\"\\r\\n(\\r\\n    [Playlist...</td>\n    </tr>\n    <tr>\n      <th>10</th>\n      <td>table</td>\n      <td>playlist_track</td>\n      <td>playlist_track</td>\n      <td>17</td>\n      <td>CREATE TABLE \"playlist_track\"\\r\\n(\\r\\n    [Pla...</td>\n    </tr>\n    <tr>\n      <th>11</th>\n      <td>table</td>\n      <td>tracks</td>\n      <td>tracks</td>\n      <td>20</td>\n      <td>CREATE TABLE \"tracks\"\\r\\n(\\r\\n    [TrackId] IN...</td>\n    </tr>\n    <tr>\n      <th>12</th>\n      <td>table</td>\n      <td>sqlite_stat1</td>\n      <td>sqlite_stat1</td>\n      <td>864</td>\n      <td>CREATE TABLE sqlite_stat1(tbl,idx,stat)</td>\n    </tr>\n    <tr>\n      <th>13</th>\n      <td>table</td>\n      <td>films</td>\n      <td>films</td>\n      <td>865</td>\n      <td>CREATE TABLE films (\\n  id                    ...</td>\n    </tr>\n    <tr>\n      <th>14</th>\n      <td>table</td>\n      <td>nueva_tabla</td>\n      <td>nueva_tabla</td>\n      <td>867</td>\n      <td>CREATE TABLE \"nueva_tabla\" (\\n\"index\" INTEGER,...</td>\n    </tr>\n  </tbody>\n</table>\n</div>"
     },
     "metadata": {},
     "execution_count": 12
    }
   ],
   "source": [
    "query = \"\"\"\n",
    "SELECT *\n",
    "FROM sqlite_master\n",
    "WHERE type =='table'\n",
    "\"\"\"\n",
    "pd.read_sql_query(query, conn)"
   ]
  },
  {
   "cell_type": "code",
   "execution_count": 20,
   "metadata": {},
   "outputs": [
    {
     "output_type": "execute_result",
     "data": {
      "text/plain": [
       "<sqlite3.Cursor at 0x21cf0da4500>"
      ]
     },
     "metadata": {},
     "execution_count": 20
    }
   ],
   "source": [
    "# PAra añadir nuevos elementos a una tabla\n",
    "ex = \"\"\"\n",
    "INSERT INTO nueva_tabla VALUES (?,?,?)\n",
    "\"\"\"\n",
    "conn.cursor().execute(ex,[12, 90, 'ab'])"
   ]
  },
  {
   "cell_type": "code",
   "execution_count": 21,
   "metadata": {},
   "outputs": [
    {
     "output_type": "execute_result",
     "data": {
      "text/plain": [
       "   index   A   B\n",
       "0      0   1   a\n",
       "1      1   2   b\n",
       "2      2   3   c\n",
       "3     12  90  ab"
      ],
      "text/html": "<div>\n<style scoped>\n    .dataframe tbody tr th:only-of-type {\n        vertical-align: middle;\n    }\n\n    .dataframe tbody tr th {\n        vertical-align: top;\n    }\n\n    .dataframe thead th {\n        text-align: right;\n    }\n</style>\n<table border=\"1\" class=\"dataframe\">\n  <thead>\n    <tr style=\"text-align: right;\">\n      <th></th>\n      <th>index</th>\n      <th>A</th>\n      <th>B</th>\n    </tr>\n  </thead>\n  <tbody>\n    <tr>\n      <th>0</th>\n      <td>0</td>\n      <td>1</td>\n      <td>a</td>\n    </tr>\n    <tr>\n      <th>1</th>\n      <td>1</td>\n      <td>2</td>\n      <td>b</td>\n    </tr>\n    <tr>\n      <th>2</th>\n      <td>2</td>\n      <td>3</td>\n      <td>c</td>\n    </tr>\n    <tr>\n      <th>3</th>\n      <td>12</td>\n      <td>90</td>\n      <td>ab</td>\n    </tr>\n  </tbody>\n</table>\n</div>"
     },
     "metadata": {},
     "execution_count": 21
    }
   ],
   "source": [
    "query = \"\"\"\n",
    "SELECT *\n",
    "FROM nueva_tabla\n",
    "\"\"\"\n",
    "pd.read_sql_query(query, conn)"
   ]
  },
  {
   "cell_type": "code",
   "execution_count": 22,
   "metadata": {},
   "outputs": [],
   "source": [
    "#Para poder guardar las modificaciones hechas en la base de datos tengo que hacer lo siguiente\n",
    "conn.commit()"
   ]
  },
  {
   "cell_type": "code",
   "execution_count": null,
   "metadata": {},
   "outputs": [],
   "source": [
    "#Para volver atras hasta el último commit que haya echo y eliminar todos los cambios:\n",
    "#   conn.rollback()"
   ]
  },
  {
   "cell_type": "code",
   "execution_count": 24,
   "metadata": {},
   "outputs": [
    {
     "output_type": "execute_result",
     "data": {
      "text/plain": [
       "     COUNT(*)  InvoiceId\n",
       "0           2          1\n",
       "1           4          2\n",
       "2           6          3\n",
       "3           9          4\n",
       "4          14          5\n",
       "..        ...        ...\n",
       "407         4        408\n",
       "408         6        409\n",
       "409         9        410\n",
       "410        14        411\n",
       "411         1        412\n",
       "\n",
       "[412 rows x 2 columns]"
      ],
      "text/html": "<div>\n<style scoped>\n    .dataframe tbody tr th:only-of-type {\n        vertical-align: middle;\n    }\n\n    .dataframe tbody tr th {\n        vertical-align: top;\n    }\n\n    .dataframe thead th {\n        text-align: right;\n    }\n</style>\n<table border=\"1\" class=\"dataframe\">\n  <thead>\n    <tr style=\"text-align: right;\">\n      <th></th>\n      <th>COUNT(*)</th>\n      <th>InvoiceId</th>\n    </tr>\n  </thead>\n  <tbody>\n    <tr>\n      <th>0</th>\n      <td>2</td>\n      <td>1</td>\n    </tr>\n    <tr>\n      <th>1</th>\n      <td>4</td>\n      <td>2</td>\n    </tr>\n    <tr>\n      <th>2</th>\n      <td>6</td>\n      <td>3</td>\n    </tr>\n    <tr>\n      <th>3</th>\n      <td>9</td>\n      <td>4</td>\n    </tr>\n    <tr>\n      <th>4</th>\n      <td>14</td>\n      <td>5</td>\n    </tr>\n    <tr>\n      <th>...</th>\n      <td>...</td>\n      <td>...</td>\n    </tr>\n    <tr>\n      <th>407</th>\n      <td>4</td>\n      <td>408</td>\n    </tr>\n    <tr>\n      <th>408</th>\n      <td>6</td>\n      <td>409</td>\n    </tr>\n    <tr>\n      <th>409</th>\n      <td>9</td>\n      <td>410</td>\n    </tr>\n    <tr>\n      <th>410</th>\n      <td>14</td>\n      <td>411</td>\n    </tr>\n    <tr>\n      <th>411</th>\n      <td>1</td>\n      <td>412</td>\n    </tr>\n  </tbody>\n</table>\n<p>412 rows × 2 columns</p>\n</div>"
     },
     "metadata": {},
     "execution_count": 24
    }
   ],
   "source": [
    "# Ejercicio 10\n",
    "# Cuantos facturas tiene cada artículo\n",
    "query = \"\"\"\n",
    "SELECT COUNT(*), InvoiceId\n",
    "FROM invoice_items\n",
    "GROUP BY InvoiceId\n",
    "\"\"\"\n",
    "pd.read_sql_query(query, conn)"
   ]
  },
  {
   "cell_type": "code",
   "execution_count": 26,
   "metadata": {},
   "outputs": [
    {
     "output_type": "execute_result",
     "data": {
      "text/plain": [
       "    COUNT(*)  BillingCountry\n",
       "0          7       Argentina\n",
       "1          7       Australia\n",
       "2          7         Austria\n",
       "3          7         Belgium\n",
       "4         35          Brazil\n",
       "5         56          Canada\n",
       "6          7           Chile\n",
       "7         14  Czech Republic\n",
       "8          7         Denmark\n",
       "9          7         Finland\n",
       "10        35          France\n",
       "11        28         Germany\n",
       "12         7         Hungary\n",
       "13        13           India\n",
       "14         7         Ireland\n",
       "15         7           Italy\n",
       "16         7     Netherlands\n",
       "17         7          Norway\n",
       "18         7          Poland\n",
       "19        14        Portugal\n",
       "20         7           Spain\n",
       "21         7          Sweden\n",
       "22        91             USA\n",
       "23        21  United Kingdom"
      ],
      "text/html": "<div>\n<style scoped>\n    .dataframe tbody tr th:only-of-type {\n        vertical-align: middle;\n    }\n\n    .dataframe tbody tr th {\n        vertical-align: top;\n    }\n\n    .dataframe thead th {\n        text-align: right;\n    }\n</style>\n<table border=\"1\" class=\"dataframe\">\n  <thead>\n    <tr style=\"text-align: right;\">\n      <th></th>\n      <th>COUNT(*)</th>\n      <th>BillingCountry</th>\n    </tr>\n  </thead>\n  <tbody>\n    <tr>\n      <th>0</th>\n      <td>7</td>\n      <td>Argentina</td>\n    </tr>\n    <tr>\n      <th>1</th>\n      <td>7</td>\n      <td>Australia</td>\n    </tr>\n    <tr>\n      <th>2</th>\n      <td>7</td>\n      <td>Austria</td>\n    </tr>\n    <tr>\n      <th>3</th>\n      <td>7</td>\n      <td>Belgium</td>\n    </tr>\n    <tr>\n      <th>4</th>\n      <td>35</td>\n      <td>Brazil</td>\n    </tr>\n    <tr>\n      <th>5</th>\n      <td>56</td>\n      <td>Canada</td>\n    </tr>\n    <tr>\n      <th>6</th>\n      <td>7</td>\n      <td>Chile</td>\n    </tr>\n    <tr>\n      <th>7</th>\n      <td>14</td>\n      <td>Czech Republic</td>\n    </tr>\n    <tr>\n      <th>8</th>\n      <td>7</td>\n      <td>Denmark</td>\n    </tr>\n    <tr>\n      <th>9</th>\n      <td>7</td>\n      <td>Finland</td>\n    </tr>\n    <tr>\n      <th>10</th>\n      <td>35</td>\n      <td>France</td>\n    </tr>\n    <tr>\n      <th>11</th>\n      <td>28</td>\n      <td>Germany</td>\n    </tr>\n    <tr>\n      <th>12</th>\n      <td>7</td>\n      <td>Hungary</td>\n    </tr>\n    <tr>\n      <th>13</th>\n      <td>13</td>\n      <td>India</td>\n    </tr>\n    <tr>\n      <th>14</th>\n      <td>7</td>\n      <td>Ireland</td>\n    </tr>\n    <tr>\n      <th>15</th>\n      <td>7</td>\n      <td>Italy</td>\n    </tr>\n    <tr>\n      <th>16</th>\n      <td>7</td>\n      <td>Netherlands</td>\n    </tr>\n    <tr>\n      <th>17</th>\n      <td>7</td>\n      <td>Norway</td>\n    </tr>\n    <tr>\n      <th>18</th>\n      <td>7</td>\n      <td>Poland</td>\n    </tr>\n    <tr>\n      <th>19</th>\n      <td>14</td>\n      <td>Portugal</td>\n    </tr>\n    <tr>\n      <th>20</th>\n      <td>7</td>\n      <td>Spain</td>\n    </tr>\n    <tr>\n      <th>21</th>\n      <td>7</td>\n      <td>Sweden</td>\n    </tr>\n    <tr>\n      <th>22</th>\n      <td>91</td>\n      <td>USA</td>\n    </tr>\n    <tr>\n      <th>23</th>\n      <td>21</td>\n      <td>United Kingdom</td>\n    </tr>\n  </tbody>\n</table>\n</div>"
     },
     "metadata": {},
     "execution_count": 26
    }
   ],
   "source": [
    "# Ejercicio 11\n",
    "# Muestra cuantas facturas hay de cada país\n",
    "\n",
    "query = \"\"\"\n",
    "SELECT COUNT(*), BillingCountry\n",
    "FROM invoices\n",
    "GROUP BY BillingCountry\n",
    "\"\"\"\n",
    "pd.read_sql_query(query, conn)"
   ]
  },
  {
   "cell_type": "code",
   "execution_count": 30,
   "metadata": {},
   "outputs": [
    {
     "output_type": "execute_result",
     "data": {
      "text/plain": [
       "   anyo  COUNT(*)\n",
       "0  2009        83\n",
       "1  2011        83"
      ],
      "text/html": "<div>\n<style scoped>\n    .dataframe tbody tr th:only-of-type {\n        vertical-align: middle;\n    }\n\n    .dataframe tbody tr th {\n        vertical-align: top;\n    }\n\n    .dataframe thead th {\n        text-align: right;\n    }\n</style>\n<table border=\"1\" class=\"dataframe\">\n  <thead>\n    <tr style=\"text-align: right;\">\n      <th></th>\n      <th>anyo</th>\n      <th>COUNT(*)</th>\n    </tr>\n  </thead>\n  <tbody>\n    <tr>\n      <th>0</th>\n      <td>2009</td>\n      <td>83</td>\n    </tr>\n    <tr>\n      <th>1</th>\n      <td>2011</td>\n      <td>83</td>\n    </tr>\n  </tbody>\n</table>\n</div>"
     },
     "metadata": {},
     "execution_count": 30
    }
   ],
   "source": [
    "# Ejercicio 12\n",
    "# Cuantas facturas ha habido en 2009 y 2011\n",
    "\n",
    "query = \"\"\"\n",
    "SELECT strftime('%Y', InvoiceDate) AS anyo, COUNT(*)\n",
    "FROM invoices\n",
    "WHERE anyo == '2009' or anyo == '2011'\n",
    "GROUP BY anyo\n",
    "\"\"\"\n",
    "pd.read_sql_query(query, conn)"
   ]
  },
  {
   "cell_type": "code",
   "execution_count": 34,
   "metadata": {},
   "outputs": [
    {
     "output_type": "execute_result",
     "data": {
      "text/plain": [
       "   anyo  COUNT(*)\n",
       "0  2009        83\n",
       "1  2010        83\n",
       "2  2011        83"
      ],
      "text/html": "<div>\n<style scoped>\n    .dataframe tbody tr th:only-of-type {\n        vertical-align: middle;\n    }\n\n    .dataframe tbody tr th {\n        vertical-align: top;\n    }\n\n    .dataframe thead th {\n        text-align: right;\n    }\n</style>\n<table border=\"1\" class=\"dataframe\">\n  <thead>\n    <tr style=\"text-align: right;\">\n      <th></th>\n      <th>anyo</th>\n      <th>COUNT(*)</th>\n    </tr>\n  </thead>\n  <tbody>\n    <tr>\n      <th>0</th>\n      <td>2009</td>\n      <td>83</td>\n    </tr>\n    <tr>\n      <th>1</th>\n      <td>2010</td>\n      <td>83</td>\n    </tr>\n    <tr>\n      <th>2</th>\n      <td>2011</td>\n      <td>83</td>\n    </tr>\n  </tbody>\n</table>\n</div>"
     },
     "metadata": {},
     "execution_count": 34
    }
   ],
   "source": [
    "# Ejercicio 13\n",
    "# Cuantas facturas ha habido entre 2009 y 2011\n",
    "query = \"\"\"\n",
    "SELECT strftime('%Y', InvoiceDate) AS anyo, COUNT(*)\n",
    "FROM invoices\n",
    "WHERE anyo BETWEEN '2009' AND '2011'\n",
    "GROUP BY anyo\n",
    "\"\"\"\n",
    "pd.read_sql_query(query, conn)"
   ]
  },
  {
   "cell_type": "code",
   "execution_count": 38,
   "metadata": {},
   "outputs": [
    {
     "output_type": "execute_result",
     "data": {
      "text/plain": [
       "   COUNT(*) Country\n",
       "0         5  Brazil\n",
       "1         1   Spain"
      ],
      "text/html": "<div>\n<style scoped>\n    .dataframe tbody tr th:only-of-type {\n        vertical-align: middle;\n    }\n\n    .dataframe tbody tr th {\n        vertical-align: top;\n    }\n\n    .dataframe thead th {\n        text-align: right;\n    }\n</style>\n<table border=\"1\" class=\"dataframe\">\n  <thead>\n    <tr style=\"text-align: right;\">\n      <th></th>\n      <th>COUNT(*)</th>\n      <th>Country</th>\n    </tr>\n  </thead>\n  <tbody>\n    <tr>\n      <th>0</th>\n      <td>5</td>\n      <td>Brazil</td>\n    </tr>\n    <tr>\n      <th>1</th>\n      <td>1</td>\n      <td>Spain</td>\n    </tr>\n  </tbody>\n</table>\n</div>"
     },
     "metadata": {},
     "execution_count": 38
    }
   ],
   "source": [
    "# Ejercicio 14\n",
    "# Cuantos clientes hay entre España y Brasil\n",
    "query = \"\"\"\n",
    "SELECT COUNT(*), Country\n",
    "FROM Customers\n",
    "WHERE Country == 'Spain' OR Country=='Brazil'\n",
    "GROUP BY Country\n",
    "\"\"\"\n",
    "pd.read_sql_query(query, conn)\n"
   ]
  },
  {
   "cell_type": "code",
   "execution_count": 42,
   "metadata": {},
   "outputs": [
    {
     "output_type": "execute_result",
     "data": {
      "text/plain": [
       "    TrackId                                           Name  AlbumId  \\\n",
       "0        39                                You Oughta Know        6   \n",
       "1        44                                      You Learn        6   \n",
       "2        50                    You Oughta Know (Alternate)        6   \n",
       "3        99                             Your Time Has Come       11   \n",
       "4       337                                   You Shook Me       30   \n",
       "5       349                                You Shook Me(2)       30   \n",
       "6       549                                You Fool No One       43   \n",
       "7       623            You Fool No One (Alternate Version)       50   \n",
       "8       753                             You Keep On Moving       58   \n",
       "9       812  You Can't Do it Right (With the One You Love)       65   \n",
       "10     1155                                   You're Crazy       90   \n",
       "11     1163                            You Ain't the First       91   \n",
       "12     1185                              You Could Be Mine       92   \n",
       "13     1553                You've Got Another Thing Comin'      125   \n",
       "14     1620                                   You Shook Me      132   \n",
       "15     1622                        Your Time Is Gonna Come      132   \n",
       "16     1776                 You've Been A Long Time Coming      146   \n",
       "17     1778   You're What's Happening (In The World Today)      146   \n",
       "18     1787                          You Sure Love To Ball      146   \n",
       "19     2127                                 Your Blue Room      176   \n",
       "20     2185                                        You Are      180   \n",
       "21     2259                          You're My Best Friend      185   \n",
       "22     2287                         You Are The Everything      188   \n",
       "23     2439                                  You've Got It      141   \n",
       "24     2444                                    Your Mirror      141   \n",
       "25     2677                             You Got Me Rocking      217   \n",
       "26     2691                             You Got Me Rocking      218   \n",
       "27     2750                             You Better You Bet      221   \n",
       "28     3083                              You Really Got Me      244   \n",
       "29     3113                               You Got No Right      246   \n",
       "30     3141               You're Gonna Break My Hart Again      141   \n",
       "31     3225                        Your Time Is Gonna Come      252   \n",
       "32     3372                                    Your Savior      269   \n",
       "33     3384                                Your Soul Today      270   \n",
       "34     3388                               You Know My Name      270   \n",
       "35     3456                           You Know I'm No Good      321   \n",
       "36     3465  You Know I'm No Good (feat. Ghostface Killah)      321   \n",
       "37     3468                    You Sent Me Flying / Cherry      322   \n",
       "\n",
       "    MediaTypeId  GenreId                                           Composer  \\\n",
       "0             1        1                  Alanis Morissette & Glenn Ballard   \n",
       "1             1        1                  Alanis Morissette & Glenn Ballard   \n",
       "2             1        1                  Alanis Morissette & Glenn Ballard   \n",
       "3             1        4                 Cornell, Commerford, Morello, Wilk   \n",
       "4             1        1                            J B Lenoir/Willie Dixon   \n",
       "5             1        1                            J B Lenoir/Willie Dixon   \n",
       "6             1        1                               Coverdale/Lord/Paice   \n",
       "7             1        1                     Blackmore/Coverdale/Lord/Paice   \n",
       "8             1        1                                   Coverdale/Hughes   \n",
       "9             1        1  D.Coverdale/G.Hughes/Glenn Hughes/R.Blackmore/...   \n",
       "10            2        1                                               None   \n",
       "11            2        1                                               None   \n",
       "12            1        3                         Izzy Stradlin'/W. Axl Rose   \n",
       "13            1        3                                               None   \n",
       "14            1        1                          J. B. Lenoir/Willie Dixon   \n",
       "15            1        1                         Jimmy Page/John Paul Jones   \n",
       "16            1       14          Brian Holland/Eddie Holland/Lamont Dozier   \n",
       "17            1       14              Allen Story/George Gordy/Robert Gordy   \n",
       "18            1       14                                        Marvin Gaye   \n",
       "19            1       10  Brian Eno, Bono, Adam Clayton, The Edge & Larr...   \n",
       "20            1        1                                       Matt Cameron   \n",
       "21            1        1                                       Deacon, John   \n",
       "22            1        4     Bill Berry-Peter Buck-Mike Mills-Michael Stipe   \n",
       "23            1        1                    Mick Hucknall and Lamont Dozier   \n",
       "24            1        1                                      Mick Hucknall   \n",
       "25            1        1                                    Jagger/Richards   \n",
       "26            1        1                                    Jagger/Richards   \n",
       "27            1        1                                     Pete Townshend   \n",
       "28            1        1                                         Ray Davies   \n",
       "29            1        1  Dave Kushner, Duff, Matt Sorum, Scott Weiland ...   \n",
       "30            1        3                                              Sykes   \n",
       "31            2        1                                        Page, Jones   \n",
       "32            2       23                                               None   \n",
       "33            2       23                                      Chris Cornell   \n",
       "34            2       23                                      Chris Cornell   \n",
       "35            2       14                                               None   \n",
       "36            2       14                                               None   \n",
       "37            2        9                                               None   \n",
       "\n",
       "    Milliseconds     Bytes  UnitPrice  \n",
       "0         249234   8196916       0.99  \n",
       "1         239699   7824837       0.99  \n",
       "2         491885  16008629       0.99  \n",
       "3         255529   8273592       0.99  \n",
       "4         315951  10249958       0.99  \n",
       "5         619467  20138673       0.99  \n",
       "6         804101  26369966       0.99  \n",
       "7         763924  24887209       0.99  \n",
       "8         319111  10447868       0.99  \n",
       "9         203755   6709579       0.99  \n",
       "10        197135   3301971       0.99  \n",
       "11        156268   2754414       0.99  \n",
       "12        343875  11207355       0.99  \n",
       "13        305162   9962558       0.99  \n",
       "14        388179  12643067       0.99  \n",
       "15        274860   9011653       0.99  \n",
       "16        137221   4437949       0.99  \n",
       "17        142027   4631104       0.99  \n",
       "18        218540   7217872       0.99  \n",
       "19        328228  10867860       0.99  \n",
       "20        270863   8938409       0.99  \n",
       "21        172225   5602173       0.99  \n",
       "22        226298   7373181       0.99  \n",
       "23        235232   7712845       0.99  \n",
       "24        240666   7893821       0.99  \n",
       "25        205766   6734385       0.99  \n",
       "26        215928   7162159       0.99  \n",
       "27        338520  11160877       0.99  \n",
       "28        158589   5194092       0.99  \n",
       "29        335412  10991094       0.99  \n",
       "30        250853   8176847       0.99  \n",
       "31        310774   5126563       0.99  \n",
       "32        244226   4199626       0.99  \n",
       "33        205959   3385722       0.99  \n",
       "34        240255   3940651       0.99  \n",
       "35        256946   4133694       0.99  \n",
       "36        202320   3260658       0.99  \n",
       "37        409906   6657517       0.99  "
      ],
      "text/html": "<div>\n<style scoped>\n    .dataframe tbody tr th:only-of-type {\n        vertical-align: middle;\n    }\n\n    .dataframe tbody tr th {\n        vertical-align: top;\n    }\n\n    .dataframe thead th {\n        text-align: right;\n    }\n</style>\n<table border=\"1\" class=\"dataframe\">\n  <thead>\n    <tr style=\"text-align: right;\">\n      <th></th>\n      <th>TrackId</th>\n      <th>Name</th>\n      <th>AlbumId</th>\n      <th>MediaTypeId</th>\n      <th>GenreId</th>\n      <th>Composer</th>\n      <th>Milliseconds</th>\n      <th>Bytes</th>\n      <th>UnitPrice</th>\n    </tr>\n  </thead>\n  <tbody>\n    <tr>\n      <th>0</th>\n      <td>39</td>\n      <td>You Oughta Know</td>\n      <td>6</td>\n      <td>1</td>\n      <td>1</td>\n      <td>Alanis Morissette &amp; Glenn Ballard</td>\n      <td>249234</td>\n      <td>8196916</td>\n      <td>0.99</td>\n    </tr>\n    <tr>\n      <th>1</th>\n      <td>44</td>\n      <td>You Learn</td>\n      <td>6</td>\n      <td>1</td>\n      <td>1</td>\n      <td>Alanis Morissette &amp; Glenn Ballard</td>\n      <td>239699</td>\n      <td>7824837</td>\n      <td>0.99</td>\n    </tr>\n    <tr>\n      <th>2</th>\n      <td>50</td>\n      <td>You Oughta Know (Alternate)</td>\n      <td>6</td>\n      <td>1</td>\n      <td>1</td>\n      <td>Alanis Morissette &amp; Glenn Ballard</td>\n      <td>491885</td>\n      <td>16008629</td>\n      <td>0.99</td>\n    </tr>\n    <tr>\n      <th>3</th>\n      <td>99</td>\n      <td>Your Time Has Come</td>\n      <td>11</td>\n      <td>1</td>\n      <td>4</td>\n      <td>Cornell, Commerford, Morello, Wilk</td>\n      <td>255529</td>\n      <td>8273592</td>\n      <td>0.99</td>\n    </tr>\n    <tr>\n      <th>4</th>\n      <td>337</td>\n      <td>You Shook Me</td>\n      <td>30</td>\n      <td>1</td>\n      <td>1</td>\n      <td>J B Lenoir/Willie Dixon</td>\n      <td>315951</td>\n      <td>10249958</td>\n      <td>0.99</td>\n    </tr>\n    <tr>\n      <th>5</th>\n      <td>349</td>\n      <td>You Shook Me(2)</td>\n      <td>30</td>\n      <td>1</td>\n      <td>1</td>\n      <td>J B Lenoir/Willie Dixon</td>\n      <td>619467</td>\n      <td>20138673</td>\n      <td>0.99</td>\n    </tr>\n    <tr>\n      <th>6</th>\n      <td>549</td>\n      <td>You Fool No One</td>\n      <td>43</td>\n      <td>1</td>\n      <td>1</td>\n      <td>Coverdale/Lord/Paice</td>\n      <td>804101</td>\n      <td>26369966</td>\n      <td>0.99</td>\n    </tr>\n    <tr>\n      <th>7</th>\n      <td>623</td>\n      <td>You Fool No One (Alternate Version)</td>\n      <td>50</td>\n      <td>1</td>\n      <td>1</td>\n      <td>Blackmore/Coverdale/Lord/Paice</td>\n      <td>763924</td>\n      <td>24887209</td>\n      <td>0.99</td>\n    </tr>\n    <tr>\n      <th>8</th>\n      <td>753</td>\n      <td>You Keep On Moving</td>\n      <td>58</td>\n      <td>1</td>\n      <td>1</td>\n      <td>Coverdale/Hughes</td>\n      <td>319111</td>\n      <td>10447868</td>\n      <td>0.99</td>\n    </tr>\n    <tr>\n      <th>9</th>\n      <td>812</td>\n      <td>You Can't Do it Right (With the One You Love)</td>\n      <td>65</td>\n      <td>1</td>\n      <td>1</td>\n      <td>D.Coverdale/G.Hughes/Glenn Hughes/R.Blackmore/...</td>\n      <td>203755</td>\n      <td>6709579</td>\n      <td>0.99</td>\n    </tr>\n    <tr>\n      <th>10</th>\n      <td>1155</td>\n      <td>You're Crazy</td>\n      <td>90</td>\n      <td>2</td>\n      <td>1</td>\n      <td>None</td>\n      <td>197135</td>\n      <td>3301971</td>\n      <td>0.99</td>\n    </tr>\n    <tr>\n      <th>11</th>\n      <td>1163</td>\n      <td>You Ain't the First</td>\n      <td>91</td>\n      <td>2</td>\n      <td>1</td>\n      <td>None</td>\n      <td>156268</td>\n      <td>2754414</td>\n      <td>0.99</td>\n    </tr>\n    <tr>\n      <th>12</th>\n      <td>1185</td>\n      <td>You Could Be Mine</td>\n      <td>92</td>\n      <td>1</td>\n      <td>3</td>\n      <td>Izzy Stradlin'/W. Axl Rose</td>\n      <td>343875</td>\n      <td>11207355</td>\n      <td>0.99</td>\n    </tr>\n    <tr>\n      <th>13</th>\n      <td>1553</td>\n      <td>You've Got Another Thing Comin'</td>\n      <td>125</td>\n      <td>1</td>\n      <td>3</td>\n      <td>None</td>\n      <td>305162</td>\n      <td>9962558</td>\n      <td>0.99</td>\n    </tr>\n    <tr>\n      <th>14</th>\n      <td>1620</td>\n      <td>You Shook Me</td>\n      <td>132</td>\n      <td>1</td>\n      <td>1</td>\n      <td>J. B. Lenoir/Willie Dixon</td>\n      <td>388179</td>\n      <td>12643067</td>\n      <td>0.99</td>\n    </tr>\n    <tr>\n      <th>15</th>\n      <td>1622</td>\n      <td>Your Time Is Gonna Come</td>\n      <td>132</td>\n      <td>1</td>\n      <td>1</td>\n      <td>Jimmy Page/John Paul Jones</td>\n      <td>274860</td>\n      <td>9011653</td>\n      <td>0.99</td>\n    </tr>\n    <tr>\n      <th>16</th>\n      <td>1776</td>\n      <td>You've Been A Long Time Coming</td>\n      <td>146</td>\n      <td>1</td>\n      <td>14</td>\n      <td>Brian Holland/Eddie Holland/Lamont Dozier</td>\n      <td>137221</td>\n      <td>4437949</td>\n      <td>0.99</td>\n    </tr>\n    <tr>\n      <th>17</th>\n      <td>1778</td>\n      <td>You're What's Happening (In The World Today)</td>\n      <td>146</td>\n      <td>1</td>\n      <td>14</td>\n      <td>Allen Story/George Gordy/Robert Gordy</td>\n      <td>142027</td>\n      <td>4631104</td>\n      <td>0.99</td>\n    </tr>\n    <tr>\n      <th>18</th>\n      <td>1787</td>\n      <td>You Sure Love To Ball</td>\n      <td>146</td>\n      <td>1</td>\n      <td>14</td>\n      <td>Marvin Gaye</td>\n      <td>218540</td>\n      <td>7217872</td>\n      <td>0.99</td>\n    </tr>\n    <tr>\n      <th>19</th>\n      <td>2127</td>\n      <td>Your Blue Room</td>\n      <td>176</td>\n      <td>1</td>\n      <td>10</td>\n      <td>Brian Eno, Bono, Adam Clayton, The Edge &amp; Larr...</td>\n      <td>328228</td>\n      <td>10867860</td>\n      <td>0.99</td>\n    </tr>\n    <tr>\n      <th>20</th>\n      <td>2185</td>\n      <td>You Are</td>\n      <td>180</td>\n      <td>1</td>\n      <td>1</td>\n      <td>Matt Cameron</td>\n      <td>270863</td>\n      <td>8938409</td>\n      <td>0.99</td>\n    </tr>\n    <tr>\n      <th>21</th>\n      <td>2259</td>\n      <td>You're My Best Friend</td>\n      <td>185</td>\n      <td>1</td>\n      <td>1</td>\n      <td>Deacon, John</td>\n      <td>172225</td>\n      <td>5602173</td>\n      <td>0.99</td>\n    </tr>\n    <tr>\n      <th>22</th>\n      <td>2287</td>\n      <td>You Are The Everything</td>\n      <td>188</td>\n      <td>1</td>\n      <td>4</td>\n      <td>Bill Berry-Peter Buck-Mike Mills-Michael Stipe</td>\n      <td>226298</td>\n      <td>7373181</td>\n      <td>0.99</td>\n    </tr>\n    <tr>\n      <th>23</th>\n      <td>2439</td>\n      <td>You've Got It</td>\n      <td>141</td>\n      <td>1</td>\n      <td>1</td>\n      <td>Mick Hucknall and Lamont Dozier</td>\n      <td>235232</td>\n      <td>7712845</td>\n      <td>0.99</td>\n    </tr>\n    <tr>\n      <th>24</th>\n      <td>2444</td>\n      <td>Your Mirror</td>\n      <td>141</td>\n      <td>1</td>\n      <td>1</td>\n      <td>Mick Hucknall</td>\n      <td>240666</td>\n      <td>7893821</td>\n      <td>0.99</td>\n    </tr>\n    <tr>\n      <th>25</th>\n      <td>2677</td>\n      <td>You Got Me Rocking</td>\n      <td>217</td>\n      <td>1</td>\n      <td>1</td>\n      <td>Jagger/Richards</td>\n      <td>205766</td>\n      <td>6734385</td>\n      <td>0.99</td>\n    </tr>\n    <tr>\n      <th>26</th>\n      <td>2691</td>\n      <td>You Got Me Rocking</td>\n      <td>218</td>\n      <td>1</td>\n      <td>1</td>\n      <td>Jagger/Richards</td>\n      <td>215928</td>\n      <td>7162159</td>\n      <td>0.99</td>\n    </tr>\n    <tr>\n      <th>27</th>\n      <td>2750</td>\n      <td>You Better You Bet</td>\n      <td>221</td>\n      <td>1</td>\n      <td>1</td>\n      <td>Pete Townshend</td>\n      <td>338520</td>\n      <td>11160877</td>\n      <td>0.99</td>\n    </tr>\n    <tr>\n      <th>28</th>\n      <td>3083</td>\n      <td>You Really Got Me</td>\n      <td>244</td>\n      <td>1</td>\n      <td>1</td>\n      <td>Ray Davies</td>\n      <td>158589</td>\n      <td>5194092</td>\n      <td>0.99</td>\n    </tr>\n    <tr>\n      <th>29</th>\n      <td>3113</td>\n      <td>You Got No Right</td>\n      <td>246</td>\n      <td>1</td>\n      <td>1</td>\n      <td>Dave Kushner, Duff, Matt Sorum, Scott Weiland ...</td>\n      <td>335412</td>\n      <td>10991094</td>\n      <td>0.99</td>\n    </tr>\n    <tr>\n      <th>30</th>\n      <td>3141</td>\n      <td>You're Gonna Break My Hart Again</td>\n      <td>141</td>\n      <td>1</td>\n      <td>3</td>\n      <td>Sykes</td>\n      <td>250853</td>\n      <td>8176847</td>\n      <td>0.99</td>\n    </tr>\n    <tr>\n      <th>31</th>\n      <td>3225</td>\n      <td>Your Time Is Gonna Come</td>\n      <td>252</td>\n      <td>2</td>\n      <td>1</td>\n      <td>Page, Jones</td>\n      <td>310774</td>\n      <td>5126563</td>\n      <td>0.99</td>\n    </tr>\n    <tr>\n      <th>32</th>\n      <td>3372</td>\n      <td>Your Savior</td>\n      <td>269</td>\n      <td>2</td>\n      <td>23</td>\n      <td>None</td>\n      <td>244226</td>\n      <td>4199626</td>\n      <td>0.99</td>\n    </tr>\n    <tr>\n      <th>33</th>\n      <td>3384</td>\n      <td>Your Soul Today</td>\n      <td>270</td>\n      <td>2</td>\n      <td>23</td>\n      <td>Chris Cornell</td>\n      <td>205959</td>\n      <td>3385722</td>\n      <td>0.99</td>\n    </tr>\n    <tr>\n      <th>34</th>\n      <td>3388</td>\n      <td>You Know My Name</td>\n      <td>270</td>\n      <td>2</td>\n      <td>23</td>\n      <td>Chris Cornell</td>\n      <td>240255</td>\n      <td>3940651</td>\n      <td>0.99</td>\n    </tr>\n    <tr>\n      <th>35</th>\n      <td>3456</td>\n      <td>You Know I'm No Good</td>\n      <td>321</td>\n      <td>2</td>\n      <td>14</td>\n      <td>None</td>\n      <td>256946</td>\n      <td>4133694</td>\n      <td>0.99</td>\n    </tr>\n    <tr>\n      <th>36</th>\n      <td>3465</td>\n      <td>You Know I'm No Good (feat. Ghostface Killah)</td>\n      <td>321</td>\n      <td>2</td>\n      <td>14</td>\n      <td>None</td>\n      <td>202320</td>\n      <td>3260658</td>\n      <td>0.99</td>\n    </tr>\n    <tr>\n      <th>37</th>\n      <td>3468</td>\n      <td>You Sent Me Flying / Cherry</td>\n      <td>322</td>\n      <td>2</td>\n      <td>9</td>\n      <td>None</td>\n      <td>409906</td>\n      <td>6657517</td>\n      <td>0.99</td>\n    </tr>\n  </tbody>\n</table>\n</div>"
     },
     "metadata": {},
     "execution_count": 42
    }
   ],
   "source": [
    "# Ejercicio 15\n",
    "# Canciones que su título empieza por \"You\"\n",
    "query = \"\"\"\n",
    "SELECT *\n",
    "FROM tracks\n",
    "WHERE NAME like 'You%'\n",
    "\n",
    "\"\"\"\n",
    "pd.read_sql_query(query, conn)\n"
   ]
  },
  {
   "cell_type": "markdown",
   "metadata": {},
   "source": [
    "En el segundo bloque de ejercicios hay que hacer preguntas a más de una tabla. Hay que tener en cuenta cual es la columna común en ambas tablas"
   ]
  },
  {
   "cell_type": "code",
   "execution_count": 44,
   "metadata": {},
   "outputs": [
    {
     "output_type": "execute_result",
     "data": {
      "text/plain": [
       "     AlbumId                                              Title  ArtistId  \\\n",
       "0          1              For Those About To Rock We Salute You         1   \n",
       "1          2                                  Balls to the Wall         2   \n",
       "2          3                                  Restless and Wild         2   \n",
       "3          4                                  Let There Be Rock         1   \n",
       "4          5                                           Big Ones         3   \n",
       "..       ...                                                ...       ...   \n",
       "342      343                             Respighi:Pines of Rome       226   \n",
       "343      344  Schubert: The Late String Quartets & String Qu...       272   \n",
       "344      345                                Monteverdi: L'Orfeo       273   \n",
       "345      346                              Mozart: Chamber Music       274   \n",
       "346      347  Koyaanisqatsi (Soundtrack from the Motion Pict...       275   \n",
       "\n",
       "     ArtistId                                               Name  \n",
       "0           1                                              AC/DC  \n",
       "1           2                                             Accept  \n",
       "2           2                                             Accept  \n",
       "3           1                                              AC/DC  \n",
       "4           3                                          Aerosmith  \n",
       "..        ...                                                ...  \n",
       "342       226                                     Eugene Ormandy  \n",
       "343       272                             Emerson String Quartet  \n",
       "344       273  C. Monteverdi, Nigel Rogers - Chiaroscuro; Lon...  \n",
       "345       274                                      Nash Ensemble  \n",
       "346       275                              Philip Glass Ensemble  \n",
       "\n",
       "[347 rows x 5 columns]"
      ],
      "text/html": "<div>\n<style scoped>\n    .dataframe tbody tr th:only-of-type {\n        vertical-align: middle;\n    }\n\n    .dataframe tbody tr th {\n        vertical-align: top;\n    }\n\n    .dataframe thead th {\n        text-align: right;\n    }\n</style>\n<table border=\"1\" class=\"dataframe\">\n  <thead>\n    <tr style=\"text-align: right;\">\n      <th></th>\n      <th>AlbumId</th>\n      <th>Title</th>\n      <th>ArtistId</th>\n      <th>ArtistId</th>\n      <th>Name</th>\n    </tr>\n  </thead>\n  <tbody>\n    <tr>\n      <th>0</th>\n      <td>1</td>\n      <td>For Those About To Rock We Salute You</td>\n      <td>1</td>\n      <td>1</td>\n      <td>AC/DC</td>\n    </tr>\n    <tr>\n      <th>1</th>\n      <td>2</td>\n      <td>Balls to the Wall</td>\n      <td>2</td>\n      <td>2</td>\n      <td>Accept</td>\n    </tr>\n    <tr>\n      <th>2</th>\n      <td>3</td>\n      <td>Restless and Wild</td>\n      <td>2</td>\n      <td>2</td>\n      <td>Accept</td>\n    </tr>\n    <tr>\n      <th>3</th>\n      <td>4</td>\n      <td>Let There Be Rock</td>\n      <td>1</td>\n      <td>1</td>\n      <td>AC/DC</td>\n    </tr>\n    <tr>\n      <th>4</th>\n      <td>5</td>\n      <td>Big Ones</td>\n      <td>3</td>\n      <td>3</td>\n      <td>Aerosmith</td>\n    </tr>\n    <tr>\n      <th>...</th>\n      <td>...</td>\n      <td>...</td>\n      <td>...</td>\n      <td>...</td>\n      <td>...</td>\n    </tr>\n    <tr>\n      <th>342</th>\n      <td>343</td>\n      <td>Respighi:Pines of Rome</td>\n      <td>226</td>\n      <td>226</td>\n      <td>Eugene Ormandy</td>\n    </tr>\n    <tr>\n      <th>343</th>\n      <td>344</td>\n      <td>Schubert: The Late String Quartets &amp; String Qu...</td>\n      <td>272</td>\n      <td>272</td>\n      <td>Emerson String Quartet</td>\n    </tr>\n    <tr>\n      <th>344</th>\n      <td>345</td>\n      <td>Monteverdi: L'Orfeo</td>\n      <td>273</td>\n      <td>273</td>\n      <td>C. Monteverdi, Nigel Rogers - Chiaroscuro; Lon...</td>\n    </tr>\n    <tr>\n      <th>345</th>\n      <td>346</td>\n      <td>Mozart: Chamber Music</td>\n      <td>274</td>\n      <td>274</td>\n      <td>Nash Ensemble</td>\n    </tr>\n    <tr>\n      <th>346</th>\n      <td>347</td>\n      <td>Koyaanisqatsi (Soundtrack from the Motion Pict...</td>\n      <td>275</td>\n      <td>275</td>\n      <td>Philip Glass Ensemble</td>\n    </tr>\n  </tbody>\n</table>\n<p>347 rows × 5 columns</p>\n</div>"
     },
     "metadata": {},
     "execution_count": 44
    }
   ],
   "source": [
    "Quiero unir las tablas de albums con la de artists y la condicion es que tengan el mismo artists id\n",
    "query = \"\"\"\n",
    "SELECT *\n",
    "FROM albums al , artists ar\n",
    "WHERE al.ArtistId = ar.ArtistId\n",
    "\n",
    "\"\"\"\n",
    "pd.read_sql_query(query, conn)\n"
   ]
  },
  {
   "cell_type": "code",
   "execution_count": null,
   "metadata": {},
   "outputs": [],
   "source": [
    "# SE suele escribir asi\n",
    "query = \"\"\"\n",
    "SELECT *\n",
    "FROM customers c\n",
    "JOIN invoices i ON c.CustomerID = i.CustomerId\n",
    "\"\"\""
   ]
  },
  {
   "cell_type": "code",
   "execution_count": 46,
   "metadata": {},
   "outputs": [
    {
     "output_type": "execute_result",
     "data": {
      "text/plain": [
       "     CustomerId FirstName    LastName  \\\n",
       "0             1      Luís   Gonçalves   \n",
       "1             1      Luís   Gonçalves   \n",
       "2             1      Luís   Gonçalves   \n",
       "3             1      Luís   Gonçalves   \n",
       "4             1      Luís   Gonçalves   \n",
       "..          ...       ...         ...   \n",
       "407          59      Puja  Srivastava   \n",
       "408          59      Puja  Srivastava   \n",
       "409          59      Puja  Srivastava   \n",
       "410          59      Puja  Srivastava   \n",
       "411          59      Puja  Srivastava   \n",
       "\n",
       "                                              Company  \\\n",
       "0    Embraer - Empresa Brasileira de Aeronáutica S.A.   \n",
       "1    Embraer - Empresa Brasileira de Aeronáutica S.A.   \n",
       "2    Embraer - Empresa Brasileira de Aeronáutica S.A.   \n",
       "3    Embraer - Empresa Brasileira de Aeronáutica S.A.   \n",
       "4    Embraer - Empresa Brasileira de Aeronáutica S.A.   \n",
       "..                                                ...   \n",
       "407                                              None   \n",
       "408                                              None   \n",
       "409                                              None   \n",
       "410                                              None   \n",
       "411                                              None   \n",
       "\n",
       "                             Address                 City State Country  \\\n",
       "0    Av. Brigadeiro Faria Lima, 2170  São José dos Campos    SP  Brazil   \n",
       "1    Av. Brigadeiro Faria Lima, 2170  São José dos Campos    SP  Brazil   \n",
       "2    Av. Brigadeiro Faria Lima, 2170  São José dos Campos    SP  Brazil   \n",
       "3    Av. Brigadeiro Faria Lima, 2170  São José dos Campos    SP  Brazil   \n",
       "4    Av. Brigadeiro Faria Lima, 2170  São José dos Campos    SP  Brazil   \n",
       "..                               ...                  ...   ...     ...   \n",
       "407                3,Raj Bhavan Road            Bangalore  None   India   \n",
       "408                3,Raj Bhavan Road            Bangalore  None   India   \n",
       "409                3,Raj Bhavan Road            Bangalore  None   India   \n",
       "410                3,Raj Bhavan Road            Bangalore  None   India   \n",
       "411                3,Raj Bhavan Road            Bangalore  None   India   \n",
       "\n",
       "    PostalCode               Phone  ... SupportRepId InvoiceId  CustomerId  \\\n",
       "0    12227-000  +55 (12) 3923-5555  ...            3        98           1   \n",
       "1    12227-000  +55 (12) 3923-5555  ...            3       121           1   \n",
       "2    12227-000  +55 (12) 3923-5555  ...            3       143           1   \n",
       "3    12227-000  +55 (12) 3923-5555  ...            3       195           1   \n",
       "4    12227-000  +55 (12) 3923-5555  ...            3       316           1   \n",
       "..         ...                 ...  ...          ...       ...         ...   \n",
       "407     560001    +91 080 22289999  ...            3        45          59   \n",
       "408     560001    +91 080 22289999  ...            3        97          59   \n",
       "409     560001    +91 080 22289999  ...            3       218          59   \n",
       "410     560001    +91 080 22289999  ...            3       229          59   \n",
       "411     560001    +91 080 22289999  ...            3       284          59   \n",
       "\n",
       "             InvoiceDate                   BillingAddress  \\\n",
       "0    2010-03-11 00:00:00  Av. Brigadeiro Faria Lima, 2170   \n",
       "1    2010-06-13 00:00:00  Av. Brigadeiro Faria Lima, 2170   \n",
       "2    2010-09-15 00:00:00  Av. Brigadeiro Faria Lima, 2170   \n",
       "3    2011-05-06 00:00:00  Av. Brigadeiro Faria Lima, 2170   \n",
       "4    2012-10-27 00:00:00  Av. Brigadeiro Faria Lima, 2170   \n",
       "..                   ...                              ...   \n",
       "407  2009-07-08 00:00:00                3,Raj Bhavan Road   \n",
       "408  2010-02-26 00:00:00                3,Raj Bhavan Road   \n",
       "409  2011-08-20 00:00:00                3,Raj Bhavan Road   \n",
       "410  2011-09-30 00:00:00                3,Raj Bhavan Road   \n",
       "411  2012-05-30 00:00:00                3,Raj Bhavan Road   \n",
       "\n",
       "             BillingCity BillingState BillingCountry BillingPostalCode  Total  \n",
       "0    São José dos Campos           SP         Brazil         12227-000   3.98  \n",
       "1    São José dos Campos           SP         Brazil         12227-000   3.96  \n",
       "2    São José dos Campos           SP         Brazil         12227-000   5.94  \n",
       "3    São José dos Campos           SP         Brazil         12227-000   0.99  \n",
       "4    São José dos Campos           SP         Brazil         12227-000   1.98  \n",
       "..                   ...          ...            ...               ...    ...  \n",
       "407            Bangalore         None          India            560001   5.94  \n",
       "408            Bangalore         None          India            560001   1.99  \n",
       "409            Bangalore         None          India            560001   1.98  \n",
       "410            Bangalore         None          India            560001  13.86  \n",
       "411            Bangalore         None          India            560001   8.91  \n",
       "\n",
       "[412 rows x 22 columns]"
      ],
      "text/html": "<div>\n<style scoped>\n    .dataframe tbody tr th:only-of-type {\n        vertical-align: middle;\n    }\n\n    .dataframe tbody tr th {\n        vertical-align: top;\n    }\n\n    .dataframe thead th {\n        text-align: right;\n    }\n</style>\n<table border=\"1\" class=\"dataframe\">\n  <thead>\n    <tr style=\"text-align: right;\">\n      <th></th>\n      <th>CustomerId</th>\n      <th>FirstName</th>\n      <th>LastName</th>\n      <th>Company</th>\n      <th>Address</th>\n      <th>City</th>\n      <th>State</th>\n      <th>Country</th>\n      <th>PostalCode</th>\n      <th>Phone</th>\n      <th>...</th>\n      <th>SupportRepId</th>\n      <th>InvoiceId</th>\n      <th>CustomerId</th>\n      <th>InvoiceDate</th>\n      <th>BillingAddress</th>\n      <th>BillingCity</th>\n      <th>BillingState</th>\n      <th>BillingCountry</th>\n      <th>BillingPostalCode</th>\n      <th>Total</th>\n    </tr>\n  </thead>\n  <tbody>\n    <tr>\n      <th>0</th>\n      <td>1</td>\n      <td>Luís</td>\n      <td>Gonçalves</td>\n      <td>Embraer - Empresa Brasileira de Aeronáutica S.A.</td>\n      <td>Av. Brigadeiro Faria Lima, 2170</td>\n      <td>São José dos Campos</td>\n      <td>SP</td>\n      <td>Brazil</td>\n      <td>12227-000</td>\n      <td>+55 (12) 3923-5555</td>\n      <td>...</td>\n      <td>3</td>\n      <td>98</td>\n      <td>1</td>\n      <td>2010-03-11 00:00:00</td>\n      <td>Av. Brigadeiro Faria Lima, 2170</td>\n      <td>São José dos Campos</td>\n      <td>SP</td>\n      <td>Brazil</td>\n      <td>12227-000</td>\n      <td>3.98</td>\n    </tr>\n    <tr>\n      <th>1</th>\n      <td>1</td>\n      <td>Luís</td>\n      <td>Gonçalves</td>\n      <td>Embraer - Empresa Brasileira de Aeronáutica S.A.</td>\n      <td>Av. Brigadeiro Faria Lima, 2170</td>\n      <td>São José dos Campos</td>\n      <td>SP</td>\n      <td>Brazil</td>\n      <td>12227-000</td>\n      <td>+55 (12) 3923-5555</td>\n      <td>...</td>\n      <td>3</td>\n      <td>121</td>\n      <td>1</td>\n      <td>2010-06-13 00:00:00</td>\n      <td>Av. Brigadeiro Faria Lima, 2170</td>\n      <td>São José dos Campos</td>\n      <td>SP</td>\n      <td>Brazil</td>\n      <td>12227-000</td>\n      <td>3.96</td>\n    </tr>\n    <tr>\n      <th>2</th>\n      <td>1</td>\n      <td>Luís</td>\n      <td>Gonçalves</td>\n      <td>Embraer - Empresa Brasileira de Aeronáutica S.A.</td>\n      <td>Av. Brigadeiro Faria Lima, 2170</td>\n      <td>São José dos Campos</td>\n      <td>SP</td>\n      <td>Brazil</td>\n      <td>12227-000</td>\n      <td>+55 (12) 3923-5555</td>\n      <td>...</td>\n      <td>3</td>\n      <td>143</td>\n      <td>1</td>\n      <td>2010-09-15 00:00:00</td>\n      <td>Av. Brigadeiro Faria Lima, 2170</td>\n      <td>São José dos Campos</td>\n      <td>SP</td>\n      <td>Brazil</td>\n      <td>12227-000</td>\n      <td>5.94</td>\n    </tr>\n    <tr>\n      <th>3</th>\n      <td>1</td>\n      <td>Luís</td>\n      <td>Gonçalves</td>\n      <td>Embraer - Empresa Brasileira de Aeronáutica S.A.</td>\n      <td>Av. Brigadeiro Faria Lima, 2170</td>\n      <td>São José dos Campos</td>\n      <td>SP</td>\n      <td>Brazil</td>\n      <td>12227-000</td>\n      <td>+55 (12) 3923-5555</td>\n      <td>...</td>\n      <td>3</td>\n      <td>195</td>\n      <td>1</td>\n      <td>2011-05-06 00:00:00</td>\n      <td>Av. Brigadeiro Faria Lima, 2170</td>\n      <td>São José dos Campos</td>\n      <td>SP</td>\n      <td>Brazil</td>\n      <td>12227-000</td>\n      <td>0.99</td>\n    </tr>\n    <tr>\n      <th>4</th>\n      <td>1</td>\n      <td>Luís</td>\n      <td>Gonçalves</td>\n      <td>Embraer - Empresa Brasileira de Aeronáutica S.A.</td>\n      <td>Av. Brigadeiro Faria Lima, 2170</td>\n      <td>São José dos Campos</td>\n      <td>SP</td>\n      <td>Brazil</td>\n      <td>12227-000</td>\n      <td>+55 (12) 3923-5555</td>\n      <td>...</td>\n      <td>3</td>\n      <td>316</td>\n      <td>1</td>\n      <td>2012-10-27 00:00:00</td>\n      <td>Av. Brigadeiro Faria Lima, 2170</td>\n      <td>São José dos Campos</td>\n      <td>SP</td>\n      <td>Brazil</td>\n      <td>12227-000</td>\n      <td>1.98</td>\n    </tr>\n    <tr>\n      <th>...</th>\n      <td>...</td>\n      <td>...</td>\n      <td>...</td>\n      <td>...</td>\n      <td>...</td>\n      <td>...</td>\n      <td>...</td>\n      <td>...</td>\n      <td>...</td>\n      <td>...</td>\n      <td>...</td>\n      <td>...</td>\n      <td>...</td>\n      <td>...</td>\n      <td>...</td>\n      <td>...</td>\n      <td>...</td>\n      <td>...</td>\n      <td>...</td>\n      <td>...</td>\n      <td>...</td>\n    </tr>\n    <tr>\n      <th>407</th>\n      <td>59</td>\n      <td>Puja</td>\n      <td>Srivastava</td>\n      <td>None</td>\n      <td>3,Raj Bhavan Road</td>\n      <td>Bangalore</td>\n      <td>None</td>\n      <td>India</td>\n      <td>560001</td>\n      <td>+91 080 22289999</td>\n      <td>...</td>\n      <td>3</td>\n      <td>45</td>\n      <td>59</td>\n      <td>2009-07-08 00:00:00</td>\n      <td>3,Raj Bhavan Road</td>\n      <td>Bangalore</td>\n      <td>None</td>\n      <td>India</td>\n      <td>560001</td>\n      <td>5.94</td>\n    </tr>\n    <tr>\n      <th>408</th>\n      <td>59</td>\n      <td>Puja</td>\n      <td>Srivastava</td>\n      <td>None</td>\n      <td>3,Raj Bhavan Road</td>\n      <td>Bangalore</td>\n      <td>None</td>\n      <td>India</td>\n      <td>560001</td>\n      <td>+91 080 22289999</td>\n      <td>...</td>\n      <td>3</td>\n      <td>97</td>\n      <td>59</td>\n      <td>2010-02-26 00:00:00</td>\n      <td>3,Raj Bhavan Road</td>\n      <td>Bangalore</td>\n      <td>None</td>\n      <td>India</td>\n      <td>560001</td>\n      <td>1.99</td>\n    </tr>\n    <tr>\n      <th>409</th>\n      <td>59</td>\n      <td>Puja</td>\n      <td>Srivastava</td>\n      <td>None</td>\n      <td>3,Raj Bhavan Road</td>\n      <td>Bangalore</td>\n      <td>None</td>\n      <td>India</td>\n      <td>560001</td>\n      <td>+91 080 22289999</td>\n      <td>...</td>\n      <td>3</td>\n      <td>218</td>\n      <td>59</td>\n      <td>2011-08-20 00:00:00</td>\n      <td>3,Raj Bhavan Road</td>\n      <td>Bangalore</td>\n      <td>None</td>\n      <td>India</td>\n      <td>560001</td>\n      <td>1.98</td>\n    </tr>\n    <tr>\n      <th>410</th>\n      <td>59</td>\n      <td>Puja</td>\n      <td>Srivastava</td>\n      <td>None</td>\n      <td>3,Raj Bhavan Road</td>\n      <td>Bangalore</td>\n      <td>None</td>\n      <td>India</td>\n      <td>560001</td>\n      <td>+91 080 22289999</td>\n      <td>...</td>\n      <td>3</td>\n      <td>229</td>\n      <td>59</td>\n      <td>2011-09-30 00:00:00</td>\n      <td>3,Raj Bhavan Road</td>\n      <td>Bangalore</td>\n      <td>None</td>\n      <td>India</td>\n      <td>560001</td>\n      <td>13.86</td>\n    </tr>\n    <tr>\n      <th>411</th>\n      <td>59</td>\n      <td>Puja</td>\n      <td>Srivastava</td>\n      <td>None</td>\n      <td>3,Raj Bhavan Road</td>\n      <td>Bangalore</td>\n      <td>None</td>\n      <td>India</td>\n      <td>560001</td>\n      <td>+91 080 22289999</td>\n      <td>...</td>\n      <td>3</td>\n      <td>284</td>\n      <td>59</td>\n      <td>2012-05-30 00:00:00</td>\n      <td>3,Raj Bhavan Road</td>\n      <td>Bangalore</td>\n      <td>None</td>\n      <td>India</td>\n      <td>560001</td>\n      <td>8.91</td>\n    </tr>\n  </tbody>\n</table>\n<p>412 rows × 22 columns</p>\n</div>"
     },
     "metadata": {},
     "execution_count": 46
    }
   ],
   "source": [
    "# Ejercicio 2.1\n",
    "# Facturas de Clientes de Brasil, Nombre del cliente, Id de factura, fecha de la factura y el pais de la factura\n",
    "query = \"\"\"\n",
    "SELECT *\n",
    "FROM customers c\n",
    "JOIN invoices i ON c.CustomerID = i.CustomerId\n",
    "\"\"\"\n",
    "pd.read_sql_query(query, conn)"
   ]
  },
  {
   "cell_type": "code",
   "execution_count": 47,
   "metadata": {},
   "outputs": [
    {
     "output_type": "execute_result",
     "data": {
      "text/plain": [
       "    FirstName  InvoiceId          InvoiceDate BillingCountry\n",
       "0        Luís         98  2010-03-11 00:00:00         Brazil\n",
       "1        Luís        121  2010-06-13 00:00:00         Brazil\n",
       "2        Luís        143  2010-09-15 00:00:00         Brazil\n",
       "3        Luís        195  2011-05-06 00:00:00         Brazil\n",
       "4        Luís        316  2012-10-27 00:00:00         Brazil\n",
       "5        Luís        327  2012-12-07 00:00:00         Brazil\n",
       "6        Luís        382  2013-08-07 00:00:00         Brazil\n",
       "7     Eduardo         25  2009-04-09 00:00:00         Brazil\n",
       "8     Eduardo        154  2010-11-14 00:00:00         Brazil\n",
       "9     Eduardo        177  2011-02-16 00:00:00         Brazil\n",
       "10    Eduardo        199  2011-05-21 00:00:00         Brazil\n",
       "11    Eduardo        251  2012-01-09 00:00:00         Brazil\n",
       "12    Eduardo        372  2013-07-02 00:00:00         Brazil\n",
       "13    Eduardo        383  2013-08-12 00:00:00         Brazil\n",
       "14  Alexandre         57  2009-09-06 00:00:00         Brazil\n",
       "15  Alexandre         68  2009-10-17 00:00:00         Brazil\n",
       "16  Alexandre        123  2010-06-17 00:00:00         Brazil\n",
       "17  Alexandre        252  2012-01-22 00:00:00         Brazil\n",
       "18  Alexandre        275  2012-04-25 00:00:00         Brazil\n",
       "19  Alexandre        297  2012-07-28 00:00:00         Brazil\n",
       "20  Alexandre        349  2013-03-18 00:00:00         Brazil\n",
       "21    Roberto         34  2009-05-23 00:00:00         Brazil\n",
       "22    Roberto        155  2010-11-14 00:00:00         Brazil\n",
       "23    Roberto        166  2010-12-25 00:00:00         Brazil\n",
       "24    Roberto        221  2011-08-25 00:00:00         Brazil\n",
       "25    Roberto        350  2013-03-31 00:00:00         Brazil\n",
       "26    Roberto        373  2013-07-03 00:00:00         Brazil\n",
       "27    Roberto        395  2013-10-05 00:00:00         Brazil\n",
       "28   Fernanda         35  2009-06-05 00:00:00         Brazil\n",
       "29   Fernanda         58  2009-09-07 00:00:00         Brazil\n",
       "30   Fernanda         80  2009-12-10 00:00:00         Brazil\n",
       "31   Fernanda        132  2010-07-31 00:00:00         Brazil\n",
       "32   Fernanda        253  2012-01-22 00:00:00         Brazil\n",
       "33   Fernanda        264  2012-03-03 00:00:00         Brazil\n",
       "34   Fernanda        319  2012-11-01 00:00:00         Brazil"
      ],
      "text/html": "<div>\n<style scoped>\n    .dataframe tbody tr th:only-of-type {\n        vertical-align: middle;\n    }\n\n    .dataframe tbody tr th {\n        vertical-align: top;\n    }\n\n    .dataframe thead th {\n        text-align: right;\n    }\n</style>\n<table border=\"1\" class=\"dataframe\">\n  <thead>\n    <tr style=\"text-align: right;\">\n      <th></th>\n      <th>FirstName</th>\n      <th>InvoiceId</th>\n      <th>InvoiceDate</th>\n      <th>BillingCountry</th>\n    </tr>\n  </thead>\n  <tbody>\n    <tr>\n      <th>0</th>\n      <td>Luís</td>\n      <td>98</td>\n      <td>2010-03-11 00:00:00</td>\n      <td>Brazil</td>\n    </tr>\n    <tr>\n      <th>1</th>\n      <td>Luís</td>\n      <td>121</td>\n      <td>2010-06-13 00:00:00</td>\n      <td>Brazil</td>\n    </tr>\n    <tr>\n      <th>2</th>\n      <td>Luís</td>\n      <td>143</td>\n      <td>2010-09-15 00:00:00</td>\n      <td>Brazil</td>\n    </tr>\n    <tr>\n      <th>3</th>\n      <td>Luís</td>\n      <td>195</td>\n      <td>2011-05-06 00:00:00</td>\n      <td>Brazil</td>\n    </tr>\n    <tr>\n      <th>4</th>\n      <td>Luís</td>\n      <td>316</td>\n      <td>2012-10-27 00:00:00</td>\n      <td>Brazil</td>\n    </tr>\n    <tr>\n      <th>5</th>\n      <td>Luís</td>\n      <td>327</td>\n      <td>2012-12-07 00:00:00</td>\n      <td>Brazil</td>\n    </tr>\n    <tr>\n      <th>6</th>\n      <td>Luís</td>\n      <td>382</td>\n      <td>2013-08-07 00:00:00</td>\n      <td>Brazil</td>\n    </tr>\n    <tr>\n      <th>7</th>\n      <td>Eduardo</td>\n      <td>25</td>\n      <td>2009-04-09 00:00:00</td>\n      <td>Brazil</td>\n    </tr>\n    <tr>\n      <th>8</th>\n      <td>Eduardo</td>\n      <td>154</td>\n      <td>2010-11-14 00:00:00</td>\n      <td>Brazil</td>\n    </tr>\n    <tr>\n      <th>9</th>\n      <td>Eduardo</td>\n      <td>177</td>\n      <td>2011-02-16 00:00:00</td>\n      <td>Brazil</td>\n    </tr>\n    <tr>\n      <th>10</th>\n      <td>Eduardo</td>\n      <td>199</td>\n      <td>2011-05-21 00:00:00</td>\n      <td>Brazil</td>\n    </tr>\n    <tr>\n      <th>11</th>\n      <td>Eduardo</td>\n      <td>251</td>\n      <td>2012-01-09 00:00:00</td>\n      <td>Brazil</td>\n    </tr>\n    <tr>\n      <th>12</th>\n      <td>Eduardo</td>\n      <td>372</td>\n      <td>2013-07-02 00:00:00</td>\n      <td>Brazil</td>\n    </tr>\n    <tr>\n      <th>13</th>\n      <td>Eduardo</td>\n      <td>383</td>\n      <td>2013-08-12 00:00:00</td>\n      <td>Brazil</td>\n    </tr>\n    <tr>\n      <th>14</th>\n      <td>Alexandre</td>\n      <td>57</td>\n      <td>2009-09-06 00:00:00</td>\n      <td>Brazil</td>\n    </tr>\n    <tr>\n      <th>15</th>\n      <td>Alexandre</td>\n      <td>68</td>\n      <td>2009-10-17 00:00:00</td>\n      <td>Brazil</td>\n    </tr>\n    <tr>\n      <th>16</th>\n      <td>Alexandre</td>\n      <td>123</td>\n      <td>2010-06-17 00:00:00</td>\n      <td>Brazil</td>\n    </tr>\n    <tr>\n      <th>17</th>\n      <td>Alexandre</td>\n      <td>252</td>\n      <td>2012-01-22 00:00:00</td>\n      <td>Brazil</td>\n    </tr>\n    <tr>\n      <th>18</th>\n      <td>Alexandre</td>\n      <td>275</td>\n      <td>2012-04-25 00:00:00</td>\n      <td>Brazil</td>\n    </tr>\n    <tr>\n      <th>19</th>\n      <td>Alexandre</td>\n      <td>297</td>\n      <td>2012-07-28 00:00:00</td>\n      <td>Brazil</td>\n    </tr>\n    <tr>\n      <th>20</th>\n      <td>Alexandre</td>\n      <td>349</td>\n      <td>2013-03-18 00:00:00</td>\n      <td>Brazil</td>\n    </tr>\n    <tr>\n      <th>21</th>\n      <td>Roberto</td>\n      <td>34</td>\n      <td>2009-05-23 00:00:00</td>\n      <td>Brazil</td>\n    </tr>\n    <tr>\n      <th>22</th>\n      <td>Roberto</td>\n      <td>155</td>\n      <td>2010-11-14 00:00:00</td>\n      <td>Brazil</td>\n    </tr>\n    <tr>\n      <th>23</th>\n      <td>Roberto</td>\n      <td>166</td>\n      <td>2010-12-25 00:00:00</td>\n      <td>Brazil</td>\n    </tr>\n    <tr>\n      <th>24</th>\n      <td>Roberto</td>\n      <td>221</td>\n      <td>2011-08-25 00:00:00</td>\n      <td>Brazil</td>\n    </tr>\n    <tr>\n      <th>25</th>\n      <td>Roberto</td>\n      <td>350</td>\n      <td>2013-03-31 00:00:00</td>\n      <td>Brazil</td>\n    </tr>\n    <tr>\n      <th>26</th>\n      <td>Roberto</td>\n      <td>373</td>\n      <td>2013-07-03 00:00:00</td>\n      <td>Brazil</td>\n    </tr>\n    <tr>\n      <th>27</th>\n      <td>Roberto</td>\n      <td>395</td>\n      <td>2013-10-05 00:00:00</td>\n      <td>Brazil</td>\n    </tr>\n    <tr>\n      <th>28</th>\n      <td>Fernanda</td>\n      <td>35</td>\n      <td>2009-06-05 00:00:00</td>\n      <td>Brazil</td>\n    </tr>\n    <tr>\n      <th>29</th>\n      <td>Fernanda</td>\n      <td>58</td>\n      <td>2009-09-07 00:00:00</td>\n      <td>Brazil</td>\n    </tr>\n    <tr>\n      <th>30</th>\n      <td>Fernanda</td>\n      <td>80</td>\n      <td>2009-12-10 00:00:00</td>\n      <td>Brazil</td>\n    </tr>\n    <tr>\n      <th>31</th>\n      <td>Fernanda</td>\n      <td>132</td>\n      <td>2010-07-31 00:00:00</td>\n      <td>Brazil</td>\n    </tr>\n    <tr>\n      <th>32</th>\n      <td>Fernanda</td>\n      <td>253</td>\n      <td>2012-01-22 00:00:00</td>\n      <td>Brazil</td>\n    </tr>\n    <tr>\n      <th>33</th>\n      <td>Fernanda</td>\n      <td>264</td>\n      <td>2012-03-03 00:00:00</td>\n      <td>Brazil</td>\n    </tr>\n    <tr>\n      <th>34</th>\n      <td>Fernanda</td>\n      <td>319</td>\n      <td>2012-11-01 00:00:00</td>\n      <td>Brazil</td>\n    </tr>\n  </tbody>\n</table>\n</div>"
     },
     "metadata": {},
     "execution_count": 47
    }
   ],
   "source": [
    "# En la celda anterior saque el cruce de las tablas de customersId e invoice\n",
    "query = \"\"\"\n",
    "SELECT c.FirstName, i.invoiceId, i.invoiceDate, i.BillingCountry\n",
    "FROM customers c\n",
    "JOIN invoices i ON c.CustomerID = i.CustomerId\n",
    "WHERE c.Country == 'Brazil'\n",
    "\"\"\"\n",
    "pd.read_sql_query(query, conn)"
   ]
  },
  {
   "cell_type": "code",
   "execution_count": 50,
   "metadata": {},
   "outputs": [
    {
     "output_type": "execute_result",
     "data": {
      "text/plain": [
       "    InvoiceId  CustomerId          InvoiceDate  \\\n",
       "0          98           1  2010-03-11 00:00:00   \n",
       "1         121           1  2010-06-13 00:00:00   \n",
       "2         143           1  2010-09-15 00:00:00   \n",
       "3         195           1  2011-05-06 00:00:00   \n",
       "4         316           1  2012-10-27 00:00:00   \n",
       "5         327           1  2012-12-07 00:00:00   \n",
       "6         382           1  2013-08-07 00:00:00   \n",
       "7          25          10  2009-04-09 00:00:00   \n",
       "8         154          10  2010-11-14 00:00:00   \n",
       "9         177          10  2011-02-16 00:00:00   \n",
       "10        199          10  2011-05-21 00:00:00   \n",
       "11        251          10  2012-01-09 00:00:00   \n",
       "12        372          10  2013-07-02 00:00:00   \n",
       "13        383          10  2013-08-12 00:00:00   \n",
       "14         57          11  2009-09-06 00:00:00   \n",
       "15         68          11  2009-10-17 00:00:00   \n",
       "16        123          11  2010-06-17 00:00:00   \n",
       "17        252          11  2012-01-22 00:00:00   \n",
       "18        275          11  2012-04-25 00:00:00   \n",
       "19        297          11  2012-07-28 00:00:00   \n",
       "20        349          11  2013-03-18 00:00:00   \n",
       "21         34          12  2009-05-23 00:00:00   \n",
       "22        155          12  2010-11-14 00:00:00   \n",
       "23        166          12  2010-12-25 00:00:00   \n",
       "24        221          12  2011-08-25 00:00:00   \n",
       "25        350          12  2013-03-31 00:00:00   \n",
       "26        373          12  2013-07-03 00:00:00   \n",
       "27        395          12  2013-10-05 00:00:00   \n",
       "28         35          13  2009-06-05 00:00:00   \n",
       "29         58          13  2009-09-07 00:00:00   \n",
       "30         80          13  2009-12-10 00:00:00   \n",
       "31        132          13  2010-07-31 00:00:00   \n",
       "32        253          13  2012-01-22 00:00:00   \n",
       "33        264          13  2012-03-03 00:00:00   \n",
       "34        319          13  2012-11-01 00:00:00   \n",
       "\n",
       "                     BillingAddress          BillingCity BillingState  \\\n",
       "0   Av. Brigadeiro Faria Lima, 2170  São José dos Campos           SP   \n",
       "1   Av. Brigadeiro Faria Lima, 2170  São José dos Campos           SP   \n",
       "2   Av. Brigadeiro Faria Lima, 2170  São José dos Campos           SP   \n",
       "3   Av. Brigadeiro Faria Lima, 2170  São José dos Campos           SP   \n",
       "4   Av. Brigadeiro Faria Lima, 2170  São José dos Campos           SP   \n",
       "5   Av. Brigadeiro Faria Lima, 2170  São José dos Campos           SP   \n",
       "6   Av. Brigadeiro Faria Lima, 2170  São José dos Campos           SP   \n",
       "7         Rua Dr. Falcão Filho, 155            São Paulo           SP   \n",
       "8         Rua Dr. Falcão Filho, 155            São Paulo           SP   \n",
       "9         Rua Dr. Falcão Filho, 155            São Paulo           SP   \n",
       "10        Rua Dr. Falcão Filho, 155            São Paulo           SP   \n",
       "11        Rua Dr. Falcão Filho, 155            São Paulo           SP   \n",
       "12        Rua Dr. Falcão Filho, 155            São Paulo           SP   \n",
       "13        Rua Dr. Falcão Filho, 155            São Paulo           SP   \n",
       "14               Av. Paulista, 2022            São Paulo           SP   \n",
       "15               Av. Paulista, 2022            São Paulo           SP   \n",
       "16               Av. Paulista, 2022            São Paulo           SP   \n",
       "17               Av. Paulista, 2022            São Paulo           SP   \n",
       "18               Av. Paulista, 2022            São Paulo           SP   \n",
       "19               Av. Paulista, 2022            São Paulo           SP   \n",
       "20               Av. Paulista, 2022            São Paulo           SP   \n",
       "21                 Praça Pio X, 119       Rio de Janeiro           RJ   \n",
       "22                 Praça Pio X, 119       Rio de Janeiro           RJ   \n",
       "23                 Praça Pio X, 119       Rio de Janeiro           RJ   \n",
       "24                 Praça Pio X, 119       Rio de Janeiro           RJ   \n",
       "25                 Praça Pio X, 119       Rio de Janeiro           RJ   \n",
       "26                 Praça Pio X, 119       Rio de Janeiro           RJ   \n",
       "27                 Praça Pio X, 119       Rio de Janeiro           RJ   \n",
       "28                     Qe 7 Bloco G             Brasília           DF   \n",
       "29                     Qe 7 Bloco G             Brasília           DF   \n",
       "30                     Qe 7 Bloco G             Brasília           DF   \n",
       "31                     Qe 7 Bloco G             Brasília           DF   \n",
       "32                     Qe 7 Bloco G             Brasília           DF   \n",
       "33                     Qe 7 Bloco G             Brasília           DF   \n",
       "34                     Qe 7 Bloco G             Brasília           DF   \n",
       "\n",
       "   BillingCountry BillingPostalCode  Total  \n",
       "0          Brazil         12227-000   3.98  \n",
       "1          Brazil         12227-000   3.96  \n",
       "2          Brazil         12227-000   5.94  \n",
       "3          Brazil         12227-000   0.99  \n",
       "4          Brazil         12227-000   1.98  \n",
       "5          Brazil         12227-000  13.86  \n",
       "6          Brazil         12227-000   8.91  \n",
       "7          Brazil         01007-010   8.91  \n",
       "8          Brazil         01007-010   1.98  \n",
       "9          Brazil         01007-010   3.96  \n",
       "10         Brazil         01007-010   5.94  \n",
       "11         Brazil         01007-010   0.99  \n",
       "12         Brazil         01007-010   1.98  \n",
       "13         Brazil         01007-010  13.86  \n",
       "14         Brazil         01310-200   1.98  \n",
       "15         Brazil         01310-200  13.86  \n",
       "16         Brazil         01310-200   8.91  \n",
       "17         Brazil         01310-200   1.98  \n",
       "18         Brazil         01310-200   3.96  \n",
       "19         Brazil         01310-200   5.94  \n",
       "20         Brazil         01310-200   0.99  \n",
       "21         Brazil         20040-020   0.99  \n",
       "22         Brazil         20040-020   1.98  \n",
       "23         Brazil         20040-020  13.86  \n",
       "24         Brazil         20040-020   8.91  \n",
       "25         Brazil         20040-020   1.98  \n",
       "26         Brazil         20040-020   3.96  \n",
       "27         Brazil         20040-020   5.94  \n",
       "28         Brazil         71020-677   1.98  \n",
       "29         Brazil         71020-677   3.96  \n",
       "30         Brazil         71020-677   5.94  \n",
       "31         Brazil         71020-677   0.99  \n",
       "32         Brazil         71020-677   1.98  \n",
       "33         Brazil         71020-677  13.86  \n",
       "34         Brazil         71020-677   8.91  "
      ],
      "text/html": "<div>\n<style scoped>\n    .dataframe tbody tr th:only-of-type {\n        vertical-align: middle;\n    }\n\n    .dataframe tbody tr th {\n        vertical-align: top;\n    }\n\n    .dataframe thead th {\n        text-align: right;\n    }\n</style>\n<table border=\"1\" class=\"dataframe\">\n  <thead>\n    <tr style=\"text-align: right;\">\n      <th></th>\n      <th>InvoiceId</th>\n      <th>CustomerId</th>\n      <th>InvoiceDate</th>\n      <th>BillingAddress</th>\n      <th>BillingCity</th>\n      <th>BillingState</th>\n      <th>BillingCountry</th>\n      <th>BillingPostalCode</th>\n      <th>Total</th>\n    </tr>\n  </thead>\n  <tbody>\n    <tr>\n      <th>0</th>\n      <td>98</td>\n      <td>1</td>\n      <td>2010-03-11 00:00:00</td>\n      <td>Av. Brigadeiro Faria Lima, 2170</td>\n      <td>São José dos Campos</td>\n      <td>SP</td>\n      <td>Brazil</td>\n      <td>12227-000</td>\n      <td>3.98</td>\n    </tr>\n    <tr>\n      <th>1</th>\n      <td>121</td>\n      <td>1</td>\n      <td>2010-06-13 00:00:00</td>\n      <td>Av. Brigadeiro Faria Lima, 2170</td>\n      <td>São José dos Campos</td>\n      <td>SP</td>\n      <td>Brazil</td>\n      <td>12227-000</td>\n      <td>3.96</td>\n    </tr>\n    <tr>\n      <th>2</th>\n      <td>143</td>\n      <td>1</td>\n      <td>2010-09-15 00:00:00</td>\n      <td>Av. Brigadeiro Faria Lima, 2170</td>\n      <td>São José dos Campos</td>\n      <td>SP</td>\n      <td>Brazil</td>\n      <td>12227-000</td>\n      <td>5.94</td>\n    </tr>\n    <tr>\n      <th>3</th>\n      <td>195</td>\n      <td>1</td>\n      <td>2011-05-06 00:00:00</td>\n      <td>Av. Brigadeiro Faria Lima, 2170</td>\n      <td>São José dos Campos</td>\n      <td>SP</td>\n      <td>Brazil</td>\n      <td>12227-000</td>\n      <td>0.99</td>\n    </tr>\n    <tr>\n      <th>4</th>\n      <td>316</td>\n      <td>1</td>\n      <td>2012-10-27 00:00:00</td>\n      <td>Av. Brigadeiro Faria Lima, 2170</td>\n      <td>São José dos Campos</td>\n      <td>SP</td>\n      <td>Brazil</td>\n      <td>12227-000</td>\n      <td>1.98</td>\n    </tr>\n    <tr>\n      <th>5</th>\n      <td>327</td>\n      <td>1</td>\n      <td>2012-12-07 00:00:00</td>\n      <td>Av. Brigadeiro Faria Lima, 2170</td>\n      <td>São José dos Campos</td>\n      <td>SP</td>\n      <td>Brazil</td>\n      <td>12227-000</td>\n      <td>13.86</td>\n    </tr>\n    <tr>\n      <th>6</th>\n      <td>382</td>\n      <td>1</td>\n      <td>2013-08-07 00:00:00</td>\n      <td>Av. Brigadeiro Faria Lima, 2170</td>\n      <td>São José dos Campos</td>\n      <td>SP</td>\n      <td>Brazil</td>\n      <td>12227-000</td>\n      <td>8.91</td>\n    </tr>\n    <tr>\n      <th>7</th>\n      <td>25</td>\n      <td>10</td>\n      <td>2009-04-09 00:00:00</td>\n      <td>Rua Dr. Falcão Filho, 155</td>\n      <td>São Paulo</td>\n      <td>SP</td>\n      <td>Brazil</td>\n      <td>01007-010</td>\n      <td>8.91</td>\n    </tr>\n    <tr>\n      <th>8</th>\n      <td>154</td>\n      <td>10</td>\n      <td>2010-11-14 00:00:00</td>\n      <td>Rua Dr. Falcão Filho, 155</td>\n      <td>São Paulo</td>\n      <td>SP</td>\n      <td>Brazil</td>\n      <td>01007-010</td>\n      <td>1.98</td>\n    </tr>\n    <tr>\n      <th>9</th>\n      <td>177</td>\n      <td>10</td>\n      <td>2011-02-16 00:00:00</td>\n      <td>Rua Dr. Falcão Filho, 155</td>\n      <td>São Paulo</td>\n      <td>SP</td>\n      <td>Brazil</td>\n      <td>01007-010</td>\n      <td>3.96</td>\n    </tr>\n    <tr>\n      <th>10</th>\n      <td>199</td>\n      <td>10</td>\n      <td>2011-05-21 00:00:00</td>\n      <td>Rua Dr. Falcão Filho, 155</td>\n      <td>São Paulo</td>\n      <td>SP</td>\n      <td>Brazil</td>\n      <td>01007-010</td>\n      <td>5.94</td>\n    </tr>\n    <tr>\n      <th>11</th>\n      <td>251</td>\n      <td>10</td>\n      <td>2012-01-09 00:00:00</td>\n      <td>Rua Dr. Falcão Filho, 155</td>\n      <td>São Paulo</td>\n      <td>SP</td>\n      <td>Brazil</td>\n      <td>01007-010</td>\n      <td>0.99</td>\n    </tr>\n    <tr>\n      <th>12</th>\n      <td>372</td>\n      <td>10</td>\n      <td>2013-07-02 00:00:00</td>\n      <td>Rua Dr. Falcão Filho, 155</td>\n      <td>São Paulo</td>\n      <td>SP</td>\n      <td>Brazil</td>\n      <td>01007-010</td>\n      <td>1.98</td>\n    </tr>\n    <tr>\n      <th>13</th>\n      <td>383</td>\n      <td>10</td>\n      <td>2013-08-12 00:00:00</td>\n      <td>Rua Dr. Falcão Filho, 155</td>\n      <td>São Paulo</td>\n      <td>SP</td>\n      <td>Brazil</td>\n      <td>01007-010</td>\n      <td>13.86</td>\n    </tr>\n    <tr>\n      <th>14</th>\n      <td>57</td>\n      <td>11</td>\n      <td>2009-09-06 00:00:00</td>\n      <td>Av. Paulista, 2022</td>\n      <td>São Paulo</td>\n      <td>SP</td>\n      <td>Brazil</td>\n      <td>01310-200</td>\n      <td>1.98</td>\n    </tr>\n    <tr>\n      <th>15</th>\n      <td>68</td>\n      <td>11</td>\n      <td>2009-10-17 00:00:00</td>\n      <td>Av. Paulista, 2022</td>\n      <td>São Paulo</td>\n      <td>SP</td>\n      <td>Brazil</td>\n      <td>01310-200</td>\n      <td>13.86</td>\n    </tr>\n    <tr>\n      <th>16</th>\n      <td>123</td>\n      <td>11</td>\n      <td>2010-06-17 00:00:00</td>\n      <td>Av. Paulista, 2022</td>\n      <td>São Paulo</td>\n      <td>SP</td>\n      <td>Brazil</td>\n      <td>01310-200</td>\n      <td>8.91</td>\n    </tr>\n    <tr>\n      <th>17</th>\n      <td>252</td>\n      <td>11</td>\n      <td>2012-01-22 00:00:00</td>\n      <td>Av. Paulista, 2022</td>\n      <td>São Paulo</td>\n      <td>SP</td>\n      <td>Brazil</td>\n      <td>01310-200</td>\n      <td>1.98</td>\n    </tr>\n    <tr>\n      <th>18</th>\n      <td>275</td>\n      <td>11</td>\n      <td>2012-04-25 00:00:00</td>\n      <td>Av. Paulista, 2022</td>\n      <td>São Paulo</td>\n      <td>SP</td>\n      <td>Brazil</td>\n      <td>01310-200</td>\n      <td>3.96</td>\n    </tr>\n    <tr>\n      <th>19</th>\n      <td>297</td>\n      <td>11</td>\n      <td>2012-07-28 00:00:00</td>\n      <td>Av. Paulista, 2022</td>\n      <td>São Paulo</td>\n      <td>SP</td>\n      <td>Brazil</td>\n      <td>01310-200</td>\n      <td>5.94</td>\n    </tr>\n    <tr>\n      <th>20</th>\n      <td>349</td>\n      <td>11</td>\n      <td>2013-03-18 00:00:00</td>\n      <td>Av. Paulista, 2022</td>\n      <td>São Paulo</td>\n      <td>SP</td>\n      <td>Brazil</td>\n      <td>01310-200</td>\n      <td>0.99</td>\n    </tr>\n    <tr>\n      <th>21</th>\n      <td>34</td>\n      <td>12</td>\n      <td>2009-05-23 00:00:00</td>\n      <td>Praça Pio X, 119</td>\n      <td>Rio de Janeiro</td>\n      <td>RJ</td>\n      <td>Brazil</td>\n      <td>20040-020</td>\n      <td>0.99</td>\n    </tr>\n    <tr>\n      <th>22</th>\n      <td>155</td>\n      <td>12</td>\n      <td>2010-11-14 00:00:00</td>\n      <td>Praça Pio X, 119</td>\n      <td>Rio de Janeiro</td>\n      <td>RJ</td>\n      <td>Brazil</td>\n      <td>20040-020</td>\n      <td>1.98</td>\n    </tr>\n    <tr>\n      <th>23</th>\n      <td>166</td>\n      <td>12</td>\n      <td>2010-12-25 00:00:00</td>\n      <td>Praça Pio X, 119</td>\n      <td>Rio de Janeiro</td>\n      <td>RJ</td>\n      <td>Brazil</td>\n      <td>20040-020</td>\n      <td>13.86</td>\n    </tr>\n    <tr>\n      <th>24</th>\n      <td>221</td>\n      <td>12</td>\n      <td>2011-08-25 00:00:00</td>\n      <td>Praça Pio X, 119</td>\n      <td>Rio de Janeiro</td>\n      <td>RJ</td>\n      <td>Brazil</td>\n      <td>20040-020</td>\n      <td>8.91</td>\n    </tr>\n    <tr>\n      <th>25</th>\n      <td>350</td>\n      <td>12</td>\n      <td>2013-03-31 00:00:00</td>\n      <td>Praça Pio X, 119</td>\n      <td>Rio de Janeiro</td>\n      <td>RJ</td>\n      <td>Brazil</td>\n      <td>20040-020</td>\n      <td>1.98</td>\n    </tr>\n    <tr>\n      <th>26</th>\n      <td>373</td>\n      <td>12</td>\n      <td>2013-07-03 00:00:00</td>\n      <td>Praça Pio X, 119</td>\n      <td>Rio de Janeiro</td>\n      <td>RJ</td>\n      <td>Brazil</td>\n      <td>20040-020</td>\n      <td>3.96</td>\n    </tr>\n    <tr>\n      <th>27</th>\n      <td>395</td>\n      <td>12</td>\n      <td>2013-10-05 00:00:00</td>\n      <td>Praça Pio X, 119</td>\n      <td>Rio de Janeiro</td>\n      <td>RJ</td>\n      <td>Brazil</td>\n      <td>20040-020</td>\n      <td>5.94</td>\n    </tr>\n    <tr>\n      <th>28</th>\n      <td>35</td>\n      <td>13</td>\n      <td>2009-06-05 00:00:00</td>\n      <td>Qe 7 Bloco G</td>\n      <td>Brasília</td>\n      <td>DF</td>\n      <td>Brazil</td>\n      <td>71020-677</td>\n      <td>1.98</td>\n    </tr>\n    <tr>\n      <th>29</th>\n      <td>58</td>\n      <td>13</td>\n      <td>2009-09-07 00:00:00</td>\n      <td>Qe 7 Bloco G</td>\n      <td>Brasília</td>\n      <td>DF</td>\n      <td>Brazil</td>\n      <td>71020-677</td>\n      <td>3.96</td>\n    </tr>\n    <tr>\n      <th>30</th>\n      <td>80</td>\n      <td>13</td>\n      <td>2009-12-10 00:00:00</td>\n      <td>Qe 7 Bloco G</td>\n      <td>Brasília</td>\n      <td>DF</td>\n      <td>Brazil</td>\n      <td>71020-677</td>\n      <td>5.94</td>\n    </tr>\n    <tr>\n      <th>31</th>\n      <td>132</td>\n      <td>13</td>\n      <td>2010-07-31 00:00:00</td>\n      <td>Qe 7 Bloco G</td>\n      <td>Brasília</td>\n      <td>DF</td>\n      <td>Brazil</td>\n      <td>71020-677</td>\n      <td>0.99</td>\n    </tr>\n    <tr>\n      <th>32</th>\n      <td>253</td>\n      <td>13</td>\n      <td>2012-01-22 00:00:00</td>\n      <td>Qe 7 Bloco G</td>\n      <td>Brasília</td>\n      <td>DF</td>\n      <td>Brazil</td>\n      <td>71020-677</td>\n      <td>1.98</td>\n    </tr>\n    <tr>\n      <th>33</th>\n      <td>264</td>\n      <td>13</td>\n      <td>2012-03-03 00:00:00</td>\n      <td>Qe 7 Bloco G</td>\n      <td>Brasília</td>\n      <td>DF</td>\n      <td>Brazil</td>\n      <td>71020-677</td>\n      <td>13.86</td>\n    </tr>\n    <tr>\n      <th>34</th>\n      <td>319</td>\n      <td>13</td>\n      <td>2012-11-01 00:00:00</td>\n      <td>Qe 7 Bloco G</td>\n      <td>Brasília</td>\n      <td>DF</td>\n      <td>Brazil</td>\n      <td>71020-677</td>\n      <td>8.91</td>\n    </tr>\n  </tbody>\n</table>\n</div>"
     },
     "metadata": {},
     "execution_count": 50
    }
   ],
   "source": [
    "# Ejercicio 2.2\n",
    "# Facturas de Clientes de Brasil\n",
    "query = \"\"\"\n",
    "SELECT i.*\n",
    "FROM customers c\n",
    "JOIN invoices i ON c.CustomerID = i.CustomerId\n",
    "WHERE c.Country == 'Brazil'\n",
    "\"\"\"\n",
    "pd.read_sql_query(query, conn)"
   ]
  },
  {
   "cell_type": "code",
   "execution_count": 53,
   "metadata": {},
   "outputs": [
    {
     "output_type": "execute_result",
     "data": {
      "text/plain": [
       "    Nombre completo  InvoiceId\n",
       "0      Jane Peacock         98\n",
       "1      Jane Peacock        121\n",
       "2      Jane Peacock        143\n",
       "3      Jane Peacock        195\n",
       "4      Jane Peacock        316\n",
       "..              ...        ...\n",
       "407   Steve Johnson         88\n",
       "408   Steve Johnson        217\n",
       "409   Steve Johnson        240\n",
       "410   Steve Johnson        262\n",
       "411   Steve Johnson        314\n",
       "\n",
       "[412 rows x 2 columns]"
      ],
      "text/html": "<div>\n<style scoped>\n    .dataframe tbody tr th:only-of-type {\n        vertical-align: middle;\n    }\n\n    .dataframe tbody tr th {\n        vertical-align: top;\n    }\n\n    .dataframe thead th {\n        text-align: right;\n    }\n</style>\n<table border=\"1\" class=\"dataframe\">\n  <thead>\n    <tr style=\"text-align: right;\">\n      <th></th>\n      <th>Nombre completo</th>\n      <th>InvoiceId</th>\n    </tr>\n  </thead>\n  <tbody>\n    <tr>\n      <th>0</th>\n      <td>Jane Peacock</td>\n      <td>98</td>\n    </tr>\n    <tr>\n      <th>1</th>\n      <td>Jane Peacock</td>\n      <td>121</td>\n    </tr>\n    <tr>\n      <th>2</th>\n      <td>Jane Peacock</td>\n      <td>143</td>\n    </tr>\n    <tr>\n      <th>3</th>\n      <td>Jane Peacock</td>\n      <td>195</td>\n    </tr>\n    <tr>\n      <th>4</th>\n      <td>Jane Peacock</td>\n      <td>316</td>\n    </tr>\n    <tr>\n      <th>...</th>\n      <td>...</td>\n      <td>...</td>\n    </tr>\n    <tr>\n      <th>407</th>\n      <td>Steve Johnson</td>\n      <td>88</td>\n    </tr>\n    <tr>\n      <th>408</th>\n      <td>Steve Johnson</td>\n      <td>217</td>\n    </tr>\n    <tr>\n      <th>409</th>\n      <td>Steve Johnson</td>\n      <td>240</td>\n    </tr>\n    <tr>\n      <th>410</th>\n      <td>Steve Johnson</td>\n      <td>262</td>\n    </tr>\n    <tr>\n      <th>411</th>\n      <td>Steve Johnson</td>\n      <td>314</td>\n    </tr>\n  </tbody>\n</table>\n<p>412 rows × 2 columns</p>\n</div>"
     },
     "metadata": {},
     "execution_count": 53
    }
   ],
   "source": [
    "#Eejercico 2.3\n",
    "# Muestra cada factura asociada a cada agente de ventas con su nombre completo\n",
    "query = \"\"\"\n",
    "SELECT e.FirstName ||' '|| e.LastName as 'Nombre completo', i.InvoiceId\n",
    "FROM employees e\n",
    "JOIN customers c ON c.SupportRepId== e.EmployeeId\n",
    "JOIN invoices i ON i.CustomerId == c.CustomerId\n",
    "\n",
    "\n",
    "\"\"\"\n",
    "pd.read_sql_query(query, conn)"
   ]
  },
  {
   "cell_type": "code",
   "execution_count": null,
   "metadata": {},
   "outputs": [],
   "source": []
  },
  {
   "cell_type": "code",
   "execution_count": null,
   "metadata": {},
   "outputs": [],
   "source": [
    "# Antes de cerrar el archivo debo cerrar la conexión con la base de datos\n",
    "conn.close()"
   ]
  }
 ]
}