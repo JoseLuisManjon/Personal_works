{
 "cells": [
  {
   "cell_type": "markdown",
   "metadata": {},
   "source": [
    "# Ex2 - Getting and Knowing your Data"
   ]
  },
  {
   "cell_type": "markdown",
   "metadata": {},
   "source": [
    "\n",
    "\n",
    "### Step 1. Import the necessary libraries"
   ]
  },
  {
   "cell_type": "code",
   "execution_count": 2,
   "metadata": {
    "collapsed": false,
    "tags": []
   },
   "outputs": [],
   "source": [
    "import pandas as pd"
   ]
  },
  {
   "cell_type": "markdown",
   "metadata": {},
   "source": [
    "### Step 2. Import the dataset from this [address](https://raw.githubusercontent.com/justmarkham/DAT8/master/data/chipotle.tsv). "
   ]
  },
  {
   "cell_type": "code",
   "execution_count": 3,
   "metadata": {},
   "outputs": [],
   "source": [
    "address = 'https://raw.githubusercontent.com/justmarkham/DAT8/master/data/chipotle.tsv'"
   ]
  },
  {
   "cell_type": "markdown",
   "metadata": {},
   "source": [
    "### Step 3. Assign it to a variable called chipo."
   ]
  },
  {
   "cell_type": "code",
   "execution_count": 4,
   "metadata": {
    "collapsed": false
   },
   "outputs": [
    {
     "output_type": "execute_result",
     "data": {
      "text/plain": "    order_id  quantity                              item_name  \\\n0          1         1           Chips and Fresh Tomato Salsa   \n1          1         1                                   Izze   \n2          1         1                       Nantucket Nectar   \n3          1         1  Chips and Tomatillo-Green Chili Salsa   \n4          2         2                           Chicken Bowl   \n5          3         1                           Chicken Bowl   \n6          3         1                          Side of Chips   \n7          4         1                          Steak Burrito   \n8          4         1                       Steak Soft Tacos   \n9          5         1                          Steak Burrito   \n10         5         1                    Chips and Guacamole   \n11         6         1                   Chicken Crispy Tacos   \n12         6         1                     Chicken Soft Tacos   \n13         7         1                           Chicken Bowl   \n14         7         1                    Chips and Guacamole   \n\n                                   choice_description item_price  \n0                                                 NaN     $2.39   \n1                                        [Clementine]     $3.39   \n2                                             [Apple]     $3.39   \n3                                                 NaN     $2.39   \n4   [Tomatillo-Red Chili Salsa (Hot), [Black Beans...    $16.98   \n5   [Fresh Tomato Salsa (Mild), [Rice, Cheese, Sou...    $10.98   \n6                                                 NaN     $1.69   \n7   [Tomatillo Red Chili Salsa, [Fajita Vegetables...    $11.75   \n8   [Tomatillo Green Chili Salsa, [Pinto Beans, Ch...     $9.25   \n9   [Fresh Tomato Salsa, [Rice, Black Beans, Pinto...     $9.25   \n10                                                NaN     $4.45   \n11  [Roasted Chili Corn Salsa, [Fajita Vegetables,...     $8.75   \n12  [Roasted Chili Corn Salsa, [Rice, Black Beans,...     $8.75   \n13  [Fresh Tomato Salsa, [Fajita Vegetables, Rice,...    $11.25   \n14                                                NaN     $4.45   ",
      "text/html": "<div>\n<style scoped>\n    .dataframe tbody tr th:only-of-type {\n        vertical-align: middle;\n    }\n\n    .dataframe tbody tr th {\n        vertical-align: top;\n    }\n\n    .dataframe thead th {\n        text-align: right;\n    }\n</style>\n<table border=\"1\" class=\"dataframe\">\n  <thead>\n    <tr style=\"text-align: right;\">\n      <th></th>\n      <th>order_id</th>\n      <th>quantity</th>\n      <th>item_name</th>\n      <th>choice_description</th>\n      <th>item_price</th>\n    </tr>\n  </thead>\n  <tbody>\n    <tr>\n      <th>0</th>\n      <td>1</td>\n      <td>1</td>\n      <td>Chips and Fresh Tomato Salsa</td>\n      <td>NaN</td>\n      <td>$2.39</td>\n    </tr>\n    <tr>\n      <th>1</th>\n      <td>1</td>\n      <td>1</td>\n      <td>Izze</td>\n      <td>[Clementine]</td>\n      <td>$3.39</td>\n    </tr>\n    <tr>\n      <th>2</th>\n      <td>1</td>\n      <td>1</td>\n      <td>Nantucket Nectar</td>\n      <td>[Apple]</td>\n      <td>$3.39</td>\n    </tr>\n    <tr>\n      <th>3</th>\n      <td>1</td>\n      <td>1</td>\n      <td>Chips and Tomatillo-Green Chili Salsa</td>\n      <td>NaN</td>\n      <td>$2.39</td>\n    </tr>\n    <tr>\n      <th>4</th>\n      <td>2</td>\n      <td>2</td>\n      <td>Chicken Bowl</td>\n      <td>[Tomatillo-Red Chili Salsa (Hot), [Black Beans...</td>\n      <td>$16.98</td>\n    </tr>\n    <tr>\n      <th>5</th>\n      <td>3</td>\n      <td>1</td>\n      <td>Chicken Bowl</td>\n      <td>[Fresh Tomato Salsa (Mild), [Rice, Cheese, Sou...</td>\n      <td>$10.98</td>\n    </tr>\n    <tr>\n      <th>6</th>\n      <td>3</td>\n      <td>1</td>\n      <td>Side of Chips</td>\n      <td>NaN</td>\n      <td>$1.69</td>\n    </tr>\n    <tr>\n      <th>7</th>\n      <td>4</td>\n      <td>1</td>\n      <td>Steak Burrito</td>\n      <td>[Tomatillo Red Chili Salsa, [Fajita Vegetables...</td>\n      <td>$11.75</td>\n    </tr>\n    <tr>\n      <th>8</th>\n      <td>4</td>\n      <td>1</td>\n      <td>Steak Soft Tacos</td>\n      <td>[Tomatillo Green Chili Salsa, [Pinto Beans, Ch...</td>\n      <td>$9.25</td>\n    </tr>\n    <tr>\n      <th>9</th>\n      <td>5</td>\n      <td>1</td>\n      <td>Steak Burrito</td>\n      <td>[Fresh Tomato Salsa, [Rice, Black Beans, Pinto...</td>\n      <td>$9.25</td>\n    </tr>\n    <tr>\n      <th>10</th>\n      <td>5</td>\n      <td>1</td>\n      <td>Chips and Guacamole</td>\n      <td>NaN</td>\n      <td>$4.45</td>\n    </tr>\n    <tr>\n      <th>11</th>\n      <td>6</td>\n      <td>1</td>\n      <td>Chicken Crispy Tacos</td>\n      <td>[Roasted Chili Corn Salsa, [Fajita Vegetables,...</td>\n      <td>$8.75</td>\n    </tr>\n    <tr>\n      <th>12</th>\n      <td>6</td>\n      <td>1</td>\n      <td>Chicken Soft Tacos</td>\n      <td>[Roasted Chili Corn Salsa, [Rice, Black Beans,...</td>\n      <td>$8.75</td>\n    </tr>\n    <tr>\n      <th>13</th>\n      <td>7</td>\n      <td>1</td>\n      <td>Chicken Bowl</td>\n      <td>[Fresh Tomato Salsa, [Fajita Vegetables, Rice,...</td>\n      <td>$11.25</td>\n    </tr>\n    <tr>\n      <th>14</th>\n      <td>7</td>\n      <td>1</td>\n      <td>Chips and Guacamole</td>\n      <td>NaN</td>\n      <td>$4.45</td>\n    </tr>\n  </tbody>\n</table>\n</div>"
     },
     "metadata": {},
     "execution_count": 4
    }
   ],
   "source": [
    "url = address\n",
    "chipo = pd.read_csv(url,sep = '\\t') # utilizo '\\t' porque las columnas en internet estaban separadas por tabuladores\n",
    "chipo.head(15)"
   ]
  },
  {
   "cell_type": "markdown",
   "metadata": {},
   "source": [
    "### Step 4. See the first 10 entries"
   ]
  },
  {
   "cell_type": "code",
   "execution_count": null,
   "metadata": {},
   "outputs": [],
   "source": [
    "# Teoria\n",
    "#j = chipo.head(10)\n",
    "#j.quantity[0] = 10\n",
    "#chipo\n",
    "# Si sacara por pantalla la tabla chipo veria que el primer valor de la columna quantity ahora vale 10, ha sido modificado. j hace una referencia a chipo y cada vez que modifique j se cambiará en chipo\n",
    "# Si quiero modificar algo en el dataframe sin afectar al original, debo utilizar copy\n"
   ]
  },
  {
   "cell_type": "code",
   "execution_count": 60,
   "metadata": {},
   "outputs": [
    {
     "output_type": "execute_result",
     "data": {
      "text/plain": "   order_id  quantity                              item_name  \\\n0         1         1           Chips and Fresh Tomato Salsa   \n1         1         1                                   Izze   \n2         1         1                       Nantucket Nectar   \n3         1         1  Chips and Tomatillo-Green Chili Salsa   \n4         2         2                           Chicken Bowl   \n5         3         1                           Chicken Bowl   \n6         3         1                          Side of Chips   \n7         4         1                          Steak Burrito   \n8         4         1                       Steak Soft Tacos   \n9         5         1                          Steak Burrito   \n\n                                  choice_description item_price  \n0                                                NaN     $2.39   \n1                                       [Clementine]     $3.39   \n2                                            [Apple]     $3.39   \n3                                                NaN     $2.39   \n4  [Tomatillo-Red Chili Salsa (Hot), [Black Beans...    $16.98   \n5  [Fresh Tomato Salsa (Mild), [Rice, Cheese, Sou...    $10.98   \n6                                                NaN     $1.69   \n7  [Tomatillo Red Chili Salsa, [Fajita Vegetables...    $11.75   \n8  [Tomatillo Green Chili Salsa, [Pinto Beans, Ch...     $9.25   \n9  [Fresh Tomato Salsa, [Rice, Black Beans, Pinto...     $9.25   ",
      "text/html": "<div>\n<style scoped>\n    .dataframe tbody tr th:only-of-type {\n        vertical-align: middle;\n    }\n\n    .dataframe tbody tr th {\n        vertical-align: top;\n    }\n\n    .dataframe thead th {\n        text-align: right;\n    }\n</style>\n<table border=\"1\" class=\"dataframe\">\n  <thead>\n    <tr style=\"text-align: right;\">\n      <th></th>\n      <th>order_id</th>\n      <th>quantity</th>\n      <th>item_name</th>\n      <th>choice_description</th>\n      <th>item_price</th>\n    </tr>\n  </thead>\n  <tbody>\n    <tr>\n      <th>0</th>\n      <td>1</td>\n      <td>1</td>\n      <td>Chips and Fresh Tomato Salsa</td>\n      <td>NaN</td>\n      <td>$2.39</td>\n    </tr>\n    <tr>\n      <th>1</th>\n      <td>1</td>\n      <td>1</td>\n      <td>Izze</td>\n      <td>[Clementine]</td>\n      <td>$3.39</td>\n    </tr>\n    <tr>\n      <th>2</th>\n      <td>1</td>\n      <td>1</td>\n      <td>Nantucket Nectar</td>\n      <td>[Apple]</td>\n      <td>$3.39</td>\n    </tr>\n    <tr>\n      <th>3</th>\n      <td>1</td>\n      <td>1</td>\n      <td>Chips and Tomatillo-Green Chili Salsa</td>\n      <td>NaN</td>\n      <td>$2.39</td>\n    </tr>\n    <tr>\n      <th>4</th>\n      <td>2</td>\n      <td>2</td>\n      <td>Chicken Bowl</td>\n      <td>[Tomatillo-Red Chili Salsa (Hot), [Black Beans...</td>\n      <td>$16.98</td>\n    </tr>\n    <tr>\n      <th>5</th>\n      <td>3</td>\n      <td>1</td>\n      <td>Chicken Bowl</td>\n      <td>[Fresh Tomato Salsa (Mild), [Rice, Cheese, Sou...</td>\n      <td>$10.98</td>\n    </tr>\n    <tr>\n      <th>6</th>\n      <td>3</td>\n      <td>1</td>\n      <td>Side of Chips</td>\n      <td>NaN</td>\n      <td>$1.69</td>\n    </tr>\n    <tr>\n      <th>7</th>\n      <td>4</td>\n      <td>1</td>\n      <td>Steak Burrito</td>\n      <td>[Tomatillo Red Chili Salsa, [Fajita Vegetables...</td>\n      <td>$11.75</td>\n    </tr>\n    <tr>\n      <th>8</th>\n      <td>4</td>\n      <td>1</td>\n      <td>Steak Soft Tacos</td>\n      <td>[Tomatillo Green Chili Salsa, [Pinto Beans, Ch...</td>\n      <td>$9.25</td>\n    </tr>\n    <tr>\n      <th>9</th>\n      <td>5</td>\n      <td>1</td>\n      <td>Steak Burrito</td>\n      <td>[Fresh Tomato Salsa, [Rice, Black Beans, Pinto...</td>\n      <td>$9.25</td>\n    </tr>\n  </tbody>\n</table>\n</div>"
     },
     "metadata": {},
     "execution_count": 60
    }
   ],
   "source": [
    "#My solution\n",
    "chipo.head(10)"
   ]
  },
  {
   "cell_type": "code",
   "execution_count": 8,
   "metadata": {},
   "outputs": [
    {
     "output_type": "execute_result",
     "data": {
      "text/plain": "   order_id  quantity                              item_name  \\\n0         1         1           Chips and Fresh Tomato Salsa   \n1         1         1                                   Izze   \n2         1         1                       Nantucket Nectar   \n3         1         1  Chips and Tomatillo-Green Chili Salsa   \n4         2         2                           Chicken Bowl   \n5         3         1                           Chicken Bowl   \n6         3         1                          Side of Chips   \n7         4         1                          Steak Burrito   \n8         4         1                       Steak Soft Tacos   \n9         5         1                          Steak Burrito   \n\n                                  choice_description item_price  \n0                                                NaN     $2.39   \n1                                       [Clementine]     $3.39   \n2                                            [Apple]     $3.39   \n3                                                NaN     $2.39   \n4  [Tomatillo-Red Chili Salsa (Hot), [Black Beans...    $16.98   \n5  [Fresh Tomato Salsa (Mild), [Rice, Cheese, Sou...    $10.98   \n6                                                NaN     $1.69   \n7  [Tomatillo Red Chili Salsa, [Fajita Vegetables...    $11.75   \n8  [Tomatillo Green Chili Salsa, [Pinto Beans, Ch...     $9.25   \n9  [Fresh Tomato Salsa, [Rice, Black Beans, Pinto...     $9.25   ",
      "text/html": "<div>\n<style scoped>\n    .dataframe tbody tr th:only-of-type {\n        vertical-align: middle;\n    }\n\n    .dataframe tbody tr th {\n        vertical-align: top;\n    }\n\n    .dataframe thead th {\n        text-align: right;\n    }\n</style>\n<table border=\"1\" class=\"dataframe\">\n  <thead>\n    <tr style=\"text-align: right;\">\n      <th></th>\n      <th>order_id</th>\n      <th>quantity</th>\n      <th>item_name</th>\n      <th>choice_description</th>\n      <th>item_price</th>\n    </tr>\n  </thead>\n  <tbody>\n    <tr>\n      <th>0</th>\n      <td>1</td>\n      <td>1</td>\n      <td>Chips and Fresh Tomato Salsa</td>\n      <td>NaN</td>\n      <td>$2.39</td>\n    </tr>\n    <tr>\n      <th>1</th>\n      <td>1</td>\n      <td>1</td>\n      <td>Izze</td>\n      <td>[Clementine]</td>\n      <td>$3.39</td>\n    </tr>\n    <tr>\n      <th>2</th>\n      <td>1</td>\n      <td>1</td>\n      <td>Nantucket Nectar</td>\n      <td>[Apple]</td>\n      <td>$3.39</td>\n    </tr>\n    <tr>\n      <th>3</th>\n      <td>1</td>\n      <td>1</td>\n      <td>Chips and Tomatillo-Green Chili Salsa</td>\n      <td>NaN</td>\n      <td>$2.39</td>\n    </tr>\n    <tr>\n      <th>4</th>\n      <td>2</td>\n      <td>2</td>\n      <td>Chicken Bowl</td>\n      <td>[Tomatillo-Red Chili Salsa (Hot), [Black Beans...</td>\n      <td>$16.98</td>\n    </tr>\n    <tr>\n      <th>5</th>\n      <td>3</td>\n      <td>1</td>\n      <td>Chicken Bowl</td>\n      <td>[Fresh Tomato Salsa (Mild), [Rice, Cheese, Sou...</td>\n      <td>$10.98</td>\n    </tr>\n    <tr>\n      <th>6</th>\n      <td>3</td>\n      <td>1</td>\n      <td>Side of Chips</td>\n      <td>NaN</td>\n      <td>$1.69</td>\n    </tr>\n    <tr>\n      <th>7</th>\n      <td>4</td>\n      <td>1</td>\n      <td>Steak Burrito</td>\n      <td>[Tomatillo Red Chili Salsa, [Fajita Vegetables...</td>\n      <td>$11.75</td>\n    </tr>\n    <tr>\n      <th>8</th>\n      <td>4</td>\n      <td>1</td>\n      <td>Steak Soft Tacos</td>\n      <td>[Tomatillo Green Chili Salsa, [Pinto Beans, Ch...</td>\n      <td>$9.25</td>\n    </tr>\n    <tr>\n      <th>9</th>\n      <td>5</td>\n      <td>1</td>\n      <td>Steak Burrito</td>\n      <td>[Fresh Tomato Salsa, [Rice, Black Beans, Pinto...</td>\n      <td>$9.25</td>\n    </tr>\n  </tbody>\n</table>\n</div>"
     },
     "metadata": {},
     "execution_count": 8
    }
   ],
   "source": [
    "chipo[:10]"
   ]
  },
  {
   "cell_type": "code",
   "execution_count": 9,
   "metadata": {},
   "outputs": [
    {
     "output_type": "execute_result",
     "data": {
      "text/plain": "   order_id  quantity                              item_name  \\\n0         1         1           Chips and Fresh Tomato Salsa   \n1         1         1                                   Izze   \n2         1         1                       Nantucket Nectar   \n3         1         1  Chips and Tomatillo-Green Chili Salsa   \n4         2         2                           Chicken Bowl   \n5         3         1                           Chicken Bowl   \n6         3         1                          Side of Chips   \n7         4         1                          Steak Burrito   \n8         4         1                       Steak Soft Tacos   \n9         5         1                          Steak Burrito   \n\n                                  choice_description item_price  \n0                                                NaN     $2.39   \n1                                       [Clementine]     $3.39   \n2                                            [Apple]     $3.39   \n3                                                NaN     $2.39   \n4  [Tomatillo-Red Chili Salsa (Hot), [Black Beans...    $16.98   \n5  [Fresh Tomato Salsa (Mild), [Rice, Cheese, Sou...    $10.98   \n6                                                NaN     $1.69   \n7  [Tomatillo Red Chili Salsa, [Fajita Vegetables...    $11.75   \n8  [Tomatillo Green Chili Salsa, [Pinto Beans, Ch...     $9.25   \n9  [Fresh Tomato Salsa, [Rice, Black Beans, Pinto...     $9.25   ",
      "text/html": "<div>\n<style scoped>\n    .dataframe tbody tr th:only-of-type {\n        vertical-align: middle;\n    }\n\n    .dataframe tbody tr th {\n        vertical-align: top;\n    }\n\n    .dataframe thead th {\n        text-align: right;\n    }\n</style>\n<table border=\"1\" class=\"dataframe\">\n  <thead>\n    <tr style=\"text-align: right;\">\n      <th></th>\n      <th>order_id</th>\n      <th>quantity</th>\n      <th>item_name</th>\n      <th>choice_description</th>\n      <th>item_price</th>\n    </tr>\n  </thead>\n  <tbody>\n    <tr>\n      <th>0</th>\n      <td>1</td>\n      <td>1</td>\n      <td>Chips and Fresh Tomato Salsa</td>\n      <td>NaN</td>\n      <td>$2.39</td>\n    </tr>\n    <tr>\n      <th>1</th>\n      <td>1</td>\n      <td>1</td>\n      <td>Izze</td>\n      <td>[Clementine]</td>\n      <td>$3.39</td>\n    </tr>\n    <tr>\n      <th>2</th>\n      <td>1</td>\n      <td>1</td>\n      <td>Nantucket Nectar</td>\n      <td>[Apple]</td>\n      <td>$3.39</td>\n    </tr>\n    <tr>\n      <th>3</th>\n      <td>1</td>\n      <td>1</td>\n      <td>Chips and Tomatillo-Green Chili Salsa</td>\n      <td>NaN</td>\n      <td>$2.39</td>\n    </tr>\n    <tr>\n      <th>4</th>\n      <td>2</td>\n      <td>2</td>\n      <td>Chicken Bowl</td>\n      <td>[Tomatillo-Red Chili Salsa (Hot), [Black Beans...</td>\n      <td>$16.98</td>\n    </tr>\n    <tr>\n      <th>5</th>\n      <td>3</td>\n      <td>1</td>\n      <td>Chicken Bowl</td>\n      <td>[Fresh Tomato Salsa (Mild), [Rice, Cheese, Sou...</td>\n      <td>$10.98</td>\n    </tr>\n    <tr>\n      <th>6</th>\n      <td>3</td>\n      <td>1</td>\n      <td>Side of Chips</td>\n      <td>NaN</td>\n      <td>$1.69</td>\n    </tr>\n    <tr>\n      <th>7</th>\n      <td>4</td>\n      <td>1</td>\n      <td>Steak Burrito</td>\n      <td>[Tomatillo Red Chili Salsa, [Fajita Vegetables...</td>\n      <td>$11.75</td>\n    </tr>\n    <tr>\n      <th>8</th>\n      <td>4</td>\n      <td>1</td>\n      <td>Steak Soft Tacos</td>\n      <td>[Tomatillo Green Chili Salsa, [Pinto Beans, Ch...</td>\n      <td>$9.25</td>\n    </tr>\n    <tr>\n      <th>9</th>\n      <td>5</td>\n      <td>1</td>\n      <td>Steak Burrito</td>\n      <td>[Fresh Tomato Salsa, [Rice, Black Beans, Pinto...</td>\n      <td>$9.25</td>\n    </tr>\n  </tbody>\n</table>\n</div>"
     },
     "metadata": {},
     "execution_count": 9
    }
   ],
   "source": [
    "chipo.loc[:9]"
   ]
  },
  {
   "cell_type": "code",
   "execution_count": 3,
   "metadata": {
    "collapsed": false,
    "scrolled": false
   },
   "outputs": [
    {
     "data": {
      "text/html": [
       "<div>\n",
       "<table border=\"1\" class=\"dataframe\">\n",
       "  <thead>\n",
       "    <tr style=\"text-align: right;\">\n",
       "      <th></th>\n",
       "      <th>order_id</th>\n",
       "      <th>quantity</th>\n",
       "      <th>item_name</th>\n",
       "      <th>choice_description</th>\n",
       "      <th>item_price</th>\n",
       "    </tr>\n",
       "  </thead>\n",
       "  <tbody>\n",
       "    <tr>\n",
       "      <th>0</th>\n",
       "      <td>1</td>\n",
       "      <td>1</td>\n",
       "      <td>Chips and Fresh Tomato Salsa</td>\n",
       "      <td>NaN</td>\n",
       "      <td>$2.39</td>\n",
       "    </tr>\n",
       "    <tr>\n",
       "      <th>1</th>\n",
       "      <td>1</td>\n",
       "      <td>1</td>\n",
       "      <td>Izze</td>\n",
       "      <td>[Clementine]</td>\n",
       "      <td>$3.39</td>\n",
       "    </tr>\n",
       "    <tr>\n",
       "      <th>2</th>\n",
       "      <td>1</td>\n",
       "      <td>1</td>\n",
       "      <td>Nantucket Nectar</td>\n",
       "      <td>[Apple]</td>\n",
       "      <td>$3.39</td>\n",
       "    </tr>\n",
       "    <tr>\n",
       "      <th>3</th>\n",
       "      <td>1</td>\n",
       "      <td>1</td>\n",
       "      <td>Chips and Tomatillo-Green Chili Salsa</td>\n",
       "      <td>NaN</td>\n",
       "      <td>$2.39</td>\n",
       "    </tr>\n",
       "    <tr>\n",
       "      <th>4</th>\n",
       "      <td>2</td>\n",
       "      <td>2</td>\n",
       "      <td>Chicken Bowl</td>\n",
       "      <td>[Tomatillo-Red Chili Salsa (Hot), [Black Beans...</td>\n",
       "      <td>$16.98</td>\n",
       "    </tr>\n",
       "    <tr>\n",
       "      <th>5</th>\n",
       "      <td>3</td>\n",
       "      <td>1</td>\n",
       "      <td>Chicken Bowl</td>\n",
       "      <td>[Fresh Tomato Salsa (Mild), [Rice, Cheese, Sou...</td>\n",
       "      <td>$10.98</td>\n",
       "    </tr>\n",
       "    <tr>\n",
       "      <th>6</th>\n",
       "      <td>3</td>\n",
       "      <td>1</td>\n",
       "      <td>Side of Chips</td>\n",
       "      <td>NaN</td>\n",
       "      <td>$1.69</td>\n",
       "    </tr>\n",
       "    <tr>\n",
       "      <th>7</th>\n",
       "      <td>4</td>\n",
       "      <td>1</td>\n",
       "      <td>Steak Burrito</td>\n",
       "      <td>[Tomatillo Red Chili Salsa, [Fajita Vegetables...</td>\n",
       "      <td>$11.75</td>\n",
       "    </tr>\n",
       "    <tr>\n",
       "      <th>8</th>\n",
       "      <td>4</td>\n",
       "      <td>1</td>\n",
       "      <td>Steak Soft Tacos</td>\n",
       "      <td>[Tomatillo Green Chili Salsa, [Pinto Beans, Ch...</td>\n",
       "      <td>$9.25</td>\n",
       "    </tr>\n",
       "    <tr>\n",
       "      <th>9</th>\n",
       "      <td>5</td>\n",
       "      <td>1</td>\n",
       "      <td>Steak Burrito</td>\n",
       "      <td>[Fresh Tomato Salsa, [Rice, Black Beans, Pinto...</td>\n",
       "      <td>$9.25</td>\n",
       "    </tr>\n",
       "  </tbody>\n",
       "</table>\n",
       "</div>"
      ],
      "text/plain": [
       "   order_id  quantity                              item_name  \\\n",
       "0         1         1           Chips and Fresh Tomato Salsa   \n",
       "1         1         1                                   Izze   \n",
       "2         1         1                       Nantucket Nectar   \n",
       "3         1         1  Chips and Tomatillo-Green Chili Salsa   \n",
       "4         2         2                           Chicken Bowl   \n",
       "5         3         1                           Chicken Bowl   \n",
       "6         3         1                          Side of Chips   \n",
       "7         4         1                          Steak Burrito   \n",
       "8         4         1                       Steak Soft Tacos   \n",
       "9         5         1                          Steak Burrito   \n",
       "\n",
       "                                  choice_description item_price  \n",
       "0                                                NaN     $2.39   \n",
       "1                                       [Clementine]     $3.39   \n",
       "2                                            [Apple]     $3.39   \n",
       "3                                                NaN     $2.39   \n",
       "4  [Tomatillo-Red Chili Salsa (Hot), [Black Beans...    $16.98   \n",
       "5  [Fresh Tomato Salsa (Mild), [Rice, Cheese, Sou...    $10.98   \n",
       "6                                                NaN     $1.69   \n",
       "7  [Tomatillo Red Chili Salsa, [Fajita Vegetables...    $11.75   \n",
       "8  [Tomatillo Green Chili Salsa, [Pinto Beans, Ch...     $9.25   \n",
       "9  [Fresh Tomato Salsa, [Rice, Black Beans, Pinto...     $9.25   "
      ]
     },
     "execution_count": 3,
     "metadata": {},
     "output_type": "execute_result"
    }
   ],
   "source": []
  },
  {
   "cell_type": "markdown",
   "metadata": {},
   "source": [
    "### Step 5. What is the number of observations in the dataset?"
   ]
  },
  {
   "cell_type": "code",
   "execution_count": 16,
   "metadata": {
    "tags": []
   },
   "outputs": [
    {
     "output_type": "stream",
     "name": "stdout",
     "text": "4622\n--------\n<class 'pandas.core.frame.DataFrame'>\n--------\norder_id               int64\nquantity               int64\nitem_name             object\nchoice_description    object\nitem_price            object\ndtype: object\n--------\n(4622, 5)\n--------\n--------\n4622\n--------\n4622\n--------\n"
    },
    {
     "output_type": "execute_result",
     "data": {
      "text/plain": "<bound method DataFrame.info of       order_id  quantity                              item_name  \\\n0            1         1           Chips and Fresh Tomato Salsa   \n1            1         1                                   Izze   \n2            1         1                       Nantucket Nectar   \n3            1         1  Chips and Tomatillo-Green Chili Salsa   \n4            2         2                           Chicken Bowl   \n...        ...       ...                                    ...   \n4617      1833         1                          Steak Burrito   \n4618      1833         1                          Steak Burrito   \n4619      1834         1                     Chicken Salad Bowl   \n4620      1834         1                     Chicken Salad Bowl   \n4621      1834         1                     Chicken Salad Bowl   \n\n                                     choice_description item_price  \n0                                                   NaN     $2.39   \n1                                          [Clementine]     $3.39   \n2                                               [Apple]     $3.39   \n3                                                   NaN     $2.39   \n4     [Tomatillo-Red Chili Salsa (Hot), [Black Beans...    $16.98   \n...                                                 ...        ...  \n4617  [Fresh Tomato Salsa, [Rice, Black Beans, Sour ...    $11.75   \n4618  [Fresh Tomato Salsa, [Rice, Sour Cream, Cheese...    $11.75   \n4619  [Fresh Tomato Salsa, [Fajita Vegetables, Pinto...    $11.25   \n4620  [Fresh Tomato Salsa, [Fajita Vegetables, Lettu...     $8.75   \n4621  [Fresh Tomato Salsa, [Fajita Vegetables, Pinto...     $8.75   \n\n[4622 rows x 5 columns]>"
     },
     "metadata": {},
     "execution_count": 16
    }
   ],
   "source": [
    "#my solution 1\n",
    "print(len(chipo))\n",
    "print('--------')\n",
    "print(type(chipo))\n",
    "print('--------')\n",
    "print(chipo.dtypes)\n",
    "print('--------')\n",
    "print(chipo.shape)\n",
    "print('--------')\n",
    "chipo.size\n",
    "print('--------')\n",
    "print(len(chipo.index))\n",
    "print('--------')\n",
    "print(len(chipo))\n"
   ]
  },
  {
   "cell_type": "code",
   "execution_count": 17,
   "metadata": {
    "tags": []
   },
   "outputs": [
    {
     "output_type": "stream",
     "name": "stdout",
     "text": "--------\n"
    },
    {
     "output_type": "execute_result",
     "data": {
      "text/plain": "<bound method DataFrame.info of       order_id  quantity                              item_name  \\\n0            1         1           Chips and Fresh Tomato Salsa   \n1            1         1                                   Izze   \n2            1         1                       Nantucket Nectar   \n3            1         1  Chips and Tomatillo-Green Chili Salsa   \n4            2         2                           Chicken Bowl   \n...        ...       ...                                    ...   \n4617      1833         1                          Steak Burrito   \n4618      1833         1                          Steak Burrito   \n4619      1834         1                     Chicken Salad Bowl   \n4620      1834         1                     Chicken Salad Bowl   \n4621      1834         1                     Chicken Salad Bowl   \n\n                                     choice_description item_price  \n0                                                   NaN     $2.39   \n1                                          [Clementine]     $3.39   \n2                                               [Apple]     $3.39   \n3                                                   NaN     $2.39   \n4     [Tomatillo-Red Chili Salsa (Hot), [Black Beans...    $16.98   \n...                                                 ...        ...  \n4617  [Fresh Tomato Salsa, [Rice, Black Beans, Sour ...    $11.75   \n4618  [Fresh Tomato Salsa, [Rice, Sour Cream, Cheese...    $11.75   \n4619  [Fresh Tomato Salsa, [Fajita Vegetables, Pinto...    $11.25   \n4620  [Fresh Tomato Salsa, [Fajita Vegetables, Lettu...     $8.75   \n4621  [Fresh Tomato Salsa, [Fajita Vegetables, Pinto...     $8.75   \n\n[4622 rows x 5 columns]>"
     },
     "metadata": {},
     "execution_count": 17
    }
   ],
   "source": [
    "print('--------')\n",
    "chipo.info "
   ]
  },
  {
   "cell_type": "code",
   "execution_count": 62,
   "metadata": {},
   "outputs": [
    {
     "output_type": "execute_result",
     "data": {
      "text/plain": "          order_id     quantity\ncount  4622.000000  4622.000000\nmean    927.254868     1.075725\nstd     528.890796     0.410186\nmin       1.000000     1.000000\n25%     477.250000     1.000000\n50%     926.000000     1.000000\n75%    1393.000000     1.000000\nmax    1834.000000    15.000000",
      "text/html": "<div>\n<style scoped>\n    .dataframe tbody tr th:only-of-type {\n        vertical-align: middle;\n    }\n\n    .dataframe tbody tr th {\n        vertical-align: top;\n    }\n\n    .dataframe thead th {\n        text-align: right;\n    }\n</style>\n<table border=\"1\" class=\"dataframe\">\n  <thead>\n    <tr style=\"text-align: right;\">\n      <th></th>\n      <th>order_id</th>\n      <th>quantity</th>\n    </tr>\n  </thead>\n  <tbody>\n    <tr>\n      <th>count</th>\n      <td>4622.000000</td>\n      <td>4622.000000</td>\n    </tr>\n    <tr>\n      <th>mean</th>\n      <td>927.254868</td>\n      <td>1.075725</td>\n    </tr>\n    <tr>\n      <th>std</th>\n      <td>528.890796</td>\n      <td>0.410186</td>\n    </tr>\n    <tr>\n      <th>min</th>\n      <td>1.000000</td>\n      <td>1.000000</td>\n    </tr>\n    <tr>\n      <th>25%</th>\n      <td>477.250000</td>\n      <td>1.000000</td>\n    </tr>\n    <tr>\n      <th>50%</th>\n      <td>926.000000</td>\n      <td>1.000000</td>\n    </tr>\n    <tr>\n      <th>75%</th>\n      <td>1393.000000</td>\n      <td>1.000000</td>\n    </tr>\n    <tr>\n      <th>max</th>\n      <td>1834.000000</td>\n      <td>15.000000</td>\n    </tr>\n  </tbody>\n</table>\n</div>"
     },
     "metadata": {},
     "execution_count": 62
    }
   ],
   "source": [
    "# My solution 2\n",
    "chipo.describe()"
   ]
  },
  {
   "cell_type": "code",
   "execution_count": 29,
   "metadata": {
    "tags": []
   },
   "outputs": [],
   "source": [
    "# Solution 1\n"
   ]
  },
  {
   "cell_type": "code",
   "execution_count": 5,
   "metadata": {
    "collapsed": false
   },
   "outputs": [
    {
     "name": "stdout",
     "output_type": "stream",
     "text": [
      "<class 'pandas.core.frame.DataFrame'>\n",
      "RangeIndex: 4622 entries, 0 to 4621\n",
      "Data columns (total 5 columns):\n",
      "order_id              4622 non-null int64\n",
      "quantity              4622 non-null int64\n",
      "item_name             4622 non-null object\n",
      "choice_description    3376 non-null object\n",
      "item_price            4622 non-null object\n",
      "dtypes: int64(2), object(3)\n",
      "memory usage: 180.6+ KB\n"
     ]
    }
   ],
   "source": [
    "# Solution 2\n",
    "\n"
   ]
  },
  {
   "cell_type": "markdown",
   "metadata": {},
   "source": [
    "### Step 6. What is the number of columns in the dataset?"
   ]
  },
  {
   "cell_type": "code",
   "execution_count": 63,
   "metadata": {
    "collapsed": false
   },
   "outputs": [
    {
     "output_type": "execute_result",
     "data": {
      "text/plain": "5"
     },
     "metadata": {},
     "execution_count": 63
    }
   ],
   "source": [
    "len(chipo.columns)"
   ]
  },
  {
   "cell_type": "code",
   "execution_count": null,
   "metadata": {},
   "outputs": [],
   "source": []
  },
  {
   "cell_type": "markdown",
   "metadata": {},
   "source": [
    "### Step 7. Print the name of all the columns."
   ]
  },
  {
   "cell_type": "code",
   "execution_count": 18,
   "metadata": {},
   "outputs": [
    {
     "output_type": "execute_result",
     "data": {
      "text/plain": "Empty DataFrame\nColumns: [order_id, quantity, item_name, choice_description, item_price]\nIndex: []",
      "text/html": "<div>\n<style scoped>\n    .dataframe tbody tr th:only-of-type {\n        vertical-align: middle;\n    }\n\n    .dataframe tbody tr th {\n        vertical-align: top;\n    }\n\n    .dataframe thead th {\n        text-align: right;\n    }\n</style>\n<table border=\"1\" class=\"dataframe\">\n  <thead>\n    <tr style=\"text-align: right;\">\n      <th></th>\n      <th>order_id</th>\n      <th>quantity</th>\n      <th>item_name</th>\n      <th>choice_description</th>\n      <th>item_price</th>\n    </tr>\n  </thead>\n  <tbody>\n  </tbody>\n</table>\n</div>"
     },
     "metadata": {},
     "execution_count": 18
    }
   ],
   "source": [
    "chipo.head(0)"
   ]
  },
  {
   "cell_type": "code",
   "execution_count": 64,
   "metadata": {},
   "outputs": [
    {
     "output_type": "execute_result",
     "data": {
      "text/plain": "Index(['order_id', 'quantity', 'item_name', 'choice_description',\n       'item_price'],\n      dtype='object')"
     },
     "metadata": {},
     "execution_count": 64
    }
   ],
   "source": [
    "# My solution\n",
    "chipo.columns"
   ]
  },
  {
   "cell_type": "code",
   "execution_count": 7,
   "metadata": {
    "collapsed": false
   },
   "outputs": [
    {
     "data": {
      "text/plain": [
       "Index([u'order_id', u'quantity', u'item_name', u'choice_description',\n",
       "       u'item_price'],\n",
       "      dtype='object')"
      ]
     },
     "execution_count": 7,
     "metadata": {},
     "output_type": "execute_result"
    }
   ],
   "source": []
  },
  {
   "cell_type": "markdown",
   "metadata": {},
   "source": [
    "### Step 8. How is the dataset indexed?"
   ]
  },
  {
   "cell_type": "code",
   "execution_count": 65,
   "metadata": {},
   "outputs": [
    {
     "output_type": "execute_result",
     "data": {
      "text/plain": "RangeIndex(start=0, stop=4622, step=1)"
     },
     "metadata": {},
     "execution_count": 65
    }
   ],
   "source": [
    "# My solution\n",
    "chipo.index"
   ]
  },
  {
   "cell_type": "code",
   "execution_count": 8,
   "metadata": {
    "collapsed": false
   },
   "outputs": [
    {
     "data": {
      "text/plain": [
       "RangeIndex(start=0, stop=4622, step=1)"
      ]
     },
     "execution_count": 8,
     "metadata": {},
     "output_type": "execute_result"
    }
   ],
   "source": []
  },
  {
   "cell_type": "markdown",
   "metadata": {},
   "source": [
    "### Step 9. Which was the most-ordered item? "
   ]
  },
  {
   "cell_type": "code",
   "execution_count": 5,
   "metadata": {},
   "outputs": [
    {
     "output_type": "execute_result",
     "data": {
      "text/plain": "                                       order_id  quantity\nitem_name                                                \n6 Pack Soft Drink                         52322        55\nBarbacoa Bowl                             53972        66\nBarbacoa Burrito                          74718        91\nBarbacoa Crispy Tacos                      5613        12\nBarbacoa Salad Bowl                        9708        10\nBarbacoa Soft Tacos                       18725        25\nBottled Water                            175944       211\nBowl                                        472         4\nBurrito                                    1550         6\nCanned Soda                               76396       126\nCanned Soft Drink                        304753       351\nCarnitas Bowl                             62742        71\nCarnitas Burrito                          51652        60\nCarnitas Crispy Tacos                      5868         8\nCarnitas Salad                             1500         1\nCarnitas Salad Bowl                        6693         6\nCarnitas Soft Tacos                       37673        40\nChicken Bowl                             713926       761\nChicken Burrito                          497303       591\nChicken Crispy Tacos                      47382        50\nChicken Salad                             10465         9\nChicken Salad Bowl                       117104       123\nChicken Soft Tacos                        98395       120\nChips                                    208004       230\nChips and Fresh Tomato Salsa             100419       130\nChips and Guacamole                      449959       506\nChips and Mild Fresh Tomato Salsa           279         1\nChips and Roasted Chili Corn Salsa        14999        23\nChips and Roasted Chili-Corn Salsa        17462        18\nChips and Tomatillo Green Chili Salsa     41170        45\nChips and Tomatillo Red Chili Salsa       45556        50\nChips and Tomatillo-Green Chili Salsa     21826        33\nChips and Tomatillo-Red Chili Salsa       18344        25\nCrispy Tacos                                434         2\nIzze                                      10587        20\nNantucket Nectar                          21814        29\nSalad                                      1150         2\nSide of Chips                             84769       110\nSteak Bowl                               193752       221\nSteak Burrito                            328437       386\nSteak Crispy Tacos                        35818        36\nSteak Salad                                2362         4\nSteak Salad Bowl                          29590        31\nSteak Soft Tacos                          50177        56\nVeggie Bowl                               72270        87\nVeggie Burrito                            80962        97\nVeggie Crispy Tacos                         668         1\nVeggie Salad                               7265         6\nVeggie Salad Bowl                         17303        18\nVeggie Soft Tacos                          5520         8",
      "text/html": "<div>\n<style scoped>\n    .dataframe tbody tr th:only-of-type {\n        vertical-align: middle;\n    }\n\n    .dataframe tbody tr th {\n        vertical-align: top;\n    }\n\n    .dataframe thead th {\n        text-align: right;\n    }\n</style>\n<table border=\"1\" class=\"dataframe\">\n  <thead>\n    <tr style=\"text-align: right;\">\n      <th></th>\n      <th>order_id</th>\n      <th>quantity</th>\n    </tr>\n    <tr>\n      <th>item_name</th>\n      <th></th>\n      <th></th>\n    </tr>\n  </thead>\n  <tbody>\n    <tr>\n      <th>6 Pack Soft Drink</th>\n      <td>52322</td>\n      <td>55</td>\n    </tr>\n    <tr>\n      <th>Barbacoa Bowl</th>\n      <td>53972</td>\n      <td>66</td>\n    </tr>\n    <tr>\n      <th>Barbacoa Burrito</th>\n      <td>74718</td>\n      <td>91</td>\n    </tr>\n    <tr>\n      <th>Barbacoa Crispy Tacos</th>\n      <td>5613</td>\n      <td>12</td>\n    </tr>\n    <tr>\n      <th>Barbacoa Salad Bowl</th>\n      <td>9708</td>\n      <td>10</td>\n    </tr>\n    <tr>\n      <th>Barbacoa Soft Tacos</th>\n      <td>18725</td>\n      <td>25</td>\n    </tr>\n    <tr>\n      <th>Bottled Water</th>\n      <td>175944</td>\n      <td>211</td>\n    </tr>\n    <tr>\n      <th>Bowl</th>\n      <td>472</td>\n      <td>4</td>\n    </tr>\n    <tr>\n      <th>Burrito</th>\n      <td>1550</td>\n      <td>6</td>\n    </tr>\n    <tr>\n      <th>Canned Soda</th>\n      <td>76396</td>\n      <td>126</td>\n    </tr>\n    <tr>\n      <th>Canned Soft Drink</th>\n      <td>304753</td>\n      <td>351</td>\n    </tr>\n    <tr>\n      <th>Carnitas Bowl</th>\n      <td>62742</td>\n      <td>71</td>\n    </tr>\n    <tr>\n      <th>Carnitas Burrito</th>\n      <td>51652</td>\n      <td>60</td>\n    </tr>\n    <tr>\n      <th>Carnitas Crispy Tacos</th>\n      <td>5868</td>\n      <td>8</td>\n    </tr>\n    <tr>\n      <th>Carnitas Salad</th>\n      <td>1500</td>\n      <td>1</td>\n    </tr>\n    <tr>\n      <th>Carnitas Salad Bowl</th>\n      <td>6693</td>\n      <td>6</td>\n    </tr>\n    <tr>\n      <th>Carnitas Soft Tacos</th>\n      <td>37673</td>\n      <td>40</td>\n    </tr>\n    <tr>\n      <th>Chicken Bowl</th>\n      <td>713926</td>\n      <td>761</td>\n    </tr>\n    <tr>\n      <th>Chicken Burrito</th>\n      <td>497303</td>\n      <td>591</td>\n    </tr>\n    <tr>\n      <th>Chicken Crispy Tacos</th>\n      <td>47382</td>\n      <td>50</td>\n    </tr>\n    <tr>\n      <th>Chicken Salad</th>\n      <td>10465</td>\n      <td>9</td>\n    </tr>\n    <tr>\n      <th>Chicken Salad Bowl</th>\n      <td>117104</td>\n      <td>123</td>\n    </tr>\n    <tr>\n      <th>Chicken Soft Tacos</th>\n      <td>98395</td>\n      <td>120</td>\n    </tr>\n    <tr>\n      <th>Chips</th>\n      <td>208004</td>\n      <td>230</td>\n    </tr>\n    <tr>\n      <th>Chips and Fresh Tomato Salsa</th>\n      <td>100419</td>\n      <td>130</td>\n    </tr>\n    <tr>\n      <th>Chips and Guacamole</th>\n      <td>449959</td>\n      <td>506</td>\n    </tr>\n    <tr>\n      <th>Chips and Mild Fresh Tomato Salsa</th>\n      <td>279</td>\n      <td>1</td>\n    </tr>\n    <tr>\n      <th>Chips and Roasted Chili Corn Salsa</th>\n      <td>14999</td>\n      <td>23</td>\n    </tr>\n    <tr>\n      <th>Chips and Roasted Chili-Corn Salsa</th>\n      <td>17462</td>\n      <td>18</td>\n    </tr>\n    <tr>\n      <th>Chips and Tomatillo Green Chili Salsa</th>\n      <td>41170</td>\n      <td>45</td>\n    </tr>\n    <tr>\n      <th>Chips and Tomatillo Red Chili Salsa</th>\n      <td>45556</td>\n      <td>50</td>\n    </tr>\n    <tr>\n      <th>Chips and Tomatillo-Green Chili Salsa</th>\n      <td>21826</td>\n      <td>33</td>\n    </tr>\n    <tr>\n      <th>Chips and Tomatillo-Red Chili Salsa</th>\n      <td>18344</td>\n      <td>25</td>\n    </tr>\n    <tr>\n      <th>Crispy Tacos</th>\n      <td>434</td>\n      <td>2</td>\n    </tr>\n    <tr>\n      <th>Izze</th>\n      <td>10587</td>\n      <td>20</td>\n    </tr>\n    <tr>\n      <th>Nantucket Nectar</th>\n      <td>21814</td>\n      <td>29</td>\n    </tr>\n    <tr>\n      <th>Salad</th>\n      <td>1150</td>\n      <td>2</td>\n    </tr>\n    <tr>\n      <th>Side of Chips</th>\n      <td>84769</td>\n      <td>110</td>\n    </tr>\n    <tr>\n      <th>Steak Bowl</th>\n      <td>193752</td>\n      <td>221</td>\n    </tr>\n    <tr>\n      <th>Steak Burrito</th>\n      <td>328437</td>\n      <td>386</td>\n    </tr>\n    <tr>\n      <th>Steak Crispy Tacos</th>\n      <td>35818</td>\n      <td>36</td>\n    </tr>\n    <tr>\n      <th>Steak Salad</th>\n      <td>2362</td>\n      <td>4</td>\n    </tr>\n    <tr>\n      <th>Steak Salad Bowl</th>\n      <td>29590</td>\n      <td>31</td>\n    </tr>\n    <tr>\n      <th>Steak Soft Tacos</th>\n      <td>50177</td>\n      <td>56</td>\n    </tr>\n    <tr>\n      <th>Veggie Bowl</th>\n      <td>72270</td>\n      <td>87</td>\n    </tr>\n    <tr>\n      <th>Veggie Burrito</th>\n      <td>80962</td>\n      <td>97</td>\n    </tr>\n    <tr>\n      <th>Veggie Crispy Tacos</th>\n      <td>668</td>\n      <td>1</td>\n    </tr>\n    <tr>\n      <th>Veggie Salad</th>\n      <td>7265</td>\n      <td>6</td>\n    </tr>\n    <tr>\n      <th>Veggie Salad Bowl</th>\n      <td>17303</td>\n      <td>18</td>\n    </tr>\n    <tr>\n      <th>Veggie Soft Tacos</th>\n      <td>5520</td>\n      <td>8</td>\n    </tr>\n  </tbody>\n</table>\n</div>"
     },
     "metadata": {},
     "execution_count": 5
    }
   ],
   "source": [
    "c = chipo.groupby(['item_name']).sum()\n",
    "c\n",
    "# el sum() indica que cuando agrupemos lo tiene que hacer con el criterio de que los iguales los sume entre si y sum solo afecta a las columnas que tienen cantidad\n"
   ]
  },
  {
   "cell_type": "code",
   "execution_count": 23,
   "metadata": {},
   "outputs": [
    {
     "output_type": "execute_result",
     "data": {
      "text/plain": "                                       order_id  quantity\nitem_name                                                \n6 Pack Soft Drink                         52322        55\nBarbacoa Bowl                             53972        66\nBarbacoa Burrito                          74718        91\nBarbacoa Crispy Tacos                      5613        12\nBarbacoa Salad Bowl                        9708        10\nBarbacoa Soft Tacos                       18725        25\nBottled Water                            175944       211\nBowl                                        472         4\nBurrito                                    1550         6\nCanned Soda                               76396       126\nCanned Soft Drink                        304753       351\nCarnitas Bowl                             62742        71\nCarnitas Burrito                          51652        60\nCarnitas Crispy Tacos                      5868         8\nCarnitas Salad                             1500         1\nCarnitas Salad Bowl                        6693         6\nCarnitas Soft Tacos                       37673        40\nChicken Bowl                             713926       761\nChicken Burrito                          497303       591\nChicken Crispy Tacos                      47382        50\nChicken Salad                             10465         9\nChicken Salad Bowl                       117104       123\nChicken Soft Tacos                        98395       120\nChips                                    208004       230\nChips and Fresh Tomato Salsa             100419       130\nChips and Guacamole                      449959       506\nChips and Mild Fresh Tomato Salsa           279         1\nChips and Roasted Chili Corn Salsa        14999        23\nChips and Roasted Chili-Corn Salsa        17462        18\nChips and Tomatillo Green Chili Salsa     41170        45\nChips and Tomatillo Red Chili Salsa       45556        50\nChips and Tomatillo-Green Chili Salsa     21826        33\nChips and Tomatillo-Red Chili Salsa       18344        25\nCrispy Tacos                                434         2\nIzze                                      10587        20\nNantucket Nectar                          21814        29\nSalad                                      1150         2\nSide of Chips                             84769       110\nSteak Bowl                               193752       221\nSteak Burrito                            328437       386\nSteak Crispy Tacos                        35818        36\nSteak Salad                                2362         4\nSteak Salad Bowl                          29590        31\nSteak Soft Tacos                          50177        56\nVeggie Bowl                               72270        87\nVeggie Burrito                            80962        97\nVeggie Crispy Tacos                         668         1\nVeggie Salad                               7265         6\nVeggie Salad Bowl                         17303        18\nVeggie Soft Tacos                          5520         8",
      "text/html": "<div>\n<style scoped>\n    .dataframe tbody tr th:only-of-type {\n        vertical-align: middle;\n    }\n\n    .dataframe tbody tr th {\n        vertical-align: top;\n    }\n\n    .dataframe thead th {\n        text-align: right;\n    }\n</style>\n<table border=\"1\" class=\"dataframe\">\n  <thead>\n    <tr style=\"text-align: right;\">\n      <th></th>\n      <th>order_id</th>\n      <th>quantity</th>\n    </tr>\n    <tr>\n      <th>item_name</th>\n      <th></th>\n      <th></th>\n    </tr>\n  </thead>\n  <tbody>\n    <tr>\n      <th>6 Pack Soft Drink</th>\n      <td>52322</td>\n      <td>55</td>\n    </tr>\n    <tr>\n      <th>Barbacoa Bowl</th>\n      <td>53972</td>\n      <td>66</td>\n    </tr>\n    <tr>\n      <th>Barbacoa Burrito</th>\n      <td>74718</td>\n      <td>91</td>\n    </tr>\n    <tr>\n      <th>Barbacoa Crispy Tacos</th>\n      <td>5613</td>\n      <td>12</td>\n    </tr>\n    <tr>\n      <th>Barbacoa Salad Bowl</th>\n      <td>9708</td>\n      <td>10</td>\n    </tr>\n    <tr>\n      <th>Barbacoa Soft Tacos</th>\n      <td>18725</td>\n      <td>25</td>\n    </tr>\n    <tr>\n      <th>Bottled Water</th>\n      <td>175944</td>\n      <td>211</td>\n    </tr>\n    <tr>\n      <th>Bowl</th>\n      <td>472</td>\n      <td>4</td>\n    </tr>\n    <tr>\n      <th>Burrito</th>\n      <td>1550</td>\n      <td>6</td>\n    </tr>\n    <tr>\n      <th>Canned Soda</th>\n      <td>76396</td>\n      <td>126</td>\n    </tr>\n    <tr>\n      <th>Canned Soft Drink</th>\n      <td>304753</td>\n      <td>351</td>\n    </tr>\n    <tr>\n      <th>Carnitas Bowl</th>\n      <td>62742</td>\n      <td>71</td>\n    </tr>\n    <tr>\n      <th>Carnitas Burrito</th>\n      <td>51652</td>\n      <td>60</td>\n    </tr>\n    <tr>\n      <th>Carnitas Crispy Tacos</th>\n      <td>5868</td>\n      <td>8</td>\n    </tr>\n    <tr>\n      <th>Carnitas Salad</th>\n      <td>1500</td>\n      <td>1</td>\n    </tr>\n    <tr>\n      <th>Carnitas Salad Bowl</th>\n      <td>6693</td>\n      <td>6</td>\n    </tr>\n    <tr>\n      <th>Carnitas Soft Tacos</th>\n      <td>37673</td>\n      <td>40</td>\n    </tr>\n    <tr>\n      <th>Chicken Bowl</th>\n      <td>713926</td>\n      <td>761</td>\n    </tr>\n    <tr>\n      <th>Chicken Burrito</th>\n      <td>497303</td>\n      <td>591</td>\n    </tr>\n    <tr>\n      <th>Chicken Crispy Tacos</th>\n      <td>47382</td>\n      <td>50</td>\n    </tr>\n    <tr>\n      <th>Chicken Salad</th>\n      <td>10465</td>\n      <td>9</td>\n    </tr>\n    <tr>\n      <th>Chicken Salad Bowl</th>\n      <td>117104</td>\n      <td>123</td>\n    </tr>\n    <tr>\n      <th>Chicken Soft Tacos</th>\n      <td>98395</td>\n      <td>120</td>\n    </tr>\n    <tr>\n      <th>Chips</th>\n      <td>208004</td>\n      <td>230</td>\n    </tr>\n    <tr>\n      <th>Chips and Fresh Tomato Salsa</th>\n      <td>100419</td>\n      <td>130</td>\n    </tr>\n    <tr>\n      <th>Chips and Guacamole</th>\n      <td>449959</td>\n      <td>506</td>\n    </tr>\n    <tr>\n      <th>Chips and Mild Fresh Tomato Salsa</th>\n      <td>279</td>\n      <td>1</td>\n    </tr>\n    <tr>\n      <th>Chips and Roasted Chili Corn Salsa</th>\n      <td>14999</td>\n      <td>23</td>\n    </tr>\n    <tr>\n      <th>Chips and Roasted Chili-Corn Salsa</th>\n      <td>17462</td>\n      <td>18</td>\n    </tr>\n    <tr>\n      <th>Chips and Tomatillo Green Chili Salsa</th>\n      <td>41170</td>\n      <td>45</td>\n    </tr>\n    <tr>\n      <th>Chips and Tomatillo Red Chili Salsa</th>\n      <td>45556</td>\n      <td>50</td>\n    </tr>\n    <tr>\n      <th>Chips and Tomatillo-Green Chili Salsa</th>\n      <td>21826</td>\n      <td>33</td>\n    </tr>\n    <tr>\n      <th>Chips and Tomatillo-Red Chili Salsa</th>\n      <td>18344</td>\n      <td>25</td>\n    </tr>\n    <tr>\n      <th>Crispy Tacos</th>\n      <td>434</td>\n      <td>2</td>\n    </tr>\n    <tr>\n      <th>Izze</th>\n      <td>10587</td>\n      <td>20</td>\n    </tr>\n    <tr>\n      <th>Nantucket Nectar</th>\n      <td>21814</td>\n      <td>29</td>\n    </tr>\n    <tr>\n      <th>Salad</th>\n      <td>1150</td>\n      <td>2</td>\n    </tr>\n    <tr>\n      <th>Side of Chips</th>\n      <td>84769</td>\n      <td>110</td>\n    </tr>\n    <tr>\n      <th>Steak Bowl</th>\n      <td>193752</td>\n      <td>221</td>\n    </tr>\n    <tr>\n      <th>Steak Burrito</th>\n      <td>328437</td>\n      <td>386</td>\n    </tr>\n    <tr>\n      <th>Steak Crispy Tacos</th>\n      <td>35818</td>\n      <td>36</td>\n    </tr>\n    <tr>\n      <th>Steak Salad</th>\n      <td>2362</td>\n      <td>4</td>\n    </tr>\n    <tr>\n      <th>Steak Salad Bowl</th>\n      <td>29590</td>\n      <td>31</td>\n    </tr>\n    <tr>\n      <th>Steak Soft Tacos</th>\n      <td>50177</td>\n      <td>56</td>\n    </tr>\n    <tr>\n      <th>Veggie Bowl</th>\n      <td>72270</td>\n      <td>87</td>\n    </tr>\n    <tr>\n      <th>Veggie Burrito</th>\n      <td>80962</td>\n      <td>97</td>\n    </tr>\n    <tr>\n      <th>Veggie Crispy Tacos</th>\n      <td>668</td>\n      <td>1</td>\n    </tr>\n    <tr>\n      <th>Veggie Salad</th>\n      <td>7265</td>\n      <td>6</td>\n    </tr>\n    <tr>\n      <th>Veggie Salad Bowl</th>\n      <td>17303</td>\n      <td>18</td>\n    </tr>\n    <tr>\n      <th>Veggie Soft Tacos</th>\n      <td>5520</td>\n      <td>8</td>\n    </tr>\n  </tbody>\n</table>\n</div>"
     },
     "metadata": {},
     "execution_count": 23
    }
   ],
   "source": [
    "c = chipo.groupby(['item_name']).sum()\n"
   ]
  },
  {
   "cell_type": "code",
   "execution_count": 9,
   "metadata": {},
   "outputs": [
    {
     "output_type": "execute_result",
     "data": {
      "text/plain": "                                       order_id  quantity\nitem_name                                                \nChicken Bowl                             713926       761\nChicken Burrito                          497303       591\nChips and Guacamole                      449959       506\nSteak Burrito                            328437       386\nCanned Soft Drink                        304753       351\nChips                                    208004       230\nSteak Bowl                               193752       221\nBottled Water                            175944       211\nChips and Fresh Tomato Salsa             100419       130\nCanned Soda                               76396       126\nChicken Salad Bowl                       117104       123\nChicken Soft Tacos                        98395       120\nSide of Chips                             84769       110\nVeggie Burrito                            80962        97\nBarbacoa Burrito                          74718        91\nVeggie Bowl                               72270        87\nCarnitas Bowl                             62742        71\nBarbacoa Bowl                             53972        66\nCarnitas Burrito                          51652        60\nSteak Soft Tacos                          50177        56\n6 Pack Soft Drink                         52322        55\nChips and Tomatillo Red Chili Salsa       45556        50\nChicken Crispy Tacos                      47382        50\nChips and Tomatillo Green Chili Salsa     41170        45\nCarnitas Soft Tacos                       37673        40\nSteak Crispy Tacos                        35818        36\nChips and Tomatillo-Green Chili Salsa     21826        33\nSteak Salad Bowl                          29590        31\nNantucket Nectar                          21814        29\nChips and Tomatillo-Red Chili Salsa       18344        25\nBarbacoa Soft Tacos                       18725        25\nChips and Roasted Chili Corn Salsa        14999        23\nIzze                                      10587        20\nVeggie Salad Bowl                         17303        18\nChips and Roasted Chili-Corn Salsa        17462        18\nBarbacoa Crispy Tacos                      5613        12\nBarbacoa Salad Bowl                        9708        10\nChicken Salad                             10465         9\nCarnitas Crispy Tacos                      5868         8\nVeggie Soft Tacos                          5520         8\nBurrito                                    1550         6\nVeggie Salad                               7265         6\nCarnitas Salad Bowl                        6693         6\nBowl                                        472         4\nSteak Salad                                2362         4\nSalad                                      1150         2\nCrispy Tacos                                434         2\nChips and Mild Fresh Tomato Salsa           279         1\nCarnitas Salad                             1500         1\nVeggie Crispy Tacos                         668         1",
      "text/html": "<div>\n<style scoped>\n    .dataframe tbody tr th:only-of-type {\n        vertical-align: middle;\n    }\n\n    .dataframe tbody tr th {\n        vertical-align: top;\n    }\n\n    .dataframe thead th {\n        text-align: right;\n    }\n</style>\n<table border=\"1\" class=\"dataframe\">\n  <thead>\n    <tr style=\"text-align: right;\">\n      <th></th>\n      <th>order_id</th>\n      <th>quantity</th>\n    </tr>\n    <tr>\n      <th>item_name</th>\n      <th></th>\n      <th></th>\n    </tr>\n  </thead>\n  <tbody>\n    <tr>\n      <th>Chicken Bowl</th>\n      <td>713926</td>\n      <td>761</td>\n    </tr>\n    <tr>\n      <th>Chicken Burrito</th>\n      <td>497303</td>\n      <td>591</td>\n    </tr>\n    <tr>\n      <th>Chips and Guacamole</th>\n      <td>449959</td>\n      <td>506</td>\n    </tr>\n    <tr>\n      <th>Steak Burrito</th>\n      <td>328437</td>\n      <td>386</td>\n    </tr>\n    <tr>\n      <th>Canned Soft Drink</th>\n      <td>304753</td>\n      <td>351</td>\n    </tr>\n    <tr>\n      <th>Chips</th>\n      <td>208004</td>\n      <td>230</td>\n    </tr>\n    <tr>\n      <th>Steak Bowl</th>\n      <td>193752</td>\n      <td>221</td>\n    </tr>\n    <tr>\n      <th>Bottled Water</th>\n      <td>175944</td>\n      <td>211</td>\n    </tr>\n    <tr>\n      <th>Chips and Fresh Tomato Salsa</th>\n      <td>100419</td>\n      <td>130</td>\n    </tr>\n    <tr>\n      <th>Canned Soda</th>\n      <td>76396</td>\n      <td>126</td>\n    </tr>\n    <tr>\n      <th>Chicken Salad Bowl</th>\n      <td>117104</td>\n      <td>123</td>\n    </tr>\n    <tr>\n      <th>Chicken Soft Tacos</th>\n      <td>98395</td>\n      <td>120</td>\n    </tr>\n    <tr>\n      <th>Side of Chips</th>\n      <td>84769</td>\n      <td>110</td>\n    </tr>\n    <tr>\n      <th>Veggie Burrito</th>\n      <td>80962</td>\n      <td>97</td>\n    </tr>\n    <tr>\n      <th>Barbacoa Burrito</th>\n      <td>74718</td>\n      <td>91</td>\n    </tr>\n    <tr>\n      <th>Veggie Bowl</th>\n      <td>72270</td>\n      <td>87</td>\n    </tr>\n    <tr>\n      <th>Carnitas Bowl</th>\n      <td>62742</td>\n      <td>71</td>\n    </tr>\n    <tr>\n      <th>Barbacoa Bowl</th>\n      <td>53972</td>\n      <td>66</td>\n    </tr>\n    <tr>\n      <th>Carnitas Burrito</th>\n      <td>51652</td>\n      <td>60</td>\n    </tr>\n    <tr>\n      <th>Steak Soft Tacos</th>\n      <td>50177</td>\n      <td>56</td>\n    </tr>\n    <tr>\n      <th>6 Pack Soft Drink</th>\n      <td>52322</td>\n      <td>55</td>\n    </tr>\n    <tr>\n      <th>Chips and Tomatillo Red Chili Salsa</th>\n      <td>45556</td>\n      <td>50</td>\n    </tr>\n    <tr>\n      <th>Chicken Crispy Tacos</th>\n      <td>47382</td>\n      <td>50</td>\n    </tr>\n    <tr>\n      <th>Chips and Tomatillo Green Chili Salsa</th>\n      <td>41170</td>\n      <td>45</td>\n    </tr>\n    <tr>\n      <th>Carnitas Soft Tacos</th>\n      <td>37673</td>\n      <td>40</td>\n    </tr>\n    <tr>\n      <th>Steak Crispy Tacos</th>\n      <td>35818</td>\n      <td>36</td>\n    </tr>\n    <tr>\n      <th>Chips and Tomatillo-Green Chili Salsa</th>\n      <td>21826</td>\n      <td>33</td>\n    </tr>\n    <tr>\n      <th>Steak Salad Bowl</th>\n      <td>29590</td>\n      <td>31</td>\n    </tr>\n    <tr>\n      <th>Nantucket Nectar</th>\n      <td>21814</td>\n      <td>29</td>\n    </tr>\n    <tr>\n      <th>Chips and Tomatillo-Red Chili Salsa</th>\n      <td>18344</td>\n      <td>25</td>\n    </tr>\n    <tr>\n      <th>Barbacoa Soft Tacos</th>\n      <td>18725</td>\n      <td>25</td>\n    </tr>\n    <tr>\n      <th>Chips and Roasted Chili Corn Salsa</th>\n      <td>14999</td>\n      <td>23</td>\n    </tr>\n    <tr>\n      <th>Izze</th>\n      <td>10587</td>\n      <td>20</td>\n    </tr>\n    <tr>\n      <th>Veggie Salad Bowl</th>\n      <td>17303</td>\n      <td>18</td>\n    </tr>\n    <tr>\n      <th>Chips and Roasted Chili-Corn Salsa</th>\n      <td>17462</td>\n      <td>18</td>\n    </tr>\n    <tr>\n      <th>Barbacoa Crispy Tacos</th>\n      <td>5613</td>\n      <td>12</td>\n    </tr>\n    <tr>\n      <th>Barbacoa Salad Bowl</th>\n      <td>9708</td>\n      <td>10</td>\n    </tr>\n    <tr>\n      <th>Chicken Salad</th>\n      <td>10465</td>\n      <td>9</td>\n    </tr>\n    <tr>\n      <th>Carnitas Crispy Tacos</th>\n      <td>5868</td>\n      <td>8</td>\n    </tr>\n    <tr>\n      <th>Veggie Soft Tacos</th>\n      <td>5520</td>\n      <td>8</td>\n    </tr>\n    <tr>\n      <th>Burrito</th>\n      <td>1550</td>\n      <td>6</td>\n    </tr>\n    <tr>\n      <th>Veggie Salad</th>\n      <td>7265</td>\n      <td>6</td>\n    </tr>\n    <tr>\n      <th>Carnitas Salad Bowl</th>\n      <td>6693</td>\n      <td>6</td>\n    </tr>\n    <tr>\n      <th>Bowl</th>\n      <td>472</td>\n      <td>4</td>\n    </tr>\n    <tr>\n      <th>Steak Salad</th>\n      <td>2362</td>\n      <td>4</td>\n    </tr>\n    <tr>\n      <th>Salad</th>\n      <td>1150</td>\n      <td>2</td>\n    </tr>\n    <tr>\n      <th>Crispy Tacos</th>\n      <td>434</td>\n      <td>2</td>\n    </tr>\n    <tr>\n      <th>Chips and Mild Fresh Tomato Salsa</th>\n      <td>279</td>\n      <td>1</td>\n    </tr>\n    <tr>\n      <th>Carnitas Salad</th>\n      <td>1500</td>\n      <td>1</td>\n    </tr>\n    <tr>\n      <th>Veggie Crispy Tacos</th>\n      <td>668</td>\n      <td>1</td>\n    </tr>\n  </tbody>\n</table>\n</div>"
     },
     "metadata": {},
     "execution_count": 9
    }
   ],
   "source": [
    "d = c.sort_values(['quantity'], ascending=False)\n",
    "d"
   ]
  },
  {
   "cell_type": "code",
   "execution_count": 10,
   "metadata": {},
   "outputs": [
    {
     "output_type": "execute_result",
     "data": {
      "text/plain": "Empty DataFrame\nColumns: [order_id, quantity, item_name, choice_description, item_price]\nIndex: []",
      "text/html": "<div>\n<style scoped>\n    .dataframe tbody tr th:only-of-type {\n        vertical-align: middle;\n    }\n\n    .dataframe tbody tr th {\n        vertical-align: top;\n    }\n\n    .dataframe thead th {\n        text-align: right;\n    }\n</style>\n<table border=\"1\" class=\"dataframe\">\n  <thead>\n    <tr style=\"text-align: right;\">\n      <th></th>\n      <th>order_id</th>\n      <th>quantity</th>\n      <th>item_name</th>\n      <th>choice_description</th>\n      <th>item_price</th>\n    </tr>\n  </thead>\n  <tbody>\n  </tbody>\n</table>\n</div>"
     },
     "metadata": {},
     "execution_count": 10
    }
   ],
   "source": [
    "# other solution, usando mascaras\n",
    "chipo[chipo['quantity'] == 761]\n",
    "# Me devuelve donde la condicion de la derecha (761) se cumpla en chipo['quantity']"
   ]
  },
  {
   "cell_type": "code",
   "execution_count": 9,
   "metadata": {
    "collapsed": false
   },
   "outputs": [
    {
     "data": {
      "text/html": [
       "<div>\n",
       "<table border=\"1\" class=\"dataframe\">\n",
       "  <thead>\n",
       "    <tr style=\"text-align: right;\">\n",
       "      <th></th>\n",
       "      <th>order_id</th>\n",
       "      <th>quantity</th>\n",
       "    </tr>\n",
       "    <tr>\n",
       "      <th>item_name</th>\n",
       "      <th></th>\n",
       "      <th></th>\n",
       "    </tr>\n",
       "  </thead>\n",
       "  <tbody>\n",
       "    <tr>\n",
       "      <th>Chicken Bowl</th>\n",
       "      <td>713926</td>\n",
       "      <td>761</td>\n",
       "    </tr>\n",
       "  </tbody>\n",
       "</table>\n",
       "</div>"
      ],
      "text/plain": [
       "              order_id  quantity\n",
       "item_name                       \n",
       "Chicken Bowl    713926       761"
      ]
     },
     "execution_count": 9,
     "metadata": {},
     "output_type": "execute_result"
    }
   ],
   "source": []
  },
  {
   "cell_type": "markdown",
   "metadata": {},
   "source": [
    "### Step 10. For the most-ordered item, how many items were ordered?"
   ]
  },
  {
   "cell_type": "code",
   "execution_count": 68,
   "metadata": {},
   "outputs": [
    {
     "output_type": "execute_result",
     "data": {
      "text/plain": "order_id    713926\nquantity       761\ndtype: int64"
     },
     "metadata": {},
     "execution_count": 68
    }
   ],
   "source": [
    "# My solution\n",
    "chipo.groupby(['item_name']).sum().max()"
   ]
  },
  {
   "cell_type": "code",
   "execution_count": 12,
   "metadata": {},
   "outputs": [
    {
     "output_type": "execute_result",
     "data": {
      "text/plain": "              order_id  quantity\nitem_name                       \nChicken Bowl    713926       761",
      "text/html": "<div>\n<style scoped>\n    .dataframe tbody tr th:only-of-type {\n        vertical-align: middle;\n    }\n\n    .dataframe tbody tr th {\n        vertical-align: top;\n    }\n\n    .dataframe thead th {\n        text-align: right;\n    }\n</style>\n<table border=\"1\" class=\"dataframe\">\n  <thead>\n    <tr style=\"text-align: right;\">\n      <th></th>\n      <th>order_id</th>\n      <th>quantity</th>\n    </tr>\n    <tr>\n      <th>item_name</th>\n      <th></th>\n      <th></th>\n    </tr>\n  </thead>\n  <tbody>\n    <tr>\n      <th>Chicken Bowl</th>\n      <td>713926</td>\n      <td>761</td>\n    </tr>\n  </tbody>\n</table>\n</div>"
     },
     "metadata": {},
     "execution_count": 12
    }
   ],
   "source": [
    "d.head(1)"
   ]
  },
  {
   "cell_type": "code",
   "execution_count": 10,
   "metadata": {
    "collapsed": false
   },
   "outputs": [
    {
     "data": {
      "text/html": [
       "<div>\n",
       "<table border=\"1\" class=\"dataframe\">\n",
       "  <thead>\n",
       "    <tr style=\"text-align: right;\">\n",
       "      <th></th>\n",
       "      <th>order_id</th>\n",
       "      <th>quantity</th>\n",
       "    </tr>\n",
       "    <tr>\n",
       "      <th>item_name</th>\n",
       "      <th></th>\n",
       "      <th></th>\n",
       "    </tr>\n",
       "  </thead>\n",
       "  <tbody>\n",
       "    <tr>\n",
       "      <th>Chicken Bowl</th>\n",
       "      <td>713926</td>\n",
       "      <td>761</td>\n",
       "    </tr>\n",
       "  </tbody>\n",
       "</table>\n",
       "</div>"
      ],
      "text/plain": [
       "              order_id  quantity\n",
       "item_name                       \n",
       "Chicken Bowl    713926       761"
      ]
     },
     "execution_count": 10,
     "metadata": {},
     "output_type": "execute_result"
    }
   ],
   "source": []
  },
  {
   "cell_type": "code",
   "execution_count": 13,
   "metadata": {},
   "outputs": [
    {
     "output_type": "execute_result",
     "data": {
      "text/plain": "<pandas.core.groupby.generic.DataFrameGroupBy object at 0x0D97BAD8>"
     },
     "metadata": {},
     "execution_count": 13
    }
   ],
   "source": [
    "#Si quisiera en cuantas ordenes estaba incluido un chicken bowl\n",
    "chipo.groupby(['order_id'])"
   ]
  },
  {
   "cell_type": "markdown",
   "metadata": {},
   "source": [
    "### Step 11. What was the most ordered item in the choice_description column?"
   ]
  },
  {
   "cell_type": "code",
   "execution_count": 14,
   "metadata": {},
   "outputs": [
    {
     "output_type": "execute_result",
     "data": {
      "text/plain": "                    order_id  quantity\nchoice_description                    \n[Diet Coke]           123455       159",
      "text/html": "<div>\n<style scoped>\n    .dataframe tbody tr th:only-of-type {\n        vertical-align: middle;\n    }\n\n    .dataframe tbody tr th {\n        vertical-align: top;\n    }\n\n    .dataframe thead th {\n        text-align: right;\n    }\n</style>\n<table border=\"1\" class=\"dataframe\">\n  <thead>\n    <tr style=\"text-align: right;\">\n      <th></th>\n      <th>order_id</th>\n      <th>quantity</th>\n    </tr>\n    <tr>\n      <th>choice_description</th>\n      <th></th>\n      <th></th>\n    </tr>\n  </thead>\n  <tbody>\n    <tr>\n      <th>[Diet Coke]</th>\n      <td>123455</td>\n      <td>159</td>\n    </tr>\n  </tbody>\n</table>\n</div>"
     },
     "metadata": {},
     "execution_count": 14
    }
   ],
   "source": [
    "#My solution\n",
    "j = chipo.groupby(['choice_description']).sum()\n",
    "# Ahora dentro de la tabla con las descripciones ordena de mayor a menor en funcion de la columna quantity\n",
    "j = j.sort_values(['quantity'],ascending=False)\n",
    "j.head(1)"
   ]
  },
  {
   "cell_type": "code",
   "execution_count": 11,
   "metadata": {
    "collapsed": false
   },
   "outputs": [
    {
     "data": {
      "text/html": [
       "<div>\n",
       "<table border=\"1\" class=\"dataframe\">\n",
       "  <thead>\n",
       "    <tr style=\"text-align: right;\">\n",
       "      <th></th>\n",
       "      <th>order_id</th>\n",
       "      <th>quantity</th>\n",
       "    </tr>\n",
       "    <tr>\n",
       "      <th>choice_description</th>\n",
       "      <th></th>\n",
       "      <th></th>\n",
       "    </tr>\n",
       "  </thead>\n",
       "  <tbody>\n",
       "    <tr>\n",
       "      <th>[Diet Coke]</th>\n",
       "      <td>123455</td>\n",
       "      <td>159</td>\n",
       "    </tr>\n",
       "  </tbody>\n",
       "</table>\n",
       "</div>"
      ],
      "text/plain": [
       "                    order_id  quantity\n",
       "choice_description                    \n",
       "[Diet Coke]           123455       159"
      ]
     },
     "execution_count": 11,
     "metadata": {},
     "output_type": "execute_result"
    }
   ],
   "source": []
  },
  {
   "cell_type": "markdown",
   "metadata": {},
   "source": [
    "### Step 12. How many items were orderd in total?"
   ]
  },
  {
   "cell_type": "code",
   "execution_count": 30,
   "metadata": {},
   "outputs": [
    {
     "output_type": "execute_result",
     "data": {
      "text/plain": "4972"
     },
     "metadata": {},
     "execution_count": 30
    }
   ],
   "source": [
    "#My solution\n",
    "chipo.quantity.sum()"
   ]
  },
  {
   "cell_type": "code",
   "execution_count": 29,
   "metadata": {
    "collapsed": false
   },
   "outputs": [
    {
     "output_type": "execute_result",
     "data": {
      "text/plain": "4972"
     },
     "metadata": {},
     "execution_count": 29
    }
   ],
   "source": [
    "chipo.quantity.sum()"
   ]
  },
  {
   "cell_type": "code",
   "execution_count": 29,
   "metadata": {
    "tags": []
   },
   "outputs": [
    {
     "output_type": "stream",
     "name": "stdout",
     "text": "<class 'pandas.core.frame.DataFrame'>\nRangeIndex: 4622 entries, 0 to 4621\nData columns (total 5 columns):\n #   Column              Non-Null Count  Dtype \n---  ------              --------------  ----- \n 0   order_id            4622 non-null   int64 \n 1   quantity            4622 non-null   int64 \n 2   item_name           4622 non-null   object\n 3   choice_description  3376 non-null   object\n 4   item_price          4622 non-null   object\ndtypes: int64(2), object(3)\nmemory usage: 126.4+ KB\n"
    }
   ],
   "source": [
    "chipo.info()"
   ]
  },
  {
   "cell_type": "markdown",
   "metadata": {},
   "source": [
    "### Step 13. Turn the item price into a float"
   ]
  },
  {
   "cell_type": "markdown",
   "metadata": {},
   "source": [
    "#### Step 13.a. Check the item price type"
   ]
  },
  {
   "cell_type": "code",
   "execution_count": 30,
   "metadata": {},
   "outputs": [
    {
     "output_type": "execute_result",
     "data": {
      "text/plain": "dtype('O')"
     },
     "metadata": {},
     "execution_count": 30
    }
   ],
   "source": [
    "chipo.item_price.dtype"
   ]
  },
  {
   "cell_type": "code",
   "execution_count": 34,
   "metadata": {},
   "outputs": [
    {
     "output_type": "execute_result",
     "data": {
      "text/plain": "dtype('O')"
     },
     "metadata": {},
     "execution_count": 34
    }
   ],
   "source": [
    "#My solution\n",
    "chipo['item_price'].dtype"
   ]
  },
  {
   "cell_type": "code",
   "execution_count": 13,
   "metadata": {
    "collapsed": false
   },
   "outputs": [
    {
     "data": {
      "text/plain": [
       "dtype('O')"
      ]
     },
     "execution_count": 13,
     "metadata": {},
     "output_type": "execute_result"
    }
   ],
   "source": []
  },
  {
   "cell_type": "markdown",
   "metadata": {},
   "source": [
    "#### Step 13.b. Create a lambda function and change the type of item price"
   ]
  },
  {
   "cell_type": "code",
   "execution_count": 80,
   "metadata": {},
   "outputs": [],
   "source": [
    "#def quita(palabra):\n",
    "#    return palabra[1:]\n",
    "\n",
    "chipo['item_price'] = chipo['item_price'].apply(lambda palabra: float(palabra[1:]))"
   ]
  },
  {
   "cell_type": "code",
   "execution_count": null,
   "metadata": {},
   "outputs": [],
   "source": [
    "#Solucion profe Funcion normal\n",
    "# def dollarizer_(x)\n",
    "#     return float(x[1:])"
   ]
  },
  {
   "cell_type": "code",
   "execution_count": null,
   "metadata": {},
   "outputs": [],
   "source": [
    "# Solucion profe funcion utilizando lambda\n",
    "# dollarizer_ = lambda x: float(x[1:])\n",
    "# chipo.item_price = chipo.item_price.apply(dollarizer_)"
   ]
  },
  {
   "cell_type": "code",
   "execution_count": null,
   "metadata": {},
   "outputs": [],
   "source": []
  },
  {
   "cell_type": "code",
   "execution_count": 81,
   "metadata": {},
   "outputs": [
    {
     "output_type": "execute_result",
     "data": {
      "text/plain": "0        2.39\n1        3.39\n2        3.39\n3        2.39\n4       16.98\n        ...  \n4617    11.75\n4618    11.75\n4619    11.25\n4620     8.75\n4621     8.75\nName: item_price, Length: 4622, dtype: float64"
     },
     "metadata": {},
     "execution_count": 81
    }
   ],
   "source": [
    "chipo['item_price']"
   ]
  },
  {
   "cell_type": "markdown",
   "metadata": {},
   "source": [
    "#### Step 13.c. Check the item price type"
   ]
  },
  {
   "cell_type": "code",
   "execution_count": 82,
   "metadata": {},
   "outputs": [
    {
     "output_type": "execute_result",
     "data": {
      "text/plain": "dtype('float64')"
     },
     "metadata": {},
     "execution_count": 82
    }
   ],
   "source": [
    "chipo['item_price'].dtype"
   ]
  },
  {
   "cell_type": "code",
   "execution_count": 15,
   "metadata": {
    "collapsed": false
   },
   "outputs": [
    {
     "data": {
      "text/plain": [
       "dtype('float64')"
      ]
     },
     "execution_count": 15,
     "metadata": {},
     "output_type": "execute_result"
    }
   ],
   "source": []
  },
  {
   "cell_type": "markdown",
   "metadata": {},
   "source": [
    "### Step 14. How much was the revenue for the period in the dataset?"
   ]
  },
  {
   "cell_type": "code",
   "execution_count": 83,
   "metadata": {
    "tags": []
   },
   "outputs": [
    {
     "output_type": "stream",
     "name": "stdout",
     "text": "0        2.39\n1        3.39\n2        3.39\n3        2.39\n4       33.96\n        ...  \n4617    11.75\n4618    11.75\n4619    11.25\n4620     8.75\n4621     8.75\nLength: 4622, dtype: float64\n---------\n39237.02\n"
    }
   ],
   "source": [
    "revenue = chipo['quantity'] * chipo['item_price']\n",
    "facturacion_total = revenue.sum()\n",
    "# otra forma de escribirlo\n",
    "#facturacion_total = (chipo['quantity'] * chipo['item_price']).sum()\n",
    "print(revenue)\n",
    "print('---------')\n",
    "print(facturacion_total)"
   ]
  },
  {
   "cell_type": "code",
   "execution_count": 58,
   "metadata": {},
   "outputs": [
    {
     "output_type": "execute_result",
     "data": {
      "text/plain": "39237.02"
     },
     "metadata": {},
     "execution_count": 58
    }
   ],
   "source": [
    "revenue.sum()"
   ]
  },
  {
   "cell_type": "code",
   "execution_count": 22,
   "metadata": {
    "collapsed": false
   },
   "outputs": [
    {
     "name": "stdout",
     "output_type": "stream",
     "text": [
      "Revenue was: $39237.02\n"
     ]
    }
   ],
   "source": []
  },
  {
   "cell_type": "markdown",
   "metadata": {},
   "source": [
    "### Step 15. How many orders were made in the period?"
   ]
  },
  {
   "cell_type": "code",
   "execution_count": 87,
   "metadata": {},
   "outputs": [
    {
     "output_type": "execute_result",
     "data": {
      "text/plain": "8.48918649935093"
     },
     "metadata": {},
     "execution_count": 87
    }
   ],
   "source": [
    "#En anteriores ejercicios he creado la variable revenue que contiene\n",
    "revenue.mean()"
   ]
  },
  {
   "cell_type": "code",
   "execution_count": 63,
   "metadata": {},
   "outputs": [
    {
     "output_type": "execute_result",
     "data": {
      "text/plain": "926     23\n1483    14\n205     12\n691     11\n1786    11\n        ..\n105      1\n702      1\n718      1\n568      1\n800      1\nName: order_id, Length: 1834, dtype: int64"
     },
     "metadata": {},
     "execution_count": 63
    }
   ],
   "source": [
    "# My solution\n",
    "chipo['order_id'].value_counts()"
   ]
  },
  {
   "cell_type": "code",
   "execution_count": 75,
   "metadata": {
    "tags": []
   },
   "outputs": [
    {
     "output_type": "stream",
     "name": "stdout",
     "text": "1834\n"
    }
   ],
   "source": [
    "number_of_orders = chipo['order_id'].max()\n",
    "print(number_of_orders)"
   ]
  },
  {
   "cell_type": "code",
   "execution_count": 23,
   "metadata": {
    "collapsed": false
   },
   "outputs": [
    {
     "data": {
      "text/plain": [
       "1834"
      ]
     },
     "execution_count": 23,
     "metadata": {},
     "output_type": "execute_result"
    }
   ],
   "source": [
    "# Profe solution\n",
    "max(chipo.order_id)"
   ]
  },
  {
   "cell_type": "code",
   "execution_count": 34,
   "metadata": {},
   "outputs": [
    {
     "output_type": "execute_result",
     "data": {
      "text/plain": "1834"
     },
     "metadata": {},
     "execution_count": 34
    }
   ],
   "source": [
    "orders = chipo.order_id.value_counts().count()\n",
    "orders"
   ]
  },
  {
   "cell_type": "markdown",
   "metadata": {},
   "source": [
    "### Step 16. What is the average revenue amount per order?"
   ]
  },
  {
   "cell_type": "code",
   "execution_count": null,
   "metadata": {},
   "outputs": [],
   "source": []
  },
  {
   "cell_type": "code",
   "execution_count": 84,
   "metadata": {
    "tags": []
   },
   "outputs": [
    {
     "output_type": "stream",
     "name": "stdout",
     "text": "quantity  item_price\norder_id                      \n1                4       11.56\n2                2       16.98\n3                2       12.67\n4                2       21.00\n5                2       13.70\n...            ...         ...\n1830             2       23.00\n1831             3       12.90\n1832             2       13.20\n1833             2       23.50\n1834             3       28.75\n\n[1834 rows x 2 columns]\n"
    },
    {
     "output_type": "execute_result",
     "data": {
      "text/plain": "18.811428571428568"
     },
     "metadata": {},
     "execution_count": 84
    }
   ],
   "source": [
    "# Aqui esto intentando crear una nueva tabla en la que solo salgan quantity e item_price\n",
    "chipo_average_orders = chipo.groupby('order_id').sum()\n",
    "print(chipo_average_orders)\n",
    "chipo_average_orders['item_price'].mean()\n",
    "#Porque sale distinto de lo que deberia?"
   ]
  },
  {
   "cell_type": "code",
   "execution_count": 36,
   "metadata": {
    "tags": []
   },
   "outputs": [
    {
     "output_type": "error",
     "ename": "KeyError",
     "evalue": "'price_order'",
     "traceback": [
      "\u001b[1;31m---------------------------------------------------------------------------\u001b[0m",
      "\u001b[1;31mKeyError\u001b[0m                                  Traceback (most recent call last)",
      "\u001b[1;32m<ipython-input-36-5b9e1f0dd30c>\u001b[0m in \u001b[0;36m<module>\u001b[1;34m\u001b[0m\n\u001b[0;32m      5\u001b[0m \u001b[1;33m\u001b[0m\u001b[0m\n\u001b[0;32m      6\u001b[0m \u001b[1;33m\u001b[0m\u001b[0m\n\u001b[1;32m----> 7\u001b[1;33m \u001b[0mchipo\u001b[0m\u001b[1;33m.\u001b[0m\u001b[0mgroupby\u001b[0m\u001b[1;33m(\u001b[0m\u001b[1;33m[\u001b[0m\u001b[1;34m'price_order'\u001b[0m\u001b[1;33m]\u001b[0m\u001b[1;33m)\u001b[0m\u001b[1;33m.\u001b[0m\u001b[0mmean\u001b[0m\u001b[1;33m(\u001b[0m\u001b[1;33m)\u001b[0m\u001b[1;33m\u001b[0m\u001b[1;33m\u001b[0m\u001b[0m\n\u001b[0m",
      "\u001b[1;32m~\\AppData\\Local\\Programs\\Python\\Python38-32\\lib\\site-packages\\pandas\\core\\frame.py\u001b[0m in \u001b[0;36mgroupby\u001b[1;34m(self, by, axis, level, as_index, sort, group_keys, squeeze, observed)\u001b[0m\n\u001b[0;32m   5799\u001b[0m         \u001b[0maxis\u001b[0m \u001b[1;33m=\u001b[0m \u001b[0mself\u001b[0m\u001b[1;33m.\u001b[0m\u001b[0m_get_axis_number\u001b[0m\u001b[1;33m(\u001b[0m\u001b[0maxis\u001b[0m\u001b[1;33m)\u001b[0m\u001b[1;33m\u001b[0m\u001b[1;33m\u001b[0m\u001b[0m\n\u001b[0;32m   5800\u001b[0m \u001b[1;33m\u001b[0m\u001b[0m\n\u001b[1;32m-> 5801\u001b[1;33m         return groupby_generic.DataFrameGroupBy(\n\u001b[0m\u001b[0;32m   5802\u001b[0m             \u001b[0mobj\u001b[0m\u001b[1;33m=\u001b[0m\u001b[0mself\u001b[0m\u001b[1;33m,\u001b[0m\u001b[1;33m\u001b[0m\u001b[1;33m\u001b[0m\u001b[0m\n\u001b[0;32m   5803\u001b[0m             \u001b[0mkeys\u001b[0m\u001b[1;33m=\u001b[0m\u001b[0mby\u001b[0m\u001b[1;33m,\u001b[0m\u001b[1;33m\u001b[0m\u001b[1;33m\u001b[0m\u001b[0m\n",
      "\u001b[1;32m~\\AppData\\Local\\Programs\\Python\\Python38-32\\lib\\site-packages\\pandas\\core\\groupby\\groupby.py\u001b[0m in \u001b[0;36m__init__\u001b[1;34m(self, obj, keys, axis, level, grouper, exclusions, selection, as_index, sort, group_keys, squeeze, observed, mutated)\u001b[0m\n\u001b[0;32m    401\u001b[0m             \u001b[1;32mfrom\u001b[0m \u001b[0mpandas\u001b[0m\u001b[1;33m.\u001b[0m\u001b[0mcore\u001b[0m\u001b[1;33m.\u001b[0m\u001b[0mgroupby\u001b[0m\u001b[1;33m.\u001b[0m\u001b[0mgrouper\u001b[0m \u001b[1;32mimport\u001b[0m \u001b[0mget_grouper\u001b[0m\u001b[1;33m\u001b[0m\u001b[1;33m\u001b[0m\u001b[0m\n\u001b[0;32m    402\u001b[0m \u001b[1;33m\u001b[0m\u001b[0m\n\u001b[1;32m--> 403\u001b[1;33m             grouper, exclusions, obj = get_grouper(\n\u001b[0m\u001b[0;32m    404\u001b[0m                 \u001b[0mobj\u001b[0m\u001b[1;33m,\u001b[0m\u001b[1;33m\u001b[0m\u001b[1;33m\u001b[0m\u001b[0m\n\u001b[0;32m    405\u001b[0m                 \u001b[0mkeys\u001b[0m\u001b[1;33m,\u001b[0m\u001b[1;33m\u001b[0m\u001b[1;33m\u001b[0m\u001b[0m\n",
      "\u001b[1;32m~\\AppData\\Local\\Programs\\Python\\Python38-32\\lib\\site-packages\\pandas\\core\\groupby\\grouper.py\u001b[0m in \u001b[0;36mget_grouper\u001b[1;34m(obj, key, axis, level, sort, observed, mutated, validate)\u001b[0m\n\u001b[0;32m    598\u001b[0m                 \u001b[0min_axis\u001b[0m\u001b[1;33m,\u001b[0m \u001b[0mname\u001b[0m\u001b[1;33m,\u001b[0m \u001b[0mlevel\u001b[0m\u001b[1;33m,\u001b[0m \u001b[0mgpr\u001b[0m \u001b[1;33m=\u001b[0m \u001b[1;32mFalse\u001b[0m\u001b[1;33m,\u001b[0m \u001b[1;32mNone\u001b[0m\u001b[1;33m,\u001b[0m \u001b[0mgpr\u001b[0m\u001b[1;33m,\u001b[0m \u001b[1;32mNone\u001b[0m\u001b[1;33m\u001b[0m\u001b[1;33m\u001b[0m\u001b[0m\n\u001b[0;32m    599\u001b[0m             \u001b[1;32melse\u001b[0m\u001b[1;33m:\u001b[0m\u001b[1;33m\u001b[0m\u001b[1;33m\u001b[0m\u001b[0m\n\u001b[1;32m--> 600\u001b[1;33m                 \u001b[1;32mraise\u001b[0m \u001b[0mKeyError\u001b[0m\u001b[1;33m(\u001b[0m\u001b[0mgpr\u001b[0m\u001b[1;33m)\u001b[0m\u001b[1;33m\u001b[0m\u001b[1;33m\u001b[0m\u001b[0m\n\u001b[0m\u001b[0;32m    601\u001b[0m         \u001b[1;32melif\u001b[0m \u001b[0misinstance\u001b[0m\u001b[1;33m(\u001b[0m\u001b[0mgpr\u001b[0m\u001b[1;33m,\u001b[0m \u001b[0mGrouper\u001b[0m\u001b[1;33m)\u001b[0m \u001b[1;32mand\u001b[0m \u001b[0mgpr\u001b[0m\u001b[1;33m.\u001b[0m\u001b[0mkey\u001b[0m \u001b[1;32mis\u001b[0m \u001b[1;32mnot\u001b[0m \u001b[1;32mNone\u001b[0m\u001b[1;33m:\u001b[0m\u001b[1;33m\u001b[0m\u001b[1;33m\u001b[0m\u001b[0m\n\u001b[0;32m    602\u001b[0m             \u001b[1;31m# Add key to exclusions\u001b[0m\u001b[1;33m\u001b[0m\u001b[1;33m\u001b[0m\u001b[1;33m\u001b[0m\u001b[0m\n",
      "\u001b[1;31mKeyError\u001b[0m: 'price_order'"
     ]
    }
   ],
   "source": [
    "#Otra posible forma de hacerlo. Añado a la tabla una nueva columna llamada price_order_id y se la añado al final. Esta columna sera el producto de quantity * item_price. Despues hago un groupby por order_ id y calculo su mean\n",
    "#price_order = chipo['quantity'] * chipo['item_price']\n",
    "chipo['revenue']= chipo['quantity'] * chipo['item_price']\n",
    "\n",
    "\n",
    "\n",
    "chipo.groupby(['price_order']).mean()\n"
   ]
  },
  {
   "cell_type": "code",
   "execution_count": 86,
   "metadata": {
    "tags": []
   },
   "outputs": [
    {
     "output_type": "execute_result",
     "data": {
      "text/plain": "          quantity  item_price\norder_id                      \n1                4       11.56\n2                2       16.98\n3                2       12.67\n4                2       21.00\n5                2       13.70\n...            ...         ...\n1830             2       23.00\n1831             3       12.90\n1832             2       13.20\n1833             2       23.50\n1834             3       28.75\n\n[1834 rows x 2 columns]",
      "text/html": "<div>\n<style scoped>\n    .dataframe tbody tr th:only-of-type {\n        vertical-align: middle;\n    }\n\n    .dataframe tbody tr th {\n        vertical-align: top;\n    }\n\n    .dataframe thead th {\n        text-align: right;\n    }\n</style>\n<table border=\"1\" class=\"dataframe\">\n  <thead>\n    <tr style=\"text-align: right;\">\n      <th></th>\n      <th>quantity</th>\n      <th>item_price</th>\n    </tr>\n    <tr>\n      <th>order_id</th>\n      <th></th>\n      <th></th>\n    </tr>\n  </thead>\n  <tbody>\n    <tr>\n      <th>1</th>\n      <td>4</td>\n      <td>11.56</td>\n    </tr>\n    <tr>\n      <th>2</th>\n      <td>2</td>\n      <td>16.98</td>\n    </tr>\n    <tr>\n      <th>3</th>\n      <td>2</td>\n      <td>12.67</td>\n    </tr>\n    <tr>\n      <th>4</th>\n      <td>2</td>\n      <td>21.00</td>\n    </tr>\n    <tr>\n      <th>5</th>\n      <td>2</td>\n      <td>13.70</td>\n    </tr>\n    <tr>\n      <th>...</th>\n      <td>...</td>\n      <td>...</td>\n    </tr>\n    <tr>\n      <th>1830</th>\n      <td>2</td>\n      <td>23.00</td>\n    </tr>\n    <tr>\n      <th>1831</th>\n      <td>3</td>\n      <td>12.90</td>\n    </tr>\n    <tr>\n      <th>1832</th>\n      <td>2</td>\n      <td>13.20</td>\n    </tr>\n    <tr>\n      <th>1833</th>\n      <td>2</td>\n      <td>23.50</td>\n    </tr>\n    <tr>\n      <th>1834</th>\n      <td>3</td>\n      <td>28.75</td>\n    </tr>\n  </tbody>\n</table>\n<p>1834 rows × 2 columns</p>\n</div>"
     },
     "metadata": {},
     "execution_count": 86
    }
   ],
   "source": [
    "chipo.groupby('order_id').sum() #¿Podría crear a partir de esto una nueva tabla a la que añadir la columna del precio"
   ]
  },
  {
   "cell_type": "code",
   "execution_count": 80,
   "metadata": {
    "tags": []
   },
   "outputs": [
    {
     "output_type": "stream",
     "name": "stdout",
     "text": "21.39423118865867\n"
    }
   ],
   "source": [
    "average_per_order = facturacion_total/number_of_orders\n",
    "print(average_per_order)"
   ]
  },
  {
   "cell_type": "code",
   "execution_count": 32,
   "metadata": {
    "collapsed": false
   },
   "outputs": [
    {
     "data": {
      "text/plain": [
       "21.394231188658654"
      ]
     },
     "execution_count": 32,
     "metadata": {},
     "output_type": "execute_result"
    }
   ],
   "source": [
    "# Solution 2\n",
    "\n"
   ]
  },
  {
   "cell_type": "markdown",
   "metadata": {},
   "source": [
    "### Step 17. How many different items are sold?"
   ]
  },
  {
   "cell_type": "code",
   "execution_count": 38,
   "metadata": {},
   "outputs": [
    {
     "output_type": "execute_result",
     "data": {
      "text/plain": "item_name\n6 Pack Soft Drink                         54\nBarbacoa Bowl                             66\nBarbacoa Burrito                          91\nBarbacoa Crispy Tacos                     11\nBarbacoa Salad Bowl                       10\nBarbacoa Soft Tacos                       25\nBottled Water                            162\nBowl                                       2\nBurrito                                    6\nCanned Soda                              104\nCanned Soft Drink                        301\nCarnitas Bowl                             68\nCarnitas Burrito                          59\nCarnitas Crispy Tacos                      7\nCarnitas Salad                             1\nCarnitas Salad Bowl                        6\nCarnitas Soft Tacos                       40\nChicken Bowl                             726\nChicken Burrito                          553\nChicken Crispy Tacos                      47\nChicken Salad                              9\nChicken Salad Bowl                       110\nChicken Soft Tacos                       115\nChips                                    211\nChips and Fresh Tomato Salsa             110\nChips and Guacamole                      479\nChips and Mild Fresh Tomato Salsa          1\nChips and Roasted Chili Corn Salsa        22\nChips and Roasted Chili-Corn Salsa        18\nChips and Tomatillo Green Chili Salsa     43\nChips and Tomatillo Red Chili Salsa       48\nChips and Tomatillo-Green Chili Salsa     31\nChips and Tomatillo-Red Chili Salsa       20\nCrispy Tacos                               2\nIzze                                      20\nNantucket Nectar                          27\nSalad                                      2\nSide of Chips                            101\nSteak Bowl                               211\nSteak Burrito                            368\nSteak Crispy Tacos                        35\nSteak Salad                                4\nSteak Salad Bowl                          29\nSteak Soft Tacos                          55\nVeggie Bowl                               85\nVeggie Burrito                            95\nVeggie Crispy Tacos                        1\nVeggie Salad                               6\nVeggie Salad Bowl                         18\nVeggie Soft Tacos                          7\ndtype: int64"
     },
     "metadata": {},
     "execution_count": 38
    }
   ],
   "source": [
    "# My solution\n",
    "chipo.groupby(['item_name']).size()\n"
   ]
  },
  {
   "cell_type": "code",
   "execution_count": 39,
   "metadata": {},
   "outputs": [
    {
     "output_type": "execute_result",
     "data": {
      "text/plain": "50"
     },
     "metadata": {},
     "execution_count": 39
    }
   ],
   "source": [
    "#My solution\n",
    "len(chipo.groupby(['item_name']).size())"
   ]
  },
  {
   "cell_type": "code",
   "execution_count": 37,
   "metadata": {},
   "outputs": [
    {
     "output_type": "execute_result",
     "data": {
      "text/plain": "50"
     },
     "metadata": {},
     "execution_count": 37
    }
   ],
   "source": [
    "chipo.item_name.value_counts().count()"
   ]
  },
  {
   "cell_type": "code",
   "execution_count": 39,
   "metadata": {},
   "outputs": [
    {
     "output_type": "execute_result",
     "data": {
      "text/plain": "50"
     },
     "metadata": {},
     "execution_count": 39
    }
   ],
   "source": [
    "len(chipo.item_name.unique())"
   ]
  },
  {
   "cell_type": "code",
   "execution_count": 33,
   "metadata": {
    "collapsed": false
   },
   "outputs": [
    {
     "data": {
      "text/plain": [
       "50"
      ]
     },
     "execution_count": 33,
     "metadata": {},
     "output_type": "execute_result"
    }
   ],
   "source": [
    "#Teacher solution"
   ]
  }
 ],
 "metadata": {
  "anaconda-cloud": {},
  "kernelspec": {
   "display_name": "Python 3.8.3 32-bit",
   "language": "python",
   "name": "python38332bit5edbb3147ffc42338a55d41c588604cf"
  },
  "language_info": {
   "codemirror_mode": {
    "name": "ipython",
    "version": 2
   },
   "file_extension": ".py",
   "mimetype": "text/x-python",
   "name": "python",
   "nbconvert_exporter": "python",
   "pygments_lexer": "ipython2",
   "version": "3.8.3-final"
  }
 },
 "nbformat": 4,
 "nbformat_minor": 0
}