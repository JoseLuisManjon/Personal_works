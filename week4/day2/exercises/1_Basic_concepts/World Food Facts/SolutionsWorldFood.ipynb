{
 "cells": [
  {
   "cell_type": "markdown",
   "metadata": {},
   "source": [
    "# Ex1 - Getting and knowing your Data"
   ]
  },
  {
   "cell_type": "markdown",
   "metadata": {},
   "source": [
    "### Step 1. Go to https://www.kaggle.com/openfoodfacts/world-food-facts/data"
   ]
  },
  {
   "cell_type": "markdown",
   "metadata": {},
   "source": [
    "###  Step 2. Download the dataset to your computer and unzip it."
   ]
  },
  {
   "cell_type": "code",
   "execution_count": 11,
   "metadata": {},
   "outputs": [],
   "source": [
    "import pandas as pd\n",
    "import numpy as np"
   ]
  },
  {
   "cell_type": "code",
   "execution_count": 22,
   "metadata": {},
   "outputs": [],
   "source": [
    "address = 'https://www.kaggle.com/openfoodfacts/world-food-facts/data'"
   ]
  },
  {
   "cell_type": "markdown",
   "metadata": {},
   "source": [
    "### Step 3. Use the tsv file and assign it to a dataframe called food"
   ]
  },
  {
   "cell_type": "code",
   "execution_count": 36,
   "metadata": {},
   "outputs": [
    {
     "output_type": "execute_result",
     "data": {
      "text/plain": "             code                                                url  \\\n0            3087  http://world-en.openfoodfacts.org/product/0000...   \n1            4530  http://world-en.openfoodfacts.org/product/0000...   \n2            4559  http://world-en.openfoodfacts.org/product/0000...   \n3           16087  http://world-en.openfoodfacts.org/product/0000...   \n4           16094  http://world-en.openfoodfacts.org/product/0000...   \n...           ...                                                ...   \n2695  11110570451  http://world-en.openfoodfacts.org/product/0011...   \n2696  11110571205  http://world-en.openfoodfacts.org/product/0011...   \n2697  11110575005  http://world-en.openfoodfacts.org/product/0011...   \n2698  11110576101  http://world-en.openfoodfacts.org/product/0011...   \n2699  11110576132  http://world-en.openfoodfacts.org/product/0011...   \n\n                         creator   created_t      created_datetime  \\\n0     openfoodfacts-contributors  1474103866  2016-09-17T09:17:46Z   \n1                usda-ndb-import  1489069957  2017-03-09T14:32:37Z   \n2                usda-ndb-import  1489069957  2017-03-09T14:32:37Z   \n3                usda-ndb-import  1489055731  2017-03-09T10:35:31Z   \n4                usda-ndb-import  1489055653  2017-03-09T10:34:13Z   \n...                          ...         ...                   ...   \n2695             usda-ndb-import  1489135187  2017-03-10T08:39:47Z   \n2696             usda-ndb-import  1489070594  2017-03-09T14:43:14Z   \n2697             usda-ndb-import  1489068568  2017-03-09T14:09:28Z   \n2698             usda-ndb-import  1489068575  2017-03-09T14:09:35Z   \n2699             usda-ndb-import  1489068567  2017-03-09T14:09:27Z   \n\n      last_modified_t last_modified_datetime  \\\n0          1474103893   2016-09-17T09:18:13Z   \n1          1489069957   2017-03-09T14:32:37Z   \n2          1489069957   2017-03-09T14:32:37Z   \n3          1489055731   2017-03-09T10:35:31Z   \n4          1489055653   2017-03-09T10:34:13Z   \n...               ...                    ...   \n2695       1489135187   2017-03-10T08:39:47Z   \n2696       1489070594   2017-03-09T14:43:14Z   \n2697       1489068568   2017-03-09T14:09:28Z   \n2698       1489068575   2017-03-09T14:09:35Z   \n2699       1489068567   2017-03-09T14:09:27Z   \n\n                                           product_name generic_name quantity  \\\n0                                    Farine de blé noir          NaN      1kg   \n1                        Banana Chips Sweetened (Whole)          NaN      NaN   \n2                                               Peanuts          NaN      NaN   \n3                                Organic Salted Nut Mix          NaN      NaN   \n4                                       Organic Polenta          NaN      NaN   \n...                                                 ...          ...      ...   \n2695               Fun Daze Sundaes Frozen Yogurt Cones          NaN      NaN   \n2696  Artic Blasters, Ice Cream Bars, Vanilla, Choco...          NaN      NaN   \n2697                         Frozen Fruit Bars, Coconut          NaN      NaN   \n2698                          Frozen Fruit Bars, Orange          NaN      NaN   \n2699                      Frozen Fruit Bars, Strawberry          NaN      NaN   \n\n      ... fruits-vegetables-nuts_100g fruits-vegetables-nuts-estimate_100g  \\\n0     ...                         NaN                                  NaN   \n1     ...                         NaN                                  NaN   \n2     ...                         NaN                                  NaN   \n3     ...                         NaN                                  NaN   \n4     ...                         NaN                                  NaN   \n...   ...                         ...                                  ...   \n2695  ...                         NaN                                  NaN   \n2696  ...                         NaN                                  NaN   \n2697  ...                         NaN                                  NaN   \n2698  ...                         NaN                                  NaN   \n2699  ...                         NaN                                  NaN   \n\n     collagen-meat-protein-ratio_100g cocoa_100g chlorophyl_100g  \\\n0                                 NaN        NaN             NaN   \n1                                 NaN        NaN             NaN   \n2                                 NaN        NaN             NaN   \n3                                 NaN        NaN             NaN   \n4                                 NaN        NaN             NaN   \n...                               ...        ...             ...   \n2695                              NaN        NaN             NaN   \n2696                              NaN        NaN             NaN   \n2697                              NaN        NaN             NaN   \n2698                              NaN        NaN             NaN   \n2699                              NaN        NaN             NaN   \n\n     carbon-footprint_100g nutrition-score-fr_100g nutrition-score-uk_100g  \\\n0                      NaN                     NaN                     NaN   \n1                      NaN                    14.0                    14.0   \n2                      NaN                     0.0                     0.0   \n3                      NaN                    12.0                    12.0   \n4                      NaN                     NaN                     NaN   \n...                    ...                     ...                     ...   \n2695                   NaN                    15.0                    15.0   \n2696                   NaN                    15.0                    15.0   \n2697                   NaN                     5.0                     5.0   \n2698                   NaN                     5.0                     5.0   \n2699                   NaN                     6.0                     6.0   \n\n     glycemic-index_100g water-hardness_100g  \n0                    NaN                 NaN  \n1                    NaN                 NaN  \n2                    NaN                 NaN  \n3                    NaN                 NaN  \n4                    NaN                 NaN  \n...                  ...                 ...  \n2695                 NaN                 NaN  \n2696                 NaN                 NaN  \n2697                 NaN                 NaN  \n2698                 NaN                 NaN  \n2699                 NaN                 NaN  \n\n[2700 rows x 163 columns]",
      "text/html": "<div>\n<style scoped>\n    .dataframe tbody tr th:only-of-type {\n        vertical-align: middle;\n    }\n\n    .dataframe tbody tr th {\n        vertical-align: top;\n    }\n\n    .dataframe thead th {\n        text-align: right;\n    }\n</style>\n<table border=\"1\" class=\"dataframe\">\n  <thead>\n    <tr style=\"text-align: right;\">\n      <th></th>\n      <th>code</th>\n      <th>url</th>\n      <th>creator</th>\n      <th>created_t</th>\n      <th>created_datetime</th>\n      <th>last_modified_t</th>\n      <th>last_modified_datetime</th>\n      <th>product_name</th>\n      <th>generic_name</th>\n      <th>quantity</th>\n      <th>...</th>\n      <th>fruits-vegetables-nuts_100g</th>\n      <th>fruits-vegetables-nuts-estimate_100g</th>\n      <th>collagen-meat-protein-ratio_100g</th>\n      <th>cocoa_100g</th>\n      <th>chlorophyl_100g</th>\n      <th>carbon-footprint_100g</th>\n      <th>nutrition-score-fr_100g</th>\n      <th>nutrition-score-uk_100g</th>\n      <th>glycemic-index_100g</th>\n      <th>water-hardness_100g</th>\n    </tr>\n  </thead>\n  <tbody>\n    <tr>\n      <th>0</th>\n      <td>3087</td>\n      <td>http://world-en.openfoodfacts.org/product/0000...</td>\n      <td>openfoodfacts-contributors</td>\n      <td>1474103866</td>\n      <td>2016-09-17T09:17:46Z</td>\n      <td>1474103893</td>\n      <td>2016-09-17T09:18:13Z</td>\n      <td>Farine de blé noir</td>\n      <td>NaN</td>\n      <td>1kg</td>\n      <td>...</td>\n      <td>NaN</td>\n      <td>NaN</td>\n      <td>NaN</td>\n      <td>NaN</td>\n      <td>NaN</td>\n      <td>NaN</td>\n      <td>NaN</td>\n      <td>NaN</td>\n      <td>NaN</td>\n      <td>NaN</td>\n    </tr>\n    <tr>\n      <th>1</th>\n      <td>4530</td>\n      <td>http://world-en.openfoodfacts.org/product/0000...</td>\n      <td>usda-ndb-import</td>\n      <td>1489069957</td>\n      <td>2017-03-09T14:32:37Z</td>\n      <td>1489069957</td>\n      <td>2017-03-09T14:32:37Z</td>\n      <td>Banana Chips Sweetened (Whole)</td>\n      <td>NaN</td>\n      <td>NaN</td>\n      <td>...</td>\n      <td>NaN</td>\n      <td>NaN</td>\n      <td>NaN</td>\n      <td>NaN</td>\n      <td>NaN</td>\n      <td>NaN</td>\n      <td>14.0</td>\n      <td>14.0</td>\n      <td>NaN</td>\n      <td>NaN</td>\n    </tr>\n    <tr>\n      <th>2</th>\n      <td>4559</td>\n      <td>http://world-en.openfoodfacts.org/product/0000...</td>\n      <td>usda-ndb-import</td>\n      <td>1489069957</td>\n      <td>2017-03-09T14:32:37Z</td>\n      <td>1489069957</td>\n      <td>2017-03-09T14:32:37Z</td>\n      <td>Peanuts</td>\n      <td>NaN</td>\n      <td>NaN</td>\n      <td>...</td>\n      <td>NaN</td>\n      <td>NaN</td>\n      <td>NaN</td>\n      <td>NaN</td>\n      <td>NaN</td>\n      <td>NaN</td>\n      <td>0.0</td>\n      <td>0.0</td>\n      <td>NaN</td>\n      <td>NaN</td>\n    </tr>\n    <tr>\n      <th>3</th>\n      <td>16087</td>\n      <td>http://world-en.openfoodfacts.org/product/0000...</td>\n      <td>usda-ndb-import</td>\n      <td>1489055731</td>\n      <td>2017-03-09T10:35:31Z</td>\n      <td>1489055731</td>\n      <td>2017-03-09T10:35:31Z</td>\n      <td>Organic Salted Nut Mix</td>\n      <td>NaN</td>\n      <td>NaN</td>\n      <td>...</td>\n      <td>NaN</td>\n      <td>NaN</td>\n      <td>NaN</td>\n      <td>NaN</td>\n      <td>NaN</td>\n      <td>NaN</td>\n      <td>12.0</td>\n      <td>12.0</td>\n      <td>NaN</td>\n      <td>NaN</td>\n    </tr>\n    <tr>\n      <th>4</th>\n      <td>16094</td>\n      <td>http://world-en.openfoodfacts.org/product/0000...</td>\n      <td>usda-ndb-import</td>\n      <td>1489055653</td>\n      <td>2017-03-09T10:34:13Z</td>\n      <td>1489055653</td>\n      <td>2017-03-09T10:34:13Z</td>\n      <td>Organic Polenta</td>\n      <td>NaN</td>\n      <td>NaN</td>\n      <td>...</td>\n      <td>NaN</td>\n      <td>NaN</td>\n      <td>NaN</td>\n      <td>NaN</td>\n      <td>NaN</td>\n      <td>NaN</td>\n      <td>NaN</td>\n      <td>NaN</td>\n      <td>NaN</td>\n      <td>NaN</td>\n    </tr>\n    <tr>\n      <th>...</th>\n      <td>...</td>\n      <td>...</td>\n      <td>...</td>\n      <td>...</td>\n      <td>...</td>\n      <td>...</td>\n      <td>...</td>\n      <td>...</td>\n      <td>...</td>\n      <td>...</td>\n      <td>...</td>\n      <td>...</td>\n      <td>...</td>\n      <td>...</td>\n      <td>...</td>\n      <td>...</td>\n      <td>...</td>\n      <td>...</td>\n      <td>...</td>\n      <td>...</td>\n      <td>...</td>\n    </tr>\n    <tr>\n      <th>2695</th>\n      <td>11110570451</td>\n      <td>http://world-en.openfoodfacts.org/product/0011...</td>\n      <td>usda-ndb-import</td>\n      <td>1489135187</td>\n      <td>2017-03-10T08:39:47Z</td>\n      <td>1489135187</td>\n      <td>2017-03-10T08:39:47Z</td>\n      <td>Fun Daze Sundaes Frozen Yogurt Cones</td>\n      <td>NaN</td>\n      <td>NaN</td>\n      <td>...</td>\n      <td>NaN</td>\n      <td>NaN</td>\n      <td>NaN</td>\n      <td>NaN</td>\n      <td>NaN</td>\n      <td>NaN</td>\n      <td>15.0</td>\n      <td>15.0</td>\n      <td>NaN</td>\n      <td>NaN</td>\n    </tr>\n    <tr>\n      <th>2696</th>\n      <td>11110571205</td>\n      <td>http://world-en.openfoodfacts.org/product/0011...</td>\n      <td>usda-ndb-import</td>\n      <td>1489070594</td>\n      <td>2017-03-09T14:43:14Z</td>\n      <td>1489070594</td>\n      <td>2017-03-09T14:43:14Z</td>\n      <td>Artic Blasters, Ice Cream Bars, Vanilla, Choco...</td>\n      <td>NaN</td>\n      <td>NaN</td>\n      <td>...</td>\n      <td>NaN</td>\n      <td>NaN</td>\n      <td>NaN</td>\n      <td>NaN</td>\n      <td>NaN</td>\n      <td>NaN</td>\n      <td>15.0</td>\n      <td>15.0</td>\n      <td>NaN</td>\n      <td>NaN</td>\n    </tr>\n    <tr>\n      <th>2697</th>\n      <td>11110575005</td>\n      <td>http://world-en.openfoodfacts.org/product/0011...</td>\n      <td>usda-ndb-import</td>\n      <td>1489068568</td>\n      <td>2017-03-09T14:09:28Z</td>\n      <td>1489068568</td>\n      <td>2017-03-09T14:09:28Z</td>\n      <td>Frozen Fruit Bars, Coconut</td>\n      <td>NaN</td>\n      <td>NaN</td>\n      <td>...</td>\n      <td>NaN</td>\n      <td>NaN</td>\n      <td>NaN</td>\n      <td>NaN</td>\n      <td>NaN</td>\n      <td>NaN</td>\n      <td>5.0</td>\n      <td>5.0</td>\n      <td>NaN</td>\n      <td>NaN</td>\n    </tr>\n    <tr>\n      <th>2698</th>\n      <td>11110576101</td>\n      <td>http://world-en.openfoodfacts.org/product/0011...</td>\n      <td>usda-ndb-import</td>\n      <td>1489068575</td>\n      <td>2017-03-09T14:09:35Z</td>\n      <td>1489068575</td>\n      <td>2017-03-09T14:09:35Z</td>\n      <td>Frozen Fruit Bars, Orange</td>\n      <td>NaN</td>\n      <td>NaN</td>\n      <td>...</td>\n      <td>NaN</td>\n      <td>NaN</td>\n      <td>NaN</td>\n      <td>NaN</td>\n      <td>NaN</td>\n      <td>NaN</td>\n      <td>5.0</td>\n      <td>5.0</td>\n      <td>NaN</td>\n      <td>NaN</td>\n    </tr>\n    <tr>\n      <th>2699</th>\n      <td>11110576132</td>\n      <td>http://world-en.openfoodfacts.org/product/0011...</td>\n      <td>usda-ndb-import</td>\n      <td>1489068567</td>\n      <td>2017-03-09T14:09:27Z</td>\n      <td>1489068567</td>\n      <td>2017-03-09T14:09:27Z</td>\n      <td>Frozen Fruit Bars, Strawberry</td>\n      <td>NaN</td>\n      <td>NaN</td>\n      <td>...</td>\n      <td>NaN</td>\n      <td>NaN</td>\n      <td>NaN</td>\n      <td>NaN</td>\n      <td>NaN</td>\n      <td>NaN</td>\n      <td>6.0</td>\n      <td>6.0</td>\n      <td>NaN</td>\n      <td>NaN</td>\n    </tr>\n  </tbody>\n</table>\n<p>2700 rows × 163 columns</p>\n</div>"
     },
     "metadata": {},
     "execution_count": 36
    }
   ],
   "source": [
    "url = address\n",
    "food = pd.read_csv(\"p.tsv\", sep=\"\\t\", nrows=2700)\n",
    "food"
   ]
  },
  {
   "cell_type": "markdown",
   "metadata": {},
   "source": [
    "### Step 4. See the first 5 entries"
   ]
  },
  {
   "cell_type": "code",
   "execution_count": 57,
   "metadata": {},
   "outputs": [
    {
     "output_type": "execute_result",
     "data": {
      "text/plain": "     code                                                url  \\\n0    3087  http://world-en.openfoodfacts.org/product/0000...   \n1    4530  http://world-en.openfoodfacts.org/product/0000...   \n2    4559  http://world-en.openfoodfacts.org/product/0000...   \n3   16087  http://world-en.openfoodfacts.org/product/0000...   \n4   16094  http://world-en.openfoodfacts.org/product/0000...   \n5   16100  http://world-en.openfoodfacts.org/product/0000...   \n6   16117  http://world-en.openfoodfacts.org/product/0000...   \n7   16124  http://world-en.openfoodfacts.org/product/0000...   \n8   16193  http://world-en.openfoodfacts.org/product/0000...   \n9   16513  http://world-en.openfoodfacts.org/product/0000...   \n10  16612  http://world-en.openfoodfacts.org/product/0000...   \n11  16650  http://world-en.openfoodfacts.org/product/0000...   \n12  16872  http://world-en.openfoodfacts.org/product/0000...   \n13  16933  http://world-en.openfoodfacts.org/product/0000...   \n14  17497  http://world-en.openfoodfacts.org/product/0000...   \n15  18012  http://world-en.openfoodfacts.org/product/0000...   \n16  18050  http://world-en.openfoodfacts.org/product/0000...   \n17  18173  http://world-en.openfoodfacts.org/product/0000...   \n18  18197  http://world-en.openfoodfacts.org/product/0000...   \n\n                       creator   created_t      created_datetime  \\\n0   openfoodfacts-contributors  1474103866  2016-09-17T09:17:46Z   \n1              usda-ndb-import  1489069957  2017-03-09T14:32:37Z   \n2              usda-ndb-import  1489069957  2017-03-09T14:32:37Z   \n3              usda-ndb-import  1489055731  2017-03-09T10:35:31Z   \n4              usda-ndb-import  1489055653  2017-03-09T10:34:13Z   \n5              usda-ndb-import  1489055651  2017-03-09T10:34:11Z   \n6              usda-ndb-import  1489055730  2017-03-09T10:35:30Z   \n7              usda-ndb-import  1489055711  2017-03-09T10:35:11Z   \n8              usda-ndb-import  1489055651  2017-03-09T10:34:11Z   \n9              usda-ndb-import  1489055654  2017-03-09T10:34:14Z   \n10             usda-ndb-import  1489055731  2017-03-09T10:35:31Z   \n11             usda-ndb-import  1489055668  2017-03-09T10:34:28Z   \n12             usda-ndb-import  1489055650  2017-03-09T10:34:10Z   \n13             usda-ndb-import  1489055651  2017-03-09T10:34:11Z   \n14             usda-ndb-import  1489055678  2017-03-09T10:34:38Z   \n15             usda-ndb-import  1489055652  2017-03-09T10:34:12Z   \n16             usda-ndb-import  1489050462  2017-03-09T09:07:42Z   \n17             usda-ndb-import  1489055667  2017-03-09T10:34:27Z   \n18             usda-ndb-import  1489055652  2017-03-09T10:34:12Z   \n\n    last_modified_t last_modified_datetime                       product_name  \\\n0        1474103893   2016-09-17T09:18:13Z                 Farine de blé noir   \n1        1489069957   2017-03-09T14:32:37Z     Banana Chips Sweetened (Whole)   \n2        1489069957   2017-03-09T14:32:37Z                            Peanuts   \n3        1489055731   2017-03-09T10:35:31Z             Organic Salted Nut Mix   \n4        1489055653   2017-03-09T10:34:13Z                    Organic Polenta   \n5        1489055651   2017-03-09T10:34:11Z  Breadshop Honey Gone Nuts Granola   \n6        1489055730   2017-03-09T10:35:30Z      Organic Long Grain White Rice   \n7        1489055712   2017-03-09T10:35:12Z                     Organic Muesli   \n8        1489055651   2017-03-09T10:34:11Z       Organic Dark Chocolate Minis   \n9        1489055654   2017-03-09T10:34:14Z              Organic Sunflower Oil   \n10       1489055731   2017-03-09T10:35:31Z               Organic Adzuki Beans   \n11       1489055668   2017-03-09T10:34:28Z                Organic Penne Pasta   \n12       1489055651   2017-03-09T10:34:11Z                      Zen Party Mix   \n13       1489055651   2017-03-09T10:34:11Z          Organic Golden Flax Seeds   \n14       1489055678   2017-03-09T10:34:38Z                Organic Spicy Punks   \n15       1489055653   2017-03-09T10:34:13Z               Cinnamon Nut Granola   \n16       1489050462   2017-03-09T09:07:42Z                  Organic Hazelnuts   \n17       1489055667   2017-03-09T10:34:27Z     Organic Sweetened Banana Chips   \n18       1489055652   2017-03-09T10:34:12Z   Lotus Organic Brown Jasmine Rice   \n\n   generic_name quantity  ... fruits-vegetables-nuts_100g  \\\n0           NaN      1kg  ...                         NaN   \n1           NaN      NaN  ...                         NaN   \n2           NaN      NaN  ...                         NaN   \n3           NaN      NaN  ...                         NaN   \n4           NaN      NaN  ...                         NaN   \n5           NaN      NaN  ...                         NaN   \n6           NaN      NaN  ...                         NaN   \n7           NaN      NaN  ...                         NaN   \n8           NaN      NaN  ...                         NaN   \n9           NaN      NaN  ...                         NaN   \n10          NaN      NaN  ...                         NaN   \n11          NaN      NaN  ...                         NaN   \n12          NaN      NaN  ...                         NaN   \n13          NaN      NaN  ...                         NaN   \n14          NaN      NaN  ...                         NaN   \n15          NaN      NaN  ...                         NaN   \n16          NaN      NaN  ...                         NaN   \n17          NaN      NaN  ...                         NaN   \n18          NaN      NaN  ...                         NaN   \n\n   fruits-vegetables-nuts-estimate_100g collagen-meat-protein-ratio_100g  \\\n0                                   NaN                              NaN   \n1                                   NaN                              NaN   \n2                                   NaN                              NaN   \n3                                   NaN                              NaN   \n4                                   NaN                              NaN   \n5                                   NaN                              NaN   \n6                                   NaN                              NaN   \n7                                   NaN                              NaN   \n8                                   NaN                              NaN   \n9                                   NaN                              NaN   \n10                                  NaN                              NaN   \n11                                  NaN                              NaN   \n12                                  NaN                              NaN   \n13                                  NaN                              NaN   \n14                                  NaN                              NaN   \n15                                  NaN                              NaN   \n16                                  NaN                              NaN   \n17                                  NaN                              NaN   \n18                                  NaN                              NaN   \n\n   cocoa_100g chlorophyl_100g carbon-footprint_100g nutrition-score-fr_100g  \\\n0         NaN             NaN                   NaN                     NaN   \n1         NaN             NaN                   NaN                    14.0   \n2         NaN             NaN                   NaN                     0.0   \n3         NaN             NaN                   NaN                    12.0   \n4         NaN             NaN                   NaN                     NaN   \n5         NaN             NaN                   NaN                     NaN   \n6         NaN             NaN                   NaN                     NaN   \n7         NaN             NaN                   NaN                     7.0   \n8         NaN             NaN                   NaN                     NaN   \n9         NaN             NaN                   NaN                     NaN   \n10        NaN             NaN                   NaN                     NaN   \n11        NaN             NaN                   NaN                     NaN   \n12        NaN             NaN                   NaN                    12.0   \n13        NaN             NaN                   NaN                     NaN   \n14        NaN             NaN                   NaN                     NaN   \n15        NaN             NaN                   NaN                     0.0   \n16        NaN             NaN                   NaN                     0.0   \n17        NaN             NaN                   NaN                     NaN   \n18        NaN             NaN                   NaN                     NaN   \n\n   nutrition-score-uk_100g glycemic-index_100g water-hardness_100g  \n0                      NaN                 NaN                 NaN  \n1                     14.0                 NaN                 NaN  \n2                      0.0                 NaN                 NaN  \n3                     12.0                 NaN                 NaN  \n4                      NaN                 NaN                 NaN  \n5                      NaN                 NaN                 NaN  \n6                      NaN                 NaN                 NaN  \n7                      7.0                 NaN                 NaN  \n8                      NaN                 NaN                 NaN  \n9                      NaN                 NaN                 NaN  \n10                     NaN                 NaN                 NaN  \n11                     NaN                 NaN                 NaN  \n12                    12.0                 NaN                 NaN  \n13                     NaN                 NaN                 NaN  \n14                     NaN                 NaN                 NaN  \n15                     0.0                 NaN                 NaN  \n16                     0.0                 NaN                 NaN  \n17                     NaN                 NaN                 NaN  \n18                     NaN                 NaN                 NaN  \n\n[19 rows x 163 columns]",
      "text/html": "<div>\n<style scoped>\n    .dataframe tbody tr th:only-of-type {\n        vertical-align: middle;\n    }\n\n    .dataframe tbody tr th {\n        vertical-align: top;\n    }\n\n    .dataframe thead th {\n        text-align: right;\n    }\n</style>\n<table border=\"1\" class=\"dataframe\">\n  <thead>\n    <tr style=\"text-align: right;\">\n      <th></th>\n      <th>code</th>\n      <th>url</th>\n      <th>creator</th>\n      <th>created_t</th>\n      <th>created_datetime</th>\n      <th>last_modified_t</th>\n      <th>last_modified_datetime</th>\n      <th>product_name</th>\n      <th>generic_name</th>\n      <th>quantity</th>\n      <th>...</th>\n      <th>fruits-vegetables-nuts_100g</th>\n      <th>fruits-vegetables-nuts-estimate_100g</th>\n      <th>collagen-meat-protein-ratio_100g</th>\n      <th>cocoa_100g</th>\n      <th>chlorophyl_100g</th>\n      <th>carbon-footprint_100g</th>\n      <th>nutrition-score-fr_100g</th>\n      <th>nutrition-score-uk_100g</th>\n      <th>glycemic-index_100g</th>\n      <th>water-hardness_100g</th>\n    </tr>\n  </thead>\n  <tbody>\n    <tr>\n      <th>0</th>\n      <td>3087</td>\n      <td>http://world-en.openfoodfacts.org/product/0000...</td>\n      <td>openfoodfacts-contributors</td>\n      <td>1474103866</td>\n      <td>2016-09-17T09:17:46Z</td>\n      <td>1474103893</td>\n      <td>2016-09-17T09:18:13Z</td>\n      <td>Farine de blé noir</td>\n      <td>NaN</td>\n      <td>1kg</td>\n      <td>...</td>\n      <td>NaN</td>\n      <td>NaN</td>\n      <td>NaN</td>\n      <td>NaN</td>\n      <td>NaN</td>\n      <td>NaN</td>\n      <td>NaN</td>\n      <td>NaN</td>\n      <td>NaN</td>\n      <td>NaN</td>\n    </tr>\n    <tr>\n      <th>1</th>\n      <td>4530</td>\n      <td>http://world-en.openfoodfacts.org/product/0000...</td>\n      <td>usda-ndb-import</td>\n      <td>1489069957</td>\n      <td>2017-03-09T14:32:37Z</td>\n      <td>1489069957</td>\n      <td>2017-03-09T14:32:37Z</td>\n      <td>Banana Chips Sweetened (Whole)</td>\n      <td>NaN</td>\n      <td>NaN</td>\n      <td>...</td>\n      <td>NaN</td>\n      <td>NaN</td>\n      <td>NaN</td>\n      <td>NaN</td>\n      <td>NaN</td>\n      <td>NaN</td>\n      <td>14.0</td>\n      <td>14.0</td>\n      <td>NaN</td>\n      <td>NaN</td>\n    </tr>\n    <tr>\n      <th>2</th>\n      <td>4559</td>\n      <td>http://world-en.openfoodfacts.org/product/0000...</td>\n      <td>usda-ndb-import</td>\n      <td>1489069957</td>\n      <td>2017-03-09T14:32:37Z</td>\n      <td>1489069957</td>\n      <td>2017-03-09T14:32:37Z</td>\n      <td>Peanuts</td>\n      <td>NaN</td>\n      <td>NaN</td>\n      <td>...</td>\n      <td>NaN</td>\n      <td>NaN</td>\n      <td>NaN</td>\n      <td>NaN</td>\n      <td>NaN</td>\n      <td>NaN</td>\n      <td>0.0</td>\n      <td>0.0</td>\n      <td>NaN</td>\n      <td>NaN</td>\n    </tr>\n    <tr>\n      <th>3</th>\n      <td>16087</td>\n      <td>http://world-en.openfoodfacts.org/product/0000...</td>\n      <td>usda-ndb-import</td>\n      <td>1489055731</td>\n      <td>2017-03-09T10:35:31Z</td>\n      <td>1489055731</td>\n      <td>2017-03-09T10:35:31Z</td>\n      <td>Organic Salted Nut Mix</td>\n      <td>NaN</td>\n      <td>NaN</td>\n      <td>...</td>\n      <td>NaN</td>\n      <td>NaN</td>\n      <td>NaN</td>\n      <td>NaN</td>\n      <td>NaN</td>\n      <td>NaN</td>\n      <td>12.0</td>\n      <td>12.0</td>\n      <td>NaN</td>\n      <td>NaN</td>\n    </tr>\n    <tr>\n      <th>4</th>\n      <td>16094</td>\n      <td>http://world-en.openfoodfacts.org/product/0000...</td>\n      <td>usda-ndb-import</td>\n      <td>1489055653</td>\n      <td>2017-03-09T10:34:13Z</td>\n      <td>1489055653</td>\n      <td>2017-03-09T10:34:13Z</td>\n      <td>Organic Polenta</td>\n      <td>NaN</td>\n      <td>NaN</td>\n      <td>...</td>\n      <td>NaN</td>\n      <td>NaN</td>\n      <td>NaN</td>\n      <td>NaN</td>\n      <td>NaN</td>\n      <td>NaN</td>\n      <td>NaN</td>\n      <td>NaN</td>\n      <td>NaN</td>\n      <td>NaN</td>\n    </tr>\n    <tr>\n      <th>5</th>\n      <td>16100</td>\n      <td>http://world-en.openfoodfacts.org/product/0000...</td>\n      <td>usda-ndb-import</td>\n      <td>1489055651</td>\n      <td>2017-03-09T10:34:11Z</td>\n      <td>1489055651</td>\n      <td>2017-03-09T10:34:11Z</td>\n      <td>Breadshop Honey Gone Nuts Granola</td>\n      <td>NaN</td>\n      <td>NaN</td>\n      <td>...</td>\n      <td>NaN</td>\n      <td>NaN</td>\n      <td>NaN</td>\n      <td>NaN</td>\n      <td>NaN</td>\n      <td>NaN</td>\n      <td>NaN</td>\n      <td>NaN</td>\n      <td>NaN</td>\n      <td>NaN</td>\n    </tr>\n    <tr>\n      <th>6</th>\n      <td>16117</td>\n      <td>http://world-en.openfoodfacts.org/product/0000...</td>\n      <td>usda-ndb-import</td>\n      <td>1489055730</td>\n      <td>2017-03-09T10:35:30Z</td>\n      <td>1489055730</td>\n      <td>2017-03-09T10:35:30Z</td>\n      <td>Organic Long Grain White Rice</td>\n      <td>NaN</td>\n      <td>NaN</td>\n      <td>...</td>\n      <td>NaN</td>\n      <td>NaN</td>\n      <td>NaN</td>\n      <td>NaN</td>\n      <td>NaN</td>\n      <td>NaN</td>\n      <td>NaN</td>\n      <td>NaN</td>\n      <td>NaN</td>\n      <td>NaN</td>\n    </tr>\n    <tr>\n      <th>7</th>\n      <td>16124</td>\n      <td>http://world-en.openfoodfacts.org/product/0000...</td>\n      <td>usda-ndb-import</td>\n      <td>1489055711</td>\n      <td>2017-03-09T10:35:11Z</td>\n      <td>1489055712</td>\n      <td>2017-03-09T10:35:12Z</td>\n      <td>Organic Muesli</td>\n      <td>NaN</td>\n      <td>NaN</td>\n      <td>...</td>\n      <td>NaN</td>\n      <td>NaN</td>\n      <td>NaN</td>\n      <td>NaN</td>\n      <td>NaN</td>\n      <td>NaN</td>\n      <td>7.0</td>\n      <td>7.0</td>\n      <td>NaN</td>\n      <td>NaN</td>\n    </tr>\n    <tr>\n      <th>8</th>\n      <td>16193</td>\n      <td>http://world-en.openfoodfacts.org/product/0000...</td>\n      <td>usda-ndb-import</td>\n      <td>1489055651</td>\n      <td>2017-03-09T10:34:11Z</td>\n      <td>1489055651</td>\n      <td>2017-03-09T10:34:11Z</td>\n      <td>Organic Dark Chocolate Minis</td>\n      <td>NaN</td>\n      <td>NaN</td>\n      <td>...</td>\n      <td>NaN</td>\n      <td>NaN</td>\n      <td>NaN</td>\n      <td>NaN</td>\n      <td>NaN</td>\n      <td>NaN</td>\n      <td>NaN</td>\n      <td>NaN</td>\n      <td>NaN</td>\n      <td>NaN</td>\n    </tr>\n    <tr>\n      <th>9</th>\n      <td>16513</td>\n      <td>http://world-en.openfoodfacts.org/product/0000...</td>\n      <td>usda-ndb-import</td>\n      <td>1489055654</td>\n      <td>2017-03-09T10:34:14Z</td>\n      <td>1489055654</td>\n      <td>2017-03-09T10:34:14Z</td>\n      <td>Organic Sunflower Oil</td>\n      <td>NaN</td>\n      <td>NaN</td>\n      <td>...</td>\n      <td>NaN</td>\n      <td>NaN</td>\n      <td>NaN</td>\n      <td>NaN</td>\n      <td>NaN</td>\n      <td>NaN</td>\n      <td>NaN</td>\n      <td>NaN</td>\n      <td>NaN</td>\n      <td>NaN</td>\n    </tr>\n    <tr>\n      <th>10</th>\n      <td>16612</td>\n      <td>http://world-en.openfoodfacts.org/product/0000...</td>\n      <td>usda-ndb-import</td>\n      <td>1489055731</td>\n      <td>2017-03-09T10:35:31Z</td>\n      <td>1489055731</td>\n      <td>2017-03-09T10:35:31Z</td>\n      <td>Organic Adzuki Beans</td>\n      <td>NaN</td>\n      <td>NaN</td>\n      <td>...</td>\n      <td>NaN</td>\n      <td>NaN</td>\n      <td>NaN</td>\n      <td>NaN</td>\n      <td>NaN</td>\n      <td>NaN</td>\n      <td>NaN</td>\n      <td>NaN</td>\n      <td>NaN</td>\n      <td>NaN</td>\n    </tr>\n    <tr>\n      <th>11</th>\n      <td>16650</td>\n      <td>http://world-en.openfoodfacts.org/product/0000...</td>\n      <td>usda-ndb-import</td>\n      <td>1489055668</td>\n      <td>2017-03-09T10:34:28Z</td>\n      <td>1489055668</td>\n      <td>2017-03-09T10:34:28Z</td>\n      <td>Organic Penne Pasta</td>\n      <td>NaN</td>\n      <td>NaN</td>\n      <td>...</td>\n      <td>NaN</td>\n      <td>NaN</td>\n      <td>NaN</td>\n      <td>NaN</td>\n      <td>NaN</td>\n      <td>NaN</td>\n      <td>NaN</td>\n      <td>NaN</td>\n      <td>NaN</td>\n      <td>NaN</td>\n    </tr>\n    <tr>\n      <th>12</th>\n      <td>16872</td>\n      <td>http://world-en.openfoodfacts.org/product/0000...</td>\n      <td>usda-ndb-import</td>\n      <td>1489055650</td>\n      <td>2017-03-09T10:34:10Z</td>\n      <td>1489055651</td>\n      <td>2017-03-09T10:34:11Z</td>\n      <td>Zen Party Mix</td>\n      <td>NaN</td>\n      <td>NaN</td>\n      <td>...</td>\n      <td>NaN</td>\n      <td>NaN</td>\n      <td>NaN</td>\n      <td>NaN</td>\n      <td>NaN</td>\n      <td>NaN</td>\n      <td>12.0</td>\n      <td>12.0</td>\n      <td>NaN</td>\n      <td>NaN</td>\n    </tr>\n    <tr>\n      <th>13</th>\n      <td>16933</td>\n      <td>http://world-en.openfoodfacts.org/product/0000...</td>\n      <td>usda-ndb-import</td>\n      <td>1489055651</td>\n      <td>2017-03-09T10:34:11Z</td>\n      <td>1489055651</td>\n      <td>2017-03-09T10:34:11Z</td>\n      <td>Organic Golden Flax Seeds</td>\n      <td>NaN</td>\n      <td>NaN</td>\n      <td>...</td>\n      <td>NaN</td>\n      <td>NaN</td>\n      <td>NaN</td>\n      <td>NaN</td>\n      <td>NaN</td>\n      <td>NaN</td>\n      <td>NaN</td>\n      <td>NaN</td>\n      <td>NaN</td>\n      <td>NaN</td>\n    </tr>\n    <tr>\n      <th>14</th>\n      <td>17497</td>\n      <td>http://world-en.openfoodfacts.org/product/0000...</td>\n      <td>usda-ndb-import</td>\n      <td>1489055678</td>\n      <td>2017-03-09T10:34:38Z</td>\n      <td>1489055678</td>\n      <td>2017-03-09T10:34:38Z</td>\n      <td>Organic Spicy Punks</td>\n      <td>NaN</td>\n      <td>NaN</td>\n      <td>...</td>\n      <td>NaN</td>\n      <td>NaN</td>\n      <td>NaN</td>\n      <td>NaN</td>\n      <td>NaN</td>\n      <td>NaN</td>\n      <td>NaN</td>\n      <td>NaN</td>\n      <td>NaN</td>\n      <td>NaN</td>\n    </tr>\n    <tr>\n      <th>15</th>\n      <td>18012</td>\n      <td>http://world-en.openfoodfacts.org/product/0000...</td>\n      <td>usda-ndb-import</td>\n      <td>1489055652</td>\n      <td>2017-03-09T10:34:12Z</td>\n      <td>1489055653</td>\n      <td>2017-03-09T10:34:13Z</td>\n      <td>Cinnamon Nut Granola</td>\n      <td>NaN</td>\n      <td>NaN</td>\n      <td>...</td>\n      <td>NaN</td>\n      <td>NaN</td>\n      <td>NaN</td>\n      <td>NaN</td>\n      <td>NaN</td>\n      <td>NaN</td>\n      <td>0.0</td>\n      <td>0.0</td>\n      <td>NaN</td>\n      <td>NaN</td>\n    </tr>\n    <tr>\n      <th>16</th>\n      <td>18050</td>\n      <td>http://world-en.openfoodfacts.org/product/0000...</td>\n      <td>usda-ndb-import</td>\n      <td>1489050462</td>\n      <td>2017-03-09T09:07:42Z</td>\n      <td>1489050462</td>\n      <td>2017-03-09T09:07:42Z</td>\n      <td>Organic Hazelnuts</td>\n      <td>NaN</td>\n      <td>NaN</td>\n      <td>...</td>\n      <td>NaN</td>\n      <td>NaN</td>\n      <td>NaN</td>\n      <td>NaN</td>\n      <td>NaN</td>\n      <td>NaN</td>\n      <td>0.0</td>\n      <td>0.0</td>\n      <td>NaN</td>\n      <td>NaN</td>\n    </tr>\n    <tr>\n      <th>17</th>\n      <td>18173</td>\n      <td>http://world-en.openfoodfacts.org/product/0000...</td>\n      <td>usda-ndb-import</td>\n      <td>1489055667</td>\n      <td>2017-03-09T10:34:27Z</td>\n      <td>1489055667</td>\n      <td>2017-03-09T10:34:27Z</td>\n      <td>Organic Sweetened Banana Chips</td>\n      <td>NaN</td>\n      <td>NaN</td>\n      <td>...</td>\n      <td>NaN</td>\n      <td>NaN</td>\n      <td>NaN</td>\n      <td>NaN</td>\n      <td>NaN</td>\n      <td>NaN</td>\n      <td>NaN</td>\n      <td>NaN</td>\n      <td>NaN</td>\n      <td>NaN</td>\n    </tr>\n    <tr>\n      <th>18</th>\n      <td>18197</td>\n      <td>http://world-en.openfoodfacts.org/product/0000...</td>\n      <td>usda-ndb-import</td>\n      <td>1489055652</td>\n      <td>2017-03-09T10:34:12Z</td>\n      <td>1489055652</td>\n      <td>2017-03-09T10:34:12Z</td>\n      <td>Lotus Organic Brown Jasmine Rice</td>\n      <td>NaN</td>\n      <td>NaN</td>\n      <td>...</td>\n      <td>NaN</td>\n      <td>NaN</td>\n      <td>NaN</td>\n      <td>NaN</td>\n      <td>NaN</td>\n      <td>NaN</td>\n      <td>NaN</td>\n      <td>NaN</td>\n      <td>NaN</td>\n      <td>NaN</td>\n    </tr>\n  </tbody>\n</table>\n<p>19 rows × 163 columns</p>\n</div>"
     },
     "metadata": {},
     "execution_count": 57
    }
   ],
   "source": [
    "food.head(19)"
   ]
  },
  {
   "cell_type": "markdown",
   "metadata": {},
   "source": [
    "### Step 5. What is the number of observations in the dataset?"
   ]
  },
  {
   "cell_type": "code",
   "execution_count": 39,
   "metadata": {},
   "outputs": [
    {
     "output_type": "execute_result",
     "data": {
      "text/plain": "(2700, 163)"
     },
     "metadata": {},
     "execution_count": 39
    }
   ],
   "source": [
    "food.shape"
   ]
  },
  {
   "cell_type": "code",
   "execution_count": 40,
   "metadata": {
    "collapsed": false
   },
   "outputs": [
    {
     "output_type": "execute_result",
     "data": {
      "text/plain": "2700"
     },
     "metadata": {},
     "execution_count": 40
    }
   ],
   "source": [
    "food.shape[0]"
   ]
  },
  {
   "cell_type": "markdown",
   "metadata": {},
   "source": [
    "### Step 6. What is the number of columns in the dataset?"
   ]
  },
  {
   "cell_type": "code",
   "execution_count": 41,
   "metadata": {
    "collapsed": false
   },
   "outputs": [
    {
     "output_type": "execute_result",
     "data": {
      "text/plain": "163"
     },
     "metadata": {},
     "execution_count": 41
    }
   ],
   "source": [
    "food.shape[1]"
   ]
  },
  {
   "cell_type": "markdown",
   "metadata": {},
   "source": [
    "### Step 7. Print the name of all the columns."
   ]
  },
  {
   "cell_type": "code",
   "execution_count": 44,
   "metadata": {},
   "outputs": [
    {
     "output_type": "execute_result",
     "data": {
      "text/plain": "Index(['code', 'url', 'creator', 'created_t', 'created_datetime',\n       'last_modified_t', 'last_modified_datetime', 'product_name',\n       'generic_name', 'quantity',\n       ...\n       'fruits-vegetables-nuts_100g', 'fruits-vegetables-nuts-estimate_100g',\n       'collagen-meat-protein-ratio_100g', 'cocoa_100g', 'chlorophyl_100g',\n       'carbon-footprint_100g', 'nutrition-score-fr_100g',\n       'nutrition-score-uk_100g', 'glycemic-index_100g',\n       'water-hardness_100g'],\n      dtype='object', length=163)"
     },
     "metadata": {},
     "execution_count": 44
    }
   ],
   "source": [
    "# My solution\n",
    "food.columns"
   ]
  },
  {
   "cell_type": "code",
   "execution_count": 6,
   "metadata": {},
   "outputs": [
    {
     "data": {
      "text/plain": "Index(['code', 'url', 'creator', 'created_t', 'created_datetime',\n       'last_modified_t', 'last_modified_datetime', 'product_name',\n       'generic_name', 'quantity',\n       ...\n       'fruits-vegetables-nuts_100g', 'fruits-vegetables-nuts-estimate_100g',\n       'collagen-meat-protein-ratio_100g', 'cocoa_100g', 'chlorophyl_100g',\n       'carbon-footprint_100g', 'nutrition-score-fr_100g',\n       'nutrition-score-uk_100g', 'glycemic-index_100g',\n       'water-hardness_100g'],\n      dtype='object', length=163)"
     },
     "execution_count": 6,
     "metadata": {},
     "output_type": "execute_result"
    }
   ],
   "source": [
    "food.columns"
   ]
  },
  {
   "cell_type": "markdown",
   "metadata": {},
   "source": [
    "### Step 8. What is the name of 105th column?"
   ]
  },
  {
   "cell_type": "code",
   "execution_count": 45,
   "metadata": {},
   "outputs": [
    {
     "output_type": "execute_result",
     "data": {
      "text/plain": "'-fructose_100g'"
     },
     "metadata": {},
     "execution_count": 45
    }
   ],
   "source": [
    "food.columns[105]"
   ]
  },
  {
   "cell_type": "markdown",
   "metadata": {},
   "source": [
    "### Step 9. What is the type of the observations of the 105th column?"
   ]
  },
  {
   "cell_type": "code",
   "execution_count": 50,
   "metadata": {},
   "outputs": [
    {
     "output_type": "execute_result",
     "data": {
      "text/plain": "code                         int64\nurl                         object\ncreator                     object\ncreated_t                    int64\ncreated_datetime            object\n                            ...   \ncarbon-footprint_100g      float64\nnutrition-score-fr_100g    float64\nnutrition-score-uk_100g    float64\nglycemic-index_100g        float64\nwater-hardness_100g        float64\nLength: 163, dtype: object"
     },
     "metadata": {},
     "execution_count": 50
    }
   ],
   "source": [
    "fooddtypes"
   ]
  },
  {
   "cell_type": "code",
   "execution_count": 56,
   "metadata": {},
   "outputs": [
    {
     "output_type": "execute_result",
     "data": {
      "text/plain": "str"
     },
     "metadata": {},
     "execution_count": 56
    }
   ],
   "source": [
    "type(food.columns[105])"
   ]
  },
  {
   "cell_type": "code",
   "execution_count": 51,
   "metadata": {
    "tags": []
   },
   "outputs": [
    {
     "output_type": "stream",
     "name": "stdout",
     "text": "<class 'pandas.core.frame.DataFrame'>\nRangeIndex: 2700 entries, 0 to 2699\nColumns: 163 entries, code to water-hardness_100g\ndtypes: float64(109), int64(3), object(51)\nmemory usage: 2.8+ MB\n"
    }
   ],
   "source": [
    "food.info()"
   ]
  },
  {
   "cell_type": "markdown",
   "metadata": {},
   "source": [
    "### Step 10. How is the dataset indexed?"
   ]
  },
  {
   "cell_type": "code",
   "execution_count": 11,
   "metadata": {},
   "outputs": [
    {
     "data": {
      "text/plain": "RangeIndex(start=0, stop=356027, step=1)"
     },
     "execution_count": 11,
     "metadata": {},
     "output_type": "execute_result"
    }
   ],
   "source": [
    "food.index"
   ]
  },
  {
   "cell_type": "markdown",
   "metadata": {},
   "source": [
    "### Step 11. What is the product name of the 19th observation?"
   ]
  },
  {
   "cell_type": "code",
   "execution_count": 12,
   "metadata": {},
   "outputs": [
    {
     "data": {
      "text/plain": "'Organic Oat Groats'"
     },
     "execution_count": 12,
     "metadata": {},
     "output_type": "execute_result"
    }
   ],
   "source": [
    "food[\"product_name\"].values[19]"
   ]
  },
  {
   "cell_type": "code",
   "execution_count": null,
   "metadata": {},
   "outputs": [],
   "source": []
  }
 ],
 "metadata": {
  "anaconda-cloud": {},
  "kernelspec": {
   "display_name": "Python 3.8.3 32-bit",
   "language": "python",
   "name": "python38332bit5edbb3147ffc42338a55d41c588604cf"
  },
  "language_info": {
   "codemirror_mode": {
    "name": "ipython",
    "version": 3
   },
   "file_extension": ".py",
   "mimetype": "text/x-python",
   "name": "python",
   "nbconvert_exporter": "python",
   "pygments_lexer": "ipython3",
   "version": "3.8.3-final"
  }
 },
 "nbformat": 4,
 "nbformat_minor": 1
}