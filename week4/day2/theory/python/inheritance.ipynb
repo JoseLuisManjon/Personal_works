{
 "cells": [
  {
   "cell_type": "markdown",
   "metadata": {},
   "source": [
    "Inheritance in python"
   ]
  },
  {
   "cell_type": "code",
   "execution_count": 3,
   "metadata": {},
   "outputs": [],
   "source": [
    "class LivingBeing():\n",
    "    \"\"\" Father/Mother class \"\"\"\n",
    "    def __init__(self, species, born_date, procreate_ability=True,  aging_disease=True):\n",
    "        self.is_living = True # Al ser un atributo que no esta como atributo del constructor (entre los parentesis de la linea init) quiere decir que is_living siempre va a ser True. En este caso no estoy pasando el valor del atributo is_living como parametro de la función init\n",
    "        self.species = species\n",
    "        self.procreate_ability = procreate_ability\n",
    "        self.aging_disease = aging_disease\n",
    "        self.born_date = born_date\n",
    "\n",
    "    def living_being_function(self): # Esta clase tiene esta funcion que muestra por pantalla el mensaje de print\n",
    "        print(\"I am a living being!\")"
   ]
  },
  {
   "cell_type": "code",
   "execution_count": 5,
   "metadata": {
    "tags": []
   },
   "outputs": [
    {
     "output_type": "stream",
     "name": "stdout",
     "text": "True\n"
    }
   ],
   "source": [
    "gorrion = LivingBeing(species=\"Ave\", born_date=\"18/06/2019\")\n",
    "print(gorrion.is_living)"
   ]
  },
  {
   "cell_type": "code",
   "execution_count": null,
   "metadata": {},
   "outputs": [],
   "source": [
    "gorrion.is_living = False\n",
    "print(gorrion.is_living)"
   ]
  },
  {
   "cell_type": "code",
   "execution_count": 18,
   "metadata": {},
   "outputs": [],
   "source": [
    "class Human(LivingBeing): # Esta clase Human es la clase hijo de livingbeing. Significa que tendra los mismos atributos que la clase padre (en este caso livingbeing)\n",
    "    \"\"\"Children class\"\"\"\n",
    "    def __init__(self, born_date, procreate_ability=False, eyes=2, legs=2, intelligence_ability=True):\n",
    "        # Herencia.\n",
    "        LivingBeing.__init__(self, species=\"Human\", procreate_ability=procreate_ability, born_date=born_date)\n",
    "        self.eyes = eyes\n",
    "        self.legs = legs\n",
    "        self.intelligence_ability = intelligence_ability"
   ]
  },
  {
   "cell_type": "code",
   "execution_count": 25,
   "metadata": {},
   "outputs": [
    {
     "name": "stdout",
     "output_type": "stream",
     "text": "humano.is_living: True\n\nCalling to living_being_function():\n\nI am a living being!\n"
    }
   ],
   "source": [
    "humano = Human(born_date=\"13/05/1991\", procreate_ability=False)\n",
    "print(\"humano.is_living:\", humano.is_living)\n",
    "print(\"\\nCalling to living_being_function():\\n\")\n",
    "humano.living_being_function()"
   ]
  },
  {
   "cell_type": "code",
   "execution_count": 6,
   "metadata": {
    "tags": []
   },
   "outputs": [
    {
     "output_type": "stream",
     "name": "stdout",
     "text": "I am a living being!\n"
    }
   ],
   "source": [
    "class Animal(LivingBeing):\n",
    "    def __init__(self, volar, born_date, tipo_celula=\"Eucariota\"):\n",
    "        LivingBeing.__init__(self, born_date=born_date, species=\"Animal\")\n",
    "        self.volar = volar\n",
    "        self.tipo_celula = tipo_celula\n",
    "\n",
    "perro_volador = Animal(volar=True, born_date=\"12/02/2020\")\n",
    "\n",
    "perro_volador.living_being_function()"
   ]
  },
  {
   "cell_type": "code",
   "execution_count": null,
   "metadata": {},
   "outputs": [],
   "source": []
  }
 ],
 "metadata": {
  "language_info": {
   "name": "python",
   "codemirror_mode": {
    "name": "ipython",
    "version": 3
   },
   "version": "3.7.6-final"
  },
  "orig_nbformat": 2,
  "file_extension": ".py",
  "mimetype": "text/x-python",
  "name": "python",
  "npconvert_exporter": "python",
  "pygments_lexer": "ipython3",
  "version": 3,
  "kernelspec": {
   "name": "python3",
   "display_name": "Python 3"
  }
 },
 "nbformat": 4,
 "nbformat_minor": 2
}