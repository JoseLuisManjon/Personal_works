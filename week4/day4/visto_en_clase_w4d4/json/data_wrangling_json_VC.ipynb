{
 "cells": [
  {
   "cell_type": "markdown",
   "metadata": {},
   "source": [
    "## Working on Jsons"
   ]
  },
  {
   "cell_type": "code",
   "execution_count": 1,
   "metadata": {},
   "outputs": [],
   "source": [
    "import json"
   ]
  },
  {
   "cell_type": "code",
   "execution_count": 2,
   "metadata": {},
   "outputs": [],
   "source": [
    "import requests\n",
    "import json\n",
    "import pandas as pd "
   ]
  },
  {
   "cell_type": "code",
   "execution_count": 3,
   "metadata": {
    "tags": []
   },
   "outputs": [
    {
     "output_type": "execute_result",
     "data": {
      "text/plain": "{'squadName': 'Super Hero Squad',\n 'homeTown': 'Metro City',\n 'formed': 2016,\n 'secretBase': 'Super tower',\n 'active': True,\n 'members': [{'name': 'Molecule Man',\n   'age': 29,\n   'secretIdentity': 'Dan Jukes',\n   'powers': ['Radiation resistance', 'Turning tiny', 'Radiation blast']},\n  {'name': 'Madame Uppercut',\n   'age': 39,\n   'secretIdentity': 'Jane Wilson',\n   'powers': ['Million tonne punch',\n    'Damage resistance',\n    'Superhuman reflexes']},\n  {'name': 'Eternal Flame',\n   'age': 1000000,\n   'secretIdentity': 'Unknown',\n   'powers': ['Immortality',\n    'Heat Immunity',\n    'Inferno',\n    'Teleportation',\n    'Interdimensional travel']}]}"
     },
     "metadata": {},
     "execution_count": 3
    }
   ],
   "source": [
    "r = requests.get(url='https://mdn.github.io/learning-area/javascript/oojs/json/superheroes.json')\n",
    "\n",
    "json_readed = r.json()# Paso el archivo 'r' que estaba en la url usando el metodo json de la libreria requests. El metodo json le va a dar una estructura de diccionario.\n",
    "json_readed  # Ahora la base de datos esta en la variable json_readed"
   ]
  },
  {
   "cell_type": "markdown",
   "metadata": {},
   "source": [
    "-------------\n",
    "\n",
    "Esto es un ejemplo para insertar dos puntos \":\" en la séptima línea de un hipotético string en el que le falta ese mismo str. "
   ]
  },
  {
   "cell_type": "code",
   "execution_count": null,
   "metadata": {},
   "outputs": [],
   "source": [
    "ulr_string = r.text # paso url que estaba en formato json a type str\n",
    "type(ulr_string)\n",
    "with open('data_no_json.txt', 'w+') as outfile: # Ahora estoy creando un archivo txt con los datos de la variable url_string que son datos de tipo str\n",
    "    outfile.write(ulr_string)"
   ]
  },
  {
   "cell_type": "code",
   "execution_count": 28,
   "metadata": {},
   "outputs": [
    {
     "output_type": "execute_result",
     "data": {
      "text/plain": "['a', 'b', 'X', 'c', 'd']"
     },
     "metadata": {},
     "execution_count": 28
    }
   ],
   "source": [
    "l = [\"a\", \"b\", \"c\", \"d\"]\n",
    "l.insert(2, \"X\")\n",
    "l"
   ]
  },
  {
   "cell_type": "code",
   "execution_count": 27,
   "metadata": {
    "tags": []
   },
   "outputs": [
    {
     "output_type": "stream",
     "name": "stdout",
     "text": "{\n\n  \"squadName\" : \"Super Hero Squad\",\n\n  \"homeTown\" : \"Metro City\",\n\n  \"formed\" : 2016,\n\n  \"secretBase\" : \"Super tower\",\n\n  \"active\" : true,\n\n  \"members\" : [\n\n"
    }
   ],
   "source": [
    "with open('data_no_json.txt', 'r+') as outfile:\n",
    "    for i in range(7):\n",
    "        line = outfile.readline()\n",
    "        print(line)\n",
    "        l_line = list(line)\n",
    "        l_line.insert(6, \":\")"
   ]
  },
  {
   "cell_type": "markdown",
   "metadata": {},
   "source": [
    "Fin del ejemplo\n",
    "\n",
    "-------------"
   ]
  },
  {
   "cell_type": "code",
   "execution_count": 11,
   "metadata": {
    "tags": []
   },
   "outputs": [
    {
     "output_type": "stream",
     "name": "stdout",
     "text": "{'squadName': 'Super Hero Squad', 'homeTown': 'Metro City', 'formed': 2016, 'secretBase': 'Super tower', 'active': True, 'members': [{'name': 'Molecule Man', 'age': 29, 'secretIdentity': 'Dan Jukes', 'powers': ['Radiation resistance', 'Turning tiny', 'Radiation blast']}, {'name': 'Madame Uppercut', 'age': 39, 'secretIdentity': 'Jane Wilson', 'powers': ['Million tonne punch', 'Damage resistance', 'Superhuman reflexes']}, {'name': 'Eternal Flame', 'age': 1000000, 'secretIdentity': 'Unknown', 'powers': ['Immortality', 'Heat Immunity', 'Inferno', 'Teleportation', 'Interdimensional travel']}]}\n"
    }
   ],
   "source": [
    "print(json_readed)"
   ]
  },
  {
   "cell_type": "markdown",
   "metadata": {},
   "source": [
    "------------------"
   ]
  },
  {
   "cell_type": "markdown",
   "metadata": {},
   "source": [
    "Save json in a local file called \"data.json\""
   ]
  },
  {
   "cell_type": "code",
   "execution_count": 6,
   "metadata": {},
   "outputs": [],
   "source": [
    "with open('data.json', 'w+') as outfile: \n",
    "    json.dump(json_readed, outfile)\n",
    "#Creo un fichero llamado data.json con el alias outfile, para ello uso el metodo dump, el cual crea el archivo con todos los datos en una sola línea. Los datos los toma del archivo json_readed y los pasa al archivo con el alias outfile"
   ]
  },
  {
   "cell_type": "code",
   "execution_count": 10,
   "metadata": {
    "tags": []
   },
   "outputs": [
    {
     "output_type": "stream",
     "name": "stdout",
     "text": "{\"squadName\": \"Super Hero Squad\", \"homeTown\": \"Metro City\", \"formed\": 2016, \"secretBase\": \"Super tower\", \"active\": true, \"members\": [{\"name\": \"Molecule Man\", \"age\": 29, \"secretIdentity\": \"Dan Jukes\", \"powers\": [\"Radiation resistance\", \"Turning tiny\", \"Radiation blast\"]}, {\"name\": \"Madame Uppercut\", \"age\": 39, \"secretIdentity\": \"Jane Wilson\", \"powers\": [\"Million tonne punch\", \"Damage resistance\", \"Superhuman reflexes\"]}, {\"name\": \"Eternal Flame\", \"age\": 1000000, \"secretIdentity\": \"Unknown\", \"powers\": [\"Immortality\", \"Heat Immunity\", \"Inferno\", \"Teleportation\", \"Interdimensional travel\"]}]}\n"
    }
   ],
   "source": [
    "with open('data.json') as f: # Con esto abro el archivo data.json y con f.readline leere linea a linea todo el contenido de ese archivo\n",
    "    line = f.readline()\n",
    "    if line:        #-----si linea existe entonces imprimela\n",
    "        print(line)\n",
    "        line = f.readline() #Despues imprimira la siguiente, en nuestro caso no imprime nada pq solo hay 1 lineas en el archivo\n",
    "print(\"Esta es la siguiente línea y está vacía:\", line)   \n",
    "\n"
   ]
  },
  {
   "cell_type": "markdown",
   "metadata": {},
   "source": [
    "------------------"
   ]
  },
  {
   "cell_type": "markdown",
   "metadata": {},
   "source": [
    "Save with indent"
   ]
  },
  {
   "cell_type": "code",
   "execution_count": 11,
   "metadata": {},
   "outputs": [],
   "source": [
    "with open('data_indented.json', 'w+') as outfile:\n",
    "    json.dump(json_readed, outfile, indent=4) #indent=4 es la forma correcta de visualizar un json. Se crea el archivo que he llamado data_indented.json en nuestra carpeta"
   ]
  },
  {
   "cell_type": "markdown",
   "metadata": {},
   "source": [
    "------------------"
   ]
  },
  {
   "cell_type": "markdown",
   "metadata": {},
   "source": [
    "Read local json\n"
   ]
  },
  {
   "cell_type": "code",
   "execution_count": 18,
   "metadata": {
    "tags": []
   },
   "outputs": [
    {
     "output_type": "stream",
     "name": "stdout",
     "text": "<class 'dict'>\n"
    },
    {
     "output_type": "execute_result",
     "data": {
      "text/plain": "{'squadName': 'Super Hero Squad',\n 'homeTown': 'Metro City',\n 'formed': 2016,\n 'secretBase': 'Super tower',\n 'active': True,\n 'members': [{'name': 'Molecule Man',\n   'age': 29,\n   'secretIdentity': 'Dan Jukes',\n   'powers': ['Radiation resistance', 'Turning tiny', 'Radiation blast']},\n  {'name': 'Madame Uppercut',\n   'age': 39,\n   'secretIdentity': 'Jane Wilson',\n   'powers': ['Million tonne punch',\n    'Damage resistance',\n    'Superhuman reflexes']},\n  {'name': 'Eternal Flame',\n   'age': 1000000,\n   'secretIdentity': 'Unknown',\n   'powers': ['Immortality',\n    'Heat Immunity',\n    'Inferno',\n    'Teleportation',\n    'Interdimensional travel']}]}"
     },
     "metadata": {},
     "execution_count": 18
    }
   ],
   "source": [
    "with open('data_indented.json', 'r+') as outfile:\n",
    "    json_readed = json.load(outfile)\n",
    "print(type(json_readed))\n",
    "json_readed\n",
    "#Con esto creo la variable json_readed desde local, (no desde la url) para ello uso el metodo json.load que lo convertira en un diccionario. Es decir desde la variable data_indented.json que tengo en local(en el ordenador) cargo los datos en la variable json_readed. Ahora json.readed va a ser un diccionario"
   ]
  },
  {
   "cell_type": "code",
   "execution_count": 19,
   "metadata": {},
   "outputs": [
    {
     "output_type": "execute_result",
     "data": {
      "text/plain": "          squadName  ...                                            members\n0  Super Hero Squad  ...  {'name': 'Molecule Man', 'age': 29, 'secretIde...\n1  Super Hero Squad  ...  {'name': 'Madame Uppercut', 'age': 39, 'secret...\n2  Super Hero Squad  ...  {'name': 'Eternal Flame', 'age': 1000000, 'sec...\n\n[3 rows x 6 columns]",
      "text/html": "<div>\n<style scoped>\n    .dataframe tbody tr th:only-of-type {\n        vertical-align: middle;\n    }\n\n    .dataframe tbody tr th {\n        vertical-align: top;\n    }\n\n    .dataframe thead th {\n        text-align: right;\n    }\n</style>\n<table border=\"1\" class=\"dataframe\">\n  <thead>\n    <tr style=\"text-align: right;\">\n      <th></th>\n      <th>squadName</th>\n      <th>homeTown</th>\n      <th>formed</th>\n      <th>secretBase</th>\n      <th>active</th>\n      <th>members</th>\n    </tr>\n  </thead>\n  <tbody>\n    <tr>\n      <th>0</th>\n      <td>Super Hero Squad</td>\n      <td>Metro City</td>\n      <td>2016</td>\n      <td>Super tower</td>\n      <td>True</td>\n      <td>{'name': 'Molecule Man', 'age': 29, 'secretIde...</td>\n    </tr>\n    <tr>\n      <th>1</th>\n      <td>Super Hero Squad</td>\n      <td>Metro City</td>\n      <td>2016</td>\n      <td>Super tower</td>\n      <td>True</td>\n      <td>{'name': 'Madame Uppercut', 'age': 39, 'secret...</td>\n    </tr>\n    <tr>\n      <th>2</th>\n      <td>Super Hero Squad</td>\n      <td>Metro City</td>\n      <td>2016</td>\n      <td>Super tower</td>\n      <td>True</td>\n      <td>{'name': 'Eternal Flame', 'age': 1000000, 'sec...</td>\n    </tr>\n  </tbody>\n</table>\n</div>"
     },
     "metadata": {},
     "execution_count": 19
    }
   ],
   "source": [
    "# Utilizando que con panda se puedo crear un DataFrame desde un diccionario, utilizo la variable json_readed que tiene estructura de diccionario\n",
    "df = pd.DataFrame(json_readed)  # From dict\n",
    "df\n"
   ]
  },
  {
   "cell_type": "code",
   "execution_count": 32,
   "metadata": {},
   "outputs": [
    {
     "output_type": "execute_result",
     "data": {
      "text/plain": "          squadName  ...                                            members\n0  Super Hero Squad  ...  {'name': 'Molecule Man', 'age': 29, 'secretIde...\n1  Super Hero Squad  ...  {'name': 'Madame Uppercut', 'age': 39, 'secret...\n2  Super Hero Squad  ...  {'name': 'Eternal Flame', 'age': 1000000, 'sec...\n\n[3 rows x 6 columns]",
      "text/html": "<div>\n<style scoped>\n    .dataframe tbody tr th:only-of-type {\n        vertical-align: middle;\n    }\n\n    .dataframe tbody tr th {\n        vertical-align: top;\n    }\n\n    .dataframe thead th {\n        text-align: right;\n    }\n</style>\n<table border=\"1\" class=\"dataframe\">\n  <thead>\n    <tr style=\"text-align: right;\">\n      <th></th>\n      <th>squadName</th>\n      <th>homeTown</th>\n      <th>formed</th>\n      <th>secretBase</th>\n      <th>active</th>\n      <th>members</th>\n    </tr>\n  </thead>\n  <tbody>\n    <tr>\n      <th>0</th>\n      <td>Super Hero Squad</td>\n      <td>Metro City</td>\n      <td>2016</td>\n      <td>Super tower</td>\n      <td>True</td>\n      <td>{'name': 'Molecule Man', 'age': 29, 'secretIde...</td>\n    </tr>\n    <tr>\n      <th>1</th>\n      <td>Super Hero Squad</td>\n      <td>Metro City</td>\n      <td>2016</td>\n      <td>Super tower</td>\n      <td>True</td>\n      <td>{'name': 'Madame Uppercut', 'age': 39, 'secret...</td>\n    </tr>\n    <tr>\n      <th>2</th>\n      <td>Super Hero Squad</td>\n      <td>Metro City</td>\n      <td>2016</td>\n      <td>Super tower</td>\n      <td>True</td>\n      <td>{'name': 'Eternal Flame', 'age': 1000000, 'sec...</td>\n    </tr>\n  </tbody>\n</table>\n</div>"
     },
     "metadata": {},
     "execution_count": 32
    }
   ],
   "source": [
    "# He creado el DataFrame df_json con los datos existentes en el archivo data_indented.json; utilizando el metodo read_json. Aqui archio es del tipo json(data_indented.jsonº)\n",
    "df_json = pd.read_json(\"data_indented.json\")\n",
    "df_json"
   ]
  },
  {
   "cell_type": "markdown",
   "metadata": {},
   "source": [
    "------------------"
   ]
  },
  {
   "cell_type": "markdown",
   "metadata": {},
   "source": [
    "### Data Mining & Data Wrangling\n",
    "As you can see, there are jsons inside the original json. For that, we have to mining the json (data mining) to be able to use it correctly (data wrangling). \n",
    "\n",
    "How do you solve this issue? Research about this and try a solution. "
   ]
  },
  {
   "cell_type": "code",
   "execution_count": 34,
   "metadata": {},
   "outputs": [
    {
     "output_type": "execute_result",
     "data": {
      "text/plain": "pandas.core.series.Series"
     },
     "metadata": {},
     "execution_count": 34
    }
   ],
   "source": [
    "type(df_json[\"members\"])"
   ]
  },
  {
   "cell_type": "code",
   "execution_count": 38,
   "metadata": {
    "tags": []
   },
   "outputs": [
    {
     "output_type": "stream",
     "name": "stdout",
     "text": "{'name': 'Molecule Man', 'age': 29, 'secretIdentity': 'Dan Jukes', 'powers': ['Radiation resistance', 'Turning tiny', 'Radiation blast']}\n{'name': 'Madame Uppercut', 'age': 39, 'secretIdentity': 'Jane Wilson', 'powers': ['Million tonne punch', 'Damage resistance', 'Superhuman reflexes']}\n{'name': 'Eternal Flame', 'age': 1000000, 'secretIdentity': 'Unknown', 'powers': ['Immortality', 'Heat Immunity', 'Inferno', 'Teleportation', 'Interdimensional travel']}\n"
    }
   ],
   "source": [
    "with open('data_indented.json', 'r') as outfile:\n",
    "    json_readed = json.load(outfile)\n",
    "    for dict_ in json_readed[\"members\"]:\n",
    "        print(dict_)\n",
    "        "
   ]
  },
  {
   "cell_type": "markdown",
   "metadata": {},
   "source": [
    "1. Leemos data_indented.json\n",
    "2. Cargamos el contenido en una variable\n",
    "3. Cogemos el contenido de la key/columna \"members\""
   ]
  },
  {
   "cell_type": "code",
   "execution_count": 40,
   "metadata": {},
   "outputs": [
    {
     "output_type": "execute_result",
     "data": {
      "text/plain": "[{'name': 'Molecule Man',\n  'age': 29,\n  'secretIdentity': 'Dan Jukes',\n  'powers': ['Radiation resistance', 'Turning tiny', 'Radiation blast']},\n {'name': 'Madame Uppercut',\n  'age': 39,\n  'secretIdentity': 'Jane Wilson',\n  'powers': ['Million tonne punch',\n   'Damage resistance',\n   'Superhuman reflexes']},\n {'name': 'Eternal Flame',\n  'age': 1000000,\n  'secretIdentity': 'Unknown',\n  'powers': ['Immortality',\n   'Heat Immunity',\n   'Inferno',\n   'Teleportation',\n   'Interdimensional travel']}]"
     },
     "metadata": {},
     "execution_count": 40
    }
   ],
   "source": [
    "with open(\"data_indented.json\", \"r+\") as outfile:\n",
    "    json_readed = json.load(outfile)\n",
    "    members_json_list = json_readed[\"members\"]  # Real json\n",
    "members_json_list"
   ]
  },
  {
   "cell_type": "markdown",
   "metadata": {},
   "source": [
    "------------------"
   ]
  },
  {
   "cell_type": "markdown",
   "metadata": {},
   "source": [
    "1. Guardamos los datos en un fichero \"final_data.json\"\n",
    "2. Cargamos el fichero con pandas"
   ]
  },
  {
   "cell_type": "code",
   "execution_count": 41,
   "metadata": {},
   "outputs": [],
   "source": [
    "with open('final_data.json', 'w+') as outfile:\n",
    "    json.dump(members_json_list, outfile, indent=4) "
   ]
  },
  {
   "cell_type": "code",
   "execution_count": 43,
   "metadata": {},
   "outputs": [
    {
     "output_type": "execute_result",
     "data": {
      "text/plain": "              name  ...                                             powers\n0     Molecule Man  ...  [Radiation resistance, Turning tiny, Radiation...\n1  Madame Uppercut  ...  [Million tonne punch, Damage resistance, Super...\n2    Eternal Flame  ...  [Immortality, Heat Immunity, Inferno, Teleport...\n\n[3 rows x 4 columns]",
      "text/html": "<div>\n<style scoped>\n    .dataframe tbody tr th:only-of-type {\n        vertical-align: middle;\n    }\n\n    .dataframe tbody tr th {\n        vertical-align: top;\n    }\n\n    .dataframe thead th {\n        text-align: right;\n    }\n</style>\n<table border=\"1\" class=\"dataframe\">\n  <thead>\n    <tr style=\"text-align: right;\">\n      <th></th>\n      <th>name</th>\n      <th>age</th>\n      <th>secretIdentity</th>\n      <th>powers</th>\n    </tr>\n  </thead>\n  <tbody>\n    <tr>\n      <th>0</th>\n      <td>Molecule Man</td>\n      <td>29</td>\n      <td>Dan Jukes</td>\n      <td>[Radiation resistance, Turning tiny, Radiation...</td>\n    </tr>\n    <tr>\n      <th>1</th>\n      <td>Madame Uppercut</td>\n      <td>39</td>\n      <td>Jane Wilson</td>\n      <td>[Million tonne punch, Damage resistance, Super...</td>\n    </tr>\n    <tr>\n      <th>2</th>\n      <td>Eternal Flame</td>\n      <td>1000000</td>\n      <td>Unknown</td>\n      <td>[Immortality, Heat Immunity, Inferno, Teleport...</td>\n    </tr>\n  </tbody>\n</table>\n</div>"
     },
     "metadata": {},
     "execution_count": 43
    }
   ],
   "source": [
    "df_members_json = pd.read_json(\"final_data.json\")\n",
    "df_members_json"
   ]
  },
  {
   "cell_type": "markdown",
   "metadata": {},
   "source": [
    "-------------------"
   ]
  },
  {
   "cell_type": "markdown",
   "metadata": {},
   "source": [
    "Nota:\n",
    "\n",
    "1. Con dumps, cargamos el contenido de un diccionario a formato string\n",
    "2. Con loads, cargamos el contenido de un string a formato json formal."
   ]
  },
  {
   "cell_type": "markdown",
   "metadata": {},
   "source": [
    "--------------------------------------"
   ]
  },
  {
   "cell_type": "markdown",
   "metadata": {},
   "source": [
    "**Concatenamos por columnas los dataframes**"
   ]
  },
  {
   "cell_type": "code",
   "execution_count": 14,
   "metadata": {},
   "outputs": [
    {
     "output_type": "error",
     "ename": "SyntaxError",
     "evalue": "invalid syntax (<ipython-input-14-09214529cd56>, line 1)",
     "traceback": [
      "\u001b[1;36m  File \u001b[1;32m\"<ipython-input-14-09214529cd56>\"\u001b[1;36m, line \u001b[1;32m1\u001b[0m\n\u001b[1;33m    final_df = pd.concat([df_json, df_members_json], axis=1>, sort=False)\u001b[0m\n\u001b[1;37m                                                            ^\u001b[0m\n\u001b[1;31mSyntaxError\u001b[0m\u001b[1;31m:\u001b[0m invalid syntax\n"
     ]
    }
   ],
   "source": [
    "final_df = pd.concat([df_json, df_members_json], axis=1>, sort=False)\n",
    "final_df"
   ]
  },
  {
   "cell_type": "code",
   "execution_count": 13,
   "metadata": {},
   "outputs": [
    {
     "output_type": "error",
     "ename": "NameError",
     "evalue": "name 'final_df' is not defined",
     "traceback": [
      "\u001b[1;31m---------------------------------------------------------------------------\u001b[0m",
      "\u001b[1;31mNameError\u001b[0m                                 Traceback (most recent call last)",
      "\u001b[1;32m<ipython-input-13-47bb5ef5170c>\u001b[0m in \u001b[0;36m<module>\u001b[1;34m\u001b[0m\n\u001b[1;32m----> 1\u001b[1;33m \u001b[0mfinal_df\u001b[0m \u001b[1;33m=\u001b[0m \u001b[0mfinal_df\u001b[0m\u001b[1;33m.\u001b[0m\u001b[0mdrop\u001b[0m\u001b[1;33m(\u001b[0m\u001b[1;33m[\u001b[0m\u001b[1;34m\"members\"\u001b[0m\u001b[1;33m]\u001b[0m\u001b[1;33m,\u001b[0m \u001b[0maxis\u001b[0m\u001b[1;33m=\u001b[0m\u001b[1;36m1\u001b[0m\u001b[1;33m)\u001b[0m\u001b[1;33m\u001b[0m\u001b[1;33m\u001b[0m\u001b[0m\n\u001b[0m\u001b[0;32m      2\u001b[0m \u001b[0mfinal_df\u001b[0m\u001b[1;33m\u001b[0m\u001b[1;33m\u001b[0m\u001b[0m\n",
      "\u001b[1;31mNameError\u001b[0m: name 'final_df' is not defined"
     ]
    }
   ],
   "source": [
    "final_df = final_df.drop([\"members\"], axis=1)\n",
    "final_df"
   ]
  },
  {
   "cell_type": "code",
   "execution_count": null,
   "metadata": {},
   "outputs": [],
   "source": []
  }
 ],
 "metadata": {
  "language_info": {
   "name": "python",
   "codemirror_mode": {
    "name": "ipython",
    "version": 3
   },
   "version": "3.8.3-final"
  },
  "orig_nbformat": 2,
  "file_extension": ".py",
  "mimetype": "text/x-python",
  "name": "python",
  "npconvert_exporter": "python",
  "pygments_lexer": "ipython3",
  "version": 3,
  "kernelspec": {
   "name": "python38332bit5edbb3147ffc42338a55d41c588604cf",
   "display_name": "Python 3.8.3 32-bit"
  }
 },
 "nbformat": 4,
 "nbformat_minor": 2
}