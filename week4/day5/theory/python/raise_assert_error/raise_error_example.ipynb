{
 "cells": [
  {
   "cell_type": "code",
   "execution_count": 1,
   "metadata": {
    "tags": []
   },
   "outputs": [
    {
     "output_type": "stream",
     "name": "stdout",
     "text": "hola\n"
    },
    {
     "output_type": "error",
     "ename": "Exception",
     "evalue": "No sigas",
     "traceback": [
      "\u001b[1;31m---------------------------------------------------------------------------\u001b[0m",
      "\u001b[1;31mException\u001b[0m                                 Traceback (most recent call last)",
      "\u001b[1;32m<ipython-input-1-faaf854cfc7d>\u001b[0m in \u001b[0;36m<module>\u001b[1;34m\u001b[0m\n\u001b[0;32m      1\u001b[0m \u001b[0mprint\u001b[0m\u001b[1;33m(\u001b[0m\u001b[1;34m\"hola\"\u001b[0m\u001b[1;33m)\u001b[0m\u001b[1;33m\u001b[0m\u001b[1;33m\u001b[0m\u001b[0m\n\u001b[1;32m----> 2\u001b[1;33m \u001b[1;32mraise\u001b[0m \u001b[0mException\u001b[0m\u001b[1;33m(\u001b[0m\u001b[1;34m\"No sigas\"\u001b[0m\u001b[1;33m)\u001b[0m \u001b[1;31m# raise para la ejecución y muestra un mensaje de error que es lo que le pongo entre parentesis y con comillas. Exception es el tipo de error (hay otros como ValueError)\u001b[0m\u001b[1;33m\u001b[0m\u001b[1;33m\u001b[0m\u001b[0m\n\u001b[0m\u001b[0;32m      3\u001b[0m \u001b[0mprint\u001b[0m\u001b[1;33m(\u001b[0m\u001b[1;34m\"adios\"\u001b[0m\u001b[1;33m)\u001b[0m\u001b[1;33m\u001b[0m\u001b[1;33m\u001b[0m\u001b[0m\n",
      "\u001b[1;31mException\u001b[0m: No sigas"
     ]
    }
   ],
   "source": [
    "\n",
    "print(\"hola\")\n",
    "raise Exception(\"No sigas\") # raise para la ejecución y muestra un mensaje de error que es lo que le pongo entre parentesis y con comillas. Exception es el tipo de error (hay otros como ValueError, etc..)\n",
    "print(\"adios\")\n"
   ]
  },
  {
   "cell_type": "code",
   "execution_count": 3,
   "metadata": {},
   "outputs": [
    {
     "output_type": "error",
     "ename": "SyntaxError",
     "evalue": "invalid syntax (<ipython-input-3-f4d1c3611f42>, line 3)",
     "traceback": [
      "\u001b[1;36m  File \u001b[1;32m\"<ipython-input-3-f4d1c3611f42>\"\u001b[1;36m, line \u001b[1;32m3\u001b[0m\n\u001b[1;33m    def suma(a,b)\u001b[0m\n\u001b[1;37m                 ^\u001b[0m\n\u001b[1;31mSyntaxError\u001b[0m\u001b[1;31m:\u001b[0m invalid syntax\n"
     ]
    }
   ],
   "source": [
    "# assert\n",
    "# es para lo mismo pero poniendo una condición a la izquierda de la coma y a la derecha lo que va a hacer si no se cumple la condición\n",
    "def suma(a, b)\n",
    "    assert(isinstance(a,(int, float))), \"a solo puede ser num\"\n",
    "    assert(isinstance(b,(int, float))), \"b solo puede ser num\"\n",
    "    assert a > 0 and b > 0, \"a y b deben ser mayor de 0\"\n",
    "\n",
    "    print(a+b)\n",
    "suma(5+\"8\")\n",
    "\n",
    "  \n",
    "\n"
   ]
  },
  {
   "cell_type": "code",
   "execution_count": null,
   "metadata": {},
   "outputs": [],
   "source": []
  }
 ],
 "metadata": {
  "language_info": {
   "codemirror_mode": {
    "name": "ipython",
    "version": 3
   },
   "file_extension": ".py",
   "mimetype": "text/x-python",
   "name": "python",
   "nbconvert_exporter": "python",
   "pygments_lexer": "ipython3",
   "version": "3.8.3-final"
  },
  "orig_nbformat": 2,
  "kernelspec": {
   "name": "python38332bit5edbb3147ffc42338a55d41c588604cf",
   "display_name": "Python 3.8.3 32-bit"
  }
 },
 "nbformat": 4,
 "nbformat_minor": 2
}