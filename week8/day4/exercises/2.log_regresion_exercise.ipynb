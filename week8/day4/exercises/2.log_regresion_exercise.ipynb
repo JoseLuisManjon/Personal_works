{
 "cells": [
  {
   "cell_type": "markdown",
   "metadata": {},
   "source": [
    "1. \n",
    "\n",
    "(X_train=80%)\n",
    "(X_test=20%)\n",
    "\n",
    "A partir del archivo \"iris.csv\" que se corresponde con datos relacionados con tres tipos de plantas (el target es el tipo de planta):\n",
    "\n",
    "- Mediante regresión logística, predice qué planta se corresponde con los ejemplos: [[15.7,2.8,9.5,0.1]] y [[1.7,3.8,4.5,11.3]]\n",
    "- ¿Qué acierto tiene tu modelo? (score)\n",
    "- Utiliza un conjunto de test con el 40% de los datos: ¿cambian los resultados anteriores? ¿por qué?\n",
    "- Elimina la clase \"Virginica\" de tus datos. Repite el proceso anterior, ¿cambian los resultados?\n",
    "- ¿Consideras la regresión logística un buen algoritmo para estos datos? ¿por qué?"
   ]
  },
  {
   "cell_type": "code",
   "execution_count": 2,
   "metadata": {},
   "outputs": [],
   "source": [
    "import pandas as pd\n",
    "import numpy as np\n",
    "from sklearn import linear_model\n",
    "from sklearn import model_selection\n",
    "from sklearn.metrics import classification_report\n",
    "from sklearn.metrics import confusion_matrix\n",
    "from sklearn.metrics import accuracy_score\n",
    "from sklearn.model_selection import train_test_split\n",
    "import matplotlib.pyplot as plt\n",
    "import seaborn as sns\n",
    "import matplotlib.pyplot as plt\n",
    "%matplotlib inline"
   ]
  },
  {
   "cell_type": "code",
   "execution_count": 3,
   "metadata": {},
   "outputs": [
    {
     "output_type": "execute_result",
     "data": {
      "text/plain": "   sepal.length  sepal.width  petal.length  petal.width variety\n0           5.1          3.5           1.4          0.2  Setosa\n1           4.9          3.0           1.4          0.2  Setosa\n2           4.7          3.2           1.3          0.2  Setosa\n3           4.6          3.1           1.5          0.2  Setosa\n4           5.0          3.6           1.4          0.2  Setosa",
      "text/html": "<div>\n<style scoped>\n    .dataframe tbody tr th:only-of-type {\n        vertical-align: middle;\n    }\n\n    .dataframe tbody tr th {\n        vertical-align: top;\n    }\n\n    .dataframe thead th {\n        text-align: right;\n    }\n</style>\n<table border=\"1\" class=\"dataframe\">\n  <thead>\n    <tr style=\"text-align: right;\">\n      <th></th>\n      <th>sepal.length</th>\n      <th>sepal.width</th>\n      <th>petal.length</th>\n      <th>petal.width</th>\n      <th>variety</th>\n    </tr>\n  </thead>\n  <tbody>\n    <tr>\n      <th>0</th>\n      <td>5.1</td>\n      <td>3.5</td>\n      <td>1.4</td>\n      <td>0.2</td>\n      <td>Setosa</td>\n    </tr>\n    <tr>\n      <th>1</th>\n      <td>4.9</td>\n      <td>3.0</td>\n      <td>1.4</td>\n      <td>0.2</td>\n      <td>Setosa</td>\n    </tr>\n    <tr>\n      <th>2</th>\n      <td>4.7</td>\n      <td>3.2</td>\n      <td>1.3</td>\n      <td>0.2</td>\n      <td>Setosa</td>\n    </tr>\n    <tr>\n      <th>3</th>\n      <td>4.6</td>\n      <td>3.1</td>\n      <td>1.5</td>\n      <td>0.2</td>\n      <td>Setosa</td>\n    </tr>\n    <tr>\n      <th>4</th>\n      <td>5.0</td>\n      <td>3.6</td>\n      <td>1.4</td>\n      <td>0.2</td>\n      <td>Setosa</td>\n    </tr>\n  </tbody>\n</table>\n</div>"
     },
     "metadata": {},
     "execution_count": 3
    }
   ],
   "source": [
    "dataframe = pd.read_csv(\"../data/iris.csv\")\n",
    "dataframe.head()"
   ]
  },
  {
   "cell_type": "code",
   "execution_count": 4,
   "metadata": {
    "tags": []
   },
   "outputs": [
    {
     "output_type": "stream",
     "name": "stdout",
     "text": "variety\nSetosa        50\nVersicolor    50\nVirginica     50\ndtype: int64\n"
    }
   ],
   "source": [
    "print(dataframe.groupby('variety').size())"
   ]
  },
  {
   "cell_type": "code",
   "execution_count": 5,
   "metadata": {
    "tags": []
   },
   "outputs": [
    {
     "output_type": "stream",
     "name": "stdout",
     "text": "(150, 4)\n"
    }
   ],
   "source": [
    "X = np.array(dataframe.drop(['variety'],1))\n",
    "print(X.shape)"
   ]
  },
  {
   "cell_type": "code",
   "execution_count": 6,
   "metadata": {},
   "outputs": [
    {
     "output_type": "execute_result",
     "data": {
      "text/plain": "array(['Setosa', 'Setosa', 'Setosa', 'Setosa', 'Setosa', 'Setosa',\n       'Setosa', 'Setosa', 'Setosa', 'Setosa', 'Setosa', 'Setosa',\n       'Setosa', 'Setosa', 'Setosa', 'Setosa', 'Setosa', 'Setosa',\n       'Setosa', 'Setosa', 'Setosa', 'Setosa', 'Setosa', 'Setosa',\n       'Setosa', 'Setosa', 'Setosa', 'Setosa', 'Setosa', 'Setosa',\n       'Setosa', 'Setosa', 'Setosa', 'Setosa', 'Setosa', 'Setosa',\n       'Setosa', 'Setosa', 'Setosa', 'Setosa', 'Setosa', 'Setosa',\n       'Setosa', 'Setosa', 'Setosa', 'Setosa', 'Setosa', 'Setosa',\n       'Setosa', 'Setosa', 'Versicolor', 'Versicolor', 'Versicolor',\n       'Versicolor', 'Versicolor', 'Versicolor', 'Versicolor',\n       'Versicolor', 'Versicolor', 'Versicolor', 'Versicolor',\n       'Versicolor', 'Versicolor', 'Versicolor', 'Versicolor',\n       'Versicolor', 'Versicolor', 'Versicolor', 'Versicolor',\n       'Versicolor', 'Versicolor', 'Versicolor', 'Versicolor',\n       'Versicolor', 'Versicolor', 'Versicolor', 'Versicolor',\n       'Versicolor', 'Versicolor', 'Versicolor', 'Versicolor',\n       'Versicolor', 'Versicolor', 'Versicolor', 'Versicolor',\n       'Versicolor', 'Versicolor', 'Versicolor', 'Versicolor',\n       'Versicolor', 'Versicolor', 'Versicolor', 'Versicolor',\n       'Versicolor', 'Versicolor', 'Versicolor', 'Versicolor',\n       'Versicolor', 'Versicolor', 'Versicolor', 'Virginica', 'Virginica',\n       'Virginica', 'Virginica', 'Virginica', 'Virginica', 'Virginica',\n       'Virginica', 'Virginica', 'Virginica', 'Virginica', 'Virginica',\n       'Virginica', 'Virginica', 'Virginica', 'Virginica', 'Virginica',\n       'Virginica', 'Virginica', 'Virginica', 'Virginica', 'Virginica',\n       'Virginica', 'Virginica', 'Virginica', 'Virginica', 'Virginica',\n       'Virginica', 'Virginica', 'Virginica', 'Virginica', 'Virginica',\n       'Virginica', 'Virginica', 'Virginica', 'Virginica', 'Virginica',\n       'Virginica', 'Virginica', 'Virginica', 'Virginica', 'Virginica',\n       'Virginica', 'Virginica', 'Virginica', 'Virginica', 'Virginica',\n       'Virginica', 'Virginica', 'Virginica'], dtype=object)"
     },
     "metadata": {},
     "execution_count": 6
    }
   ],
   "source": [
    "dataframe['variety'].values"
   ]
  },
  {
   "cell_type": "code",
   "execution_count": 7,
   "metadata": {
    "tags": []
   },
   "outputs": [],
   "source": [
    "# Import LabelEncoder\n",
    "from sklearn import preprocessing\n",
    "#creating labelEncoder\n",
    "le = preprocessing.LabelEncoder()\n",
    "# Converting string labels into numbers.\n",
    "variety_encoded = le.fit_transform(dataframe['variety'].values)\n",
    "# Setosa: 0, Versicolor: 1, Virginica: 2\n",
    "#print(variety_encoded)"
   ]
  },
  {
   "cell_type": "code",
   "execution_count": 8,
   "metadata": {},
   "outputs": [
    {
     "output_type": "execute_result",
     "data": {
      "text/plain": "(150,)"
     },
     "metadata": {},
     "execution_count": 8
    }
   ],
   "source": [
    "y = np.array(variety_encoded)\n",
    "y.shape"
   ]
  },
  {
   "cell_type": "code",
   "execution_count": 9,
   "metadata": {
    "tags": []
   },
   "outputs": [
    {
     "output_type": "stream",
     "name": "stdout",
     "text": "(120, 4) (30, 4) (120,) (30,)\n"
    }
   ],
   "source": [
    "# Divido el conjunto de datos en entrenamiento y test\n",
    "seed = 7\n",
    "test_size = 0.20\n",
    "X_train, X_test, y_train, y_test = model_selection.train_test_split(X, y, test_size=test_size, random_state=seed)\n",
    "print(X_train.shape, X_test.shape, y_train.shape, y_test.shape)"
   ]
  },
  {
   "cell_type": "code",
   "execution_count": 10,
   "metadata": {},
   "outputs": [
    {
     "output_type": "execute_result",
     "data": {
      "text/plain": "LogisticRegression()"
     },
     "metadata": {},
     "execution_count": 10
    }
   ],
   "source": [
    "# Creo el modelo\n",
    "model = linear_model.LogisticRegression()\n",
    "model.fit(X_train,y_train)"
   ]
  },
  {
   "cell_type": "markdown",
   "metadata": {},
   "source": [
    "Mediante regresión logística, predice qué planta se corresponde con los ejemplos: [15.7,2.8,9.5,0.1] y [1.7,3.8,4.5,11.3]"
   ]
  },
  {
   "cell_type": "code",
   "execution_count": 11,
   "metadata": {
    "tags": []
   },
   "outputs": [
    {
     "output_type": "stream",
     "name": "stdout",
     "text": "[2]\n"
    }
   ],
   "source": [
    "predicted1 = model.predict([[15.7,2.8,9.5,0.1]])\n",
    "print(predicted1)"
   ]
  },
  {
   "cell_type": "code",
   "execution_count": 12,
   "metadata": {
    "tags": []
   },
   "outputs": [
    {
     "output_type": "stream",
     "name": "stdout",
     "text": "[2]\n"
    }
   ],
   "source": [
    "predicted2 = model.predict([[1.7,3.8,4.5,11.3]])\n",
    "print(predicted2)"
   ]
  },
  {
   "cell_type": "markdown",
   "metadata": {},
   "source": [
    "En ambos casos se corresponde el 2 se corresponde con una Virgínica"
   ]
  },
  {
   "cell_type": "markdown",
   "metadata": {},
   "source": [
    "# ¿Qué acierto tiene tu modelo? (score)"
   ]
  },
  {
   "cell_type": "code",
   "execution_count": 13,
   "metadata": {},
   "outputs": [
    {
     "output_type": "execute_result",
     "data": {
      "text/plain": "0.9916666666666667"
     },
     "metadata": {},
     "execution_count": 13
    }
   ],
   "source": [
    "# Obtengo el score del conjunto de entrenamiento\n",
    "y_pred_train = model.predict(X_train)\n",
    "model.score(X_train,y_train )"
   ]
  },
  {
   "cell_type": "code",
   "execution_count": 14,
   "metadata": {},
   "outputs": [
    {
     "output_type": "execute_result",
     "data": {
      "text/plain": "0.8666666666666667"
     },
     "metadata": {},
     "execution_count": 14
    }
   ],
   "source": [
    "# Obtengo el score del conjunto de test\n",
    "y_pred = model.predict(X_test)\n",
    "model.score(X_test,y_test )"
   ]
  },
  {
   "cell_type": "code",
   "execution_count": 15,
   "metadata": {
    "tags": []
   },
   "outputs": [
    {
     "output_type": "stream",
     "name": "stdout",
     "text": "Accuracy: 0.8666666666666667\n"
    }
   ],
   "source": [
    "# Obtengo el score del conjunto de test usando metrics.accuracy_score\n",
    "from sklearn import metrics\n",
    "print(\"Accuracy:\", metrics.accuracy_score(y_test, y_pred))"
   ]
  },
  {
   "cell_type": "markdown",
   "metadata": {},
   "source": [
    "# Utiliza un conjunto de test con el 40% de los datos: ¿cambian los resultados anteriores? ¿por qué?"
   ]
  },
  {
   "cell_type": "code",
   "execution_count": 16,
   "metadata": {
    "tags": []
   },
   "outputs": [
    {
     "output_type": "stream",
     "name": "stdout",
     "text": "(90, 4) (60, 4) (90,) (60,)\n"
    }
   ],
   "source": [
    "# Divido el conjunto de datos en entrenamiento y test (40%)\n",
    "seed = 7\n",
    "test_size = 0.40\n",
    "X1_train, X1_test, y1_train, y1_test = model_selection.train_test_split(X, y, test_size=test_size, random_state=seed)\n",
    "print(X1_train.shape, X1_test.shape, y1_train.shape, y1_test.shape)"
   ]
  },
  {
   "cell_type": "code",
   "execution_count": 17,
   "metadata": {},
   "outputs": [
    {
     "output_type": "execute_result",
     "data": {
      "text/plain": "LogisticRegression()"
     },
     "metadata": {},
     "execution_count": 17
    }
   ],
   "source": [
    "# Creo el modelo\n",
    "model40 = linear_model.LogisticRegression()\n",
    "model40.fit(X1_train,y1_train)"
   ]
  },
  {
   "cell_type": "code",
   "execution_count": 18,
   "metadata": {},
   "outputs": [
    {
     "output_type": "execute_result",
     "data": {
      "text/plain": "0.9333333333333333"
     },
     "metadata": {},
     "execution_count": 18
    }
   ],
   "source": [
    "# Obtengo el score del conjunto de test \n",
    "y1_pred = model.predict(X1_test)\n",
    "model.score(X1_test,y1_test )"
   ]
  },
  {
   "cell_type": "code",
   "execution_count": 19,
   "metadata": {
    "tags": []
   },
   "outputs": [
    {
     "output_type": "stream",
     "name": "stdout",
     "text": "Accuracy: 0.9333333333333333\n"
    }
   ],
   "source": [
    "# Obtengo el score del conjunto de test usando metrics.accuracy_score\n",
    "from sklearn import metrics\n",
    "print(\"Accuracy:\", metrics.accuracy_score(y1_test, y1_pred))"
   ]
  },
  {
   "cell_type": "markdown",
   "metadata": {},
   "source": [
    "Aumenta el acierto en las predicciones, debido a que estoy utilizando más valores para comprobar como fué el entrenamiento. La cantidad de valores para el entrenamiento se ha reducido en un 25% (pasa del 80 al 60), pero la de test aumenta al doble."
   ]
  },
  {
   "cell_type": "markdown",
   "metadata": {},
   "source": [
    "# Elimina la clase \"Virginica\". Repite el proceso anterior, ¿cambian los resultados?"
   ]
  },
  {
   "cell_type": "code",
   "execution_count": 20,
   "metadata": {},
   "outputs": [],
   "source": [
    "# Dataframe sin la variedad Virginica en la columna variety\n",
    "df_2 = dataframe[dataframe['variety']!= 'Virginica' ]\n"
   ]
  },
  {
   "cell_type": "code",
   "execution_count": 21,
   "metadata": {
    "tags": []
   },
   "outputs": [
    {
     "output_type": "stream",
     "name": "stdout",
     "text": "[0 0 0 0 0 0 0 0 0 0 0 0 0 0 0 0 0 0 0 0 0 0 0 0 0 0 0 0 0 0 0 0 0 0 0 0 0\n 0 0 0 0 0 0 0 0 0 0 0 0 0 1 1 1 1 1 1 1 1 1 1 1 1 1 1 1 1 1 1 1 1 1 1 1 1\n 1 1 1 1 1 1 1 1 1 1 1 1 1 1 1 1 1 1 1 1 1 1 1 1 1 1]\n"
    }
   ],
   "source": [
    "le2 = preprocessing.LabelEncoder()\n",
    "# Converting string labels into numbers.\n",
    "variety2_encoded = le2.fit_transform(df_2['variety'].values)\n",
    "# Setosa: 0, Versicolor: 1, Virginica: 2\n",
    "print(variety2_encoded)"
   ]
  },
  {
   "cell_type": "code",
   "execution_count": 22,
   "metadata": {},
   "outputs": [
    {
     "output_type": "execute_result",
     "data": {
      "text/plain": "(100,)"
     },
     "metadata": {},
     "execution_count": 22
    }
   ],
   "source": [
    "y2 = np.array(variety2_encoded)\n",
    "y2.shape"
   ]
  },
  {
   "cell_type": "code",
   "execution_count": 23,
   "metadata": {
    "tags": []
   },
   "outputs": [
    {
     "output_type": "stream",
     "name": "stdout",
     "text": "(100, 4)\n"
    }
   ],
   "source": [
    "X2 = np.array(df_2.drop(['variety'],1))\n",
    "print(X2.shape)"
   ]
  },
  {
   "cell_type": "code",
   "execution_count": 24,
   "metadata": {
    "tags": []
   },
   "outputs": [
    {
     "output_type": "stream",
     "name": "stdout",
     "text": "(80, 4) (20, 4) (80,) (20,)\n"
    }
   ],
   "source": [
    "# Divido el dataset entre conjunto de entrenamiento y de test\n",
    "X2_train, X2_test, y2_train, y2_test = train_test_split(X2, y2, test_size=0.20)\n",
    "print(X2_train.shape,  X2_test.shape, y2_train.shape, y2_test.shape)"
   ]
  },
  {
   "cell_type": "code",
   "execution_count": 25,
   "metadata": {},
   "outputs": [
    {
     "output_type": "execute_result",
     "data": {
      "text/plain": "LogisticRegression()"
     },
     "metadata": {},
     "execution_count": 25
    }
   ],
   "source": [
    "# Creo el modelo\n",
    "model_2 = linear_model.LogisticRegression()\n",
    "model_2.fit(X2_train,y2_train)"
   ]
  },
  {
   "cell_type": "code",
   "execution_count": 26,
   "metadata": {
    "tags": []
   },
   "outputs": [
    {
     "output_type": "stream",
     "name": "stdout",
     "text": "Accuracy: 1.0\n"
    }
   ],
   "source": [
    "# Obtengo el score del conjunto de test usando metrics.accuracy_score\n",
    "y2_pred = model_2.predict(X2_test)\n",
    "print(\"Accuracy:\", metrics.accuracy_score(y2_test, y2_pred))"
   ]
  },
  {
   "cell_type": "code",
   "execution_count": 27,
   "metadata": {},
   "outputs": [
    {
     "output_type": "execute_result",
     "data": {
      "text/plain": "1.0"
     },
     "metadata": {},
     "execution_count": 27
    }
   ],
   "source": [
    "model_2.score(X2_test,y2_test)"
   ]
  },
  {
   "cell_type": "markdown",
   "metadata": {},
   "source": [
    "Si cambian los resultados. Ahora el acierto es del 100%. Es debido a que el número de opciones entre las que predecir ha pasado de tres a dos y con ello las posibilidades de acertar aumentan.\n",
    "\n",
    "Creo que la regresión logistics en un buen método para estos datos por el nivel tan bajo de error."
   ]
  }
 ],
 "metadata": {
  "language_info": {
   "codemirror_mode": {
    "name": "ipython",
    "version": 3
   },
   "file_extension": ".py",
   "mimetype": "text/x-python",
   "name": "python",
   "nbconvert_exporter": "python",
   "pygments_lexer": "ipython3",
   "version": "3.8.3-final"
  },
  "orig_nbformat": 2,
  "kernelspec": {
   "name": "python38364bit18bed457b1c14dc58302f83e4c9dad67",
   "display_name": "Python 3.8.3 64-bit"
  }
 },
 "nbformat": 4,
 "nbformat_minor": 2
}