{
 "metadata": {
  "language_info": {
   "codemirror_mode": {
    "name": "ipython",
    "version": 3
   },
   "file_extension": ".py",
   "mimetype": "text/x-python",
   "name": "python",
   "nbconvert_exporter": "python",
   "pygments_lexer": "ipython3",
   "version": "3.8.3-final"
  },
  "orig_nbformat": 2,
  "kernelspec": {
   "name": "python38364bit18bed457b1c14dc58302f83e4c9dad67",
   "display_name": "Python 3.8.3 64-bit"
  }
 },
 "nbformat": 4,
 "nbformat_minor": 2,
 "cells": [
  {
   "cell_type": "markdown",
   "metadata": {},
   "source": [
    "Here's your coding interview problem for today.\n",
    "\n",
    "This problem was asked by Facebook.\n",
    "\n",
    "Given a string of round, curly, and square open and closing brackets, return whether the brackets are balanced (well-formed).\n",
    "\n",
    "For example, given the string \"([])[]({})\", you should return true.\n",
    "\n",
    "Given the string \"([)]\" or \"((()\", you should return false."
   ]
  },
  {
   "cell_type": "code",
   "execution_count": null,
   "metadata": {},
   "outputs": [],
   "source": [
    "# Your code"
   ]
  },
  {
   "cell_type": "code",
   "execution_count": 4,
   "metadata": {
    "tags": []
   },
   "outputs": [
    {
     "output_type": "stream",
     "name": "stdout",
     "text": "['}', ')', ']']\n"
    }
   ],
   "source": [
    "abriendo = ['[','(','{']\n",
    "cerrando = [']',')','}']\n",
    "derecha.reverse()\n",
    "print(derecha)"
   ]
  },
  {
   "cell_type": "code",
   "execution_count": 14,
   "metadata": {},
   "outputs": [],
   "source": [
    "def balancedBrackets(cadena):\n",
    "    abriendo = \"({[\"\n",
    "    cerrando = \")}]\"\n",
    "    parejas = {\")\": \"(\", \"}\": \"{\", \"]\": \"[\"}\n",
    "    corch_paren_llave = []\n",
    "    if len(cadena) % 2 != 0 or cadena[0] in cerrando:\n",
    "        return False\n",
    "    for elem in cadena:\n",
    "        if elem in abriendo:\n",
    "            corch_paren_llave.append(elem)\n",
    "        elif elem in cerrando:\n",
    "            if corch_paren_llave[-1] == parejas[elem]:\n",
    "                corch_paren_llave.pop()\n",
    "            else:\n",
    "                return False\n",
    "    return len(corch_paren_llave) == 0"
   ]
  },
  {
   "cell_type": "code",
   "execution_count": 17,
   "metadata": {},
   "outputs": [
    {
     "output_type": "execute_result",
     "data": {
      "text/plain": "False"
     },
     "metadata": {},
     "execution_count": 17
    }
   ],
   "source": [
    "balancedBrackets(\"{[[]]{}([}])}\")"
   ]
  },
  {
   "cell_type": "code",
   "execution_count": null,
   "metadata": {},
   "outputs": [],
   "source": []
  }
 ]
}